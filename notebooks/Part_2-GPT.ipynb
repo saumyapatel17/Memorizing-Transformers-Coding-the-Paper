{
  "cells": [
    {
      "cell_type": "markdown",
      "metadata": {
        "id": "oXoUQrHc6qvO"
      },
      "source": [
        "### Overview\n",
        "You are building a basic version of GPT using PyTorch. This involves:\n",
        "- Implementing single-head attention.\n",
        "- Expanding it to multi-head attention.\n",
        "- Understanding concepts like queries, keys, values, masking, and softmax."
      ]
    },
    {
      "cell_type": "code",
      "execution_count": 1,
      "metadata": {
        "id": "5J813yWgMLKi"
      },
      "outputs": [],
      "source": [
        "import torch\n",
        "from torch import nn\n",
        "import torch.nn.functional as F"
      ]
    },
    {
      "cell_type": "markdown",
      "metadata": {
        "id": "9W3winaOMnVy"
      },
      "source": [
        "### Components to build\n",
        "- Vanilla decoder model\n",
        "- XL Transformer model\n",
        "- kNN memory (add/remove functionality)\n",
        "- kNN attention layer\n",
        "- T5 relative position bias\n",
        "\n",
        "\n",
        "- \"We used a 12-layer decoder-only transformer (with and without Transformer-XL cache) with an embedding size of 1024, 8 attention heads of dimension 128, and an FFN hidden layer of size 4096. For all of our experiments, we used k = 32. Unless specified otherwise, we use the 9th layer as the kNN augmented attention layer. We used a sentence-piece (Kudo & Richardson, 2018) tokenizer with a vocabulary size of 32K.\""
      ]
    },
    {
      "cell_type": "markdown",
      "metadata": {
        "id": "Tu7j9ryf8kcS"
      },
      "source": [
        "# Building GPT"
      ]
    },
    {
      "cell_type": "markdown",
      "metadata": {
        "id": "X7IZQcbo8LX_"
      },
      "source": [
        "# Single head attention"
      ]
    },
    {
      "cell_type": "markdown",
      "metadata": {
        "id": "WJxgrojp6qvT"
      },
      "source": [
        "### Step 1: Define Dimensions\n",
        "\n",
        "- sequence_length: Number of tokens in a sentence (e.g., words or subwords).\n",
        "- embedding_dimension: Size of the vector used to represent each token.\n",
        "- head_dimension: Size of each attention head in multi-head attention.\n",
        "- number_heads: Number of attention heads (we’re simulating multi-head attention later).\n",
        "- scaling_factor: A small adjustment for stabilizing training. Dividing by the square root of head dimension helps normalize the dot product of queries and keys."
      ]
    },
    {
      "cell_type": "markdown",
      "source": [
        "#### Attention Head:\n",
        "An attention head is part of the multi-head attention mechanism. In a transformer model, the self-attention mechanism allows the model to focus on different parts of the input sequence when producing an output. Instead of having a single attention mechanism that looks at the entire sequence at once, the model has multiple attention heads, each one focusing on different aspects or relationships between tokens.\n",
        "\n",
        "Multiple heads enable the model to attend to different parts of the input sequence simultaneously, each head focusing on different patterns or features. For instance, one head may focus on syntactic relationships (like subject-verb agreement), while another head might focus on semantic relationships (like entity recognition).\n",
        "\n",
        "Each attention head computes a weighted sum of the input values (i.e., tokens) based on their relevance to the current token being processed.\n",
        "\n",
        "The intuition is that by using multiple attention heads, the model can capture a richer set of relationships in the data, leading to improved performance.\n",
        "\n",
        "#### Head Size:\n",
        "The head size refers to the size of the vectors used by each individual attention head. In transformer models, the input is split into several parts (one for each head) before performing attention. The head size is the dimension of each part, and it determines how much information each attention head processes.\n",
        "\n",
        "For example, if the total model dimension is d_model and there are h attention heads, then the head size is typically d_model / h. Each attention head will work with vectors of size d_model / h to calculate its attention values."
      ],
      "metadata": {
        "id": "DsUPRzUL78Vs"
      }
    },
    {
      "cell_type": "code",
      "execution_count": 2,
      "metadata": {
        "id": "HJpqDv-DNBJI"
      },
      "outputs": [],
      "source": [
        "# Sample numbers\n",
        "sequence_length = 512\n",
        "embedding_dimension = 300\n",
        "head_dimension = 32\n",
        "number_heads = 8\n",
        "batch_size = 16\n",
        "scaling_factor = head_dimension ** -0.5"
      ]
    },
    {
      "cell_type": "markdown",
      "metadata": {
        "id": "AJIHU9eQ6qvU"
      },
      "source": [
        "### Step 2: Create Fake Input Data\n",
        "\n",
        "- You’re creating a random tensor to simulate input data. This mimics embeddings of a batch of words (tokens).\n",
        "- Shape: (sequence_length, embedding_dimension) — one row per token, each represented by a 300-dimensional vector."
      ]
    },
    {
      "cell_type": "code",
      "execution_count": 3,
      "metadata": {
        "colab": {
          "base_uri": "https://localhost:8080/"
        },
        "id": "pzTPZDx-NBK0",
        "outputId": "f9392da7-a484-4a07-9cbe-e0b12c9de36d"
      },
      "outputs": [
        {
          "output_type": "execute_result",
          "data": {
            "text/plain": [
              "torch.Size([512, 300])"
            ]
          },
          "metadata": {},
          "execution_count": 3
        }
      ],
      "source": [
        "# Single batch fake training data\n",
        "input_data = torch.randn((sequence_length, embedding_dimension))\n",
        "input_data.shape"
      ]
    },
    {
      "cell_type": "markdown",
      "metadata": {
        "id": "jQnowiCO6qvV"
      },
      "source": [
        "### Step 3: Define Query, Key, and Value (QKV) Matrices\n",
        "\n",
        "- QKV Matrices: Linear transformations to extract queries, keys, and values from the input embeddings.\n",
        "    - Queries ask: \"What am I focusing on?\"\n",
        "    - Keys answer: \"Do I match this focus?\"\n",
        "    - Values provide: \"What information should I output?\"\n",
        "- The shape of these matrices is (embedding_dimension, number_heads * head_dimension)."
      ]
    },
    {
      "cell_type": "markdown",
      "source": [
        "`nn.Linear` is a function in PyTorch that defines a **fully connected (dense) layer** in a neural network. It is part of the `torch.nn` module and is used to apply a linear transformation to the input data. This transformation involves multiplying the input by a weight matrix and then adding a bias term, which is a common operation in many machine learning models, including deep neural networks.\n",
        "\n",
        "### Syntax:\n",
        "```python\n",
        "nn.Linear(in_features, out_features, bias=True)\n",
        "```\n",
        "\n",
        "- **in_features**: The number of input features (dimensions of the input vector).\n",
        "- **out_features**: The number of output features (dimensions of the output vector).\n",
        "- **bias** (optional): If `True`, the layer will include a bias term. Default is `True`.\n",
        "\n",
        "### What It Does:\n",
        "When you apply `nn.Linear` to an input tensor, it computes the following transformation for each input vector \\(x\\):\n",
        "\n",
        "\\[\n",
        "y = xW^T + b\n",
        "\\]\n",
        "\n",
        "- \\(W\\) is the weight matrix with shape \\((\\text{out\\_features}, \\text{in\\_features})\\).\n",
        "- \\(b\\) is the bias vector with shape \\((\\text{out\\_features})\\).\n",
        "- \\(y\\) is the output vector, having the shape \\((\\text{batch\\_size}, \\text{out\\_features})\\), assuming the input tensor has the shape \\((\\text{batch\\_size}, \\text{in\\_features})\\).\n"
      ],
      "metadata": {
        "id": "zb3ZWCPP9JMl"
      }
    },
    {
      "cell_type": "code",
      "execution_count": 4,
      "metadata": {
        "colab": {
          "base_uri": "https://localhost:8080/"
        },
        "id": "H9do6Jy1NBOM",
        "outputId": "820273a0-46b9-4a19-ffbd-f27115bca227"
      },
      "outputs": [
        {
          "output_type": "execute_result",
          "data": {
            "text/plain": [
              "Linear(in_features=300, out_features=256, bias=True)"
            ]
          },
          "metadata": {},
          "execution_count": 4
        }
      ],
      "source": [
        "# KQV transforms\n",
        "query_matrix = nn.Linear(embedding_dimension, number_heads * head_dimension)\n",
        "key_matrix = nn.Linear(embedding_dimension, number_heads * head_dimension)\n",
        "value_matrix = nn.Linear(embedding_dimension, number_heads * head_dimension)\n",
        "query_matrix"
      ]
    },
    {
      "cell_type": "markdown",
      "metadata": {
        "id": "EneZirI46qvW"
      },
      "source": [
        "### Step 4: Transform Input into Queries, Keys, and Values\n",
        "\n",
        "- Each input token is passed through the QKV linear transformations to produce vectors.\n",
        "- Resulting shapes: (sequence_length, number_heads * head_dimension). This combines all attention heads."
      ]
    },
    {
      "cell_type": "code",
      "execution_count": 5,
      "metadata": {
        "id": "2qHsRcf9NBPB"
      },
      "outputs": [],
      "source": [
        "# Create KQV matrices with input data\n",
        "queries = query_matrix(input_data)\n",
        "keys = key_matrix(input_data)\n",
        "values = value_matrix(input_data)"
      ]
    },
    {
      "cell_type": "code",
      "execution_count": 6,
      "metadata": {
        "colab": {
          "base_uri": "https://localhost:8080/"
        },
        "id": "74Dmh37BNBQ3",
        "outputId": "8e241e22-70f8-4cab-a76f-316469391fc5"
      },
      "outputs": [
        {
          "output_type": "execute_result",
          "data": {
            "text/plain": [
              "torch.Size([512, 256])"
            ]
          },
          "metadata": {},
          "execution_count": 6
        }
      ],
      "source": [
        "queries.shape"
      ]
    },
    {
      "cell_type": "code",
      "execution_count": 7,
      "metadata": {
        "colab": {
          "base_uri": "https://localhost:8080/"
        },
        "id": "My6y3dYmNBS8",
        "outputId": "2a8824d1-7b0b-40c6-ae15-23bf96c61b06"
      },
      "outputs": [
        {
          "output_type": "execute_result",
          "data": {
            "text/plain": [
              "torch.Size([512, 256])"
            ]
          },
          "metadata": {},
          "execution_count": 7
        }
      ],
      "source": [
        "keys.shape"
      ]
    },
    {
      "cell_type": "code",
      "execution_count": 8,
      "metadata": {
        "colab": {
          "base_uri": "https://localhost:8080/"
        },
        "id": "NnyIEoA7bmj1",
        "outputId": "0ab83e41-9fee-4ca5-8dba-0d65a261c14b"
      },
      "outputs": [
        {
          "output_type": "execute_result",
          "data": {
            "text/plain": [
              "torch.Size([256, 512])"
            ]
          },
          "metadata": {},
          "execution_count": 8
        }
      ],
      "source": [
        "keys = keys.transpose(-1, -2)\n",
        "keys.shape"
      ]
    },
    {
      "cell_type": "code",
      "execution_count": 9,
      "metadata": {
        "colab": {
          "base_uri": "https://localhost:8080/"
        },
        "id": "KXS4ldrhbml-",
        "outputId": "3c2167e0-27c2-4796-addd-7798238e1de1"
      },
      "outputs": [
        {
          "output_type": "execute_result",
          "data": {
            "text/plain": [
              "torch.Size([512, 512])"
            ]
          },
          "metadata": {},
          "execution_count": 9
        }
      ],
      "source": [
        "qk = queries @ keys\n",
        "qk.shape"
      ]
    },
    {
      "cell_type": "code",
      "execution_count": 10,
      "metadata": {
        "id": "J6_oDe8gbmoI"
      },
      "outputs": [],
      "source": [
        "qk = qk / torch.sqrt(torch.tensor(256)) # sqrt(key_dimension)"
      ]
    },
    {
      "cell_type": "markdown",
      "source": [
        "### Example for QKV attention scoring"
      ],
      "metadata": {
        "id": "-IhkodJL-2Vo"
      }
    },
    {
      "cell_type": "markdown",
      "metadata": {
        "id": "aDz6wKhf6qvY"
      },
      "source": [
        "The attention_plot function visualizes attention scores or masked attention scores using heatmaps, helping you see how much attention each token gives to others."
      ]
    },
    {
      "cell_type": "code",
      "execution_count": 11,
      "metadata": {
        "id": "XBuYEMS1eSXa"
      },
      "outputs": [],
      "source": [
        "import matplotlib.pyplot as plt\n",
        "import numpy as np\n",
        "\n",
        "def attention_plot(qk, labels, title=None):\n",
        "\n",
        "    plt.figure(figsize=(8, 6))\n",
        "    im = plt.imshow(qk, cmap='Greens')\n",
        "\n",
        "    plt.xticks(ticks=np.arange(qk.shape[0]), labels=labels)\n",
        "    plt.yticks(ticks=np.arange(qk.shape[0]), labels=labels)\n",
        "    plt.tick_params(top=True, bottom=False, labeltop=True, labelbottom=False)\n",
        "\n",
        "    # Adding x and y axis labels with a bigger font size\n",
        "    plt.xlabel('KEYS', fontsize=14, labelpad=20)  # X-axis label at the top\n",
        "    plt.ylabel('QUERIES', fontsize=14)\n",
        "    plt.title(title, fontsize=20)\n",
        "\n",
        "    # Adjust the position of the x-axis label to the top\n",
        "    plt.gca().xaxis.set_label_position('top')\n",
        "\n",
        "    for i in range(qk.shape[0]):\n",
        "        for j in range(qk.shape[1]):\n",
        "            text = plt.text(j, i, f'{qk[i, j]:.2f}',\n",
        "                        ha=\"center\", va=\"center\", color=\"b\")\n",
        "\n",
        "    # Adding a colorbar\n",
        "    plt.colorbar(im)\n",
        "\n",
        "    # Displaying the plot\n",
        "    plt.show()"
      ]
    },
    {
      "cell_type": "code",
      "source": [
        "labels = [\"A\", \"DOG\", \"IS\", \"AN\", \"ANIMAL\"]\n",
        "toy_qk = torch.tensor([[.900, 0.300, 0.00, 0.100, 0.000],\n",
        "        [0.600, 2.00, 0.100, 0.2000, 1.9000],\n",
        "        [0.00, 0.200, 1.00, 0.100, 0.0500],\n",
        "        [0.0500, 0.0000, 0.100, 0.9500, .5000],\n",
        "        [0.000, 1.8000, 0.0000, .4000, 2.1000]])"
      ],
      "metadata": {
        "id": "2wnZNyNy-96d"
      },
      "execution_count": 12,
      "outputs": []
    },
    {
      "cell_type": "code",
      "execution_count": 13,
      "metadata": {
        "colab": {
          "base_uri": "https://localhost:8080/",
          "height": 604
        },
        "id": "KjQum83KeVJt",
        "outputId": "dd69e644-1c11-419a-ea95-9bfec7b4b338"
      },
      "outputs": [
        {
          "output_type": "display_data",
          "data": {
            "text/plain": [
              "<Figure size 800x600 with 2 Axes>"
            ],
            "image/png": "[encoded data removed]"
          },
          "metadata": {}
        }
      ],
      "source": [
        "# QK\n",
        "attention_plot(toy_qk, labels, \"ATTENTION SCORES\")"
      ]
    },
    {
      "cell_type": "code",
      "execution_count": 14,
      "metadata": {
        "colab": {
          "base_uri": "https://localhost:8080/"
        },
        "id": "K9qekOjooYwM",
        "outputId": "75e8f252-4ebc-4465-b8a5-e77746a0b222"
      },
      "outputs": [
        {
          "output_type": "execute_result",
          "data": {
            "text/plain": [
              "tensor([[True, True, True, True, True],\n",
              "        [True, True, True, True, True],\n",
              "        [True, True, True, True, True],\n",
              "        [True, True, True, True, True],\n",
              "        [True, True, True, True, True]])"
            ]
          },
          "metadata": {},
          "execution_count": 14
        }
      ],
      "source": [
        "j, i = 5, 5\n",
        "mask = torch.ones((j,i), dtype=torch.bool)\n",
        "mask"
      ]
    },
    {
      "cell_type": "code",
      "execution_count": 15,
      "metadata": {
        "colab": {
          "base_uri": "https://localhost:8080/"
        },
        "id": "o2v5Rsseq0zM",
        "outputId": "0b7c65f1-d820-43b0-8250-7dd16ffc7dbd"
      },
      "outputs": [
        {
          "output_type": "execute_result",
          "data": {
            "text/plain": [
              "tensor([[False,  True,  True,  True,  True],\n",
              "        [False, False,  True,  True,  True],\n",
              "        [False, False, False,  True,  True],\n",
              "        [False, False, False, False,  True],\n",
              "        [False, False, False, False, False]])"
            ]
          },
          "metadata": {},
          "execution_count": 15
        }
      ],
      "source": [
        "mask = mask.triu(1)\n",
        "mask"
      ]
    },
    {
      "cell_type": "code",
      "execution_count": 16,
      "metadata": {
        "colab": {
          "base_uri": "https://localhost:8080/"
        },
        "id": "SpfNtZ1Cq03o",
        "outputId": "7a8f23b7-79f4-4c9f-e92e-19d0840c397c"
      },
      "outputs": [
        {
          "output_type": "execute_result",
          "data": {
            "text/plain": [
              "tensor([[0.9000,   -inf,   -inf,   -inf,   -inf],\n",
              "        [0.6000, 2.0000,   -inf,   -inf,   -inf],\n",
              "        [0.0000, 0.2000, 1.0000,   -inf,   -inf],\n",
              "        [0.0500, 0.0000, 0.1000, 0.9500,   -inf],\n",
              "        [0.0000, 1.8000, 0.0000, 0.4000, 2.1000]])"
            ]
          },
          "metadata": {},
          "execution_count": 16
        }
      ],
      "source": [
        "toy_qk_masked = toy_qk.masked_fill(mask, float('-inf'))\n",
        "toy_qk_masked"
      ]
    },
    {
      "cell_type": "code",
      "execution_count": 17,
      "metadata": {
        "colab": {
          "base_uri": "https://localhost:8080/",
          "height": 604
        },
        "id": "0BozML57q1K4",
        "outputId": "db2528cb-690f-4883-bda3-69f71ff88c83"
      },
      "outputs": [
        {
          "output_type": "display_data",
          "data": {
            "text/plain": [
              "<Figure size 800x600 with 2 Axes>"
            ],
            "image/png": "[encoded data removed]"
          },
          "metadata": {}
        }
      ],
      "source": [
        "attention_plot(toy_qk_masked, labels, \" MASKED ATTENTION SCORES\")"
      ]
    },
    {
      "cell_type": "code",
      "execution_count": 18,
      "metadata": {
        "colab": {
          "base_uri": "https://localhost:8080/",
          "height": 604
        },
        "id": "NxlZ9E7Dq1Mc",
        "outputId": "ae557339-eb47-4b36-9e49-b48158cc9c19"
      },
      "outputs": [
        {
          "output_type": "display_data",
          "data": {
            "text/plain": [
              "<Figure size 800x600 with 2 Axes>"
            ],
            "image/png": "[encoded data removed]"
          },
          "metadata": {}
        }
      ],
      "source": [
        "# APPLY SOFTMAX\n",
        "toy_qk_softmax = torch.nn.functional.softmax(toy_qk_masked, dim=-1)\n",
        "attention_plot(toy_qk_softmax, labels, \"SOFTMAX MASKED ATTENTION SCORES\")"
      ]
    },
    {
      "cell_type": "code",
      "execution_count": 19,
      "metadata": {
        "colab": {
          "base_uri": "https://localhost:8080/"
        },
        "id": "TXw39q7Fg2XQ",
        "outputId": "b7355814-f0ec-46f4-acfa-48bf1540ccad"
      },
      "outputs": [
        {
          "output_type": "execute_result",
          "data": {
            "text/plain": [
              "tensor([0.0565, 0.3416, 0.0565, 0.0842, 0.4612])"
            ]
          },
          "metadata": {},
          "execution_count": 19
        }
      ],
      "source": [
        "# last row\n",
        "toy_qk_softmax[-1]"
      ]
    },
    {
      "cell_type": "code",
      "execution_count": 23,
      "metadata": {
        "id": "ZaKdTOnWg2Ze"
      },
      "outputs": [],
      "source": [
        "# \"A\"  \"DOG\" \"IS\"  \"AN\" \"ANIMAL\"\n",
        "#  v1,  v2,   v3,   v4,   v5\n",
        "\n",
        "# \"ANIMAL\" output vector =\n",
        "#  .06 * v1 (\"A\") +\n",
        "#  .34 * v2 (\"DOG\") +\n",
        "#  .06 * v3 (\"IS\") +\n",
        "#  .08 * v4 (\"AN\") +\n",
        "#  .46 * v5 (\"ANIMAL\")"
      ]
    },
    {
      "cell_type": "code",
      "execution_count": null,
      "metadata": {
        "id": "o_3p_eUnh8lT"
      },
      "outputs": [],
      "source": []
    },
    {
      "cell_type": "code",
      "execution_count": 20,
      "metadata": {
        "colab": {
          "base_uri": "https://localhost:8080/"
        },
        "id": "-21k1lVXh8nU",
        "outputId": "d8b1affe-a65f-4094-f349-8874f870cd28"
      },
      "outputs": [
        {
          "output_type": "execute_result",
          "data": {
            "text/plain": [
              "torch.Size([512, 512])"
            ]
          },
          "metadata": {},
          "execution_count": 20
        }
      ],
      "source": [
        "qk.shape"
      ]
    },
    {
      "cell_type": "code",
      "execution_count": 21,
      "metadata": {
        "colab": {
          "base_uri": "https://localhost:8080/"
        },
        "id": "wWN0-lAVh8p6",
        "outputId": "1257e146-8340-4f5d-d3e7-93e4d26fb0ef"
      },
      "outputs": [
        {
          "output_type": "execute_result",
          "data": {
            "text/plain": [
              "tensor([[-0.2973,    -inf,    -inf,  ...,    -inf,    -inf,    -inf],\n",
              "        [-0.1286, -0.4562,    -inf,  ...,    -inf,    -inf,    -inf],\n",
              "        [ 0.3335,  0.0190, -0.3455,  ...,    -inf,    -inf,    -inf],\n",
              "        ...,\n",
              "        [-0.2962,  0.0210, -0.0460,  ...,  0.2175,    -inf,    -inf],\n",
              "        [-0.3814, -0.1518,  0.8152,  ..., -0.2710,  0.3081,    -inf],\n",
              "        [ 0.4509, -0.0303, -0.0837,  ...,  0.0706, -0.3447, -1.3686]],\n",
              "       grad_fn=<MaskedFillBackward0>)"
            ]
          },
          "metadata": {},
          "execution_count": 21
        }
      ],
      "source": [
        "mask = torch.ones((qk.shape[-1], qk.shape[-1]), dtype = torch.bool).triu(1)\n",
        "qk_masked = qk.masked_fill(mask, float('-inf'))\n",
        "qk_masked"
      ]
    },
    {
      "cell_type": "code",
      "execution_count": 22,
      "metadata": {
        "colab": {
          "base_uri": "https://localhost:8080/"
        },
        "id": "cmrVEgvdh8rw",
        "outputId": "aeea585b-cbca-4d33-a2fc-0f0c4e2d15f3"
      },
      "outputs": [
        {
          "output_type": "execute_result",
          "data": {
            "text/plain": [
              "tensor([[1.0000e+00, 0.0000e+00, 0.0000e+00,  ..., 0.0000e+00, 0.0000e+00,\n",
              "         0.0000e+00],\n",
              "        [5.8118e-01, 4.1882e-01, 0.0000e+00,  ..., 0.0000e+00, 0.0000e+00,\n",
              "         0.0000e+00],\n",
              "        [4.4698e-01, 3.2635e-01, 2.2667e-01,  ..., 0.0000e+00, 0.0000e+00,\n",
              "         0.0000e+00],\n",
              "        ...,\n",
              "        [1.3765e-03, 1.8902e-03, 1.7678e-03,  ..., 2.3007e-03, 0.0000e+00,\n",
              "         0.0000e+00],\n",
              "        [1.2692e-03, 1.5969e-03, 4.1999e-03,  ..., 1.4174e-03, 2.5293e-03,\n",
              "         0.0000e+00],\n",
              "        [3.0207e-03, 1.8669e-03, 1.7698e-03,  ..., 2.0653e-03, 1.3633e-03,\n",
              "         4.8968e-04]], grad_fn=<SoftmaxBackward0>)"
            ]
          },
          "metadata": {},
          "execution_count": 22
        }
      ],
      "source": [
        "qk_softmax = F.softmax(qk_masked, dim=-1)\n",
        "qk_softmax"
      ]
    },
    {
      "cell_type": "code",
      "execution_count": 23,
      "metadata": {
        "colab": {
          "base_uri": "https://localhost:8080/"
        },
        "id": "CUWbSsaNh8tg",
        "outputId": "e4e6eff2-8b16-4ab7-8011-33f28f71d297"
      },
      "outputs": [
        {
          "output_type": "stream",
          "name": "stdout",
          "text": [
            "qk: torch.Size([512, 512])\n",
            "values: torch.Size([512, 256])\n"
          ]
        }
      ],
      "source": [
        "print (\"qk:\", qk.shape)\n",
        "print (\"values:\", values.shape)"
      ]
    },
    {
      "cell_type": "code",
      "execution_count": 24,
      "metadata": {
        "colab": {
          "base_uri": "https://localhost:8080/"
        },
        "id": "7zmtV1Org2a8",
        "outputId": "2e91d176-2292-4974-ae96-c60b95be146c"
      },
      "outputs": [
        {
          "output_type": "execute_result",
          "data": {
            "text/plain": [
              "torch.Size([512, 256])"
            ]
          },
          "metadata": {},
          "execution_count": 24
        }
      ],
      "source": [
        "# Compute qkv\n",
        "qkv = qk@values\n",
        "qkv.shape"
      ]
    },
    {
      "cell_type": "code",
      "execution_count": null,
      "metadata": {
        "id": "uZEjLQnuiQQB"
      },
      "outputs": [],
      "source": []
    },
    {
      "cell_type": "markdown",
      "metadata": {
        "id": "5hFNgcsa8QAx"
      },
      "source": [
        "# Multihead attention"
      ]
    },
    {
      "cell_type": "code",
      "execution_count": 25,
      "metadata": {
        "id": "pzi5gJj4iQST"
      },
      "outputs": [],
      "source": [
        "# Sample numbers\n",
        "sequence_length = 512\n",
        "embedding_dimension = 300\n",
        "head_dimension = 32\n",
        "number_heads = 8\n",
        "batch_size = 16\n",
        "scaling_factor = head_dimension ** -0.5"
      ]
    },
    {
      "cell_type": "code",
      "execution_count": 26,
      "metadata": {
        "colab": {
          "base_uri": "https://localhost:8080/"
        },
        "id": "2nzVD4WbiQUm",
        "outputId": "7edfaa26-47ed-4efc-f417-44949caa6c7b"
      },
      "outputs": [
        {
          "output_type": "execute_result",
          "data": {
            "text/plain": [
              "torch.Size([16, 512, 300])"
            ]
          },
          "metadata": {},
          "execution_count": 26
        }
      ],
      "source": [
        "# Create fake training batch\n",
        "input_data = torch.randn((batch_size, sequence_length, embedding_dimension))\n",
        "input_data.shape"
      ]
    },
    {
      "cell_type": "code",
      "execution_count": 27,
      "metadata": {
        "colab": {
          "base_uri": "https://localhost:8080/"
        },
        "id": "jXNQJ-aVqXvP",
        "outputId": "7f7a9fb1-22a4-4312-d0db-c0b8224d04ea"
      },
      "outputs": [
        {
          "output_type": "execute_result",
          "data": {
            "text/plain": [
              "Linear(in_features=300, out_features=256, bias=True)"
            ]
          },
          "metadata": {},
          "execution_count": 27
        }
      ],
      "source": [
        "# KQ transforms\n",
        "query_matrix = nn.Linear(embedding_dimension, number_heads * head_dimension)\n",
        "key_matrix = nn.Linear(embedding_dimension, number_heads * head_dimension)\n",
        "value_matrix = nn.Linear(embedding_dimension, number_heads * head_dimension)\n",
        "query_matrix"
      ]
    },
    {
      "cell_type": "markdown",
      "metadata": {
        "id": "rUDWGUci6qvk"
      },
      "source": [
        "### Step 1: Transform Input into Queries, Keys, and Values\n",
        "\n",
        "- Each input token is passed through the QKV linear transformations to produce vectors.\n",
        "- Resulting shapes: (sequence_length, number_heads * head_dimension). This combines all attention heads."
      ]
    },
    {
      "cell_type": "code",
      "execution_count": 28,
      "metadata": {
        "colab": {
          "base_uri": "https://localhost:8080/"
        },
        "id": "IwwYuExpqXxK",
        "outputId": "651d5d34-e904-4811-a99f-7fe709f3ae19"
      },
      "outputs": [
        {
          "output_type": "execute_result",
          "data": {
            "text/plain": [
              "torch.Size([16, 512, 256])"
            ]
          },
          "metadata": {},
          "execution_count": 28
        }
      ],
      "source": [
        "# Create KQ matrices with input data\n",
        "queries = query_matrix(input_data)\n",
        "keys = key_matrix(input_data)\n",
        "values = value_matrix(input_data)\n",
        "queries.shape"
      ]
    },
    {
      "cell_type": "markdown",
      "metadata": {
        "id": "BK2nLfqZ6qvk"
      },
      "source": [
        "### Step 2: Reshape for Multi-Head Attention\n",
        "\n",
        "- Reshape: Splits the combined attention heads into separate \"heads.\"\n",
        "- Transpose: Rearranges dimensions to match the required attention calculation format:\n",
        "    - q becomes (batch_size, number_heads, sequence_length, head_dimension).\n",
        "    - k becomes (batch_size, number_heads, head_dimension, sequence_length)."
      ]
    },
    {
      "cell_type": "code",
      "execution_count": 29,
      "metadata": {
        "colab": {
          "base_uri": "https://localhost:8080/"
        },
        "id": "RcA7Lqu2qXza",
        "outputId": "b71f1f89-60ac-485b-f273-d5ad1f15f04d"
      },
      "outputs": [
        {
          "output_type": "execute_result",
          "data": {
            "text/plain": [
              "torch.Size([16, 512, 8, 32])"
            ]
          },
          "metadata": {},
          "execution_count": 29
        }
      ],
      "source": [
        "# Separate queries matrix into heads for multi-head attention\n",
        "q = queries.reshape(batch_size, sequence_length, number_heads, head_dimension)\n",
        "# Separate keys matrix into heads for multi-head attention\n",
        "k = keys.reshape(batch_size, sequence_length, number_heads, head_dimension)\n",
        "# Separate keys matrix into heads for multi-head attention\n",
        "v = values.reshape(batch_size, sequence_length, number_heads, head_dimension)\n",
        "q.shape"
      ]
    },
    {
      "cell_type": "code",
      "execution_count": 30,
      "metadata": {
        "colab": {
          "base_uri": "https://localhost:8080/"
        },
        "id": "0P8YPPT-rXSN",
        "outputId": "061eed7d-709e-4e69-ff28-0602eb280d0e"
      },
      "outputs": [
        {
          "output_type": "execute_result",
          "data": {
            "text/plain": [
              "torch.Size([16, 8, 512, 32])"
            ]
          },
          "metadata": {},
          "execution_count": 30
        }
      ],
      "source": [
        "q = q.transpose(1,2)\n",
        "q.shape"
      ]
    },
    {
      "cell_type": "code",
      "source": [
        "k.shape"
      ],
      "metadata": {
        "colab": {
          "base_uri": "https://localhost:8080/"
        },
        "id": "ZLlu3--pAiXc",
        "outputId": "dff7a7ce-4aeb-443c-95c6-5931bb86634b"
      },
      "execution_count": 31,
      "outputs": [
        {
          "output_type": "execute_result",
          "data": {
            "text/plain": [
              "torch.Size([16, 512, 8, 32])"
            ]
          },
          "metadata": {},
          "execution_count": 31
        }
      ]
    },
    {
      "cell_type": "code",
      "execution_count": 32,
      "metadata": {
        "colab": {
          "base_uri": "https://localhost:8080/"
        },
        "id": "PsNtYyvYrXUV",
        "outputId": "9eab0a35-4800-4aaa-d24f-2994c2c80b5b"
      },
      "outputs": [
        {
          "output_type": "execute_result",
          "data": {
            "text/plain": [
              "torch.Size([16, 8, 512, 32])"
            ]
          },
          "metadata": {},
          "execution_count": 32
        }
      ],
      "source": [
        "k = k.transpose(1,2) # This transposes the tensor k by swapping the dimensions at index 1 and 2\n",
        "k.shape"
      ]
    },
    {
      "cell_type": "code",
      "execution_count": 33,
      "metadata": {
        "colab": {
          "base_uri": "https://localhost:8080/"
        },
        "id": "5yYxljlYrXcy",
        "outputId": "04830568-dd7b-4779-80f3-7abb18a6e7a3"
      },
      "outputs": [
        {
          "output_type": "execute_result",
          "data": {
            "text/plain": [
              "torch.Size([16, 8, 32, 512])"
            ]
          },
          "metadata": {},
          "execution_count": 33
        }
      ],
      "source": [
        "k = k.transpose(-1,-2) # This line transposes the tensor again, but instead of using explicit indices, it uses the last two dimensions (-1 refers to the last dimension and -2 refers to the second-to-last dimension).\n",
        "k.shape"
      ]
    },
    {
      "cell_type": "markdown",
      "metadata": {
        "id": "63DinsJf6qvl"
      },
      "source": [
        "### Step 3: Compute Attention Scores\n",
        "\n",
        "- Dot Product (@): Computes similarity between queries and keys. Each score tells how much a query focuses on a key.\n",
        "- Scaling Factor: Normalizes scores to avoid large numbers during training."
      ]
    },
    {
      "cell_type": "code",
      "execution_count": 34,
      "metadata": {
        "colab": {
          "base_uri": "https://localhost:8080/"
        },
        "id": "w8U9vwYDs2dL",
        "outputId": "e2746922-06f6-41c7-b428-0632b0b406ff"
      },
      "outputs": [
        {
          "output_type": "stream",
          "name": "stdout",
          "text": [
            "queries: torch.Size([16, 8, 512, 32])\n",
            "keys: torch.Size([16, 8, 32, 512])\n",
            "qk: torch.Size([16, 8, 512, 512])\n"
          ]
        }
      ],
      "source": [
        "qk = q@k\n",
        "\n",
        "print (\"queries:\", q.shape)\n",
        "print (\"keys:\", k.shape)\n",
        "print (\"qk:\", qk.shape)"
      ]
    },
    {
      "cell_type": "code",
      "execution_count": 35,
      "metadata": {
        "id": "XIcbB1a_s2fN"
      },
      "outputs": [],
      "source": [
        "qk = qk * scaling_factor"
      ]
    },
    {
      "cell_type": "markdown",
      "metadata": {
        "id": "2z4IknVW6qvm"
      },
      "source": [
        "### Step 4: Apply Mask\n",
        "\n",
        "- Masking: Blocks information from \"future\" tokens (tokens the model hasn’t seen yet). This ensures that predictions are based only on previous tokens.\n",
        "- masked_fill: Replaces masked positions with -inf so their softmax probabilities become zero."
      ]
    },
    {
      "cell_type": "code",
      "execution_count": 36,
      "metadata": {
        "id": "X-xbVOrVs2hM"
      },
      "outputs": [],
      "source": [
        "mask = torch.ones((qk.shape[-1], qk.shape[-1]), dtype = torch.bool).triu(1)\n",
        "qk_masked = qk.masked_fill(mask, float('-inf'))"
      ]
    },
    {
      "cell_type": "markdown",
      "metadata": {
        "id": "PTKDhV7x6qvm"
      },
      "source": [
        "### Step 5: Softmax Normalization\n",
        "\n",
        "- Converts raw attention scores into probabilities (values between 0 and 1).\n",
        "- Ensures that scores across all keys for a query sum to 1."
      ]
    },
    {
      "cell_type": "code",
      "execution_count": 38,
      "metadata": {
        "colab": {
          "base_uri": "https://localhost:8080/"
        },
        "id": "uqE-bL6g6qvm",
        "outputId": "e910c973-af72-4eaa-bc83-145ee452c544"
      },
      "outputs": [
        {
          "output_type": "execute_result",
          "data": {
            "text/plain": [
              "torch.Size([16, 8, 512, 512])"
            ]
          },
          "metadata": {},
          "execution_count": 38
        }
      ],
      "source": [
        "qk_softmax = F.softmax(qk_masked, dim=-1)\n",
        "qk_softmax.shape"
      ]
    },
    {
      "cell_type": "code",
      "execution_count": 39,
      "metadata": {
        "colab": {
          "base_uri": "https://localhost:8080/"
        },
        "id": "jatVRSkns2jW",
        "outputId": "04236189-b83d-4792-d30f-487b92cf28e0"
      },
      "outputs": [
        {
          "output_type": "execute_result",
          "data": {
            "text/plain": [
              "torch.Size([16, 512, 8, 32])"
            ]
          },
          "metadata": {},
          "execution_count": 39
        }
      ],
      "source": [
        "v.shape"
      ]
    },
    {
      "cell_type": "code",
      "execution_count": 40,
      "metadata": {
        "colab": {
          "base_uri": "https://localhost:8080/"
        },
        "id": "Z4pRGyi3tJ5g",
        "outputId": "abac98fa-bd94-49f1-844b-f468d2410982"
      },
      "outputs": [
        {
          "output_type": "execute_result",
          "data": {
            "text/plain": [
              "torch.Size([16, 8, 512, 32])"
            ]
          },
          "metadata": {},
          "execution_count": 40
        }
      ],
      "source": [
        "v = v.transpose(1,2)\n",
        "v.shape"
      ]
    },
    {
      "cell_type": "markdown",
      "metadata": {
        "id": "8KI0Eoz06qvn"
      },
      "source": [
        "### Step 6: Weighted Summation (Output Vectors)\n",
        "\n",
        "Attention Output: Combines the values (v) based on the attention scores. Each token's output vector is a weighted sum of all value vectors."
      ]
    },
    {
      "cell_type": "code",
      "execution_count": 41,
      "metadata": {
        "colab": {
          "base_uri": "https://localhost:8080/"
        },
        "id": "CtmmYGErtJ7i",
        "outputId": "aa4c9be0-4250-482f-cb43-10d1f5776103"
      },
      "outputs": [
        {
          "output_type": "execute_result",
          "data": {
            "text/plain": [
              "torch.Size([16, 8, 512, 32])"
            ]
          },
          "metadata": {},
          "execution_count": 41
        }
      ],
      "source": [
        "qkv = qk@v\n",
        "qkv.shape"
      ]
    },
    {
      "cell_type": "markdown",
      "metadata": {
        "id": "Y5mIetlp6qvn"
      },
      "source": [
        "### Step 6: Handling the Output of Attention\n",
        "\n",
        "- Transpose: This swaps the dimensions to adjust the tensor to the correct shape for concatenation of the multi-head attention output.\n",
        "- Reshape: After transposing, we combine the results of all attention heads. So, instead of having separate vectors for each head, we stack them together into one single tensor."
      ]
    },
    {
      "cell_type": "code",
      "execution_count": 42,
      "metadata": {
        "colab": {
          "base_uri": "https://localhost:8080/"
        },
        "id": "d8ltozcPtJ94",
        "outputId": "d4449bd3-81a9-4d14-c57e-8da0973060df"
      },
      "outputs": [
        {
          "output_type": "execute_result",
          "data": {
            "text/plain": [
              "torch.Size([16, 512, 8, 32])"
            ]
          },
          "metadata": {},
          "execution_count": 42
        }
      ],
      "source": [
        "qkv = qkv.transpose(1,2)\n",
        "qkv.shape"
      ]
    },
    {
      "cell_type": "code",
      "execution_count": 45,
      "metadata": {
        "colab": {
          "base_uri": "https://localhost:8080/"
        },
        "id": "hgIO8aObtJ_x",
        "outputId": "ea71b4d8-a048-4335-d43d-400dc303422d"
      },
      "outputs": [
        {
          "output_type": "execute_result",
          "data": {
            "text/plain": [
              "torch.Size([16, 512, 256])"
            ]
          },
          "metadata": {},
          "execution_count": 45
        }
      ],
      "source": [
        "# Concatenate heads\n",
        "qkv = qkv.reshape(batch_size, sequence_length, number_heads * head_dimension)\n",
        "qkv.shape"
      ]
    },
    {
      "cell_type": "markdown",
      "metadata": {
        "id": "W2fCwAvJ6qvo"
      },
      "source": [
        "### Step 7: Output Matrix (Final Transformation)\n",
        "\n",
        "This Linear layer maps the combined output of all heads back to the embedding dimension of the model. This ensures that the resulting tensor will be compatible with further processing steps in the network.\n",
        "\n",
        "Feedforward Output: We pass the tensor (containing all the attention outputs) through the output_matrix. This step adjusts the size of the attention output to match the input size of the model, making it ready for further layers."
      ]
    },
    {
      "cell_type": "code",
      "execution_count": 46,
      "metadata": {
        "colab": {
          "base_uri": "https://localhost:8080/"
        },
        "id": "_63Bqbr1tuIl",
        "outputId": "978b1876-d6e5-43ff-c2ae-23782067c96b"
      },
      "outputs": [
        {
          "output_type": "execute_result",
          "data": {
            "text/plain": [
              "Linear(in_features=256, out_features=300, bias=True)"
            ]
          },
          "metadata": {},
          "execution_count": 46
        }
      ],
      "source": [
        "# the output matrix converts our data out of attention and out for a feedforward layer\n",
        "output_matrix = nn.Linear(number_heads * head_dimension, embedding_dimension)\n",
        "output_matrix"
      ]
    },
    {
      "cell_type": "code",
      "execution_count": 47,
      "metadata": {
        "colab": {
          "base_uri": "https://localhost:8080/"
        },
        "id": "rhKLv1RYtuK6",
        "outputId": "46e87f61-ab50-4763-8a49-cde90396485d"
      },
      "outputs": [
        {
          "output_type": "execute_result",
          "data": {
            "text/plain": [
              "torch.Size([16, 512, 300])"
            ]
          },
          "metadata": {},
          "execution_count": 47
        }
      ],
      "source": [
        "out = output_matrix(qkv)\n",
        "out.shape"
      ]
    },
    {
      "cell_type": "markdown",
      "metadata": {
        "id": "70MQErCR8Ug6"
      },
      "source": [
        "# Attention class and Mini GPT"
      ]
    },
    {
      "cell_type": "markdown",
      "metadata": {
        "id": "5_e1Lp2X6qvo"
      },
      "source": [
        "### Multi-Head Attention Class (MHAttention)\n",
        "\n",
        "This class implements multi-head attention. Here's a breakdown:\n",
        "- Heads & Head Dimension: The number of attention heads (heads) and the dimension of each head (head_dimension) are set during initialization.\n",
        "- QKV matrices: These are the linear layers that create the queries, keys, and values from the input embeddings.\n",
        "- Scale: The scaling factor (head_dimension ** -0.5) is used to stabilize training by adjusting the dot products of the queries and keys.\n",
        "\n",
        "Forward Pass:\n",
        "- The input tensor x is passed through the QKV layers, generating queries, keys, and values for attention calculation.\n",
        "- Shape of queries, keys, and values: (batch_size, sequence_length, heads * head_dimension)\n",
        "\n",
        "Split Into Attention Heads\n",
        "- Reshaping: This step breaks down the QKV outputs into individual attention heads. Each head will handle a part of the attention mechanism, allowing the model to focus on different aspects of the input sequence simultaneously.\n",
        "\n",
        "Transpose for Matrix Multiplication\n",
        "- Transpose: This changes the order of dimensions so that the heads and sequence length align correctly for matrix multiplication (q @ k).\n",
        "- Final Transpose of Keys: This transposes the keys to align them for the dot product calculation with queries.\n",
        "\n",
        "Compute Attention Scores\n",
        "- Dot Product: We perform the dot product (q @ k) to compute the similarity between the queries and keys. The result gives us the attention scores.\n",
        "- Scaling: The scaling factor helps avoid excessively large dot product values that could destabilize training.\n",
        "\n",
        "Masking and Softmax\n",
        "- Masking: To prevent the model from \"seeing\" future tokens in a sequence (important for autoregressive models like GPT), a mask is applied to set the attention scores of future tokens to -inf (effectively making them have no influence).\n",
        "- Softmax: This converts the attention scores into probabilities, where higher values indicate more focus on certain tokens.\n",
        "\n",
        "Apply Attention to Values\n",
        "- Apply Attention: Multiply the attention weights (qk) by the values (v) to get the weighted sum, which is the final attention output.\n",
        "- Transpose & Reshape: We restore the tensor to its correct shape, combining all attention heads into a single output tensor.\n",
        "\n",
        "Output Transformation\n",
        "- The final output from multi-head attention is passed through a linear layer (output_matrix) to map it back to the original embedding dimension."
      ]
    },
    {
      "cell_type": "code",
      "execution_count": 48,
      "metadata": {
        "id": "BtXcZOBrtuMz"
      },
      "outputs": [],
      "source": [
        "class MHAttention(nn.Module):\n",
        "    def __init__(\n",
        "        self,\n",
        "        embedding_dimension,\n",
        "        heads = 8,\n",
        "        head_dimension = 32,\n",
        "    ):\n",
        "        super().__init__()\n",
        "        self.heads = heads\n",
        "        self.head_dimension = head_dimension\n",
        "        self.scale = head_dimension ** -0.5\n",
        "\n",
        "        self.query_matrix = nn.Linear(embedding_dimension, heads * head_dimension)\n",
        "        self.key_matrix = nn.Linear(embedding_dimension, heads * head_dimension)\n",
        "        self.value_matrix = nn.Linear(embedding_dimension, heads * head_dimension)\n",
        "        self.output_matrix = nn.Linear(heads * head_dimension, embedding_dimension)\n",
        "\n",
        "    def forward(\n",
        "        self,\n",
        "        x, # batch_size, sequence_length, embedding_dimension\n",
        "    ):\n",
        "        batch_size, sequence_length = x.shape[:2]\n",
        "        queries = self.query_matrix(x)\n",
        "        keys = self.key_matrix(x)\n",
        "        values = self.value_matrix(x)\n",
        "\n",
        "        # Separate  into heads for multi-head attention\n",
        "        k = keys.reshape(batch_size, sequence_length, self.heads, self.head_dimension)\n",
        "        q = queries.reshape(batch_size, sequence_length, self.heads, self.head_dimension)\n",
        "        v = values.reshape(batch_size, sequence_length, self.heads, self.head_dimension)\n",
        "\n",
        "        # Swap head and sequence length dimensions\n",
        "        q = q.transpose(1,2)\n",
        "        k = k.transpose(1,2)\n",
        "        v = v.transpose(1,2)\n",
        "        # Rearrange keys to prepare for matrix multiplication q@k\n",
        "        k = k.transpose(2,3)\n",
        "\n",
        "        # QK\n",
        "        qk = q@k\n",
        "        qk = qk * self.scale\n",
        "\n",
        "        ############\n",
        "        # TODO\n",
        "        # qk = relative_positiion_values + qk\n",
        "        ############\n",
        "\n",
        "        i, j = qk.shape[-2:]\n",
        "        mask = torch.ones((i,j), dtype = torch.bool).triu(j-i+1)\n",
        "        qk = qk.masked_fill(mask, float('-inf'))\n",
        "\n",
        "        qk = F.softmax(qk, dim=-1)\n",
        "\n",
        "        qkv = qk@v\n",
        "        qkv = qkv.transpose(1,2)\n",
        "        qkv = qkv.reshape(batch_size, sequence_length, self.heads * self.head_dimension)\n",
        "\n",
        "        out = self.output_matrix(qkv)\n",
        "\n",
        "        return out"
      ]
    },
    {
      "cell_type": "code",
      "execution_count": 49,
      "metadata": {
        "colab": {
          "base_uri": "https://localhost:8080/"
        },
        "id": "sXKzQrL2tuOy",
        "outputId": "dbb93d97-7171-4abf-d3d4-01dcfd71fdf0"
      },
      "outputs": [
        {
          "output_type": "execute_result",
          "data": {
            "text/plain": [
              "torch.Size([16, 512, 300])"
            ]
          },
          "metadata": {},
          "execution_count": 49
        }
      ],
      "source": [
        "input_data = torch.randn(16,512,300)\n",
        "\n",
        "mha = MHAttention(300, heads=8, head_dimension=32)\n",
        "\n",
        "output = mha(input_data)\n",
        "output.shape"
      ]
    },
    {
      "cell_type": "markdown",
      "metadata": {
        "id": "telfudkl6qvp"
      },
      "source": [
        "# Building a Mini GPT Model\n",
        "\n",
        "- Mini GPT: This part builds a simple GPT-like model with:\n",
        "    - Embedding Layer: Converts token indices into vectors (size 64 in this case).\n",
        "    - Multiple MHAttention Layers: Stacks multiple multi-head attention layers to allow deeper understanding of the sequence.\n",
        "    - Feedforward Layers: These layers transform the attention output through nonlinear activations (ReLU).\n",
        "    - Final Linear Layer: Outputs the logits, which will be used for predicting the next token.\n",
        "- CrossEntropyLoss: This is used for training the model. It calculates the loss between the predicted token probabilities and the actual token."
      ]
    },
    {
      "cell_type": "code",
      "execution_count": 50,
      "metadata": {
        "id": "BiwCO6CltuQo"
      },
      "outputs": [],
      "source": [
        "# GPT MINI!\n",
        "model = nn.Sequential(\n",
        "    nn.Embedding(128,64), # (vocab_size, embedding_dim)\n",
        "\n",
        "    MHAttention(64, heads=4, head_dimension=16),\n",
        "    nn.LayerNorm(64),\n",
        "    nn.Linear(64,100),\n",
        "    nn.ReLU(),\n",
        "    nn.Linear(100,64),\n",
        "\n",
        "    MHAttention(64, heads=4, head_dimension=16),\n",
        "    nn.LayerNorm(64),\n",
        "    nn.Linear(64,100),\n",
        "    nn.ReLU(),\n",
        "    nn.Linear(100,64),\n",
        "\n",
        "    MHAttention(64, heads=4, head_dimension=16),\n",
        "    nn.LayerNorm(64),\n",
        "    nn.Linear(64,100),\n",
        "    nn.ReLU(),\n",
        "    nn.Linear(100,64),\n",
        "\n",
        "    nn.Linear(64, 128) # (params, vocab_size)\n",
        "    )\n",
        "\n",
        "loss_fn = nn.CrossEntropyLoss()\n"
      ]
    },
    {
      "cell_type": "code",
      "execution_count": null,
      "metadata": {
        "id": "kNDm0AkxwIuu"
      },
      "outputs": [],
      "source": []
    },
    {
      "cell_type": "code",
      "execution_count": null,
      "metadata": {
        "id": "9_rN3rr8wIxa"
      },
      "outputs": [],
      "source": []
    },
    {
      "cell_type": "markdown",
      "metadata": {
        "id": "Pzy9dP8I8pXV"
      },
      "source": [
        "# Pytorch topics and internals"
      ]
    },
    {
      "cell_type": "markdown",
      "metadata": {
        "id": "3lhwvBzWyIcJ"
      },
      "source": [
        "### Multiplying matrices in pytorch\n",
        "\n",
        "In PyTorch, several functions are available for performing matrix and tensor multiplications, each tailored to different use cases. Here's a breakdown of the primary functions you mentioned:\n",
        "- torch.mul() is for element-wise multiplication.\n",
        "- torch.dot() is for the dot product of 1D tensors.\n",
        "- torch.mm() is for matrix multiplication with 2D tensors.\n",
        "- torch.bmm() is for batch matrix multiplication with 3D tensors.\n",
        "- torch.matmul() is for general matrix multiplication, with support for broadcasting across higher-dimensional tensors.\n",
        "- The @ operator is a convenient shorthand for matrix multiplication, equivalent to torch.matmul().\n",
        "\n",
        "These functions are optimized for performance and flexibility, making PyTorch a powerful tool for deep learning."
      ]
    },
    {
      "cell_type": "code",
      "execution_count": null,
      "metadata": {
        "id": "zK8mHEE8yHpU"
      },
      "outputs": [],
      "source": [
        "torch.mul()\n",
        "# Elementwise multiplication (Hadamard): This performs element-wise multiplication of two tensors, i.e., it multiplies corresponding elements in the tensors.\n",
        "# Broadcasts: If the tensors have different shapes, PyTorch will automatically \"broadcast\" the smaller tensor to match the shape of the larger one, provided the dimensions are compatible.\n",
        "\n",
        "torch.dot()\n",
        "# Computes the dot product of two 1D tensors: This calculates the dot product of two 1D tensors, which is equivalent to performing element-wise multiplication and summing the results.\n",
        "# No broadcasting: Both tensors must be 1D and of the same length.\n",
        "\n",
        "torch.mm()\n",
        "# Matrix multiplication of two 2D matrices: Matrix multiplication for two 2D matrices (i.e., A @ B where A is of size (n, m) and B is of size (m, p)).\n",
        "# Does not broadcast: Both matrices must be 2D, and the number of columns in the first matrix must match the number of rows in the second.\n",
        "\n",
        "torch.bmm()\n",
        "# Batch matrix multiplication of two 3D matrices: (b, n, m) x (b, m, p) = (b, n, p): This function performs batch matrix multiplication. It operates on 3D tensors, where each slice (along the batch dimension) is a separate matrix multiplication.\n",
        "# Does not broadcast: Each batch must have tensors of matching dimensions for matrix multiplication.\n",
        "\n",
        "torch.matmul()\n",
        "# General matrix multiplication for tensors of any size. Depending on the inputs will perform dot, mm, bmm (broadcasted to any tensor size): This is the most flexible function, handling a wide variety of input shapes, including:\n",
        "# - 1D x 1D dot product\n",
        "# - 2D x 2D matrix multiplication\n",
        "# - 3D x 3D batch matrix multiplication\n",
        "# Broadcasts: Broadcasting support for higher-dimensional tensors. This function can automatically handle broadcasting if the tensors have compatible shapes.\n",
        "\n",
        "@\n",
        "# Same as matmul(). The @ (at) operator is intended to be used for matrix multiplication. No builtin Python types implement this operator."
      ]
    },
    {
      "cell_type": "markdown",
      "metadata": {
        "id": "YceW3jwGzbVg"
      },
      "source": [
        "### Broadcasting\n",
        "\n",
        "Broadcasting refers to the ability of PyTorch to automatically expand smaller tensors to match the shape of larger tensors in certain operations, without the need for explicit repetition or tiling. This makes element-wise operations more flexible and efficient.\n",
        "\n",
        "### Broadcasting Rules\n",
        "Two tensors are broadcastable if:\n",
        "- Each tensor has at least one dimension.\n",
        "- When comparing dimensions starting from the trailing (last) dimension, the dimensions must either be:\n",
        "    - Equal, or\n",
        "    - One of them is 1, or\n",
        "    - One tensor does not have that dimension.\n",
        "If these conditions are met, PyTorch will implicitly expand the smaller tensor along the dimensions where it has size 1, and perform the operation."
      ]
    },
    {
      "cell_type": "markdown",
      "metadata": {
        "id": "pZb1in1q6qvq"
      },
      "source": [
        "Two tensors are “broadcastable” if the following rules hold:\n",
        "\n",
        "- Each tensor has at least one dimension.\n",
        "- When iterating over the dimension sizes, starting at the trailing dimension,\n",
        "the dimension sizes must either be equal, one of them is 1, or one of them does not exist.\n",
        "\n",
        "https://pytorch.org/docs/stable/notes/broadcasting.html\n",
        "https://numpy.org/devdocs/user/basics.broadcasting.html#general-broadcasting-rules\n",
        "\n",
        "An operation that uses broadcasting makes ASSUMPTIONS about what you intend to do."
      ]
    },
    {
      "cell_type": "markdown",
      "source": [
        "1. Mismatched Dimensions: Broadcasting happens when performing matrix multiplication"
      ],
      "metadata": {
        "id": "t7HPoaq2zEVr"
      }
    },
    {
      "cell_type": "code",
      "execution_count": 52,
      "metadata": {
        "colab": {
          "base_uri": "https://localhost:8080/"
        },
        "id": "yME7BG8FyHte",
        "outputId": "2852605d-d135-41a9-db52-5fd83d8349c9"
      },
      "outputs": [
        {
          "output_type": "stream",
          "name": "stdout",
          "text": [
            "torch.Size([10, 64, 1152, 1, 16])\n"
          ]
        }
      ],
      "source": [
        "a = torch.randn(1, 64, 1152, 1, 8)\n",
        "b = torch.randn(10, 1, 1152, 8, 16)\n",
        "\n",
        "# @ applies broadcasting to a and b\n",
        "c = a @ b\n",
        "print(c.size())"
      ]
    },
    {
      "cell_type": "code",
      "execution_count": 53,
      "metadata": {
        "colab": {
          "base_uri": "https://localhost:8080/"
        },
        "id": "EAQUea6JyHvo",
        "outputId": "4f64ce21-4af5-48cb-ec1e-700f0587398d"
      },
      "outputs": [
        {
          "output_type": "stream",
          "name": "stdout",
          "text": [
            "torch.Size([1, 64, 1152, 1, 16])\n"
          ]
        }
      ],
      "source": [
        "a = torch.randn(1, 64, 1152, 1, 8)\n",
        "b = torch.randn(8, 16)\n",
        "\n",
        "# @ applies broadcasting to a and b\n",
        "c = a @ b\n",
        "print(c.size())"
      ]
    },
    {
      "cell_type": "code",
      "execution_count": 55,
      "metadata": {
        "colab": {
          "base_uri": "https://localhost:8080/"
        },
        "id": "j6FXe7ExyHxz",
        "outputId": "44938143-c440-40c6-b6ae-8b9e7bfbe707"
      },
      "outputs": [
        {
          "output_type": "stream",
          "name": "stdout",
          "text": [
            "a: tensor([0, 1, 2, 3])\n",
            "b: tensor([[1., 1., 1., 1.],\n",
            "        [1., 1., 1., 1.],\n",
            "        [1., 1., 1., 1.],\n",
            "        [1., 1., 1., 1.],\n",
            "        [1., 1., 1., 1.],\n",
            "        [1., 1., 1., 1.],\n",
            "        [1., 1., 1., 1.],\n",
            "        [1., 1., 1., 1.]])\n",
            "a expanded: tensor([[0, 1, 2, 3],\n",
            "        [0, 1, 2, 3],\n",
            "        [0, 1, 2, 3],\n",
            "        [0, 1, 2, 3],\n",
            "        [0, 1, 2, 3],\n",
            "        [0, 1, 2, 3],\n",
            "        [0, 1, 2, 3],\n",
            "        [0, 1, 2, 3]])\n",
            "b + a: tensor([[1., 2., 3., 4.],\n",
            "        [1., 2., 3., 4.],\n",
            "        [1., 2., 3., 4.],\n",
            "        [1., 2., 3., 4.],\n",
            "        [1., 2., 3., 4.],\n",
            "        [1., 2., 3., 4.],\n",
            "        [1., 2., 3., 4.],\n",
            "        [1., 2., 3., 4.]])\n"
          ]
        }
      ],
      "source": [
        "# Without broadcasting:\n",
        "# Have to apply repeat, expand, tiling operations...to make the right tensor shapes\n",
        "\n",
        "a = torch.arange(4)\n",
        "print (\"a:\", a)\n",
        "\n",
        "b = torch.ones(8,4)\n",
        "print (\"b:\", b)\n",
        "\n",
        "a = a.expand(8,4)\n",
        "print (\"a expanded:\", a)\n",
        "\n",
        "print (\"b + a:\", b+a)"
      ]
    },
    {
      "cell_type": "markdown",
      "metadata": {
        "id": "Alg7sVk16qvr"
      },
      "source": [
        "2. Basic Broadcasting: When adding two tensors with mismatched dimensions, broadcasting automatically adjusts the shape"
      ]
    },
    {
      "cell_type": "code",
      "execution_count": 56,
      "metadata": {
        "colab": {
          "base_uri": "https://localhost:8080/"
        },
        "id": "XaQuNDoUwIzP",
        "outputId": "1e5a4633-95e2-4f76-ea73-3f0273c94987"
      },
      "outputs": [
        {
          "output_type": "stream",
          "name": "stdout",
          "text": [
            "tensor([[1., 2., 3., 4.],\n",
            "        [1., 2., 3., 4.],\n",
            "        [1., 2., 3., 4.],\n",
            "        [1., 2., 3., 4.],\n",
            "        [1., 2., 3., 4.],\n",
            "        [1., 2., 3., 4.],\n",
            "        [1., 2., 3., 4.],\n",
            "        [1., 2., 3., 4.]])\n"
          ]
        }
      ],
      "source": [
        "# With broadcasting:\n",
        "# Automatic!\n",
        "a = torch.arange(4)\n",
        "b = torch.ones(8,4)\n",
        "\n",
        "print (b + a)"
      ]
    },
    {
      "cell_type": "code",
      "execution_count": 57,
      "metadata": {
        "colab": {
          "base_uri": "https://localhost:8080/"
        },
        "id": "bc_4ZaoHwI04",
        "outputId": "60866cbc-e55f-41e3-a4a6-a216d88c2a36"
      },
      "outputs": [
        {
          "output_type": "stream",
          "name": "stderr",
          "text": [
            "/usr/local/lib/python3.10/dist-packages/torch/nn/modules/loss.py:608: UserWarning: Using a target size (torch.Size([3, 5])) that is different to the input size (torch.Size([1, 3, 5])). This will likely lead to incorrect results due to broadcasting. Please ensure they have the same size.\n",
            "  return F.mse_loss(input, target, reduction=self.reduction)\n"
          ]
        },
        {
          "output_type": "execute_result",
          "data": {
            "text/plain": [
              "tensor(3.2673, grad_fn=<MseLossBackward0>)"
            ]
          },
          "metadata": {},
          "execution_count": 57
        }
      ],
      "source": [
        "# Be careful!\n",
        "\n",
        "# Broadcasting assumes things you might not intend\n",
        "\n",
        "# Instead of an error, it will automatically reshape your tensors and perform the oepration\n",
        "\n",
        "# https://github.com/pytorch/pytorch/issues/16045\n",
        "\n",
        "loss = nn.MSELoss()\n",
        "input = torch.randn(1, 3, 5, requires_grad=True)\n",
        "target = torch.randn(3, 5)\n",
        "output = loss(input, target)\n",
        "output"
      ]
    },
    {
      "cell_type": "markdown",
      "metadata": {
        "id": "S9Iyy6tc1iYj"
      },
      "source": [
        "### Multidimensional Matmuls\n",
        "\n",
        "The operations involving multi-dimensional matrices such as a @ b can be used for batch processing where tensors are multiplied across different dimensions. This applies to 3D and 4D tensors as well."
      ]
    },
    {
      "cell_type": "code",
      "execution_count": 58,
      "metadata": {
        "id": "gmNleww3wI2f"
      },
      "outputs": [],
      "source": [
        "# MULTIPLY 3D TENSORS\n",
        "a = torch.ones(3,2,2)\n",
        "a[0,] = 3\n",
        "a[1,] = 4\n",
        "a[2,] = 5\n",
        "b = torch.ones(3,2,2)\n",
        "b[0,] = 6\n",
        "b[1,] = 7\n",
        "b[2,] = 8"
      ]
    },
    {
      "cell_type": "code",
      "execution_count": 59,
      "metadata": {
        "colab": {
          "base_uri": "https://localhost:8080/"
        },
        "id": "y2T2hfOW1hsH",
        "outputId": "51c87b05-1aad-42b7-ef9e-f80fc42c5853"
      },
      "outputs": [
        {
          "output_type": "execute_result",
          "data": {
            "text/plain": [
              "tensor([[[3., 3.],\n",
              "         [3., 3.]],\n",
              "\n",
              "        [[4., 4.],\n",
              "         [4., 4.]],\n",
              "\n",
              "        [[5., 5.],\n",
              "         [5., 5.]]])"
            ]
          },
          "metadata": {},
          "execution_count": 59
        }
      ],
      "source": [
        "a"
      ]
    },
    {
      "cell_type": "code",
      "execution_count": 60,
      "metadata": {
        "colab": {
          "base_uri": "https://localhost:8080/"
        },
        "id": "s7qTIsWN1huR",
        "outputId": "e192aa7c-2882-4764-bc5f-6423d0b15e4e"
      },
      "outputs": [
        {
          "output_type": "execute_result",
          "data": {
            "text/plain": [
              "tensor([[[6., 6.],\n",
              "         [6., 6.]],\n",
              "\n",
              "        [[7., 7.],\n",
              "         [7., 7.]],\n",
              "\n",
              "        [[8., 8.],\n",
              "         [8., 8.]]])"
            ]
          },
          "metadata": {},
          "execution_count": 60
        }
      ],
      "source": [
        "b"
      ]
    },
    {
      "cell_type": "code",
      "execution_count": 61,
      "metadata": {
        "colab": {
          "base_uri": "https://localhost:8080/"
        },
        "id": "7E6_HoFx1hv4",
        "outputId": "c0bcb424-13b1-4208-d067-a01ea8a2ef95"
      },
      "outputs": [
        {
          "output_type": "execute_result",
          "data": {
            "text/plain": [
              "tensor([[[36., 36.],\n",
              "         [36., 36.]],\n",
              "\n",
              "        [[56., 56.],\n",
              "         [56., 56.]],\n",
              "\n",
              "        [[80., 80.],\n",
              "         [80., 80.]]])"
            ]
          },
          "metadata": {},
          "execution_count": 61
        }
      ],
      "source": [
        "a@b"
      ]
    },
    {
      "cell_type": "markdown",
      "metadata": {
        "id": "LaCU2Wev6qvs"
      },
      "source": [
        "3. Broadcasting in Higher-Dimensional Matrices: When multiplying higher-dimensional matrices (3D, 4D, etc.), PyTorch will apply broadcasting rules to ensure dimensions align for operations like matrix multiplication."
      ]
    },
    {
      "cell_type": "code",
      "execution_count": 62,
      "metadata": {
        "id": "dglXSr4Z1hxq"
      },
      "outputs": [],
      "source": [
        "# MULTIPLY 4D TENSORS\n",
        "a = torch.ones(4,3,2,2)\n",
        "a[0,] = 3\n",
        "a[1,] = 4\n",
        "a[2,] = 5\n",
        "a[3,] = 6\n",
        "b = torch.ones(4,3,2,2)\n",
        "b[0,] = 7\n",
        "b[1,] = 8\n",
        "b[2,] = 9\n",
        "b[3,] = 10"
      ]
    },
    {
      "cell_type": "code",
      "execution_count": 63,
      "metadata": {
        "colab": {
          "base_uri": "https://localhost:8080/"
        },
        "id": "Xhq3_o9I1hz1",
        "outputId": "f983f249-478d-487e-b36b-c8617487d903"
      },
      "outputs": [
        {
          "output_type": "execute_result",
          "data": {
            "text/plain": [
              "tensor([[[[3., 3.],\n",
              "          [3., 3.]],\n",
              "\n",
              "         [[3., 3.],\n",
              "          [3., 3.]],\n",
              "\n",
              "         [[3., 3.],\n",
              "          [3., 3.]]],\n",
              "\n",
              "\n",
              "        [[[4., 4.],\n",
              "          [4., 4.]],\n",
              "\n",
              "         [[4., 4.],\n",
              "          [4., 4.]],\n",
              "\n",
              "         [[4., 4.],\n",
              "          [4., 4.]]],\n",
              "\n",
              "\n",
              "        [[[5., 5.],\n",
              "          [5., 5.]],\n",
              "\n",
              "         [[5., 5.],\n",
              "          [5., 5.]],\n",
              "\n",
              "         [[5., 5.],\n",
              "          [5., 5.]]],\n",
              "\n",
              "\n",
              "        [[[6., 6.],\n",
              "          [6., 6.]],\n",
              "\n",
              "         [[6., 6.],\n",
              "          [6., 6.]],\n",
              "\n",
              "         [[6., 6.],\n",
              "          [6., 6.]]]])"
            ]
          },
          "metadata": {},
          "execution_count": 63
        }
      ],
      "source": [
        "a"
      ]
    },
    {
      "cell_type": "code",
      "execution_count": 64,
      "metadata": {
        "colab": {
          "base_uri": "https://localhost:8080/"
        },
        "id": "626CrJ5C2DZE",
        "outputId": "d46e23cb-32a1-431b-839f-0abc23e0182d"
      },
      "outputs": [
        {
          "output_type": "execute_result",
          "data": {
            "text/plain": [
              "tensor([[[[ 7.,  7.],\n",
              "          [ 7.,  7.]],\n",
              "\n",
              "         [[ 7.,  7.],\n",
              "          [ 7.,  7.]],\n",
              "\n",
              "         [[ 7.,  7.],\n",
              "          [ 7.,  7.]]],\n",
              "\n",
              "\n",
              "        [[[ 8.,  8.],\n",
              "          [ 8.,  8.]],\n",
              "\n",
              "         [[ 8.,  8.],\n",
              "          [ 8.,  8.]],\n",
              "\n",
              "         [[ 8.,  8.],\n",
              "          [ 8.,  8.]]],\n",
              "\n",
              "\n",
              "        [[[ 9.,  9.],\n",
              "          [ 9.,  9.]],\n",
              "\n",
              "         [[ 9.,  9.],\n",
              "          [ 9.,  9.]],\n",
              "\n",
              "         [[ 9.,  9.],\n",
              "          [ 9.,  9.]]],\n",
              "\n",
              "\n",
              "        [[[10., 10.],\n",
              "          [10., 10.]],\n",
              "\n",
              "         [[10., 10.],\n",
              "          [10., 10.]],\n",
              "\n",
              "         [[10., 10.],\n",
              "          [10., 10.]]]])"
            ]
          },
          "metadata": {},
          "execution_count": 64
        }
      ],
      "source": [
        "b"
      ]
    },
    {
      "cell_type": "code",
      "execution_count": 65,
      "metadata": {
        "colab": {
          "base_uri": "https://localhost:8080/"
        },
        "id": "qRjBhXFns2lP",
        "outputId": "b7518f79-f487-4ef6-d875-ef021d60fedf"
      },
      "outputs": [
        {
          "output_type": "execute_result",
          "data": {
            "text/plain": [
              "tensor([[[[ 42.,  42.],\n",
              "          [ 42.,  42.]],\n",
              "\n",
              "         [[ 42.,  42.],\n",
              "          [ 42.,  42.]],\n",
              "\n",
              "         [[ 42.,  42.],\n",
              "          [ 42.,  42.]]],\n",
              "\n",
              "\n",
              "        [[[ 64.,  64.],\n",
              "          [ 64.,  64.]],\n",
              "\n",
              "         [[ 64.,  64.],\n",
              "          [ 64.,  64.]],\n",
              "\n",
              "         [[ 64.,  64.],\n",
              "          [ 64.,  64.]]],\n",
              "\n",
              "\n",
              "        [[[ 90.,  90.],\n",
              "          [ 90.,  90.]],\n",
              "\n",
              "         [[ 90.,  90.],\n",
              "          [ 90.,  90.]],\n",
              "\n",
              "         [[ 90.,  90.],\n",
              "          [ 90.,  90.]]],\n",
              "\n",
              "\n",
              "        [[[120., 120.],\n",
              "          [120., 120.]],\n",
              "\n",
              "         [[120., 120.],\n",
              "          [120., 120.]],\n",
              "\n",
              "         [[120., 120.],\n",
              "          [120., 120.]]]])"
            ]
          },
          "metadata": {},
          "execution_count": 65
        }
      ],
      "source": [
        "a@b"
      ]
    },
    {
      "cell_type": "markdown",
      "source": [
        "BATCH MM"
      ],
      "metadata": {
        "id": "FYBD3TX71dSI"
      }
    },
    {
      "cell_type": "code",
      "source": [
        "# A) REGULAR\n",
        "g = torch.Generator().manual_seed(24523452345)\n",
        "a = torch.randn((4,2,4,3,5), generator = g)\n",
        "c = torch.randn((4,2,4,3,5), generator = g)\n",
        "x, b, h, t, e = 4, 2, 4, 3, 5\n",
        "c = c.transpose(3,4)\n",
        "print (\"a:\", a.shape)\n",
        "print (\"c:\", c.shape)\n",
        "res_a = a@c\n",
        "print (\"a@c\", res_a[0][0][0])"
      ],
      "metadata": {
        "colab": {
          "base_uri": "https://localhost:8080/"
        },
        "id": "lgVjJGLf1ioR",
        "outputId": "3439faa9-5875-4cb2-a877-afc6fd914b4d"
      },
      "execution_count": 66,
      "outputs": [
        {
          "output_type": "stream",
          "name": "stdout",
          "text": [
            "a: torch.Size([4, 2, 4, 3, 5])\n",
            "c: torch.Size([4, 2, 4, 5, 3])\n",
            "a@c tensor([[-1.0231, -1.8452, -0.1605],\n",
            "        [ 0.7514,  1.1960, -0.0863],\n",
            "        [ 1.7838,  3.6635,  0.2653]])\n"
          ]
        }
      ]
    },
    {
      "cell_type": "code",
      "source": [
        "# B) REDUCING DIMS 2, 3\n",
        "g = torch.Generator().manual_seed(24523452345)\n",
        "a = torch.randn((4,2,4,3,5), generator = g)\n",
        "c = torch.randn((4,2,4,3,5), generator = g)\n",
        "x, b, h, t, e = 4, 2, 4, 3, 5\n",
        "a = a.view(x, b * h, t, e)\n",
        "c = c.view(x, b * h, t, e)\n",
        "c = c.transpose(2,3)\n",
        "print (\"a:\", a.shape)\n",
        "print (\"c:\", c.shape)\n",
        "res_b = a@c\n",
        "print (\"a@c\", res_b[0][0])"
      ],
      "metadata": {
        "colab": {
          "base_uri": "https://localhost:8080/"
        },
        "id": "z6V-unFD1mKJ",
        "outputId": "c31c2a64-6c0c-43fc-cb89-49634e38cb4a"
      },
      "execution_count": 67,
      "outputs": [
        {
          "output_type": "stream",
          "name": "stdout",
          "text": [
            "a: torch.Size([4, 8, 3, 5])\n",
            "c: torch.Size([4, 8, 5, 3])\n",
            "a@c tensor([[-1.0231, -1.8452, -0.1605],\n",
            "        [ 0.7514,  1.1960, -0.0863],\n",
            "        [ 1.7838,  3.6635,  0.2653]])\n"
          ]
        }
      ]
    },
    {
      "cell_type": "code",
      "source": [
        "# C) EXPANDING DIM 1\n",
        "g = torch.Generator().manual_seed(24523452345)\n",
        "a = torch.randn((4,2,4,3,5), generator = g)\n",
        "c = torch.randn((4,2,4,3,5), generator = g)\n",
        "x, b, h, t, e = 4, 2, 4, 3, 5\n",
        "a = a.view(x, 1, b, h, t, e)\n",
        "c = c.view(x, 1, b, h, t, e)\n",
        "c = c.transpose(4,5)\n",
        "print (\"a:\", a.shape)\n",
        "print (\"c:\", c.shape)\n",
        "res_c = a@c\n",
        "print (\"a@c\", res_c[0][0][0][0])"
      ],
      "metadata": {
        "colab": {
          "base_uri": "https://localhost:8080/"
        },
        "id": "QA4a-oHP1odT",
        "outputId": "9983f0c2-f22c-483b-d7d2-bf2db93a12b9"
      },
      "execution_count": 68,
      "outputs": [
        {
          "output_type": "stream",
          "name": "stdout",
          "text": [
            "a: torch.Size([4, 1, 2, 4, 3, 5])\n",
            "c: torch.Size([4, 1, 2, 4, 5, 3])\n",
            "a@c tensor([[-1.0231, -1.8452, -0.1605],\n",
            "        [ 0.7514,  1.1960, -0.0863],\n",
            "        [ 1.7838,  3.6635,  0.2653]])\n"
          ]
        }
      ]
    },
    {
      "cell_type": "code",
      "source": [
        "# D) REDUCING DIMS 1, 2, 3\n",
        "g = torch.Generator().manual_seed(24523452345)\n",
        "a = torch.randn((4,2,4,3,5), generator = g)\n",
        "c = torch.randn((4,2,4,3,5), generator = g)\n",
        "x, b, h, t, e = 4, 2, 4, 3, 5\n",
        "a = a.view(x * b * h, t, e)\n",
        "c = c.view(x * b * h, t, e)\n",
        "c = c.transpose(1,2)\n",
        "print (\"a:\", a.shape)\n",
        "print (\"c:\", c.shape)\n",
        "res_d = a@c\n",
        "print (\"a@c\", res_d[0][:4])"
      ],
      "metadata": {
        "colab": {
          "base_uri": "https://localhost:8080/"
        },
        "id": "0iZUuWNP1qtn",
        "outputId": "c70f4c99-e4c2-464d-8077-c52b77d9b330"
      },
      "execution_count": 69,
      "outputs": [
        {
          "output_type": "stream",
          "name": "stdout",
          "text": [
            "a: torch.Size([32, 3, 5])\n",
            "c: torch.Size([32, 5, 3])\n",
            "a@c tensor([[-1.0231, -1.8452, -0.1605],\n",
            "        [ 0.7514,  1.1960, -0.0863],\n",
            "        [ 1.7838,  3.6635,  0.2653]])\n"
          ]
        }
      ]
    },
    {
      "cell_type": "code",
      "execution_count": 70,
      "metadata": {
        "colab": {
          "base_uri": "https://localhost:8080/"
        },
        "id": "zZUFROZh2V8X",
        "outputId": "a057d38b-f2e5-43d5-f528-20011fc4434c"
      },
      "outputs": [
        {
          "output_type": "stream",
          "name": "stdout",
          "text": [
            "a: torch.Size([96, 5])\n",
            "c: torch.Size([5, 96])\n",
            "a@c tensor([-1.0231, -1.8452, -0.1605,  1.0533, -4.3932,  7.2955, -0.5915,  0.7917,\n",
            "        -1.9186])\n"
          ]
        }
      ],
      "source": [
        "# E) REDUCING DIMS 1, 2, 3, 4 <- this one doesn't work!\n",
        "g = torch.Generator().manual_seed(24523452345)\n",
        "a = torch.randn((4,2,4,3,5), generator = g)\n",
        "c = torch.randn((4,2,4,3,5), generator = g)\n",
        "x, b, h, t, e = 4, 2, 4, 3, 5\n",
        "a = a.view(x * b * h * t, e)\n",
        "c = c.view(x * b * h * t, e)\n",
        "c = c.transpose(0,1)\n",
        "print (\"a:\", a.shape)\n",
        "print (\"c:\", c.shape)\n",
        "res_e = a@c\n",
        "print (\"a@c\", res_e[0][:9])"
      ]
    },
    {
      "cell_type": "code",
      "execution_count": 71,
      "metadata": {
        "colab": {
          "base_uri": "https://localhost:8080/",
          "height": 141
        },
        "id": "6F_EBkjv2V-c",
        "outputId": "b70c9c73-45b8-4ff8-8bbe-e7757bb911ad"
      },
      "outputs": [
        {
          "output_type": "error",
          "ename": "RuntimeError",
          "evalue": "The size of tensor a (288) must match the size of tensor b (9216) at non-singleton dimension 0",
          "traceback": [
            "\u001b[0;31m---------------------------------------------------------------------------\u001b[0m",
            "\u001b[0;31mRuntimeError\u001b[0m                              Traceback (most recent call last)",
            "\u001b[0;32m<ipython-input-71-afb5b8d24bd7>\u001b[0m in \u001b[0;36m<cell line: 1>\u001b[0;34m()\u001b[0m\n\u001b[0;32m----> 1\u001b[0;31m \u001b[0mtorch\u001b[0m\u001b[0;34m.\u001b[0m\u001b[0mallclose\u001b[0m\u001b[0;34m(\u001b[0m\u001b[0mres_a\u001b[0m\u001b[0;34m.\u001b[0m\u001b[0mview\u001b[0m\u001b[0;34m(\u001b[0m\u001b[0;34m-\u001b[0m\u001b[0;36m1\u001b[0m\u001b[0;34m,\u001b[0m\u001b[0;36m1\u001b[0m\u001b[0;34m)\u001b[0m\u001b[0;34m,\u001b[0m \u001b[0mres_e\u001b[0m\u001b[0;34m.\u001b[0m\u001b[0mview\u001b[0m\u001b[0;34m(\u001b[0m\u001b[0;34m-\u001b[0m\u001b[0;36m1\u001b[0m\u001b[0;34m,\u001b[0m\u001b[0;36m1\u001b[0m\u001b[0;34m)\u001b[0m\u001b[0;34m)\u001b[0m\u001b[0;34m\u001b[0m\u001b[0;34m\u001b[0m\u001b[0m\n\u001b[0m",
            "\u001b[0;31mRuntimeError\u001b[0m: The size of tensor a (288) must match the size of tensor b (9216) at non-singleton dimension 0"
          ]
        }
      ],
      "source": [
        "torch.allclose(res_a.view(-1,1), res_e.view(-1,1))"
      ]
    },
    {
      "cell_type": "code",
      "execution_count": null,
      "metadata": {
        "id": "B1T2lN_S25-h"
      },
      "outputs": [],
      "source": []
    },
    {
      "cell_type": "markdown",
      "metadata": {
        "id": "Rs0NhED02_Fy"
      },
      "source": [
        "### Torch operations: contiguous, copies, reshaping\n",
        "\n",
        "PyTorch operations like view, reshape, and transpose allow you to change the shape or order of the dimensions of a tensor. However, not all operations preserve contiguity, which refers to whether a tensor's elements are stored in contiguous memory.\n",
        "\n",
        "If you need to ensure a tensor is contiguous before reshaping or performing certain operations, use .contiguous().\n",
        "\n",
        "Lots of operations: view, reshape, transpose, permute, squeeze\n",
        "\n",
        "We've already seen broadcasting\n",
        "\n",
        "Properties to pay attention to:\n",
        "Does an operation...\n",
        "1) Preserve contiguity?\n",
        "2) Create a copy?\n",
        "\n",
        "Be careful what you use!\n",
        "\n",
        "very subtle bugs, lots of time spent on forums trying to understand errors\n",
        "patching something with .contiguous() looks easy but you need to make sure you haven't messed up before that\n"
      ]
    },
    {
      "cell_type": "code",
      "execution_count": 72,
      "metadata": {
        "colab": {
          "base_uri": "https://localhost:8080/"
        },
        "id": "hv1nVI8A3AI3",
        "outputId": "78bf3d65-e854-466e-bd9b-ad4d868d6ed2"
      },
      "outputs": [
        {
          "output_type": "stream",
          "name": "stderr",
          "text": [
            "<ipython-input-72-8ad68807fe99>:1: UserWarning: To copy construct from a tensor, it is recommended to use sourceTensor.clone().detach() or sourceTensor.clone().detach().requires_grad_(True), rather than torch.tensor(sourceTensor).\n",
            "  a = torch.tensor(torch.arange(24))\n"
          ]
        },
        {
          "output_type": "execute_result",
          "data": {
            "text/plain": [
              "tensor([ 0,  1,  2,  3,  4,  5,  6,  7,  8,  9, 10, 11, 12, 13, 14, 15, 16, 17,\n",
              "        18, 19, 20, 21, 22, 23])"
            ]
          },
          "metadata": {},
          "execution_count": 72
        }
      ],
      "source": [
        "a = torch.tensor(torch.arange(24))\n",
        "a"
      ]
    },
    {
      "cell_type": "code",
      "execution_count": 73,
      "metadata": {
        "colab": {
          "base_uri": "https://localhost:8080/"
        },
        "id": "x2AYdxdw3AK3",
        "outputId": "a58d8b6c-06d6-4535-f225-2d7e1c69a3c9"
      },
      "outputs": [
        {
          "output_type": "execute_result",
          "data": {
            "text/plain": [
              "tensor([[ 0,  1,  2,  3,  4,  5],\n",
              "        [ 6,  7,  8,  9, 10, 11],\n",
              "        [12, 13, 14, 15, 16, 17],\n",
              "        [18, 19, 20, 21, 22, 23]])"
            ]
          },
          "metadata": {},
          "execution_count": 73
        }
      ],
      "source": [
        "a = a.view(4,6)\n",
        "a"
      ]
    },
    {
      "cell_type": "code",
      "execution_count": 74,
      "metadata": {
        "colab": {
          "base_uri": "https://localhost:8080/"
        },
        "id": "Wd5aYNX_3ANR",
        "outputId": "bfc5943d-6a7c-43a5-b021-997898130b58"
      },
      "outputs": [
        {
          "output_type": "execute_result",
          "data": {
            "text/plain": [
              "tensor([[ 0,  6, 12, 18],\n",
              "        [ 1,  7, 13, 19],\n",
              "        [ 2,  8, 14, 20],\n",
              "        [ 3,  9, 15, 21],\n",
              "        [ 4, 10, 16, 22],\n",
              "        [ 5, 11, 17, 23]])"
            ]
          },
          "metadata": {},
          "execution_count": 74
        }
      ],
      "source": [
        "a_transpose = a.transpose(0,1)\n",
        "a_transpose"
      ]
    },
    {
      "cell_type": "code",
      "execution_count": 75,
      "metadata": {
        "colab": {
          "base_uri": "https://localhost:8080/",
          "height": 141
        },
        "id": "Z2acMQIW3APE",
        "outputId": "8bf5849f-ac45-4171-916f-9d225906ee0d"
      },
      "outputs": [
        {
          "output_type": "error",
          "ename": "RuntimeError",
          "evalue": "view size is not compatible with input tensor's size and stride (at least one dimension spans across two contiguous subspaces). Use .reshape(...) instead.",
          "traceback": [
            "\u001b[0;31m---------------------------------------------------------------------------\u001b[0m",
            "\u001b[0;31mRuntimeError\u001b[0m                              Traceback (most recent call last)",
            "\u001b[0;32m<ipython-input-75-edb9ac4a0511>\u001b[0m in \u001b[0;36m<cell line: 1>\u001b[0;34m()\u001b[0m\n\u001b[0;32m----> 1\u001b[0;31m \u001b[0ma_transpose\u001b[0m\u001b[0;34m.\u001b[0m\u001b[0mview\u001b[0m\u001b[0;34m(\u001b[0m\u001b[0;36m3\u001b[0m\u001b[0;34m,\u001b[0m\u001b[0;36m8\u001b[0m\u001b[0;34m)\u001b[0m\u001b[0;34m\u001b[0m\u001b[0;34m\u001b[0m\u001b[0m\n\u001b[0m",
            "\u001b[0;31mRuntimeError\u001b[0m: view size is not compatible with input tensor's size and stride (at least one dimension spans across two contiguous subspaces). Use .reshape(...) instead."
          ]
        }
      ],
      "source": [
        "a_transpose.view(3,8)"
      ]
    },
    {
      "cell_type": "code",
      "execution_count": 76,
      "metadata": {
        "colab": {
          "base_uri": "https://localhost:8080/"
        },
        "id": "iWFeuIEn26CJ",
        "outputId": "4365a6b0-9161-4e23-e009-547915b88efb"
      },
      "outputs": [
        {
          "output_type": "execute_result",
          "data": {
            "text/plain": [
              "False"
            ]
          },
          "metadata": {},
          "execution_count": 76
        }
      ],
      "source": [
        "a_transpose.is_contiguous()"
      ]
    },
    {
      "cell_type": "code",
      "execution_count": 77,
      "metadata": {
        "colab": {
          "base_uri": "https://localhost:8080/"
        },
        "id": "hTfp2QCQ26EB",
        "outputId": "45090123-c45a-452f-fd26-06b57b94ae71"
      },
      "outputs": [
        {
          "output_type": "execute_result",
          "data": {
            "text/plain": [
              "tensor([[ 0,  6, 12, 18,  1,  7, 13, 19],\n",
              "        [ 2,  8, 14, 20,  3,  9, 15, 21],\n",
              "        [ 4, 10, 16, 22,  5, 11, 17, 23]])"
            ]
          },
          "metadata": {},
          "execution_count": 77
        }
      ],
      "source": [
        "a_reshape = a_transpose.reshape(3,8)\n",
        "a_reshape"
      ]
    },
    {
      "cell_type": "code",
      "execution_count": 78,
      "metadata": {
        "colab": {
          "base_uri": "https://localhost:8080/"
        },
        "id": "n_G9v0lp26GC",
        "outputId": "c943ba0e-5794-4051-e6a9-286d139052ce"
      },
      "outputs": [
        {
          "output_type": "execute_result",
          "data": {
            "text/plain": [
              "99987218084224"
            ]
          },
          "metadata": {},
          "execution_count": 78
        }
      ],
      "source": [
        "a.data_ptr()"
      ]
    },
    {
      "cell_type": "code",
      "execution_count": 79,
      "metadata": {
        "colab": {
          "base_uri": "https://localhost:8080/"
        },
        "id": "LRCn7J7i4HOL",
        "outputId": "fb40b236-597b-4c60-cea1-a17e37f30f2d"
      },
      "outputs": [
        {
          "output_type": "execute_result",
          "data": {
            "text/plain": [
              "99987218084224"
            ]
          },
          "metadata": {},
          "execution_count": 79
        }
      ],
      "source": [
        "a_transpose.data_ptr()"
      ]
    },
    {
      "cell_type": "code",
      "execution_count": 80,
      "metadata": {
        "colab": {
          "base_uri": "https://localhost:8080/"
        },
        "id": "DsBLu_Ht4HQl",
        "outputId": "801961f3-88b1-45af-fcae-d8073ab86ac3"
      },
      "outputs": [
        {
          "output_type": "execute_result",
          "data": {
            "text/plain": [
              "99987218102336"
            ]
          },
          "metadata": {},
          "execution_count": 80
        }
      ],
      "source": [
        "a_reshape.data_ptr()"
      ]
    },
    {
      "cell_type": "code",
      "execution_count": null,
      "metadata": {
        "id": "2JCVj-to26H_"
      },
      "outputs": [],
      "source": []
    },
    {
      "cell_type": "code",
      "execution_count": null,
      "metadata": {
        "id": "F5HPfjyQ46ov"
      },
      "outputs": [],
      "source": []
    },
    {
      "cell_type": "markdown",
      "metadata": {
        "id": "TJlxKEwW486T"
      },
      "source": [
        "### Multihead attention toy example\n",
        "\n",
        "In the context of multi-head attention (as used in models like Transformers), we often deal with splitting the input tensor into multiple \"heads,\" where each head has a different slice of the input features.\n",
        "\n",
        "t = sequence length (number of tokens)\n",
        "\n",
        "od = original dimension of token\n",
        "\n",
        "h = number of heads\n",
        "\n",
        "hd = head dimension"
      ]
    },
    {
      "cell_type": "markdown",
      "metadata": {
        "id": "ObD0uEYn6qvv"
      },
      "source": [
        "1. Initial tensor (query) setup:"
      ]
    },
    {
      "cell_type": "code",
      "execution_count": 84,
      "metadata": {
        "colab": {
          "base_uri": "https://localhost:8080/"
        },
        "id": "Ig_1DGbp46rq",
        "outputId": "283568cb-6e61-4d1a-cb85-50c1db16d727"
      },
      "outputs": [
        {
          "output_type": "stream",
          "name": "stderr",
          "text": [
            "<ipython-input-84-1d0c434e3411>:2: UserWarning: torch.range is deprecated and will be removed in a future release because its behavior is inconsistent with Python's range builtin. Instead, use torch.arange, which produces values in [start, end).\n",
            "  q = torch.tensor(torch.range(1,5).view(5,1))\n",
            "<ipython-input-84-1d0c434e3411>:2: UserWarning: To copy construct from a tensor, it is recommended to use sourceTensor.clone().detach() or sourceTensor.clone().detach().requires_grad_(True), rather than torch.tensor(sourceTensor).\n",
            "  q = torch.tensor(torch.range(1,5).view(5,1))\n"
          ]
        },
        {
          "output_type": "execute_result",
          "data": {
            "text/plain": [
              "tensor([[1., 1., 1., 1., 1., 1., 1., 1.],\n",
              "        [2., 2., 2., 2., 2., 2., 2., 2.],\n",
              "        [3., 3., 3., 3., 3., 3., 3., 3.],\n",
              "        [4., 4., 4., 4., 4., 4., 4., 4.],\n",
              "        [5., 5., 5., 5., 5., 5., 5., 5.]])"
            ]
          },
          "metadata": {},
          "execution_count": 84
        }
      ],
      "source": [
        "# Single head\n",
        "q = torch.tensor(torch.range(1,5).view(5,1))\n",
        "q = q.expand(5,8)\n",
        "q # t od\n",
        "# 5 examples of 8 dimensional data"
      ]
    },
    {
      "cell_type": "code",
      "source": [
        "q.shape"
      ],
      "metadata": {
        "colab": {
          "base_uri": "https://localhost:8080/"
        },
        "id": "SoJxY9j_3DjC",
        "outputId": "d6590baa-ac4d-4188-808d-00573a89c6f5"
      },
      "execution_count": 85,
      "outputs": [
        {
          "output_type": "execute_result",
          "data": {
            "text/plain": [
              "torch.Size([5, 8])"
            ]
          },
          "metadata": {},
          "execution_count": 85
        }
      ]
    },
    {
      "cell_type": "code",
      "execution_count": 86,
      "metadata": {
        "colab": {
          "base_uri": "https://localhost:8080/"
        },
        "id": "_MZzN3u746tA",
        "outputId": "ee318efe-e95a-43ca-f4f1-107e14256e83"
      },
      "outputs": [
        {
          "output_type": "stream",
          "name": "stderr",
          "text": [
            "<ipython-input-86-e3f0bd084843>:2: UserWarning: torch.range is deprecated and will be removed in a future release because its behavior is inconsistent with Python's range builtin. Instead, use torch.arange, which produces values in [start, end).\n",
            "  q = torch.tensor(torch.range(1,5).view(5,1))\n",
            "<ipython-input-86-e3f0bd084843>:2: UserWarning: To copy construct from a tensor, it is recommended to use sourceTensor.clone().detach() or sourceTensor.clone().detach().requires_grad_(True), rather than torch.tensor(sourceTensor).\n",
            "  q = torch.tensor(torch.range(1,5).view(5,1))\n"
          ]
        },
        {
          "output_type": "execute_result",
          "data": {
            "text/plain": [
              "tensor([[[1., 1.],\n",
              "         [1., 1.],\n",
              "         [1., 1.],\n",
              "         [1., 1.]],\n",
              "\n",
              "        [[2., 2.],\n",
              "         [2., 2.],\n",
              "         [2., 2.],\n",
              "         [2., 2.]],\n",
              "\n",
              "        [[3., 3.],\n",
              "         [3., 3.],\n",
              "         [3., 3.],\n",
              "         [3., 3.]],\n",
              "\n",
              "        [[4., 4.],\n",
              "         [4., 4.],\n",
              "         [4., 4.],\n",
              "         [4., 4.]],\n",
              "\n",
              "        [[5., 5.],\n",
              "         [5., 5.],\n",
              "         [5., 5.],\n",
              "         [5., 5.]]])"
            ]
          },
          "metadata": {},
          "execution_count": 86
        }
      ],
      "source": [
        "# Split the vectors into multiple heads\n",
        "q = torch.tensor(torch.range(1,5).view(5,1))\n",
        "q = q.expand(5,8)\n",
        "q = q.view(5,4,2)\n",
        "q # t h hd"
      ]
    },
    {
      "cell_type": "code",
      "source": [
        "q.shape"
      ],
      "metadata": {
        "colab": {
          "base_uri": "https://localhost:8080/"
        },
        "id": "DDocap553HFb",
        "outputId": "efa1241a-6e8c-4a24-b548-dd4bf0caedd7"
      },
      "execution_count": 87,
      "outputs": [
        {
          "output_type": "execute_result",
          "data": {
            "text/plain": [
              "torch.Size([5, 4, 2])"
            ]
          },
          "metadata": {},
          "execution_count": 87
        }
      ]
    },
    {
      "cell_type": "code",
      "execution_count": 88,
      "metadata": {
        "colab": {
          "base_uri": "https://localhost:8080/"
        },
        "id": "xvyhXg3l46uk",
        "outputId": "b04aaf29-448f-46b1-972d-a4eb859df03c"
      },
      "outputs": [
        {
          "output_type": "execute_result",
          "data": {
            "text/plain": [
              "tensor([[[1., 1.],\n",
              "         [2., 2.],\n",
              "         [3., 3.],\n",
              "         [4., 4.],\n",
              "         [5., 5.]],\n",
              "\n",
              "        [[1., 1.],\n",
              "         [2., 2.],\n",
              "         [3., 3.],\n",
              "         [4., 4.],\n",
              "         [5., 5.]],\n",
              "\n",
              "        [[1., 1.],\n",
              "         [2., 2.],\n",
              "         [3., 3.],\n",
              "         [4., 4.],\n",
              "         [5., 5.]],\n",
              "\n",
              "        [[1., 1.],\n",
              "         [2., 2.],\n",
              "         [3., 3.],\n",
              "         [4., 4.],\n",
              "         [5., 5.]]])"
            ]
          },
          "metadata": {},
          "execution_count": 88
        }
      ],
      "source": [
        "# create *heads* number of groups for attention\n",
        "# each head has a different slice of each vector\n",
        "q = q.transpose(0,1)\n",
        "q # h t hd"
      ]
    },
    {
      "cell_type": "code",
      "source": [
        "q.shape"
      ],
      "metadata": {
        "colab": {
          "base_uri": "https://localhost:8080/"
        },
        "id": "rWwQPOj33LSN",
        "outputId": "394c16ce-b97f-4858-8a7e-a2bfedd72329"
      },
      "execution_count": 89,
      "outputs": [
        {
          "output_type": "execute_result",
          "data": {
            "text/plain": [
              "torch.Size([4, 5, 2])"
            ]
          },
          "metadata": {},
          "execution_count": 89
        }
      ]
    },
    {
      "cell_type": "markdown",
      "metadata": {
        "id": "C-9VKXU46qvw"
      },
      "source": [
        "2. Key tensor setup:"
      ]
    },
    {
      "cell_type": "code",
      "execution_count": 90,
      "metadata": {
        "colab": {
          "base_uri": "https://localhost:8080/"
        },
        "id": "3QGFEFYb46wW",
        "outputId": "55170595-fd25-4479-fbee-e956aa4fd8b1"
      },
      "outputs": [
        {
          "output_type": "stream",
          "name": "stderr",
          "text": [
            "<ipython-input-90-4e34f27cd199>:2: UserWarning: torch.range is deprecated and will be removed in a future release because its behavior is inconsistent with Python's range builtin. Instead, use torch.arange, which produces values in [start, end).\n",
            "  k = torch.tensor(torch.range(1,5).view(5,1))\n",
            "<ipython-input-90-4e34f27cd199>:2: UserWarning: To copy construct from a tensor, it is recommended to use sourceTensor.clone().detach() or sourceTensor.clone().detach().requires_grad_(True), rather than torch.tensor(sourceTensor).\n",
            "  k = torch.tensor(torch.range(1,5).view(5,1))\n"
          ]
        },
        {
          "output_type": "execute_result",
          "data": {
            "text/plain": [
              "tensor([[[1., 2., 3., 4., 5.],\n",
              "         [1., 2., 3., 4., 5.]],\n",
              "\n",
              "        [[1., 2., 3., 4., 5.],\n",
              "         [1., 2., 3., 4., 5.]],\n",
              "\n",
              "        [[1., 2., 3., 4., 5.],\n",
              "         [1., 2., 3., 4., 5.]],\n",
              "\n",
              "        [[1., 2., 3., 4., 5.],\n",
              "         [1., 2., 3., 4., 5.]]])"
            ]
          },
          "metadata": {},
          "execution_count": 90
        }
      ],
      "source": [
        "# Create our key tensor\n",
        "k = torch.tensor(torch.range(1,5).view(5,1))\n",
        "k = k.expand(5,8)\n",
        "k = k.view(5,4,2)\n",
        "k = k.transpose(0,1)\n",
        "k = k.transpose(1,2)\n",
        "k # h hd t"
      ]
    },
    {
      "cell_type": "code",
      "source": [
        "k.shape"
      ],
      "metadata": {
        "colab": {
          "base_uri": "https://localhost:8080/"
        },
        "id": "vGzcL0z_3Xsf",
        "outputId": "9b87c1c5-cf09-4d5a-c2fd-6e607ea1dd70"
      },
      "execution_count": 91,
      "outputs": [
        {
          "output_type": "execute_result",
          "data": {
            "text/plain": [
              "torch.Size([4, 2, 5])"
            ]
          },
          "metadata": {},
          "execution_count": 91
        }
      ]
    },
    {
      "cell_type": "markdown",
      "metadata": {
        "id": "OD9f_EGj6qvw"
      },
      "source": [
        "3. Dot product (QK):"
      ]
    },
    {
      "cell_type": "code",
      "execution_count": 92,
      "metadata": {
        "colab": {
          "base_uri": "https://localhost:8080/"
        },
        "id": "FhYQOMeX46yc",
        "outputId": "a6339d90-ed97-451c-9ae7-8ab5cf1b590d"
      },
      "outputs": [
        {
          "output_type": "execute_result",
          "data": {
            "text/plain": [
              "torch.Size([4, 5, 5])"
            ]
          },
          "metadata": {},
          "execution_count": 92
        }
      ],
      "source": [
        "# create attention scores (skip scaling, masking, softmax for illustrative purposes)\n",
        "qk = q@k\n",
        "qk.shape # h t t"
      ]
    },
    {
      "cell_type": "code",
      "execution_count": 93,
      "metadata": {
        "colab": {
          "base_uri": "https://localhost:8080/"
        },
        "id": "6ZXtSDPd2WCm",
        "outputId": "1a44ac99-adb0-4090-ab60-967adf9413b7"
      },
      "outputs": [
        {
          "output_type": "execute_result",
          "data": {
            "text/plain": [
              "tensor([[[ 2.,  4.,  6.,  8., 10.],\n",
              "         [ 4.,  8., 12., 16., 20.],\n",
              "         [ 6., 12., 18., 24., 30.],\n",
              "         [ 8., 16., 24., 32., 40.],\n",
              "         [10., 20., 30., 40., 50.]],\n",
              "\n",
              "        [[ 2.,  4.,  6.,  8., 10.],\n",
              "         [ 4.,  8., 12., 16., 20.],\n",
              "         [ 6., 12., 18., 24., 30.],\n",
              "         [ 8., 16., 24., 32., 40.],\n",
              "         [10., 20., 30., 40., 50.]],\n",
              "\n",
              "        [[ 2.,  4.,  6.,  8., 10.],\n",
              "         [ 4.,  8., 12., 16., 20.],\n",
              "         [ 6., 12., 18., 24., 30.],\n",
              "         [ 8., 16., 24., 32., 40.],\n",
              "         [10., 20., 30., 40., 50.]],\n",
              "\n",
              "        [[ 2.,  4.,  6.,  8., 10.],\n",
              "         [ 4.,  8., 12., 16., 20.],\n",
              "         [ 6., 12., 18., 24., 30.],\n",
              "         [ 8., 16., 24., 32., 40.],\n",
              "         [10., 20., 30., 40., 50.]]])"
            ]
          },
          "metadata": {},
          "execution_count": 93
        }
      ],
      "source": [
        "# each head computes its own attention scores based on the \"slice\" of the dimension that it has\n",
        "qk"
      ]
    },
    {
      "cell_type": "markdown",
      "metadata": {
        "id": "8vvEAJoE6qvx"
      },
      "source": [
        "4. Value tensor:"
      ]
    },
    {
      "cell_type": "code",
      "execution_count": 94,
      "metadata": {
        "colab": {
          "base_uri": "https://localhost:8080/"
        },
        "id": "sEzXLlHe6pse",
        "outputId": "a8ad0497-770e-4018-bb85-22fbf3759f2d"
      },
      "outputs": [
        {
          "output_type": "stream",
          "name": "stderr",
          "text": [
            "<ipython-input-94-dcb2a718bb47>:1: UserWarning: torch.range is deprecated and will be removed in a future release because its behavior is inconsistent with Python's range builtin. Instead, use torch.arange, which produces values in [start, end).\n",
            "  val = torch.tensor(torch.range(1,40)).view(5,8)\n",
            "<ipython-input-94-dcb2a718bb47>:1: UserWarning: To copy construct from a tensor, it is recommended to use sourceTensor.clone().detach() or sourceTensor.clone().detach().requires_grad_(True), rather than torch.tensor(sourceTensor).\n",
            "  val = torch.tensor(torch.range(1,40)).view(5,8)\n"
          ]
        },
        {
          "output_type": "execute_result",
          "data": {
            "text/plain": [
              "tensor([[ 1.,  2.,  3.,  4.,  5.,  6.,  7.,  8.],\n",
              "        [ 9., 10., 11., 12., 13., 14., 15., 16.],\n",
              "        [17., 18., 19., 20., 21., 22., 23., 24.],\n",
              "        [25., 26., 27., 28., 29., 30., 31., 32.],\n",
              "        [33., 34., 35., 36., 37., 38., 39., 40.]])"
            ]
          },
          "metadata": {},
          "execution_count": 94
        }
      ],
      "source": [
        "val = torch.tensor(torch.range(1,40)).view(5,8)\n",
        "val # t od"
      ]
    },
    {
      "cell_type": "code",
      "execution_count": 95,
      "metadata": {
        "colab": {
          "base_uri": "https://localhost:8080/"
        },
        "id": "x-E7zRih6pua",
        "outputId": "bdbd437a-9c6b-4875-edd2-70f9e42f88a6"
      },
      "outputs": [
        {
          "output_type": "execute_result",
          "data": {
            "text/plain": [
              "tensor([[[ 1.,  2.],\n",
              "         [ 3.,  4.],\n",
              "         [ 5.,  6.],\n",
              "         [ 7.,  8.]],\n",
              "\n",
              "        [[ 9., 10.],\n",
              "         [11., 12.],\n",
              "         [13., 14.],\n",
              "         [15., 16.]],\n",
              "\n",
              "        [[17., 18.],\n",
              "         [19., 20.],\n",
              "         [21., 22.],\n",
              "         [23., 24.]],\n",
              "\n",
              "        [[25., 26.],\n",
              "         [27., 28.],\n",
              "         [29., 30.],\n",
              "         [31., 32.]],\n",
              "\n",
              "        [[33., 34.],\n",
              "         [35., 36.],\n",
              "         [37., 38.],\n",
              "         [39., 40.]]])"
            ]
          },
          "metadata": {},
          "execution_count": 95
        }
      ],
      "source": [
        "val = val.view(5,4,2)\n",
        "val # t h hd"
      ]
    },
    {
      "cell_type": "code",
      "execution_count": 96,
      "metadata": {
        "colab": {
          "base_uri": "https://localhost:8080/"
        },
        "id": "mt3v4kMt6pwc",
        "outputId": "81c8159e-fa48-4d94-b571-dcba65351365"
      },
      "outputs": [
        {
          "output_type": "execute_result",
          "data": {
            "text/plain": [
              "tensor([[[ 1.,  2.],\n",
              "         [ 9., 10.],\n",
              "         [17., 18.],\n",
              "         [25., 26.],\n",
              "         [33., 34.]],\n",
              "\n",
              "        [[ 3.,  4.],\n",
              "         [11., 12.],\n",
              "         [19., 20.],\n",
              "         [27., 28.],\n",
              "         [35., 36.]],\n",
              "\n",
              "        [[ 5.,  6.],\n",
              "         [13., 14.],\n",
              "         [21., 22.],\n",
              "         [29., 30.],\n",
              "         [37., 38.]],\n",
              "\n",
              "        [[ 7.,  8.],\n",
              "         [15., 16.],\n",
              "         [23., 24.],\n",
              "         [31., 32.],\n",
              "         [39., 40.]]])"
            ]
          },
          "metadata": {},
          "execution_count": 96
        }
      ],
      "source": [
        "# for the sake of variety, our value vector increases so we can see that each head gets a different \"slice\" of the original vector\n",
        "val = val.transpose(0,1)\n",
        "val # h t hd"
      ]
    },
    {
      "cell_type": "markdown",
      "metadata": {
        "id": "hh5p_oLG6qvy"
      },
      "source": [
        "5. Final matrix multiplication (QKV):"
      ]
    },
    {
      "cell_type": "code",
      "execution_count": 97,
      "metadata": {
        "colab": {
          "base_uri": "https://localhost:8080/"
        },
        "id": "gjufRDQH6pyh",
        "outputId": "b6a39eea-f70f-4773-e05d-c84a3a7fcc9c"
      },
      "outputs": [
        {
          "output_type": "execute_result",
          "data": {
            "text/plain": [
              "tensor([[[ 670.,  700.],\n",
              "         [1340., 1400.],\n",
              "         [2010., 2100.],\n",
              "         [2680., 2800.],\n",
              "         [3350., 3500.]],\n",
              "\n",
              "        [[ 730.,  760.],\n",
              "         [1460., 1520.],\n",
              "         [2190., 2280.],\n",
              "         [2920., 3040.],\n",
              "         [3650., 3800.]],\n",
              "\n",
              "        [[ 790.,  820.],\n",
              "         [1580., 1640.],\n",
              "         [2370., 2460.],\n",
              "         [3160., 3280.],\n",
              "         [3950., 4100.]],\n",
              "\n",
              "        [[ 850.,  880.],\n",
              "         [1700., 1760.],\n",
              "         [2550., 2640.],\n",
              "         [3400., 3520.],\n",
              "         [4250., 4400.]]])"
            ]
          },
          "metadata": {},
          "execution_count": 97
        }
      ],
      "source": [
        "qkv = qk@val\n",
        "qkv # h t hd"
      ]
    },
    {
      "cell_type": "markdown",
      "metadata": {
        "id": "l-FDH4iH6qvy"
      },
      "source": [
        "6. Recombine the heads:"
      ]
    },
    {
      "cell_type": "code",
      "execution_count": 98,
      "metadata": {
        "colab": {
          "base_uri": "https://localhost:8080/"
        },
        "id": "YMPx8ZNG6p0q",
        "outputId": "6f8cce1e-986d-464f-dcf0-e62b9a09e219"
      },
      "outputs": [
        {
          "output_type": "execute_result",
          "data": {
            "text/plain": [
              "tensor([[[ 670.,  700.],\n",
              "         [ 730.,  760.],\n",
              "         [ 790.,  820.],\n",
              "         [ 850.,  880.]],\n",
              "\n",
              "        [[1340., 1400.],\n",
              "         [1460., 1520.],\n",
              "         [1580., 1640.],\n",
              "         [1700., 1760.]],\n",
              "\n",
              "        [[2010., 2100.],\n",
              "         [2190., 2280.],\n",
              "         [2370., 2460.],\n",
              "         [2550., 2640.]],\n",
              "\n",
              "        [[2680., 2800.],\n",
              "         [2920., 3040.],\n",
              "         [3160., 3280.],\n",
              "         [3400., 3520.]],\n",
              "\n",
              "        [[3350., 3500.],\n",
              "         [3650., 3800.],\n",
              "         [3950., 4100.],\n",
              "         [4250., 4400.]]])"
            ]
          },
          "metadata": {},
          "execution_count": 98
        }
      ],
      "source": [
        "# recombine the heads\n",
        "# notice how we end up concatenating the slices from each of the heads back into the original vectors they came from\n",
        "qkv = qkv.transpose(0,1)\n",
        "qkv # t h hd"
      ]
    },
    {
      "cell_type": "code",
      "execution_count": 99,
      "metadata": {
        "colab": {
          "base_uri": "https://localhost:8080/"
        },
        "id": "lyg1c8zR6p2o",
        "outputId": "eaf36ae4-f59c-41ed-f50a-317a10309a8a"
      },
      "outputs": [
        {
          "output_type": "execute_result",
          "data": {
            "text/plain": [
              "tensor([[ 670.,  700.,  730.,  760.,  790.,  820.,  850.,  880.],\n",
              "        [1340., 1400., 1460., 1520., 1580., 1640., 1700., 1760.],\n",
              "        [2010., 2100., 2190., 2280., 2370., 2460., 2550., 2640.],\n",
              "        [2680., 2800., 2920., 3040., 3160., 3280., 3400., 3520.],\n",
              "        [3350., 3500., 3650., 3800., 3950., 4100., 4250., 4400.]])"
            ]
          },
          "metadata": {},
          "execution_count": 99
        }
      ],
      "source": [
        "# reshape the vectors back into the original dimensionality, and we're back to where we started\n",
        "qkv = qkv.reshape(5, 8)\n",
        "qkv # t od"
      ]
    },
    {
      "cell_type": "markdown",
      "metadata": {
        "id": "vnNrbL7c6qvy"
      },
      "source": [
        "### Conclusion\n",
        "\n",
        "This code demonstrates self-attention, the core mechanism of GPT. It calculates attention scores to decide how much focus each token should give to others in the sequence. Once you understand single-head attention, the same principles extend to multi-head attention, where multiple \"heads\" look at different aspects of the sequence simultaneously.\n",
        "\n",
        "You’ve built a simplified GPT-like architecture that includes key components of transformer models, such as multi-head attention and feedforward layers. The attention mechanism allows the model to focus on different parts of the input sequence and capture complex dependencies. By stacking multiple attention layers, you're building a model that can handle increasingly sophisticated representations of input data.\n",
        "\n",
        "#### Key Takeaways:\n",
        "- Broadcasting simplifies operations on tensors of different shapes by automatically adjusting their dimensions when possible.\n",
        "- Contiguity and reshaping operations must be handled carefully to avoid unintended issues.\n",
        "- Multi-head attention splits and processes data using multiple attention heads, then recombines them to form the final output."
      ]
    }
  ],
  "metadata": {
    "colab": {
      "provenance": [],
      "gpuType": "T4"
    },
    "kernelspec": {
      "display_name": "Python 3",
      "name": "python3"
    },
    "language_info": {
      "name": "python"
    },
    "accelerator": "GPU"
  },
  "nbformat": 4,
  "nbformat_minor": 0
}