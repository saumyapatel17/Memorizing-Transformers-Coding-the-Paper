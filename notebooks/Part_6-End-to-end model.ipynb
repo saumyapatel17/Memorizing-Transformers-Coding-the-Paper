{
  "cells": [
    {
      "cell_type": "markdown",
      "metadata": {
        "id": "fLh8V27qWgd4"
      },
      "source": [
        "This code outlines the implementation of a **Memorizing Transformer** model, which incorporates **K-Nearest Neighbors (KNN)** memory retrieval and **relative position encoding** into a Transformer-like architecture. I'll walk you through the important parts of the code to help you understand what's going on, step-by-step.\n",
        "\n",
        "### Key Concepts:\n",
        "\n",
        "1. **Transformer Architecture**: This is a deep learning model used primarily for NLP tasks, where words (or tokens) are passed through layers of attention mechanisms. Transformers use \"self-attention\" to process all tokens simultaneously, allowing them to capture long-range dependencies in sequences.\n",
        "\n",
        "2. **Relative Position Encoding**: Rather than using absolute positions (fixed numbers that represent token positions), this model uses relative positions between tokens. This helps the model to handle variable-length sequences better.\n",
        "\n",
        "3. **K-Nearest Neighbors (KNN)**: In this context, KNN is used to retrieve relevant \"memories\" from previous computations. This means that instead of only considering the current input sequence, the model can also access stored memory (previous computations or knowledge), which is used to augment the attention mechanism.\n",
        "\n",
        "### High-Level Overview of Workflow:\n",
        "\n",
        "1. **Tokenization**: Raw text is tokenized into tokens using `AutoTokenizer`.\n",
        "2. **Embedding**: Token IDs are passed through an embedding layer to convert them into continuous vectors.\n",
        "3. **Layer Processing**: The input passes through multiple Transformer blocks:\n",
        "   - **Attention**: Captures relationships between tokens using self-attention (or KNN-enhanced attention).\n",
        "   - **Feedforward**: Further processes the attention outputs.\n",
        "4. **Memory Augmentation**: Each layer may augment its attention with memories from the KNN structure.\n",
        "5. **Output**: The final output is passed through a linear layer to generate token probabilities, and the loss is calculated using these predictions.\n",
        "\n",
        "### Why This Approach is Important:\n",
        "\n",
        "- **Relative Position Encoding**: This allows the model to handle long sequences and variable lengths without needing to explicitly memorize the position of each token in the sequence. It can generalize better over different lengths.\n",
        "  \n",
        "- **KNN Memory**: The addition of KNN memory helps the model \"remember\" past computations, making it more powerful for long-term sequence generation or tasks where context from distant tokens is necessary.\n",
        "\n",
        "### Key Terms Explained:\n",
        "\n",
        "- **Attention**: A mechanism in neural networks where each output token is computed as a weighted sum of input tokens. The weights (attention scores) are learned during training.\n",
        "  \n",
        "- **KNN**: A machine learning algorithm that stores a set of \"memories\" (previous computations) and retrieves the closest ones based on a distance metric.\n",
        "  \n",
        "- **Cross-entropy loss**: A loss function used for classification problems, comparing the predicted probabilities with the true labels.\n",
        "  \n",
        "- **Residual connections**: Skip connections that allow the model to retain previous layer outputs, which helps mitigate issues like vanishing gradients during training.\n",
        "\n",
        "Let me know if you would like any part of this explained further!"
      ]
    },
    {
      "cell_type": "markdown",
      "metadata": {
        "id": "Ol6zFB_gWgd7"
      },
      "source": [
        "#### **Imports**\n",
        "\n",
        "- `torch`, `torch.nn`, and `torch.optim`: Standard PyTorch libraries for defining neural networks and optimization.\n",
        "- `transformers` and `AutoTokenizer`: Used to load and preprocess data (e.g., converting text into tokens).\n",
        "- `faiss`: A library used for efficient similarity search and clustering (useful for KNN memory retrieval).\n",
        "- `datasets`: A library for managing datasets.\n",
        "- `einops`: A powerful utility for tensor manipulation, used to rearrange, repeat, or unpack tensors efficiently."
      ]
    },
    {
      "cell_type": "code",
      "execution_count": 1,
      "metadata": {
        "colab": {
          "base_uri": "https://localhost:8080/"
        },
        "id": "vGSTLKB6ipp0",
        "outputId": "95295e01-69ee-46d5-bbd4-5d8f88863f86"
      },
      "outputs": [
        {
          "output_type": "stream",
          "name": "stdout",
          "text": [
            "Requirement already satisfied: einops in /usr/local/lib/python3.10/dist-packages (0.8.0)\n",
            "Collecting faiss-gpu\n",
            "  Downloading faiss_gpu-1.7.2-cp310-cp310-manylinux_2_17_x86_64.manylinux2014_x86_64.whl.metadata (1.4 kB)\n",
            "Downloading faiss_gpu-1.7.2-cp310-cp310-manylinux_2_17_x86_64.manylinux2014_x86_64.whl (85.5 MB)\n",
            "\u001b[2K   \u001b[90m━━━━━━━━━━━━━━━━━━━━━━━━━━━━━━━━━━━━━━━━\u001b[0m \u001b[32m85.5/85.5 MB\u001b[0m \u001b[31m8.4 MB/s\u001b[0m eta \u001b[36m0:00:00\u001b[0m\n",
            "\u001b[?25hInstalling collected packages: faiss-gpu\n",
            "Successfully installed faiss-gpu-1.7.2\n",
            "Collecting datasets\n",
            "  Downloading datasets-3.2.0-py3-none-any.whl.metadata (20 kB)\n",
            "Requirement already satisfied: filelock in /usr/local/lib/python3.10/dist-packages (from datasets) (3.16.1)\n",
            "Requirement already satisfied: numpy>=1.17 in /usr/local/lib/python3.10/dist-packages (from datasets) (1.26.4)\n",
            "Requirement already satisfied: pyarrow>=15.0.0 in /usr/local/lib/python3.10/dist-packages (from datasets) (17.0.0)\n",
            "Collecting dill<0.3.9,>=0.3.0 (from datasets)\n",
            "  Downloading dill-0.3.8-py3-none-any.whl.metadata (10 kB)\n",
            "Requirement already satisfied: pandas in /usr/local/lib/python3.10/dist-packages (from datasets) (2.2.2)\n",
            "Requirement already satisfied: requests>=2.32.2 in /usr/local/lib/python3.10/dist-packages (from datasets) (2.32.3)\n",
            "Requirement already satisfied: tqdm>=4.66.3 in /usr/local/lib/python3.10/dist-packages (from datasets) (4.66.6)\n",
            "Collecting xxhash (from datasets)\n",
            "  Downloading xxhash-3.5.0-cp310-cp310-manylinux_2_17_x86_64.manylinux2014_x86_64.whl.metadata (12 kB)\n",
            "Collecting multiprocess<0.70.17 (from datasets)\n",
            "  Downloading multiprocess-0.70.16-py310-none-any.whl.metadata (7.2 kB)\n",
            "Collecting fsspec<=2024.9.0,>=2023.1.0 (from fsspec[http]<=2024.9.0,>=2023.1.0->datasets)\n",
            "  Downloading fsspec-2024.9.0-py3-none-any.whl.metadata (11 kB)\n",
            "Requirement already satisfied: aiohttp in /usr/local/lib/python3.10/dist-packages (from datasets) (3.11.9)\n",
            "Requirement already satisfied: huggingface-hub>=0.23.0 in /usr/local/lib/python3.10/dist-packages (from datasets) (0.26.3)\n",
            "Requirement already satisfied: packaging in /usr/local/lib/python3.10/dist-packages (from datasets) (24.2)\n",
            "Requirement already satisfied: pyyaml>=5.1 in /usr/local/lib/python3.10/dist-packages (from datasets) (6.0.2)\n",
            "Requirement already satisfied: aiohappyeyeballs>=2.3.0 in /usr/local/lib/python3.10/dist-packages (from aiohttp->datasets) (2.4.4)\n",
            "Requirement already satisfied: aiosignal>=1.1.2 in /usr/local/lib/python3.10/dist-packages (from aiohttp->datasets) (1.3.1)\n",
            "Requirement already satisfied: async-timeout<6.0,>=4.0 in /usr/local/lib/python3.10/dist-packages (from aiohttp->datasets) (4.0.3)\n",
            "Requirement already satisfied: attrs>=17.3.0 in /usr/local/lib/python3.10/dist-packages (from aiohttp->datasets) (24.2.0)\n",
            "Requirement already satisfied: frozenlist>=1.1.1 in /usr/local/lib/python3.10/dist-packages (from aiohttp->datasets) (1.5.0)\n",
            "Requirement already satisfied: multidict<7.0,>=4.5 in /usr/local/lib/python3.10/dist-packages (from aiohttp->datasets) (6.1.0)\n",
            "Requirement already satisfied: propcache>=0.2.0 in /usr/local/lib/python3.10/dist-packages (from aiohttp->datasets) (0.2.1)\n",
            "Requirement already satisfied: yarl<2.0,>=1.17.0 in /usr/local/lib/python3.10/dist-packages (from aiohttp->datasets) (1.18.3)\n",
            "Requirement already satisfied: typing-extensions>=3.7.4.3 in /usr/local/lib/python3.10/dist-packages (from huggingface-hub>=0.23.0->datasets) (4.12.2)\n",
            "Requirement already satisfied: charset-normalizer<4,>=2 in /usr/local/lib/python3.10/dist-packages (from requests>=2.32.2->datasets) (3.4.0)\n",
            "Requirement already satisfied: idna<4,>=2.5 in /usr/local/lib/python3.10/dist-packages (from requests>=2.32.2->datasets) (3.10)\n",
            "Requirement already satisfied: urllib3<3,>=1.21.1 in /usr/local/lib/python3.10/dist-packages (from requests>=2.32.2->datasets) (2.2.3)\n",
            "Requirement already satisfied: certifi>=2017.4.17 in /usr/local/lib/python3.10/dist-packages (from requests>=2.32.2->datasets) (2024.8.30)\n",
            "Requirement already satisfied: python-dateutil>=2.8.2 in /usr/local/lib/python3.10/dist-packages (from pandas->datasets) (2.8.2)\n",
            "Requirement already satisfied: pytz>=2020.1 in /usr/local/lib/python3.10/dist-packages (from pandas->datasets) (2024.2)\n",
            "Requirement already satisfied: tzdata>=2022.7 in /usr/local/lib/python3.10/dist-packages (from pandas->datasets) (2024.2)\n",
            "Requirement already satisfied: six>=1.5 in /usr/local/lib/python3.10/dist-packages (from python-dateutil>=2.8.2->pandas->datasets) (1.16.0)\n",
            "Downloading datasets-3.2.0-py3-none-any.whl (480 kB)\n",
            "\u001b[2K   \u001b[90m━━━━━━━━━━━━━━━━━━━━━━━━━━━━━━━━━━━━━━━━\u001b[0m \u001b[32m480.6/480.6 kB\u001b[0m \u001b[31m9.0 MB/s\u001b[0m eta \u001b[36m0:00:00\u001b[0m\n",
            "\u001b[?25hDownloading dill-0.3.8-py3-none-any.whl (116 kB)\n",
            "\u001b[2K   \u001b[90m━━━━━━━━━━━━━━━━━━━━━━━━━━━━━━━━━━━━━━━━\u001b[0m \u001b[32m116.3/116.3 kB\u001b[0m \u001b[31m7.3 MB/s\u001b[0m eta \u001b[36m0:00:00\u001b[0m\n",
            "\u001b[?25hDownloading fsspec-2024.9.0-py3-none-any.whl (179 kB)\n",
            "\u001b[2K   \u001b[90m━━━━━━━━━━━━━━━━━━━━━━━━━━━━━━━━━━━━━━━━\u001b[0m \u001b[32m179.3/179.3 kB\u001b[0m \u001b[31m11.0 MB/s\u001b[0m eta \u001b[36m0:00:00\u001b[0m\n",
            "\u001b[?25hDownloading multiprocess-0.70.16-py310-none-any.whl (134 kB)\n",
            "\u001b[2K   \u001b[90m━━━━━━━━━━━━━━━━━━━━━━━━━━━━━━━━━━━━━━━━\u001b[0m \u001b[32m134.8/134.8 kB\u001b[0m \u001b[31m8.2 MB/s\u001b[0m eta \u001b[36m0:00:00\u001b[0m\n",
            "\u001b[?25hDownloading xxhash-3.5.0-cp310-cp310-manylinux_2_17_x86_64.manylinux2014_x86_64.whl (194 kB)\n",
            "\u001b[2K   \u001b[90m━━━━━━━━━━━━━━━━━━━━━━━━━━━━━━━━━━━━━━━━\u001b[0m \u001b[32m194.1/194.1 kB\u001b[0m \u001b[31m12.9 MB/s\u001b[0m eta \u001b[36m0:00:00\u001b[0m\n",
            "\u001b[?25hInstalling collected packages: xxhash, fsspec, dill, multiprocess, datasets\n",
            "  Attempting uninstall: fsspec\n",
            "    Found existing installation: fsspec 2024.10.0\n",
            "    Uninstalling fsspec-2024.10.0:\n",
            "      Successfully uninstalled fsspec-2024.10.0\n",
            "\u001b[31mERROR: pip's dependency resolver does not currently take into account all the packages that are installed. This behaviour is the source of the following dependency conflicts.\n",
            "gcsfs 2024.10.0 requires fsspec==2024.10.0, but you have fsspec 2024.9.0 which is incompatible.\u001b[0m\u001b[31m\n",
            "\u001b[0mSuccessfully installed datasets-3.2.0 dill-0.3.8 fsspec-2024.9.0 multiprocess-0.70.16 xxhash-3.5.0\n"
          ]
        }
      ],
      "source": [
        "import torch\n",
        "from torch import nn\n",
        "import torch.optim as optim\n",
        "import torch.nn.functional as F\n",
        "from torch.utils.data import DataLoader, Dataset\n",
        "import numpy as np\n",
        "import math\n",
        "import os\n",
        "import random\n",
        "import tqdm\n",
        "import gzip\n",
        "\n",
        "!pip install einops\n",
        "from einops import rearrange, repeat, pack, unpack, einsum\n",
        "from einops.layers.torch import Rearrange\n",
        "\n",
        "\n",
        "from functools import partial, wraps\n",
        "from contextlib import contextmanager, ExitStack\n",
        "from pathlib import Path\n",
        "from filelock import FileLock\n",
        "import pickle\n",
        "\n",
        "import transformers\n",
        "from transformers import AutoTokenizer\n",
        "\n",
        "!pip install faiss-gpu\n",
        "import faiss\n",
        "\n",
        "!pip install datasets\n",
        "import datasets\n"
      ]
    },
    {
      "cell_type": "markdown",
      "metadata": {
        "id": "Bh4pn0PqOMrw"
      },
      "source": [
        "# Fix up Classes"
      ]
    },
    {
      "cell_type": "markdown",
      "metadata": {
        "id": "9g1nqfSoWgd9"
      },
      "source": [
        "#### **RelativePosition Class**\n",
        "This class is responsible for creating **relative position embeddings**.\n",
        "\n",
        "- `relative_position_bucket`: This function computes relative positions between tokens in the sequence and maps them to predefined buckets. It normalizes positions and uses a logarithmic scale to handle longer sequences more effectively.\n",
        "  \n",
        "- `forward`: This function calculates the position of each token relative to others and returns an embedding vector for each relative position."
      ]
    },
    {
      "cell_type": "code",
      "execution_count": 3,
      "metadata": {
        "id": "bHp6L8qouexc"
      },
      "outputs": [],
      "source": [
        "class RelativePosition(nn.Module):\n",
        "  def __init__(\n",
        "      self,\n",
        "      rp_scale,\n",
        "      num_buckets = 32,\n",
        "      rp_max_distance = 128,\n",
        "      heads = 8\n",
        "  ):\n",
        "      super().__init__()\n",
        "      self.scale = rp_scale\n",
        "      self.num_buckets = num_buckets\n",
        "      self.rp_max_distance = rp_max_distance\n",
        "      self.relative_attention_embedding = nn.Embedding(num_buckets, heads)\n",
        "\n",
        "  def relative_position_bucket(self, relative_position_matrix):\n",
        "      n = -relative_position_matrix\n",
        "      n = torch.max(n, torch.zeros_like(n))\n",
        "\n",
        "      max_exact = self.num_buckets // 2\n",
        "\n",
        "      is_small = n < max_exact\n",
        "      val_if_large = max_exact + (torch.log(n.float() / max_exact) / math.log(self.rp_max_distance / max_exact) * (self.num_buckets - max_exact)).long()\n",
        "      val_if_large = torch.min(val_if_large, torch.full_like(val_if_large, self.num_buckets - 1))\n",
        "\n",
        "      return torch.where(is_small, n, val_if_large)\n",
        "\n",
        "  def forward(self, sequence_length):\n",
        "\n",
        "      # Change: In the new version, context_pos is created with 2 * sequence_length, and the positions are rearranged using rearrange() to create a more explicit relation between sequence and context positions.\n",
        "      # Reason: The change is likely made to increase the context size relative to the sequence length, allowing the model to process larger contexts and better capture long-range dependencies. The use of rearrange clarifies how the positions are expanded in dimensions for later computations.\n",
        "      sequence_pos = torch.arange(sequence_length, dtype=torch.long)\n",
        "      #########\n",
        "      context_pos = torch.arange(2 * sequence_length, dtype=torch.long)\n",
        "      sequence_rel_pos = rearrange(sequence_pos, 'i -> i 1')\n",
        "      context_rel_pos = rearrange(context_pos, 'j -> 1 j')\n",
        "      rel_pos = context_rel_pos - sequence_rel_pos\n",
        "\n",
        "      position_bucket_indices = self.relative_position_bucket(rel_pos)\n",
        "\n",
        "      rp_values = self.relative_attention_embedding(position_bucket_indices)\n",
        "\n",
        "      # Change: In the new version, rearrange() is used instead of transpose() and unsqueeze(). It reformats the rp_values tensor from its original dimensions (i, j, h) to ((), h, i, j), where () implies the batch dimension is empty or not used explicitly.\n",
        "      # Reason: This change might be made to clarify or standardize the dimensionality of the output tensor, ensuring that the relative position embeddings align correctly with the model's expected shape. The rearrange operation here likely facilitates batch processing or ensures the correct dimensionality for multi-head attention.\n",
        "      rp_values = rearrange(rp_values, 'i j h -> () h i j')\n",
        "      return rp_values * self.scale\n",
        "\n"
      ]
    },
    {
      "cell_type": "markdown",
      "source": [
        "- Change:\n",
        "\n",
        "In the new version, context_pos is created with 2 * sequence_length, and the positions are rearranged using rearrange() to create a more explicit relation between sequence and context positions.\n",
        "\n",
        "- Reason:\n",
        "\n",
        "The change is likely made to increase the context size relative to the sequence length, allowing the model to process larger contexts and better capture long-range dependencies. The use of rearrange clarifies how the positions are expanded in dimensions for later computations."
      ],
      "metadata": {
        "id": "BaormhLLfbGm"
      }
    },
    {
      "cell_type": "code",
      "source": [
        "## Old\n",
        "\n",
        "sequence_length = 5\n",
        "sequence_pos = torch.arange(sequence_length, dtype=torch.long)\n",
        "context_pos = torch.arange(sequence_length, dtype=torch.long)\n",
        "context_pos = torch.arange(-sequence_length, sequence_length, dtype=torch.long)\n",
        "sequence_rel_pos = rearrange(sequence_pos, 'i -> i 1')\n",
        "context_rel_pos = rearrange(context_pos, 'j -> 1 j')\n",
        "rel_pos = context_rel_pos - sequence_rel_pos\n",
        "rel_pos"
      ],
      "metadata": {
        "colab": {
          "base_uri": "https://localhost:8080/"
        },
        "id": "WVy1mghBcv0K",
        "outputId": "399d25af-2d64-4e70-d2d6-e7dfa2fe83a5"
      },
      "execution_count": 4,
      "outputs": [
        {
          "output_type": "execute_result",
          "data": {
            "text/plain": [
              "tensor([[-5, -4, -3, -2, -1,  0,  1,  2,  3,  4],\n",
              "        [-6, -5, -4, -3, -2, -1,  0,  1,  2,  3],\n",
              "        [-7, -6, -5, -4, -3, -2, -1,  0,  1,  2],\n",
              "        [-8, -7, -6, -5, -4, -3, -2, -1,  0,  1],\n",
              "        [-9, -8, -7, -6, -5, -4, -3, -2, -1,  0]])"
            ]
          },
          "metadata": {},
          "execution_count": 4
        }
      ]
    },
    {
      "cell_type": "code",
      "execution_count": 5,
      "metadata": {
        "colab": {
          "base_uri": "https://localhost:8080/"
        },
        "id": "vmi0CNUKJJau",
        "outputId": "30203e02-d3d8-4198-80dd-f5ae7d319e34"
      },
      "outputs": [
        {
          "output_type": "execute_result",
          "data": {
            "text/plain": [
              "tensor([[ 0,  1,  2,  3,  4,  5,  6,  7,  8,  9],\n",
              "        [-1,  0,  1,  2,  3,  4,  5,  6,  7,  8],\n",
              "        [-2, -1,  0,  1,  2,  3,  4,  5,  6,  7],\n",
              "        [-3, -2, -1,  0,  1,  2,  3,  4,  5,  6],\n",
              "        [-4, -3, -2, -1,  0,  1,  2,  3,  4,  5]])"
            ]
          },
          "metadata": {},
          "execution_count": 5
        }
      ],
      "source": [
        "## Improved\n",
        "\n",
        "sequence_length = 5\n",
        "sequence_pos = torch.arange(sequence_length, dtype=torch.long)\n",
        "context_pos = torch.arange(2*sequence_length, dtype=torch.long)\n",
        "#context_pos = torch.arange(-sequence_length, sequence_length, dtype=torch.long)\n",
        "sequence_rel_pos = rearrange(sequence_pos, 'i -> i 1')\n",
        "context_rel_pos = rearrange(context_pos, 'j -> 1 j')\n",
        "rel_pos = context_rel_pos - sequence_rel_pos\n",
        "rel_pos"
      ]
    },
    {
      "cell_type": "code",
      "execution_count": null,
      "metadata": {
        "id": "n-BXGa5XJJc3"
      },
      "outputs": [],
      "source": []
    },
    {
      "cell_type": "markdown",
      "metadata": {
        "id": "yPKJYi4JWgd-"
      },
      "source": [
        "#### **KNN_XLAttention Class**\n",
        "This class defines a custom attention mechanism called **KNN Attention**. It combines traditional self-attention with KNN retrieval to enhance the model's ability to memorize long-term dependencies.\n",
        "\n",
        "- **Input Tensors**:\n",
        "  - `queries`, `keys`, and `values`: These are standard components of the attention mechanism. Queries are compared to keys to calculate attention scores, which are then used to weight the values.\n",
        "  \n",
        "- **KNN Memory Retrieval**:\n",
        "  - The `knn.search` function searches for the closest memories (key-value pairs) to the current query. These memories are then integrated into the attention mechanism.\n",
        "\n",
        "- **Masking**:\n",
        "  - A triangular mask is applied to ensure that the model does not attend to future tokens (important for causal language modeling).\n",
        "\n",
        "- **Output**:\n",
        "  - The attention outputs are combined with the KNN-based outputs, weighted by a gate bias."
      ]
    },
    {
      "cell_type": "code",
      "execution_count": 6,
      "metadata": {
        "id": "AtcGOR8dhxHS"
      },
      "outputs": [],
      "source": [
        "class KNN_XLAttention(nn.Module):\n",
        "    def __init__(\n",
        "        self,\n",
        "        embedding_dimension,\n",
        "        knn,\n",
        "        heads = 8,\n",
        "        head_dimension = 32,\n",
        "        topk_retrieved_memories = 3,\n",
        "        dropout = 0.\n",
        "    ):\n",
        "        super().__init__()\n",
        "        self.heads = heads\n",
        "        self.scale = head_dimension ** -0.5\n",
        "\n",
        "        # Change: A dropout parameter is introduced, which is used to apply dropout to the attention scores and softmax results.\n",
        "        # Reason: Dropout is commonly used to prevent overfitting and improve generalization. By introducing a configurable dropout rate, the model can be adapted for different regularization needs.\n",
        "        self.dropout = nn.Dropout(dropout)\n",
        "\n",
        "        self.query_matrix = nn.Linear(embedding_dimension, heads * head_dimension)\n",
        "        self.key_matrix = nn.Linear(embedding_dimension, heads * head_dimension)\n",
        "        self.value_matrix = nn.Linear(embedding_dimension, heads * head_dimension)\n",
        "        self.output_matrix = nn.Linear(heads * head_dimension, embedding_dimension)\n",
        "\n",
        "        self.gate_bias = nn.Parameter(torch.randn(self.heads, 1, 1))\n",
        "        self.topk_retrieved_memories = topk_retrieved_memories\n",
        "        self.knn = knn\n",
        "\n",
        "    def forward(\n",
        "        self,\n",
        "        x, # batch_size, sequence_length, embedding_dimension\n",
        "\n",
        "        # Change: The new version introduces a relative_positions argument in the forward method.\n",
        "        # Reason: This change enables the model to incorporate relative position encodings, which can help the model better capture long-range dependencies and improve the effectiveness of attention over sequences with varying lengths.\n",
        "        relative_positions = None,\n",
        "        xl_memory = None\n",
        "    ):\n",
        "        batch_size, sequence_length = x.shape[:2]\n",
        "        queries = self.query_matrix(x)\n",
        "        keys = self.key_matrix(x)\n",
        "        values = self.value_matrix(x)\n",
        "\n",
        "        # Change: In the new version, F.normalize is applied to the queries and keys along the last dimension.\n",
        "        # Reason: Normalization helps to stabilize training by ensuring that the inputs to the attention mechanism are on a consistent scale. This can also help with convergence speed and overall model performance.\n",
        "        queries = F.normalize(queries, dim=-1)\n",
        "        keys = F.normalize(keys, dim=-1)\n",
        "\n",
        "        if xl_memory is not None:\n",
        "            k_xl, v_xl = xl_memory.unbind(dim = -2) # unstack\n",
        "            keys = torch.cat((k_xl, keys), dim = -2) # prepend XL memory\n",
        "            values = torch.cat((v_xl, values), dim = -2) # prepend XL memory\n",
        "            xl_sequence_length = k_xl.shape[1]\n",
        "\n",
        "        ### LOCAL ATTENTION\n",
        "\n",
        "        queries = rearrange(queries, 'b t (h d) -> b h t d', h = self.heads)\n",
        "        keys    = rearrange(keys, 'b t (h d) -> b h t d', h = self.heads)\n",
        "        qk      = einsum(queries, keys, 'b h i d, b h j d -> b h i j')\n",
        "\n",
        "        qk = qk * self.scale\n",
        "\n",
        "        # Change: The new version adds the relative_positions information to the attention scores (qk), but only if relative_positions is provided.\n",
        "        # Reason: The addition of relative position encoding enhances the model's ability to understand the relative position between different elements in the sequence. This is especially useful in tasks that require long-term dependencies or in transformers that are sensitive to sequence length and order.\n",
        "        i, j = qk.shape[-2:]\n",
        "        if relative_positions is not None:\n",
        "            qk = relative_positions[..., -i:, -j:] + qk\n",
        "\n",
        "\n",
        "\n",
        "        mask = torch.ones((i,j), dtype = torch.bool).triu(j-i+1)\n",
        "        qk = qk.masked_fill(mask, float('-inf'))\n",
        "\n",
        "        qk = F.softmax(qk, dim=-1)\n",
        "\n",
        "        qk = self.dropout(qk)\n",
        "\n",
        "        values = rearrange(values, 'b t (h d) -> b h t d', h=self.heads)\n",
        "        qkv = qk@values\n",
        "        qkv = rearrange(qkv, 'b h t d -> b t (h d)')\n",
        "\n",
        "        ### KNN ATTENTION\n",
        "\n",
        "        # Convert queries to search form\n",
        "        queries = rearrange(queries, 'b h t d -> b t (h d)')\n",
        "        mem_kv = knn.search(queries, topk = self.topk_retrieved_memories) # returns b t k 2 d\n",
        "        mem_k, mem_v = mem_kv.unbind(dim = -2)\n",
        "        mem_k = rearrange(mem_k, 'b t k (h d) -> b h t k d', h=self.heads)\n",
        "        mem_v = rearrange(mem_v, 'b t k (h d) -> b h t k d', h=self.heads)\n",
        "\n",
        "        # Convert queries to attention form\n",
        "        queries = rearrange(queries, 'b t (h d) -> b h t d', h = self.heads)\n",
        "        mem_qk = einsum('b h t d, b h t k d -> b h t k', queries, mem_k)\n",
        "        mem_qk = mem_qk * self.scale\n",
        "\n",
        "        mem_qk = F.softmax(mem_qk, dim=-1)\n",
        "        mem_qk = self.dropout(mem_qk)\n",
        "        mem_qkv = einsum('b h t k, b h t k d -> b h t d', mem_qk, mem_v)\n",
        "\n",
        "        # Combined attentions\n",
        "        # Change: The gate bias (self.gate_bias) is used to combine the local and KNN-based attention results, controlling how much influence each should have on the final output.\n",
        "        # Reason: The gate bias introduces a learnable weighting mechanism between the two attention types (local and KNN), potentially improving the model's ability to blend these two sources of information in a task-specific way.\n",
        "        combined_qkv = mem_qkv * self.gate_bias + qkv * (1 - self.gate_bias)\n",
        "        combined_qkv = rearrange(combined_qkv, 'b h t d -> b t (h d)')\n",
        "        out = self.output_matrix(combined_qkv)\n",
        "\n",
        "        # New XL memories\n",
        "        keys = rearrange(keys, 'b h t d -> b t (h d)', h = self.heads)\n",
        "        values = rearrange(values, 'b h t d -> b t (h d)', h=self.heads)\n",
        "        kv_memories = torch.stack((keys, values), dim=-2) # (batch, sequence_len, 2, dimension)\n",
        "\n",
        "        if xl_memory is not None:\n",
        "            # if we're on a middle/end segment of a document (there are previous XL memories)\n",
        "            xl_memories, current_kv = kv_memories[:, :-xl_sequence_length], kv_memories[:, -xl_sequence_length:]\n",
        "        else:\n",
        "            # if we're at the first segment\n",
        "            current_kv = kv_memories\n",
        "\n",
        "        knn.add(current_kv)\n",
        "\n",
        "        return out, current_kv"
      ]
    },
    {
      "cell_type": "code",
      "execution_count": null,
      "metadata": {
        "id": "NHHps2b3iv1T"
      },
      "outputs": [],
      "source": [
        "\n"
      ]
    },
    {
      "cell_type": "markdown",
      "metadata": {
        "id": "PBOS0fI6NmM_"
      },
      "source": [
        "Let's build the model!\n",
        "\n",
        "From the paper:\n",
        "\n",
        "\"The input text is tokenized, and the tokens\n",
        "are embedded into vector space. The embedding vectors are passed through a series of transformer\n",
        "layers, each of which does dense self-attention, followed by a feed-forward network (FFN). Since\n",
        "this is a decoder-only language model, we use a causal attention mask and the token embeddings of\n",
        "the last layer are used to predict the next token.\"\n"
      ]
    },
    {
      "cell_type": "markdown",
      "source": [
        "This code outline demonstrates the basic flow of a neural network model for natural language processing (NLP), possibly a transformer-based architecture like GPT or BERT. Here's a breakdown of each section:\n",
        "\n",
        "### 1. **Embedding**:\n",
        "- **Explanation**: The raw text is first tokenized using the `tokenizer`, which converts the text into a series of token IDs. These IDs represent words or subwords in a vocabulary. The `embedding` layer then transforms these token IDs into dense vector representations (embeddings), which are used as the initial input for the model.\n",
        "\n",
        "### 2. **BLOCK (n layers)**:\n",
        "This section indicates that the model consists of `n` layers of blocks. Each block typically contains an attention mechanism followed by a feedforward network, and each block operates on the output of the previous one.\n",
        "\n",
        "### 3. **Attention**:\n",
        "  - **Residual Connection**: A copy of the input `x` is saved as `residual` before any transformation. This is part of the **residual connection**, a technique introduced in ResNet (and used in transformers) where the original input is added back after the transformation to help with gradient flow and improve convergence during training.\n",
        "  - **Layer Normalization**: Before applying attention, `x` is normalized using layer normalization. Layer normalization standardizes the inputs to each layer, helping stabilize training.\n",
        "  - **Attention**: The core mechanism here is the attention layer, which could be **XL (Extended Memory) attention** or **KNN_XL** (K-nearest neighbors with extended memory). These attention mechanisms allow the model to focus on different parts of the input sequence, with KNN_XL additionally enabling the model to retrieve and attend to past memory sequences for better long-term dependency modeling.\n",
        "  - **Residual Addition**: After the attention transformation, the original input (stored in `residual`) is added back to the result. This helps preserve important features from the input that might be lost in transformations.\n",
        "\n",
        "### 4. **Feedforward**:\n",
        "  - **Residual Connection**: As with the attention part, a copy of `x` is saved as `residual` to be added back later.\n",
        "  - **Layer Normalization**: The input is normalized again to ensure stable training before passing it through the feedforward network.\n",
        "  - **Linear Layers**: The `linear` and `linear_2` layers are fully connected layers that transform the input data to higher or lower dimensions.\n",
        "  - **Activation Function**: After the first linear transformation, a nonlinear activation function (like ReLU, GELU, etc.) is applied to introduce nonlinearity into the model, enabling it to learn more complex functions.\n",
        "  - **Dropout**: Dropout is applied to prevent overfitting. It randomly zeros out a fraction of the neurons during training to reduce reliance on any single neuron.\n",
        "  - **Residual Addition**: As in the attention section, the original input to the feedforward block (`residual`) is added back to the transformed output to form the final result. This is another residual connection.\n",
        "\n",
        "### 5. **Output**:\n",
        "  - **Layer Normalization**: The final output `x` is normalized before being passed to the output layer. This ensures that the output has stable values and is well-scaled.\n",
        "  - **Embedding Reverse**: The output embeddings are transformed back into token IDs using the `embedding_reverse` layer. This step converts the model's learned representation back into a form that can be compared to the target output (token IDs).\n",
        "  - **Loss Calculation**: The model's predicted token IDs are compared to the true `labels` using the `cross_entropy` loss function. Cross-entropy is commonly used in classification tasks, where the model is trying to predict the correct label from a set of possible classes (in this case, token IDs). The loss is minimized during training, which helps the model improve its performance over time.\n",
        "\n",
        "### **Summary of the Process**:\n",
        "- **Input**: The raw text is tokenized and embedded.\n",
        "- **Attention Mechanism**: The model processes the embeddings using a combination of attention (XL or KNN_XL) and residual connections.\n",
        "- **Feedforward**: The output from attention is further processed through a feedforward network with normalization, linear transformations, activation, and dropout.\n",
        "- **Output**: Finally, the output is transformed back into token IDs, and a loss is computed using cross-entropy.\n",
        "\n",
        "The overall structure resembles that of transformer-based architectures (like GPT, BERT), where attention mechanisms allow the model to focus on different parts of the sequence and feedforward networks help to capture complex patterns in the data. The use of residual connections and layer normalization helps ensure stable and efficient training."
      ],
      "metadata": {
        "id": "UWHds9vMifte"
      }
    },
    {
      "cell_type": "code",
      "execution_count": null,
      "metadata": {
        "id": "PdS-cATULexs"
      },
      "outputs": [],
      "source": [
        "# Outline\n",
        "\n",
        "# Embedding\n",
        "token_ids = tokenizer(raw_text)\n",
        "x = embedding(token_ids)\n",
        "\n",
        "# BLOCK x n (layers)\n",
        "\n",
        "# Attention\n",
        "residual = x.copy()\n",
        "x = layernorm(x)\n",
        "x = attention(x) # XL, KNN_XL\n",
        "x = x + residual\n",
        "\n",
        "# Feedforward\n",
        "residual = x.copy()\n",
        "x = layernorm(x)\n",
        "x = linear(x)\n",
        "x = activation(x)\n",
        "x = dropout(x)\n",
        "x = linear_2(x)\n",
        "x = x + residual\n",
        "\n",
        "\n",
        "# Output\n",
        "x = layernorm(x)\n",
        "token_ids = embedding_reverse(x)\n",
        "loss = cross_entropy(token_ids, labels)"
      ]
    },
    {
      "cell_type": "code",
      "execution_count": null,
      "metadata": {
        "id": "eSW6WBTVLezj"
      },
      "outputs": [],
      "source": [
        "# build a pseudocode version of things first\n",
        "# build the simplest version possible\n",
        "# keep a checklist\n",
        "# test"
      ]
    },
    {
      "cell_type": "markdown",
      "metadata": {
        "id": "4ZZ0sJnWWgd_"
      },
      "source": [
        "#### **Block Class**\n",
        "This class defines a standard block (layer) in the Transformer model, consisting of **Attention** and **Feedforward** sub-blocks.\n",
        "\n",
        "- **Attention**:\n",
        "  - The input is passed through attention layers (either XL or KNN-based). Residual connections (additive shortcuts) are used to stabilize learning.\n",
        "  \n",
        "- **Feedforward Network**:\n",
        "  - After the attention step, the output goes through a feedforward network (linear layers with activation functions) to further transform the representations."
      ]
    },
    {
      "cell_type": "code",
      "execution_count": 9,
      "metadata": {
        "id": "rUteUMq4Le1Z"
      },
      "outputs": [],
      "source": [
        "class Block(nn.Module):\n",
        "    def __init__(self, knn=None, dropout=0.):\n",
        "        if knn:\n",
        "            self.attention = KNNAttention(self.embedding_dimension,\n",
        "                            knn,\n",
        "                            heads = self.heads,\n",
        "                            head_dimension = self.head_dimension,\n",
        "                            dropout = self.dropout)\n",
        "        else:\n",
        "            self.attention = XLAttention(self.embedding_dimension,\n",
        "                            heads = self.heads,\n",
        "                            head_dimension = self.head_dimension,\n",
        "                            dropout = self.dropout)\n",
        "\n",
        "        self.ff_block = nn.Sequential(\n",
        "            nn.LayerNorm(dim),\n",
        "            nn.Linear(dim, dim * 4),\n",
        "            nn.GELU(),\n",
        "            nn.Dropout(dropout),\n",
        "            nn.Linear(dim * 4, dim))\n",
        "\n",
        "    def forward(self, x, xl_memories, rel_pos):\n",
        "        residual = x\n",
        "        norm = nn.LayerNorm(dim)\n",
        "        attn_out = norm(x)\n",
        "        attn_out, new_xl_memories = self.attention(attn_out, relative_positions=rel_pos, xl_memory=xl_memories)\n",
        "        attn_out += residual\n",
        "\n",
        "        residual = attn_out\n",
        "        ff_out = self.ff_block(attn_out)\n",
        "        ff_out += residual\n",
        "        return ff_out, new_xl_memories\n",
        "\n"
      ]
    },
    {
      "cell_type": "markdown",
      "metadata": {
        "id": "ZncLCBtCWgd_"
      },
      "source": [
        "#### **MemorizingTransformer Class**\n",
        "This is the main model class, which builds the entire Transformer network.\n",
        "\n",
        "- **Initialization**:\n",
        "  - It initializes embedding layers, KNN, relative position encoders, and multiple layers of attention blocks. The KNN is used to store and retrieve memories throughout the model's processing.\n",
        "\n",
        "- **Forward Pass**:\n",
        "  - The input sequence `x` is passed through multiple layers of attention and feedforward blocks. Each layer uses either relative position encoding or KNN-based attention, depending on the layer index.\n",
        "  \n",
        "- **Memory Management**:\n",
        "  - The model maintains \"XL memories,\" which are propagated through the layers. This allows the model to retain information from previous sequences and incorporate it into the current computation.\n",
        "  \n",
        "- **Loss Calculation**:\n",
        "  - The output logits (predictions) are compared to the true labels using **cross-entropy loss**."
      ]
    },
    {
      "cell_type": "code",
      "execution_count": null,
      "metadata": {
        "id": "T77EoA_SLe3l"
      },
      "outputs": [],
      "source": [
        "class MemorizingTransformer(nn.Module):\n",
        "    def __init__(\n",
        "        self,\n",
        "        embedding_dimension,\n",
        "        vocab_size,\n",
        "        heads = 8,\n",
        "        depth = 10,\n",
        "        dropout = 0,\n",
        "        head_dimension = 64,\n",
        "        max_knn_memories = 32000,\n",
        "        topk = 5,\n",
        "\n",
        "    ):\n",
        "        super().__init__()\n",
        "        self.heads = heads\n",
        "        self.embedding_dimension = embedding_dimension\n",
        "        self.dropout = dropout\n",
        "        self.depth = depth\n",
        "        self.head_dimension = head_dimension\n",
        "        self.max_knn_memories = max_knn_memories\n",
        "        self.topk = topk\n",
        "        self.rel_pos = RelativePosition(rp_scale = head_dimension** 0.5, heads = self.heads)\n",
        "        self.rel_pos_knn = RelativePosition(rp_scale = head_dimension** 0.5, heads = self.heads)\n",
        "        self.embedding_matrix = nn.Embedding(vocab_size, self.embedding_dimension)\n",
        "        self.knn = KNN(head_dimension * heads, self.max_knn_memories)\n",
        "        self.layers = nn.ModuleList([])\n",
        "\n",
        "        for i in range(self.depth):\n",
        "\n",
        "            if i == self.depth-2:\n",
        "                layer_knn = self.knn\n",
        "            else:\n",
        "                layer_knn = None\n",
        "\n",
        "            self.layers.append(Block(layer_knn))\n",
        "\n",
        "        self.to_logits = nn.Sequential(\n",
        "            nn.LayerNorm(self.embedding_dimension),\n",
        "            nn.Linear(self.embedding_dimension, vocab_size)\n",
        "        )\n",
        "\n",
        "    def forward(\n",
        "        self,\n",
        "        x,\n",
        "        relative_positions = None,\n",
        "        xl_memories = None,\n",
        "        labels = None,\n",
        "    ):\n",
        "\n",
        "        batch_size, sequence_length = x.shape[0], x.shape[1]\n",
        "\n",
        "        # Position values\n",
        "        rel_pos = self.rel_pos(sequence_length)\n",
        "        rel_pos_knn = self.rel_pos_knn(sequence_length)\n",
        "\n",
        "        if xl_memories is not None:\n",
        "            xl_memories = xl_memories\n",
        "        else:\n",
        "            xl_memories = (None,) * self.depth\n",
        "\n",
        "        # Iterator\n",
        "        xl_memories_iter = iter(xl_memories)\n",
        "\n",
        "        # Store the XL memories for each pass\n",
        "        new_xl_memories = []\n",
        "\n",
        "        # Embeddings\n",
        "        x = self.embedding_matrix(x)\n",
        "\n",
        "        for ind, block in enumerate(self.layers):\n",
        "\n",
        "            if ind == self.depth-2:\n",
        "                layer_rel_pos = rel_pos_knn\n",
        "            else:\n",
        "                layer_rel_pos = rel_pos\n",
        "\n",
        "            x, xl_mem = block(x, next(xl_memories_iter), layer_rel_pos)\n",
        "\n",
        "            if xl_mem is not None:\n",
        "                new_xl_memories.append(xl_mem)\n",
        "\n",
        "        logits = self.to_logits(x)\n",
        "\n",
        "        loss = F.cross_entropy(rearrange(logits, 'b n c -> b c n'), labels)\n",
        "        if len(new_xl_memories) > 0:\n",
        "            return loss, new_xl_memories\n",
        "        return loss"
      ]
    },
    {
      "cell_type": "code",
      "execution_count": null,
      "metadata": {
        "id": "nz4GqyguavBo"
      },
      "outputs": [],
      "source": []
    },
    {
      "cell_type": "markdown",
      "metadata": {
        "id": "KljGbojZawYc"
      },
      "source": [
        "# Full Model"
      ]
    },
    {
      "cell_type": "markdown",
      "metadata": {
        "id": "qOSBa4doWgeA"
      },
      "source": [
        "Your code represents an implementation of a transformer architecture with support for different attention mechanisms, such as XLAttention and KNNAttention, which incorporate memory mechanisms like KNN (K-Nearest Neighbors) and external memories for long-range dependencies. Here's a summary of key components:\n",
        "\n",
        "1. **RelativePosition**: This class computes relative position embeddings, which help the model capture the relationship between positions in the input sequence. It supports a variety of configurations to determine the bucket indices based on the distance between sequence positions.\n",
        "\n",
        "2. **KNN Class**: Implements a memory-based approach using K-Nearest Neighbors (KNN). It stores embeddings (keys and values) of previous sequences and retrieves the top-k nearest neighbors during attention, enabling the model to use external memory to enhance its ability to process long-range dependencies efficiently. This is achieved by combining the current sequence with previously stored embeddings.\n",
        "\n",
        "3. **XLAttention**: A standard self-attention mechanism, enhanced with external memory (via `xl_memory`). This allows the model to perform attention over previously seen sequence tokens, supporting long-range dependencies without quadratic complexity growth.\n",
        "\n",
        "4. **KNNAttention**: A modification of the self-attention mechanism that incorporates KNN-based retrieval of memory. The top-k nearest neighbors are retrieved for each query, allowing the model to access relevant past context dynamically. This approach enhances memory management for transformers handling long sequences, improving performance on tasks like document summarization.\n",
        "\n",
        "5. **Block**: Each block consists of a combination of attention (either XLAttention or KNNAttention) and a feed-forward layer. It integrates residual connections, normalization, and dropout for regularization.\n",
        "\n",
        "6. **MemorizingTransformer**: The main model class that integrates multiple transformer blocks. It uses both relative position encodings and either XL or KNN attention mechanisms. This class manages the processing of sequences, including retrieval of memory, updating memory, and predicting outputs using a final linear layer.\n",
        "\n",
        "### Training Setup:\n",
        "- The dataset being processed is the **arxiv-summarization** dataset, which has been pre-processed into chunks of text to fit within a transformer model's input constraints.\n",
        "- A training loop is set up to use a dynamic batch size, learning rate, and gradient clipping to handle the model’s optimization.\n",
        "\n",
        "This architecture is designed to improve long-term dependency handling in sequence models by utilizing memory mechanisms like KNN and external XL memory, which can be especially useful in tasks requiring processing of large documents or long sequences.\n",
        "\n",
        "Let me know if you'd like further clarifications or have specific questions!"
      ]
    },
    {
      "cell_type": "code",
      "execution_count": null,
      "metadata": {
        "id": "mxnmadjyLgH1"
      },
      "outputs": [],
      "source": [
        "class RelativePosition(nn.Module):\n",
        "  def __init__(\n",
        "      self,\n",
        "      rp_scale,\n",
        "      num_buckets = 32,\n",
        "      rp_max_distance = 128,\n",
        "      heads = 8\n",
        "  ):\n",
        "      super().__init__()\n",
        "      self.scale = rp_scale\n",
        "      self.num_buckets = num_buckets\n",
        "      self.rp_max_distance = rp_max_distance\n",
        "      self.relative_attention_embedding = nn.Embedding(num_buckets, heads)\n",
        "\n",
        "  def relative_position_bucket(self, relative_position_matrix):\n",
        "      n = -relative_position_matrix\n",
        "      n = torch.max(n, torch.zeros_like(n))\n",
        "\n",
        "      max_exact = self.num_buckets // 2\n",
        "\n",
        "      is_small = n < max_exact\n",
        "      val_if_large = max_exact + (torch.log(n.float() / max_exact) / math.log(self.rp_max_distance / max_exact) * (self.num_buckets - max_exact)).long()\n",
        "      val_if_large = torch.min(val_if_large, torch.full_like(val_if_large, self.num_buckets - 1))\n",
        "\n",
        "      return torch.where(is_small, n, val_if_large)\n",
        "\n",
        "  def forward(self, sequence_length):\n",
        "\n",
        "      sequence_pos = torch.arange(sequence_length, dtype=torch.long)\n",
        "      context_pos = torch.arange(2 * sequence_length, dtype=torch.long)\n",
        "      sequence_rel_pos = rearrange(sequence_pos, 'i -> i 1')\n",
        "      context_rel_pos = rearrange(context_pos, 'j -> 1 j')\n",
        "      rel_pos = context_rel_pos - sequence_rel_pos\n",
        "\n",
        "      position_bucket_indices = self.relative_position_bucket(rel_pos)\n",
        "\n",
        "      rp_values = self.relative_attention_embedding(position_bucket_indices)\n",
        "      rp_values = rearrange(rp_values, 'i j h -> () h i j')\n",
        "      return rp_values * self.scale\n",
        "\n",
        "\n",
        "\n",
        "class KNN():\n",
        "    def __init__(\n",
        "        self,\n",
        "        dim,\n",
        "        max_memories,\n",
        "        ):\n",
        "        self.dim = dim\n",
        "        self.max_memories = max_memories\n",
        "        self.shape = (max_memories, 2, dim)\n",
        "        self.db_offset = 0\n",
        "        self.db_filepath = \"./memory.memmap\"\n",
        "        self.db = np.memmap(self.db_filepath, mode = 'w+', dtype = np.float32, shape = self.shape)\n",
        "        self.index = faiss.IndexFlatL2(dim)\n",
        "\n",
        "\n",
        "    def add_to_db(self, new_data):\n",
        "        new_data_len = new_data.shape[0]\n",
        "        ids = (np.arange(new_data_len) + self.db_offset)\n",
        "        self.db[ids] = new_data.detach().numpy()\n",
        "        self.db_offset += new_data_len\n",
        "        # Write to file\n",
        "        self.db.flush()\n",
        "\n",
        "\n",
        "    def search_and_retrieve(self, query_vecs, topk):\n",
        "        query_vecs = query_vecs\n",
        "        distances, indices = self.index.search(query_vecs, topk)\n",
        "        kvs = self.db[indices]\n",
        "        return kvs\n",
        "\n",
        "    def add(self, new_data):\n",
        "        # Input is b n 2 d, flatten to (b n) 2 d\n",
        "        new_data = new_data.flatten(0,1)\n",
        "        # Add to db\n",
        "        self.add_to_db(new_data)\n",
        "        # Only keys are used in knn index\n",
        "        keys, vals = new_data.unbind(dim=-2)\n",
        "        keys = keys.detach().numpy()\n",
        "        # Add (b n) d tensors to index\n",
        "        keys = np.ascontiguousarray(keys)\n",
        "        # Add to index\n",
        "        self.index.add(keys)\n",
        "\n",
        "    def search(self, query_vecs, topk):\n",
        "        # can override topk\n",
        "        query_batch_size, query_seq_len = query_vecs.shape[0], query_vecs.shape[1]\n",
        "        # Input is b n d, flatten to (b n) d\n",
        "        query_vecs = query_vecs.flatten(0,1)\n",
        "        kvs = self.search_and_retrieve(np.ascontiguousarray(query_vecs.detach().numpy()), topk)\n",
        "        # kvs are (b n) k 2 d, unflatten to b n k 2 d\n",
        "        kvs = torch.tensor(kvs)\n",
        "        kvs = torch.unflatten(kvs, 0, (query_batch_size, query_seq_len))\n",
        "        return kvs\n",
        "\n",
        "\n",
        "    def clear(self):\n",
        "        self.index.reset()\n",
        "        self.db[:] = 0\n",
        "        self.db_offset = 0\n",
        "\n",
        "\n",
        "class XLAttention(nn.Module):\n",
        "    def __init__(\n",
        "        self,\n",
        "        embedding_dimension,\n",
        "        heads = 8,\n",
        "        head_dimension = 64,\n",
        "        dropout = 0.,\n",
        "    ):\n",
        "        super().__init__()\n",
        "        self.heads = heads\n",
        "        self.dropout = nn.Dropout(dropout)\n",
        "        self.scale = head_dimension ** -0.5\n",
        "\n",
        "        self.query_matrix = nn.Linear(embedding_dimension, self.heads * head_dimension)\n",
        "        self.key_matrix = nn.Linear(embedding_dimension, self.heads * head_dimension)\n",
        "        self.value_matrix = nn.Linear(embedding_dimension, self.heads * head_dimension)\n",
        "        self.output_matrix = nn.Linear(self.heads * head_dimension, embedding_dimension)\n",
        "\n",
        "    def forward(\n",
        "        self,\n",
        "        x, # batch_size, sequence_length, embedding_dimension\n",
        "        relative_positions = None,\n",
        "        xl_memory = None\n",
        "    ):\n",
        "\n",
        "        queries = self.query_matrix(x)\n",
        "        keys = self.key_matrix(x)\n",
        "        values = self.value_matrix(x)\n",
        "\n",
        "        queries = queries * self.scale\n",
        "\n",
        "        if xl_memory is not None:\n",
        "            k_xl, v_xl = xl_memory.unbind(dim = -2) # assume stacked\n",
        "            keys = torch.cat((k_xl, keys), dim = -2) # prepend XL memory\n",
        "            values = torch.cat((v_xl, values), dim = -2) # prepend XL memory\n",
        "            xl_sequence_length = k_xl.shape[1]\n",
        "\n",
        "        queries = rearrange(queries, 'b t (h d) -> b h t d', h = self.heads)\n",
        "        keys    = rearrange(keys, 'b t (h d) -> b h t d', h = self.heads)\n",
        "        qk      = einsum(queries, keys, 'b h i d, b h j d -> b h i j')\n",
        "\n",
        "        i, j = qk.shape[-2:]\n",
        "        if relative_positions is not None:\n",
        "            qk = relative_positions[..., -i:, -j:] + qk\n",
        "\n",
        "        qk = qk * self.scale\n",
        "\n",
        "        mask = torch.ones((i,j), dtype = torch.bool).triu(j-i+1)\n",
        "        qk = qk.masked_fill(mask, float('-inf'))\n",
        "\n",
        "        qk = F.softmax(qk, dim=-1)\n",
        "        qk = self.dropout(qk)\n",
        "\n",
        "        values = rearrange(values, 'b t (h d) -> b h t d', h=self.heads)\n",
        "        qkv = qk@values\n",
        "        qkv = rearrange(qkv, 'b h t d -> b t (h d)')\n",
        "\n",
        "        out = self.output_matrix(qkv)\n",
        "\n",
        "        # new XL memories\n",
        "\n",
        "        keys = rearrange(keys, 'b h t d -> b t (h d)', h = self.heads)\n",
        "        values = rearrange(values, 'b h t d -> b t (h d)', h=self.heads)\n",
        "        kv_memories = torch.stack((keys, values), dim=-2) # (batch, sequence_len, 2, dimension)\n",
        "\n",
        "\n",
        "        if xl_memory is not None:\n",
        "            xl_memories, current_input = kv_memories[:, :-xl_sequence_length], kv_memories[:, -xl_sequence_length:]\n",
        "            kv_to_add_xl = current_input\n",
        "        else:\n",
        "            kv_to_add_xl = kv_memories\n",
        "\n",
        "        return out, kv_to_add_xl\n",
        "\n",
        "\n",
        "\n",
        "class KNNAttention(nn.Module):\n",
        "    def __init__(\n",
        "        self,\n",
        "        embedding_dimension,\n",
        "        knn,\n",
        "        heads = 8,\n",
        "        head_dimension = 64,\n",
        "        topk_retrieved_memories = 3,\n",
        "        dropout = 0.\n",
        "    ):\n",
        "        super().__init__()\n",
        "        self.heads = heads\n",
        "        self.scale = head_dimension ** -0.5\n",
        "        self.dropout = nn.Dropout(dropout)\n",
        "\n",
        "        self.query_matrix = nn.Linear(embedding_dimension, heads * head_dimension)\n",
        "        self.key_matrix = nn.Linear(embedding_dimension, heads * head_dimension)\n",
        "        self.value_matrix = nn.Linear(embedding_dimension, heads * head_dimension)\n",
        "        self.output_matrix = nn.Linear(heads * head_dimension, embedding_dimension)\n",
        "\n",
        "        self.gate_bias = nn.Parameter(torch.randn(self.heads, 1, 1))\n",
        "        self.topk_retrieved_memories = topk_retrieved_memories\n",
        "        self.knn = knn\n",
        "\n",
        "    def forward(\n",
        "        self,\n",
        "        x, # batch_size, sequence_length, embedding_dimension\n",
        "        relative_positions = None,\n",
        "        xl_memory = None\n",
        "    ):\n",
        "        batch_size, sequence_length = x.shape[:2]\n",
        "        queries = self.query_matrix(x)\n",
        "        keys = self.key_matrix(x)\n",
        "        values = self.value_matrix(x)\n",
        "\n",
        "        queries = F.normalize(queries, dim=-1)\n",
        "        keys = F.normalize(keys, dim=-1)\n",
        "\n",
        "        if xl_memory is not None:\n",
        "            k_xl, v_xl = xl_memory.unbind(dim = -2) # unstack\n",
        "            keys = torch.cat((k_xl, keys), dim = -2) # prepend XL memory\n",
        "            values = torch.cat((v_xl, values), dim = -2) # prepend XL memory\n",
        "            xl_sequence_length = k_xl.shape[1]\n",
        "\n",
        "        ### LOCAL ATTENTION\n",
        "\n",
        "        queries = rearrange(queries, 'b t (h d) -> b h t d', h = self.heads)\n",
        "        keys    = rearrange(keys, 'b t (h d) -> b h t d', h = self.heads)\n",
        "        qk      = einsum(queries, keys, 'b h i d, b h j d -> b h i j')\n",
        "\n",
        "        i, j = qk.shape[-2:]\n",
        "        if relative_positions is not None:\n",
        "            qk = relative_positions[..., -i:, -j:] + qk\n",
        "\n",
        "        qk = qk * self.scale\n",
        "\n",
        "        mask = torch.ones((i,j), dtype = torch.bool).triu(j-i+1)\n",
        "        qk = qk.masked_fill(mask, float('-inf'))\n",
        "\n",
        "        qk = F.softmax(qk, dim=-1)\n",
        "\n",
        "        qk = self.dropout(qk)\n",
        "\n",
        "        values = rearrange(values, 'b t (h d) -> b h t d', h=self.heads)\n",
        "        qkv = qk@values\n",
        "\n",
        "        ### KNN ATTENTION\n",
        "\n",
        "        # If there are knn memories (we're not on the first segment) then perform knn attention\n",
        "        if self.knn.index.ntotal > 0:\n",
        "            # Convert queries to search form\n",
        "            queries = rearrange(queries, 'b h t d -> b t (h d)')\n",
        "            mem_kv = self.knn.search(queries, topk = self.topk_retrieved_memories) # returns b t k 2 d\n",
        "            mem_k, mem_v = mem_kv.unbind(dim = -2)\n",
        "            mem_k = rearrange(mem_k, 'b t k (h d) -> b h t k d', h=self.heads)\n",
        "            mem_v = rearrange(mem_v, 'b t k (h d) -> b h t k d', h=self.heads)\n",
        "\n",
        "            # Convert queries to attention form\n",
        "            queries = rearrange(queries, 'b t (h d) -> b h t d', h = self.heads)\n",
        "            mem_qk = einsum(queries, mem_k, 'b h t d, b h t k d -> b h t k')\n",
        "            mem_qk = mem_qk * self.scale\n",
        "\n",
        "            mem_qk = F.softmax(mem_qk, dim=-1)\n",
        "            mem_qk = self.dropout(mem_qk)\n",
        "            mem_qkv = einsum(mem_qk, mem_v, 'b h t k, b h t k d -> b h t d')\n",
        "\n",
        "            # Combined attentions\n",
        "\n",
        "            combined_qkv = mem_qkv * self.gate_bias + qkv * (1 - self.gate_bias)\n",
        "            combined_qkv = rearrange(combined_qkv, 'b h t d -> b t (h d)')\n",
        "            out = self.output_matrix(combined_qkv)\n",
        "\n",
        "        else:\n",
        "            qkv = rearrange(qkv, 'b h t d -> b t (h d)')\n",
        "            out = self.output_matrix(qkv)\n",
        "\n",
        "        # New XL memories\n",
        "        keys = rearrange(keys, 'b h t d -> b t (h d)', h = self.heads)\n",
        "        values = rearrange(values, 'b h t d -> b t (h d)', h=self.heads)\n",
        "        kv_memories = torch.stack((keys, values), dim=-2) # (batch, sequence_len, 2, dimension)\n",
        "\n",
        "        if xl_memory is not None:\n",
        "            # if we're on a middle/end segment of a document (there are previous XL memories)\n",
        "            xl_memories, current_kv = kv_memories[:, :-xl_sequence_length], kv_memories[:, -xl_sequence_length:]\n",
        "        else:\n",
        "            # if we're at the first segment\n",
        "            current_kv = kv_memories\n",
        "\n",
        "        self.knn.add(current_kv)\n",
        "\n",
        "        return out, current_kv\n",
        "\n",
        "\n",
        "class Block(nn.Module):\n",
        "    def __init__(self, embedding_dimension, attention_type, dropout=0.):\n",
        "        super().__init__()\n",
        "        self.attention = attention_type\n",
        "        self.dim = embedding_dimension\n",
        "\n",
        "        self.ff_block = nn.Sequential(\n",
        "            nn.LayerNorm(self.dim),\n",
        "            nn.Linear(self.dim, self.dim * 4),\n",
        "            nn.GELU(),\n",
        "            nn.Dropout(dropout),\n",
        "            nn.Linear(self.dim * 4, self.dim))\n",
        "\n",
        "    def forward(self, x, xl_memories, rel_pos):\n",
        "        residual = x\n",
        "        norm = nn.LayerNorm(self.dim)\n",
        "        attn_out = norm(x)\n",
        "        attn_out, new_xl_memories = self.attention(attn_out, relative_positions=rel_pos, xl_memory=xl_memories)\n",
        "        attn_out += residual\n",
        "\n",
        "        residual = attn_out\n",
        "        ff_out = self.ff_block(attn_out)\n",
        "        ff_out += residual\n",
        "        return ff_out, new_xl_memories\n",
        "\n",
        "\n",
        "class MemorizingTransformer(nn.Module):\n",
        "    def __init__(\n",
        "        self,\n",
        "        embedding_dimension,\n",
        "        vocab_size,\n",
        "        max_knn_memories = 81920,\n",
        "        heads = 8,\n",
        "        depth = 10,\n",
        "        dropout = 0,\n",
        "        head_dimension = 64,\n",
        "        topk = 5,\n",
        "\n",
        "    ):\n",
        "        super().__init__()\n",
        "        self.heads = heads\n",
        "        self.embedding_dimension = embedding_dimension\n",
        "        self.dropout = dropout\n",
        "        self.depth = depth\n",
        "        self.head_dimension = head_dimension\n",
        "        self.max_knn_memories = max_knn_memories\n",
        "        self.topk = topk\n",
        "\n",
        "        ###########\n",
        "        self.rel_pos = RelativePosition(rp_scale = head_dimension** 0.5,\n",
        "                                        heads = self.heads)\n",
        "        self.rel_pos_knn = RelativePosition(rp_scale = head_dimension** 0.5,\n",
        "                                        heads = self.heads)\n",
        "        self.embedding_matrix = nn.Embedding(vocab_size, self.embedding_dimension)\n",
        "\n",
        "        self.knn = KNN(head_dimension * heads, self.max_knn_memories)\n",
        "\n",
        "\n",
        "\n",
        "        self.layers = nn.ModuleList([])\n",
        "        for i in range(self.depth):\n",
        "\n",
        "            if i == self.depth-2:\n",
        "                attention_type = KNNAttention(self.embedding_dimension,\n",
        "                            self.knn,\n",
        "                            heads = self.heads,\n",
        "                            head_dimension = self.head_dimension,\n",
        "                            dropout = self.dropout)\n",
        "            else:\n",
        "                attention_type = XLAttention(self.embedding_dimension,\n",
        "                            heads = self.heads,\n",
        "                            head_dimension = self.head_dimension,\n",
        "                            dropout = self.dropout)\n",
        "\n",
        "            self.layers.append(Block(self.embedding_dimension, attention_type))\n",
        "\n",
        "        self.to_logits = nn.Sequential(\n",
        "            nn.LayerNorm(self.embedding_dimension),\n",
        "            nn.Linear(self.embedding_dimension, vocab_size)\n",
        "        )\n",
        "\n",
        "\n",
        "    def forward(\n",
        "        self,\n",
        "        x,\n",
        "        relative_positions = None,\n",
        "        xl_memories = None,\n",
        "        labels = None,\n",
        "    ):\n",
        "\n",
        "        batch_size, sequence_length = x.shape[0], x.shape[1]\n",
        "\n",
        "        # Position values\n",
        "        rel_pos = self.rel_pos(sequence_length)\n",
        "        rel_pos_knn = self.rel_pos_knn(sequence_length)\n",
        "\n",
        "        # If no XL memories (start of a sequence) then None type for each layer.\n",
        "        # There is one set of XL memories for each layer\n",
        "        # xl_memories = default(xl_memories, (None,) * self.num_xl_memory_layers)\n",
        "        if xl_memories is not None:\n",
        "            xl_memories = xl_memories\n",
        "        else:\n",
        "            xl_memories = (None,) * self.depth\n",
        "\n",
        "        # Iterator\n",
        "        xl_memories_iter = iter(xl_memories)\n",
        "\n",
        "        # Embeddings\n",
        "        x = self.embedding_matrix(x)\n",
        "\n",
        "        # Store the XL memories for each pass\n",
        "        new_xl_memories = []\n",
        "\n",
        "        for ind, block in enumerate(self.layers):\n",
        "\n",
        "            if i == self.depth-2:\n",
        "                layer_rel_pos = rel_pos_knn\n",
        "            else:\n",
        "                layer_rel_pos = rel_pos\n",
        "\n",
        "            x, xl_mem = block(x, next(xl_memories_iter), layer_rel_pos)\n",
        "\n",
        "            if xl_mem is not None:\n",
        "                ############\n",
        "                new_xl_memories.append(xl_mem.detach())\n",
        "\n",
        "\n",
        "\n",
        "        logits = self.to_logits(x)\n",
        "\n",
        "        # Training\n",
        "        loss = F.cross_entropy(rearrange(logits, 'b n c -> b c n'), labels)\n",
        "        if len(new_xl_memories) > 0:\n",
        "            return loss, new_xl_memories\n",
        "        return loss"
      ]
    },
    {
      "cell_type": "code",
      "execution_count": null,
      "metadata": {
        "id": "uZ_ptBRhdmVB"
      },
      "outputs": [],
      "source": []
    },
    {
      "cell_type": "markdown",
      "metadata": {
        "id": "p0SK8_cjdm38"
      },
      "source": [
        "# Training loop"
      ]
    },
    {
      "cell_type": "markdown",
      "source": [
        "Your code outlines a training loop for a custom transformer model, `MemorizingTransformer`, with enhancements for memory management using both KNN-based memory and XL memory mechanisms. Here's a breakdown of key aspects and some points to consider:\n",
        "\n",
        "### Key Elements of Your Training Loop:\n",
        "\n",
        "1. **Model Setup**:\n",
        "   - The model is initialized with `embedding_dimension = 128` and `vocab_size = 128`, implying a relatively small embedding space. The `max_knn_memories` parameter limits the amount of memory retained by the KNN mechanism.\n",
        "   - The optimizer used is Adam with a learning rate defined by `LEARNING_RATE`.\n",
        "\n",
        "2. **Training Loop**:\n",
        "   - The outer loop runs for 200 iterations, and the training loss is calculated for each batch. You clear both the XL and KNN memories at the beginning of each iteration, allowing the model to learn afresh.\n",
        "   - **Memory Clearing**: The use of `xl_memories = None` and `model.knn.clear()` ensures that no old memory persists between training iterations, which can help avoid excessive memory usage and stale context.\n",
        "   - **Sequence Segmentation**: The input sequences (`seq`) and labels (`labels`) are chunked into smaller segments for training. This is beneficial when working with long sequences, as it reduces memory overhead and allows the model to focus on smaller portions of the sequence at a time.\n",
        "   \n",
        "3. **Loss Calculation**:\n",
        "   - The loss is computed for each segment and averaged. The backward pass is done for each segment, and gradients are clipped using `torch.nn.utils.clip_grad_norm_` to avoid gradient explosion.\n",
        "\n",
        "4. **Validation**:\n",
        "   - Every few steps (`VALIDATE_EVERY`), the model switches to evaluation mode (`model.eval()`). It then processes validation data in a similar manner as the training loop but without gradient computation (`torch.no_grad()`).\n",
        "\n",
        "### Potential Improvements or Considerations:\n",
        "\n",
        "- **Memory Management**: If you're using external memory such as KNN or XL memories, the model's memory management should be carefully handled. This means ensuring that memories are cleared only when appropriate, and potentially saving key states between epochs or segments if needed for consistency across batches.\n",
        "- **Efficient Data Loading**: If your data is large, consider optimizing the way data is loaded using `DataLoader` or parallel processing to ensure you're not bottlenecked by disk I/O.\n",
        "- **Learning Rate and Grad Clipping**: The learning rate and gradient clipping threshold (`MAX_GRAD_CLIP_NORM`) should be tuned to the specific problem to prevent overfitting or slow convergence.\n",
        "\n",
        "This setup appears to be designed for handling sequences with long-range dependencies, particularly where standard attention mechanisms may struggle due to memory constraints."
      ],
      "metadata": {
        "id": "0DUG4gylk9JI"
      }
    },
    {
      "cell_type": "code",
      "execution_count": null,
      "metadata": {
        "colab": {
          "base_uri": "https://localhost:8080/",
          "height": 170,
          "referenced_widgets": [
            "3f7344acf47d4631a04379751dcbde0a",
            "e2aa02f730b24933a4253343c5332aca",
            "c05fc4f693504c9381e82148ec4891fc",
            "a840314504434947832e949c3c6ea170",
            "93562b5e804f4af090366fb5741d95f0",
            "dcb837ca9b1b431fbdabe29a678b274a",
            "6441ff68170a461f8fbd5ec89ba9aeed",
            "d38c175d74634829be2ee84259082a2e",
            "793560a27034442f9f2de60a6b71d1a5",
            "d3c78df4474d4068834db940889aa1a9",
            "676db448dd3d4085a4956e97e3721cfe",
            "2ff248e82cbd447ebe540c681ba35eff",
            "ba94b06e9e7143f197684eb8079e49e4",
            "4a43f8a0052241dba68048ae4b6ca6f7",
            "d6e374bc2d3c4fd099ef4bbd56638bf8",
            "3a8461ed05634f9fbb1de0fa418777b9",
            "e96a1def87a642b0b1907110456abc97",
            "3cc5853c3bad4e80bd12860b27c4055e",
            "741be844322e496087c018fa5e1c95a7",
            "01230604a79242ee966167d5d8f048f1",
            "9eed0a4b4c0e4a9dba3d22909a48ade2",
            "4ce3dfb2a1a0485fb737b038a7ecc9c4"
          ]
        },
        "id": "5vKNNQipLgJo",
        "outputId": "a9fdc763-c5bb-4641-ed0d-43c7f69a96f0"
      },
      "outputs": [
        {
          "data": {
            "application/vnd.jupyter.widget-view+json": {
              "model_id": "3f7344acf47d4631a04379751dcbde0a",
              "version_major": 2,
              "version_minor": 0
            },
            "text/plain": [
              "Downloading builder script:   0%|          | 0.00/5.14k [00:00<?, ?B/s]"
            ]
          },
          "metadata": {},
          "output_type": "display_data"
        },
        {
          "data": {
            "application/vnd.jupyter.widget-view+json": {
              "model_id": "2ff248e82cbd447ebe540c681ba35eff",
              "version_major": 2,
              "version_minor": 0
            },
            "text/plain": [
              "Downloading readme:   0%|          | 0.00/2.83k [00:00<?, ?B/s]"
            ]
          },
          "metadata": {},
          "output_type": "display_data"
        },
        {
          "name": "stderr",
          "output_type": "stream",
          "text": [
            "<ipython-input-9-335de34fcf28>:16: DeprecationWarning: The binary mode of fromstring is deprecated, as it behaves surprisingly on unicode inputs. Use frombuffer instead\n",
            "  converted = [np.fromstring(doc, dtype=np.uint8) for doc in raw_articles]\n",
            "<ipython-input-9-335de34fcf28>:25: VisibleDeprecationWarning: Creating an ndarray from ragged nested sequences (which is a list-or-tuple of lists-or-tuples-or ndarrays with different lengths or shapes) is deprecated. If you meant to do this, you must specify 'dtype=object' when creating the ndarray.\n",
            "  chunked = np.array([doc.reshape(-1, CHUNK_SIZE) for doc in clipped])\n"
          ]
        }
      ],
      "source": [
        "SEGMENTS = 10\n",
        "SEQUENCE_LENGTH = 512\n",
        "CHUNK_SIZE = (SEGMENTS * SEQUENCE_LENGTH) + 1 #### we need +1\n",
        "BATCH_SIZE = 8\n",
        "LEARNING_RATE = 2e-4\n",
        "MAX_GRAD_CLIP_NORM = 0.5\n",
        "VALIDATE_EVERY = 100\n",
        "MAX_KNN_MEMORIES = BATCH_SIZE * 1 * SEQUENCE_LENGTH * SEGMENTS\n",
        "\n",
        "\n",
        "dataset = datasets.load_dataset(\"ccdv/arxiv-summarization\", split='train', streaming=True)\n",
        "raw_dataset = list(dataset.take(3500))\n",
        "\n",
        "raw_articles = [x['article'] for x in raw_dataset]\n",
        "raw_articles = [x for x in raw_articles if len(x) > CHUNK_SIZE]\n",
        "converted = [np.fromstring(doc, dtype=np.uint8) for doc in raw_articles]\n",
        "\n",
        "def clip_article(doc, chunk_size):\n",
        "    remainder = len(doc) % chunk_size\n",
        "    return doc[:-remainder]\n",
        "\n",
        "clipped = [clip_article(doc, CHUNK_SIZE) for doc in converted]\n",
        "chunked = np.array([doc.reshape(-1, CHUNK_SIZE) for doc in clipped])\n",
        "processed_data = torch.tensor(np.concatenate(chunked), dtype=torch.long)\n",
        "processed_data.shape\n",
        "\n",
        "eighty_split = int(processed_data.shape[0] * .8)\n",
        "ninety_split = int(processed_data.shape[0] * .9)\n",
        "train_loader = iter(DataLoader(processed_data[:eighty_split], batch_size = BATCH_SIZE, shuffle = True))\n",
        "val_loader = iter(DataLoader(processed_data[eighty_split:ninety_split], batch_size = BATCH_SIZE, shuffle = True))\n",
        "test_loader = iter(DataLoader(processed_data[ninety_split:], batch_size = BATCH_SIZE, shuffle = True))"
      ]
    },
    {
      "cell_type": "code",
      "execution_count": null,
      "metadata": {
        "colab": {
          "base_uri": "https://localhost:8080/",
          "height": 964
        },
        "id": "j7p6VhPDLgL4",
        "outputId": "efe271fd-7a08-4c61-9b21-cfa08c36ca00"
      },
      "outputs": [
        {
          "name": "stderr",
          "output_type": "stream",
          "text": [
            "\rtraining:   0%|          | 0/200 [00:00<?, ?it/s]"
          ]
        },
        {
          "name": "stdout",
          "output_type": "stream",
          "text": [
            "segment complete\n",
            "segment complete\n",
            "segment complete\n",
            "segment complete\n",
            "segment complete\n",
            "segment complete\n",
            "segment complete\n",
            "segment complete\n",
            "segment complete\n",
            "segment complete\n",
            "training loss: 4.96113452911377\n"
          ]
        },
        {
          "name": "stderr",
          "output_type": "stream",
          "text": [
            "\rtraining:   0%|          | 1/200 [02:15<7:31:01, 135.99s/it]"
          ]
        },
        {
          "name": "stdout",
          "output_type": "stream",
          "text": [
            "valid loss: 4.396467971801758\n",
            "segment complete\n",
            "segment complete\n",
            "segment complete\n",
            "segment complete\n",
            "segment complete\n",
            "segment complete\n",
            "segment complete\n",
            "segment complete\n",
            "segment complete\n"
          ]
        },
        {
          "name": "stderr",
          "output_type": "stream",
          "text": [
            "\rtraining:   1%|          | 2/200 [03:45<5:59:15, 108.87s/it]"
          ]
        },
        {
          "name": "stdout",
          "output_type": "stream",
          "text": [
            "segment complete\n",
            "training loss: 4.425439643859864\n",
            "segment complete\n",
            "segment complete\n",
            "segment complete\n",
            "segment complete\n",
            "segment complete\n",
            "segment complete\n",
            "segment complete\n",
            "segment complete\n",
            "segment complete\n"
          ]
        },
        {
          "name": "stderr",
          "output_type": "stream",
          "text": [
            "\rtraining:   1%|          | 2/200 [05:13<8:37:28, 156.81s/it]\n"
          ]
        },
        {
          "ename": "KeyboardInterrupt",
          "evalue": "ignored",
          "output_type": "error",
          "traceback": [
            "\u001b[0;31m---------------------------------------------------------------------------\u001b[0m",
            "\u001b[0;31mKeyboardInterrupt\u001b[0m                         Traceback (most recent call last)",
            "\u001b[0;32m<ipython-input-10-24b1248841b7>\u001b[0m in \u001b[0;36m<cell line: 9>\u001b[0;34m()\u001b[0m\n\u001b[1;32m     32\u001b[0m \u001b[0;34m\u001b[0m\u001b[0m\n\u001b[1;32m     33\u001b[0m         \u001b[0mtrain_loss\u001b[0m \u001b[0;34m+=\u001b[0m \u001b[0mloss\u001b[0m\u001b[0;34m.\u001b[0m\u001b[0mitem\u001b[0m\u001b[0;34m(\u001b[0m\u001b[0;34m)\u001b[0m \u001b[0;34m/\u001b[0m \u001b[0mSEGMENTS\u001b[0m\u001b[0;34m\u001b[0m\u001b[0;34m\u001b[0m\u001b[0m\n\u001b[0;32m---> 34\u001b[0;31m         \u001b[0;34m(\u001b[0m\u001b[0mloss\u001b[0m \u001b[0;34m/\u001b[0m \u001b[0mSEGMENTS\u001b[0m\u001b[0;34m)\u001b[0m\u001b[0;34m.\u001b[0m\u001b[0mbackward\u001b[0m\u001b[0;34m(\u001b[0m\u001b[0;34m)\u001b[0m\u001b[0;34m\u001b[0m\u001b[0;34m\u001b[0m\u001b[0m\n\u001b[0m\u001b[1;32m     35\u001b[0m         \u001b[0mprint\u001b[0m \u001b[0;34m(\u001b[0m\u001b[0;34m\"segment complete\"\u001b[0m\u001b[0;34m)\u001b[0m\u001b[0;34m\u001b[0m\u001b[0;34m\u001b[0m\u001b[0m\n\u001b[1;32m     36\u001b[0m \u001b[0;34m\u001b[0m\u001b[0m\n",
            "\u001b[0;32m/usr/local/lib/python3.10/dist-packages/torch/_tensor.py\u001b[0m in \u001b[0;36mbackward\u001b[0;34m(self, gradient, retain_graph, create_graph, inputs)\u001b[0m\n\u001b[1;32m    490\u001b[0m                 \u001b[0minputs\u001b[0m\u001b[0;34m=\u001b[0m\u001b[0minputs\u001b[0m\u001b[0;34m,\u001b[0m\u001b[0;34m\u001b[0m\u001b[0;34m\u001b[0m\u001b[0m\n\u001b[1;32m    491\u001b[0m             )\n\u001b[0;32m--> 492\u001b[0;31m         torch.autograd.backward(\n\u001b[0m\u001b[1;32m    493\u001b[0m             \u001b[0mself\u001b[0m\u001b[0;34m,\u001b[0m \u001b[0mgradient\u001b[0m\u001b[0;34m,\u001b[0m \u001b[0mretain_graph\u001b[0m\u001b[0;34m,\u001b[0m \u001b[0mcreate_graph\u001b[0m\u001b[0;34m,\u001b[0m \u001b[0minputs\u001b[0m\u001b[0;34m=\u001b[0m\u001b[0minputs\u001b[0m\u001b[0;34m\u001b[0m\u001b[0;34m\u001b[0m\u001b[0m\n\u001b[1;32m    494\u001b[0m         )\n",
            "\u001b[0;32m/usr/local/lib/python3.10/dist-packages/torch/autograd/__init__.py\u001b[0m in \u001b[0;36mbackward\u001b[0;34m(tensors, grad_tensors, retain_graph, create_graph, grad_variables, inputs)\u001b[0m\n\u001b[1;32m    249\u001b[0m     \u001b[0;31m# some Python versions print out the first line of a multi-line function\u001b[0m\u001b[0;34m\u001b[0m\u001b[0;34m\u001b[0m\u001b[0m\n\u001b[1;32m    250\u001b[0m     \u001b[0;31m# calls in the traceback and some print out the last line\u001b[0m\u001b[0;34m\u001b[0m\u001b[0;34m\u001b[0m\u001b[0m\n\u001b[0;32m--> 251\u001b[0;31m     Variable._execution_engine.run_backward(  # Calls into the C++ engine to run the backward pass\n\u001b[0m\u001b[1;32m    252\u001b[0m         \u001b[0mtensors\u001b[0m\u001b[0;34m,\u001b[0m\u001b[0;34m\u001b[0m\u001b[0;34m\u001b[0m\u001b[0m\n\u001b[1;32m    253\u001b[0m         \u001b[0mgrad_tensors_\u001b[0m\u001b[0;34m,\u001b[0m\u001b[0;34m\u001b[0m\u001b[0;34m\u001b[0m\u001b[0m\n",
            "\u001b[0;31mKeyboardInterrupt\u001b[0m: "
          ]
        }
      ],
      "source": [
        "model = MemorizingTransformer(embedding_dimension = 128,\n",
        "                              vocab_size = 128,\n",
        "                              max_knn_memories = MAX_KNN_MEMORIES)\n",
        "\n",
        "optim = torch.optim.Adam(model.parameters(), lr = LEARNING_RATE)\n",
        "model.train()\n",
        "\n",
        "\n",
        "for i in tqdm.tqdm(range(200), mininterval = 10., desc = 'training'):\n",
        "\n",
        "    model.train()\n",
        "    train_loss = 0.\n",
        "    #########\n",
        "    # Clear XL memories\n",
        "    xl_memories = None\n",
        "    #########\n",
        "    # Clear KNN memory\n",
        "    model.knn.clear()\n",
        "\n",
        "    data = next(train_loader)\n",
        "    seq, labels = data[:, :-1], data[:, 1:]\n",
        "\n",
        "\n",
        "    # Each pass will be (BATCH_SIZE * SEGMENTS) iterations\n",
        "    for seq_segment, labels_segment in zip(seq.chunk(SEGMENTS, dim = -1), labels.chunk(SEGMENTS, dim = -1)):\n",
        "\n",
        "        loss, xl_memories = model(\n",
        "            seq_segment,\n",
        "            labels = labels_segment,\n",
        "            xl_memories = xl_memories\n",
        "        )\n",
        "\n",
        "        train_loss += loss.item() / SEGMENTS\n",
        "        (loss / SEGMENTS).backward()\n",
        "        print (\"segment complete\")\n",
        "\n",
        "\n",
        "    print(f'training loss: {train_loss}')\n",
        "    torch.nn.utils.clip_grad_norm_(model.parameters(), MAX_GRAD_CLIP_NORM)\n",
        "    optim.step()\n",
        "    optim.zero_grad()\n",
        "\n",
        "\n",
        "    if not (i % VALIDATE_EVERY):\n",
        "        model.eval()\n",
        "\n",
        "        valid_data = next(val_loader)\n",
        "        valid_loss = 0.\n",
        "\n",
        "        with torch.no_grad():\n",
        "            xl_memories = None\n",
        "            model.knn.clear()\n",
        "            seq, labels = data[:, :-1], data[:, 1:]\n",
        "\n",
        "            for seq_segment, labels_segment in zip(seq.chunk(SEGMENTS, dim = -1), labels.chunk(SEGMENTS, dim = -1)):\n",
        "\n",
        "                loss, xl_memories = model(\n",
        "                    seq_segment,\n",
        "                    labels = labels_segment,\n",
        "                    xl_memories = xl_memories\n",
        "                )\n",
        "\n",
        "                valid_loss += loss.item() / SEGMENTS\n",
        "\n",
        "        print(f'valid loss: {valid_loss}')"
      ]
    },
    {
      "cell_type": "code",
      "execution_count": null,
      "metadata": {
        "id": "xK8v8LQ3Le5w"
      },
      "outputs": [],
      "source": []
    },
    {
      "cell_type": "code",
      "execution_count": null,
      "metadata": {
        "id": "-WURdkDZRwQT"
      },
      "outputs": [],
      "source": []
    },
    {
      "cell_type": "code",
      "execution_count": null,
      "metadata": {
        "id": "LqEi6c2cRwTS"
      },
      "outputs": [],
      "source": []
    },
    {
      "cell_type": "markdown",
      "metadata": {
        "id": "7ZbN8tZpbP3a"
      },
      "source": [
        "# End to End GPU"
      ]
    },
    {
      "cell_type": "code",
      "execution_count": null,
      "metadata": {
        "colab": {
          "base_uri": "https://localhost:8080/"
        },
        "id": "Fzo4IQeuZXYQ",
        "outputId": "2cd43882-8de5-41a5-a633-996efd89ec7f"
      },
      "outputs": [
        {
          "name": "stdout",
          "output_type": "stream",
          "text": [
            "Collecting einops\n",
            "  Downloading einops-0.7.0-py3-none-any.whl (44 kB)\n",
            "\u001b[?25l     \u001b[90m━━━━━━━━━━━━━━━━━━━━━━━━━━━━━━━━━━━━━━━━\u001b[0m \u001b[32m0.0/44.6 kB\u001b[0m \u001b[31m?\u001b[0m eta \u001b[36m-:--:--\u001b[0m\r\u001b[2K     \u001b[90m━━━━━━━━━━━━━━━━━━━━━━━━━━━━━━━━━━━━━━━━\u001b[0m \u001b[32m44.6/44.6 kB\u001b[0m \u001b[31m1.1 MB/s\u001b[0m eta \u001b[36m0:00:00\u001b[0m\n",
            "\u001b[?25hInstalling collected packages: einops\n",
            "Successfully installed einops-0.7.0\n",
            "Collecting faiss-gpu\n",
            "  Downloading faiss_gpu-1.7.2-cp310-cp310-manylinux_2_17_x86_64.manylinux2014_x86_64.whl (85.5 MB)\n",
            "\u001b[2K     \u001b[90m━━━━━━━━━━━━━━━━━━━━━━━━━━━━━━━━━━━━━━━━\u001b[0m \u001b[32m85.5/85.5 MB\u001b[0m \u001b[31m18.7 MB/s\u001b[0m eta \u001b[36m0:00:00\u001b[0m\n",
            "\u001b[?25hInstalling collected packages: faiss-gpu\n",
            "Successfully installed faiss-gpu-1.7.2\n",
            "Collecting datasets\n",
            "  Downloading datasets-2.15.0-py3-none-any.whl (521 kB)\n",
            "\u001b[2K     \u001b[90m━━━━━━━━━━━━━━━━━━━━━━━━━━━━━━━━━━━━━━━━\u001b[0m \u001b[32m521.2/521.2 kB\u001b[0m \u001b[31m9.0 MB/s\u001b[0m eta \u001b[36m0:00:00\u001b[0m\n",
            "\u001b[?25hRequirement already satisfied: numpy>=1.17 in /usr/local/lib/python3.10/dist-packages (from datasets) (1.23.5)\n",
            "Requirement already satisfied: pyarrow>=8.0.0 in /usr/local/lib/python3.10/dist-packages (from datasets) (10.0.1)\n",
            "Collecting pyarrow-hotfix (from datasets)\n",
            "  Downloading pyarrow_hotfix-0.6-py3-none-any.whl (7.9 kB)\n",
            "Collecting dill<0.3.8,>=0.3.0 (from datasets)\n",
            "  Downloading dill-0.3.7-py3-none-any.whl (115 kB)\n",
            "\u001b[2K     \u001b[90m━━━━━━━━━━━━━━━━━━━━━━━━━━━━━━━━━━━━━━━━\u001b[0m \u001b[32m115.3/115.3 kB\u001b[0m \u001b[31m15.7 MB/s\u001b[0m eta \u001b[36m0:00:00\u001b[0m\n",
            "\u001b[?25hRequirement already satisfied: pandas in /usr/local/lib/python3.10/dist-packages (from datasets) (1.5.3)\n",
            "Requirement already satisfied: requests>=2.19.0 in /usr/local/lib/python3.10/dist-packages (from datasets) (2.31.0)\n",
            "Requirement already satisfied: tqdm>=4.62.1 in /usr/local/lib/python3.10/dist-packages (from datasets) (4.66.1)\n",
            "Requirement already satisfied: xxhash in /usr/local/lib/python3.10/dist-packages (from datasets) (3.4.1)\n",
            "Collecting multiprocess (from datasets)\n",
            "  Downloading multiprocess-0.70.15-py310-none-any.whl (134 kB)\n",
            "\u001b[2K     \u001b[90m━━━━━━━━━━━━━━━━━━━━━━━━━━━━━━━━━━━━━━━━\u001b[0m \u001b[32m134.8/134.8 kB\u001b[0m \u001b[31m18.9 MB/s\u001b[0m eta \u001b[36m0:00:00\u001b[0m\n",
            "\u001b[?25hRequirement already satisfied: fsspec[http]<=2023.10.0,>=2023.1.0 in /usr/local/lib/python3.10/dist-packages (from datasets) (2023.6.0)\n",
            "Requirement already satisfied: aiohttp in /usr/local/lib/python3.10/dist-packages (from datasets) (3.9.1)\n",
            "Requirement already satisfied: huggingface-hub>=0.18.0 in /usr/local/lib/python3.10/dist-packages (from datasets) (0.19.4)\n",
            "Requirement already satisfied: packaging in /usr/local/lib/python3.10/dist-packages (from datasets) (23.2)\n",
            "Requirement already satisfied: pyyaml>=5.1 in /usr/local/lib/python3.10/dist-packages (from datasets) (6.0.1)\n",
            "Requirement already satisfied: attrs>=17.3.0 in /usr/local/lib/python3.10/dist-packages (from aiohttp->datasets) (23.1.0)\n",
            "Requirement already satisfied: multidict<7.0,>=4.5 in /usr/local/lib/python3.10/dist-packages (from aiohttp->datasets) (6.0.4)\n",
            "Requirement already satisfied: yarl<2.0,>=1.0 in /usr/local/lib/python3.10/dist-packages (from aiohttp->datasets) (1.9.4)\n",
            "Requirement already satisfied: frozenlist>=1.1.1 in /usr/local/lib/python3.10/dist-packages (from aiohttp->datasets) (1.4.1)\n",
            "Requirement already satisfied: aiosignal>=1.1.2 in /usr/local/lib/python3.10/dist-packages (from aiohttp->datasets) (1.3.1)\n",
            "Requirement already satisfied: async-timeout<5.0,>=4.0 in /usr/local/lib/python3.10/dist-packages (from aiohttp->datasets) (4.0.3)\n",
            "Requirement already satisfied: filelock in /usr/local/lib/python3.10/dist-packages (from huggingface-hub>=0.18.0->datasets) (3.13.1)\n",
            "Requirement already satisfied: typing-extensions>=3.7.4.3 in /usr/local/lib/python3.10/dist-packages (from huggingface-hub>=0.18.0->datasets) (4.5.0)\n",
            "Requirement already satisfied: charset-normalizer<4,>=2 in /usr/local/lib/python3.10/dist-packages (from requests>=2.19.0->datasets) (3.3.2)\n",
            "Requirement already satisfied: idna<4,>=2.5 in /usr/local/lib/python3.10/dist-packages (from requests>=2.19.0->datasets) (3.6)\n",
            "Requirement already satisfied: urllib3<3,>=1.21.1 in /usr/local/lib/python3.10/dist-packages (from requests>=2.19.0->datasets) (2.0.7)\n",
            "Requirement already satisfied: certifi>=2017.4.17 in /usr/local/lib/python3.10/dist-packages (from requests>=2.19.0->datasets) (2023.11.17)\n",
            "Requirement already satisfied: python-dateutil>=2.8.1 in /usr/local/lib/python3.10/dist-packages (from pandas->datasets) (2.8.2)\n",
            "Requirement already satisfied: pytz>=2020.1 in /usr/local/lib/python3.10/dist-packages (from pandas->datasets) (2023.3.post1)\n",
            "Requirement already satisfied: six>=1.5 in /usr/local/lib/python3.10/dist-packages (from python-dateutil>=2.8.1->pandas->datasets) (1.16.0)\n",
            "Installing collected packages: pyarrow-hotfix, dill, multiprocess, datasets\n",
            "Successfully installed datasets-2.15.0 dill-0.3.7 multiprocess-0.70.15 pyarrow-hotfix-0.6\n"
          ]
        }
      ],
      "source": [
        "import torch\n",
        "from torch import nn\n",
        "import torch.optim as optim\n",
        "import torch.nn.functional as F\n",
        "from torch.utils.data import DataLoader, Dataset\n",
        "import numpy as np\n",
        "import math\n",
        "import os\n",
        "import random\n",
        "import tqdm\n",
        "import gzip\n",
        "import time\n",
        "\n",
        "!pip install einops\n",
        "from einops import rearrange, repeat, pack, unpack, einsum\n",
        "from einops.layers.torch import Rearrange\n",
        "\n",
        "\n",
        "from functools import partial, wraps\n",
        "from contextlib import contextmanager, ExitStack\n",
        "from pathlib import Path\n",
        "from filelock import FileLock\n",
        "import pickle\n",
        "\n",
        "import transformers\n",
        "from transformers import AutoTokenizer\n",
        "\n",
        "!pip install faiss-gpu\n",
        "import faiss\n",
        "\n",
        "!pip install datasets\n",
        "import datasets"
      ]
    },
    {
      "cell_type": "code",
      "execution_count": null,
      "metadata": {
        "id": "RK4NP_P1hL5n"
      },
      "outputs": [],
      "source": [
        "# can check our GPU"
      ]
    },
    {
      "cell_type": "code",
      "execution_count": null,
      "metadata": {
        "colab": {
          "base_uri": "https://localhost:8080/"
        },
        "id": "7Jg4JNSshldD",
        "outputId": "a218b9a5-4ac1-4c12-8035-c151032a4d0c"
      },
      "outputs": [
        {
          "name": "stdout",
          "output_type": "stream",
          "text": [
            "Thu Dec 21 17:48:33 2023       \n",
            "+---------------------------------------------------------------------------------------+\n",
            "| NVIDIA-SMI 535.104.05             Driver Version: 535.104.05   CUDA Version: 12.2     |\n",
            "|-----------------------------------------+----------------------+----------------------+\n",
            "| GPU  Name                 Persistence-M | Bus-Id        Disp.A | Volatile Uncorr. ECC |\n",
            "| Fan  Temp   Perf          Pwr:Usage/Cap |         Memory-Usage | GPU-Util  Compute M. |\n",
            "|                                         |                      |               MIG M. |\n",
            "|=========================================+======================+======================|\n",
            "|   0  Tesla T4                       Off | 00000000:00:04.0 Off |                    0 |\n",
            "| N/A   50C    P8              12W /  70W |      0MiB / 15360MiB |      0%      Default |\n",
            "|                                         |                      |                  N/A |\n",
            "+-----------------------------------------+----------------------+----------------------+\n",
            "                                                                                         \n",
            "+---------------------------------------------------------------------------------------+\n",
            "| Processes:                                                                            |\n",
            "|  GPU   GI   CI        PID   Type   Process name                            GPU Memory |\n",
            "|        ID   ID                                                             Usage      |\n",
            "|=======================================================================================|\n",
            "|  No running processes found                                                           |\n",
            "+---------------------------------------------------------------------------------------+\n"
          ]
        }
      ],
      "source": [
        "!nvidia-smi"
      ]
    },
    {
      "cell_type": "code",
      "execution_count": null,
      "metadata": {
        "id": "dJn6yKjM47Ak"
      },
      "outputs": [],
      "source": [
        "device = torch.device(\"cuda\" if torch.cuda.is_available() else \"cpu\")"
      ]
    },
    {
      "cell_type": "markdown",
      "source": [
        "The code provided outlines a large and complex deep learning model built using PyTorch. The model seems to be a variant of a transformer model with memory and attention mechanisms, specifically integrating a KNN-based (k-nearest neighbors) attention mechanism. Here's a breakdown of the key components:\n",
        "\n",
        "### 1. **Relative Positioning** (`RelativePosition` class):\n",
        "   - This class calculates relative positions of sequence elements in the input data. The relative position embeddings help the model learn dependencies between elements at various distances.\n",
        "   - It utilizes a technique that buckets positions into a predefined number of ranges (`num_buckets`) to handle distances more effectively.\n",
        "   - This is used in the main attention mechanism to improve performance over simple absolute position embeddings.\n",
        "\n",
        "### 2. **KNN Memory** (`KNN` class):\n",
        "   - This component provides a memory mechanism that stores and retrieves embeddings (or representations) of sequences to enhance performance.\n",
        "   - It uses FAISS, a library for efficient similarity search, to perform nearest neighbor search and add new data to the memory (a form of external memory augmentation for transformers).\n",
        "\n",
        "### 3. **Attention Mechanisms**:\n",
        "   - The **XLAttention** class implements a standard transformer-style attention mechanism with the addition of extended memory (XL memory) for longer sequences.\n",
        "   - The **KNNAttention** class adds the KNN-based attention mechanism that allows the model to retrieve relevant past memories during the attention calculation, improving the model’s ability to handle longer contexts and provide more relevant attention.\n",
        "\n",
        "### 4. **Transformer Block** (`Block` class):\n",
        "   - Each block contains a layer of attention followed by a feed-forward network. The attention type in each block could either be the standard XLAttention or the KNNAttention, depending on the depth of the block.\n",
        "   - The `forward` method computes both the attention output and the updated memory.\n",
        "\n",
        "### 5. **Main Model** (`MemorizingTransformer` class):\n",
        "   - The `MemorizingTransformer` class is the overall transformer model that integrates these components.\n",
        "   - It defines multiple layers of attention blocks (either XL or KNN-based) and manages the storage and retrieval of XL memory across segments.\n",
        "   - The model is designed to handle long sequences and includes an optimized method for computing attention over long-term memory using KNN retrieval.\n",
        "   - The final output is passed through a linear layer to produce logits, and a cross-entropy loss is computed for training.\n",
        "\n",
        "### 6. **Data Preparation**:\n",
        "   - The code uses the `ccdv/arxiv-summarization` dataset to train the model. It splits the dataset into chunks, ensuring that each chunk size matches the model's required input size (CHUNK_SIZE).\n",
        "   - The data is then processed into batches, ready to be fed into the model for training.\n",
        "\n",
        "### 7. **Training Setup**:\n",
        "   - The model is set to be trained with a learning rate of `2e-4` and gradient clipping at a norm of `0.5`.\n",
        "   - Training, validation, and test data loaders are created from the processed dataset.\n",
        "\n",
        "### High-Level Summary:\n",
        "This model is a custom transformer with both XL memory and KNN-based attention, designed to efficiently handle long sequences of text by leveraging external memory and relevant context from previous inputs. It processes large chunks of text data, integrates relative position embeddings, and dynamically retrieves memory during attention calculations. The training setup uses typical cross-entropy loss and data batching techniques suitable for text generation or summarization tasks."
      ],
      "metadata": {
        "id": "3xXxjtCslXDT"
      }
    },
    {
      "cell_type": "code",
      "execution_count": null,
      "metadata": {
        "id": "gs7RpvCdePZr"
      },
      "outputs": [],
      "source": [
        "class RelativePosition(nn.Module):\n",
        "  def __init__(\n",
        "      self,\n",
        "      rp_scale,\n",
        "      num_buckets = 32,\n",
        "      rp_max_distance = 128,\n",
        "      heads = 8\n",
        "  ):\n",
        "      super().__init__()\n",
        "      self.scale = rp_scale\n",
        "      self.num_buckets = num_buckets\n",
        "      self.rp_max_distance = rp_max_distance\n",
        "      self.relative_attention_embedding = nn.Embedding(num_buckets, heads)\n",
        "\n",
        "  def relative_position_bucket(self, relative_position_matrix):\n",
        "      n = -relative_position_matrix\n",
        "      n = torch.max(n, torch.zeros_like(n))\n",
        "\n",
        "      max_exact = self.num_buckets // 2\n",
        "\n",
        "      is_small = n < max_exact\n",
        "      val_if_large = max_exact + (torch.log(n.float() / max_exact) / math.log(self.rp_max_distance / max_exact) * (self.num_buckets - max_exact)).long()\n",
        "      val_if_large = torch.min(val_if_large, torch.full_like(val_if_large, self.num_buckets - 1))\n",
        "\n",
        "      return torch.where(is_small, n, val_if_large)\n",
        "\n",
        "  def forward(self, sequence_length, device):\n",
        "\n",
        "      sequence_pos = torch.arange(sequence_length, dtype=torch.long, device=device) ##########\n",
        "      context_pos = torch.arange(2 * sequence_length, dtype=torch.long, device=device) ###########\n",
        "      sequence_rel_pos = rearrange(sequence_pos, 'i -> i 1')\n",
        "      context_rel_pos = rearrange(context_pos, 'j -> 1 j')\n",
        "      rel_pos = context_rel_pos - sequence_rel_pos\n",
        "\n",
        "      position_bucket_indices = self.relative_position_bucket(rel_pos)\n",
        "\n",
        "      rp_values = self.relative_attention_embedding(position_bucket_indices)\n",
        "      rp_values = rearrange(rp_values, 'i j h -> () h i j')\n",
        "      return rp_values * self.scale\n",
        "\n",
        "\n",
        "\n",
        "class KNN():\n",
        "    def __init__(\n",
        "        self,\n",
        "        dim,\n",
        "        max_memories,\n",
        "        ):\n",
        "        self.dim = dim\n",
        "        self.max_memories = max_memories\n",
        "        self.shape = (max_memories, 2, dim)\n",
        "        self.db_offset = 0\n",
        "        self.db_filepath = \"./memory.memmap\"\n",
        "        self.db = np.memmap(self.db_filepath, mode = 'w+', dtype = np.float32, shape = self.shape)\n",
        "        self.index = faiss.IndexFlatL2(dim)\n",
        "\n",
        "\n",
        "    def add_to_db(self, new_data):\n",
        "        new_data_len = new_data.shape[0]\n",
        "        ids = (np.arange(new_data_len) + self.db_offset)\n",
        "        self.db[ids] = new_data.detach().cpu().numpy() #######\n",
        "        self.db_offset += new_data_len\n",
        "        # Write to file\n",
        "        self.db.flush()\n",
        "\n",
        "\n",
        "    def search_and_retrieve(self, query_vecs, topk):\n",
        "        query_vecs = query_vecs\n",
        "        distances, indices = self.index.search(query_vecs, topk)\n",
        "        kvs = self.db[indices]\n",
        "        return kvs\n",
        "\n",
        "    def add(self, new_data):\n",
        "        # Input is b n 2 d, flatten to (b n) 2 d\n",
        "        new_data = new_data.flatten(0,1)\n",
        "        # Add to db\n",
        "        self.add_to_db(new_data)\n",
        "        # Only keys are used in knn index\n",
        "        keys, vals = new_data.unbind(dim=-2)\n",
        "        keys = keys.detach().cpu().numpy() ######\n",
        "        # Add (b n) d tensors to index\n",
        "        keys = np.ascontiguousarray(keys)\n",
        "        # Add to index\n",
        "        self.index.add(keys)\n",
        "\n",
        "    def search(self, query_vecs, topk):\n",
        "        query_batch_size, query_seq_len = query_vecs.shape[0], query_vecs.shape[1]\n",
        "        device = query_vecs.device ######\n",
        "        # Input is b n d, flatten to (b n) d\n",
        "        query_vecs = query_vecs.flatten(0,1)\n",
        "        kvs = self.search_and_retrieve(np.ascontiguousarray(query_vecs.detach().cpu().numpy()), topk) ######\n",
        "        # kvs are (b n) k 2 d, unflatten to b n k 2 d\n",
        "        kvs = torch.tensor(kvs)\n",
        "        kvs = torch.unflatten(kvs, 0, (query_batch_size, query_seq_len))\n",
        "        return kvs.to(device)\n",
        "\n",
        "    def clear(self):\n",
        "        self.index.reset()\n",
        "        self.db[:] = 0\n",
        "        self.db_offset = 0\n",
        "\n",
        "\n",
        "class XLAttention(nn.Module):\n",
        "    def __init__(\n",
        "        self,\n",
        "        embedding_dimension,\n",
        "        heads = 8,\n",
        "        head_dimension = 64,\n",
        "        dropout = 0.,\n",
        "    ):\n",
        "        super().__init__()\n",
        "        self.heads = heads\n",
        "        self.dropout = nn.Dropout(dropout)\n",
        "        self.scale = head_dimension ** -0.5\n",
        "\n",
        "        self.query_matrix = nn.Linear(embedding_dimension, self.heads * head_dimension)\n",
        "        self.key_matrix = nn.Linear(embedding_dimension, self.heads * head_dimension)\n",
        "        self.value_matrix = nn.Linear(embedding_dimension, self.heads * head_dimension)\n",
        "        self.output_matrix = nn.Linear(self.heads * head_dimension, embedding_dimension)\n",
        "\n",
        "    def forward(\n",
        "        self,\n",
        "        x, # batch_size, sequence_length, embedding_dimension\n",
        "        relative_positions = None,\n",
        "        xl_memory = None\n",
        "    ):\n",
        "\n",
        "        device = x.device ##########\n",
        "        queries = self.query_matrix(x)\n",
        "        keys = self.key_matrix(x)\n",
        "        values = self.value_matrix(x)\n",
        "\n",
        "        queries = queries * self.scale\n",
        "\n",
        "        if xl_memory is not None:\n",
        "            k_xl, v_xl = xl_memory.unbind(dim = -2) # assume stacked\n",
        "            keys = torch.cat((k_xl, keys), dim = -2) # prepend XL memory\n",
        "            values = torch.cat((v_xl, values), dim = -2) # prepend XL memory\n",
        "            xl_sequence_length = k_xl.shape[1]\n",
        "\n",
        "        queries = rearrange(queries, 'b t (h d) -> b h t d', h = self.heads)\n",
        "        keys    = rearrange(keys, 'b t (h d) -> b h t d', h = self.heads)\n",
        "        qk      = einsum(queries, keys, 'b h i d, b h j d -> b h i j')\n",
        "\n",
        "        i, j = qk.shape[-2:]\n",
        "        if relative_positions is not None:\n",
        "            qk = relative_positions[..., -i:, -j:] + qk\n",
        "\n",
        "        qk = qk * self.scale\n",
        "\n",
        "        mask = torch.ones((i,j), dtype = torch.bool, device=device).triu(j-i+1) ########\n",
        "        qk = qk.masked_fill(mask, float('-inf'))\n",
        "\n",
        "        qk = F.softmax(qk, dim=-1)\n",
        "        qk = self.dropout(qk)\n",
        "\n",
        "        values = rearrange(values, 'b t (h d) -> b h t d', h=self.heads)\n",
        "        qkv = qk@values\n",
        "        qkv = rearrange(qkv, 'b h t d -> b t (h d)')\n",
        "\n",
        "        out = self.output_matrix(qkv)\n",
        "\n",
        "        # new XL memories\n",
        "\n",
        "        keys = rearrange(keys, 'b h t d -> b t (h d)', h = self.heads)\n",
        "        values = rearrange(values, 'b h t d -> b t (h d)', h=self.heads)\n",
        "        kv_memories = torch.stack((keys, values), dim=-2) # (batch, sequence_len, 2, dimension)\n",
        "\n",
        "\n",
        "        if xl_memory is not None:\n",
        "            xl_memories, current_input = kv_memories[:, :-xl_sequence_length], kv_memories[:, -xl_sequence_length:]\n",
        "            kv_to_add_xl = current_input\n",
        "        else:\n",
        "            kv_to_add_xl = kv_memories\n",
        "\n",
        "        return out, kv_to_add_xl\n",
        "\n",
        "\n",
        "\n",
        "class KNNAttention(nn.Module):\n",
        "    def __init__(\n",
        "        self,\n",
        "        embedding_dimension,\n",
        "        knn,\n",
        "        heads = 8,\n",
        "        head_dimension = 64,\n",
        "        topk_retrieved_memories = 3,\n",
        "        dropout = 0.\n",
        "    ):\n",
        "        super().__init__()\n",
        "        self.heads = heads\n",
        "        self.scale = head_dimension ** -0.5\n",
        "        self.dropout = nn.Dropout(dropout)\n",
        "\n",
        "        self.query_matrix = nn.Linear(embedding_dimension, heads * head_dimension)\n",
        "        self.key_matrix = nn.Linear(embedding_dimension, heads * head_dimension)\n",
        "        self.value_matrix = nn.Linear(embedding_dimension, heads * head_dimension)\n",
        "        self.output_matrix = nn.Linear(heads * head_dimension, embedding_dimension)\n",
        "\n",
        "        self.gate_bias = nn.Parameter(torch.randn(self.heads, 1, 1))\n",
        "        self.topk_retrieved_memories = topk_retrieved_memories\n",
        "        self.knn = knn\n",
        "\n",
        "    def forward(\n",
        "        self,\n",
        "        x, # batch_size, sequence_length, embedding_dimension\n",
        "        relative_positions = None,\n",
        "        xl_memory = None\n",
        "    ):\n",
        "\n",
        "        device = x.device ########\n",
        "        batch_size, sequence_length = x.shape[:2]\n",
        "        queries = self.query_matrix(x)\n",
        "        keys = self.key_matrix(x)\n",
        "        values = self.value_matrix(x)\n",
        "\n",
        "        queries = F.normalize(queries, dim=-1)\n",
        "        keys = F.normalize(keys, dim=-1)\n",
        "\n",
        "        if xl_memory is not None:\n",
        "            k_xl, v_xl = xl_memory.unbind(dim = -2) # unstack\n",
        "            keys = torch.cat((k_xl, keys), dim = -2) # prepend XL memory\n",
        "            values = torch.cat((v_xl, values), dim = -2) # prepend XL memory\n",
        "            xl_sequence_length = k_xl.shape[1]\n",
        "\n",
        "        ### LOCAL ATTENTION\n",
        "\n",
        "        queries = rearrange(queries, 'b t (h d) -> b h t d', h = self.heads)\n",
        "        keys    = rearrange(keys, 'b t (h d) -> b h t d', h = self.heads)\n",
        "        qk      = einsum(queries, keys, 'b h i d, b h j d -> b h i j')\n",
        "\n",
        "        i, j = qk.shape[-2:]\n",
        "        if relative_positions is not None:\n",
        "            qk = relative_positions[..., -i:, -j:] + qk\n",
        "\n",
        "        qk = qk * self.scale\n",
        "\n",
        "        mask = torch.ones((i,j), dtype = torch.bool, device=device).triu(j-i+1) ########\n",
        "        qk = qk.masked_fill(mask, float('-inf'))\n",
        "\n",
        "        qk = F.softmax(qk, dim=-1)\n",
        "\n",
        "        qk = self.dropout(qk)\n",
        "\n",
        "        values = rearrange(values, 'b t (h d) -> b h t d', h=self.heads)\n",
        "        qkv = qk@values\n",
        "\n",
        "        ### KNN ATTENTION\n",
        "\n",
        "        # If there are knn memories (we're not on the first segment) then perform knn attention\n",
        "        if self.knn.index.ntotal > 0:\n",
        "            t1 = time.time()\n",
        "            print (\"Begin KNN operations\")\n",
        "            # Convert queries to search form\n",
        "            queries = rearrange(queries, 'b h t d -> b t (h d)')\n",
        "            mem_kv = self.knn.search(queries, topk = self.topk_retrieved_memories) # returns b t k 2 d\n",
        "            mem_k, mem_v = mem_kv.unbind(dim = -2)\n",
        "            mem_k = rearrange(mem_k, 'b t k (h d) -> b h t k d', h=self.heads)\n",
        "            mem_v = rearrange(mem_v, 'b t k (h d) -> b h t k d', h=self.heads)\n",
        "\n",
        "            # Convert queries to attention form\n",
        "            queries = rearrange(queries, 'b t (h d) -> b h t d', h = self.heads)\n",
        "            mem_qk = einsum(queries, mem_k, 'b h t d, b h t k d -> b h t k')\n",
        "            mem_qk = mem_qk * self.scale\n",
        "\n",
        "            mem_qk = F.softmax(mem_qk, dim=-1)\n",
        "            mem_qk = self.dropout(mem_qk)\n",
        "            mem_qkv = einsum(mem_qk, mem_v, 'b h t k, b h t k d -> b h t d')\n",
        "\n",
        "            # Combined attentions\n",
        "\n",
        "            combined_qkv = mem_qkv * self.gate_bias + qkv * (1 - self.gate_bias)\n",
        "            combined_qkv = rearrange(combined_qkv, 'b h t d -> b t (h d)')\n",
        "            out = self.output_matrix(combined_qkv)\n",
        "            t2 = time.time()\n",
        "            print (\"End KNN operations, time taken:\", t2-t1)\n",
        "\n",
        "        else:\n",
        "            qkv = rearrange(qkv, 'b h t d -> b t (h d)')\n",
        "            out = self.output_matrix(qkv)\n",
        "\n",
        "        # New XL memories\n",
        "        keys = rearrange(keys, 'b h t d -> b t (h d)', h = self.heads)\n",
        "        values = rearrange(values, 'b h t d -> b t (h d)', h=self.heads)\n",
        "        kv_memories = torch.stack((keys, values), dim=-2) # (batch, sequence_len, 2, dimension)\n",
        "\n",
        "        if xl_memory is not None:\n",
        "            # if we're on a middle/end segment of a document (there are previous XL memories)\n",
        "            xl_memories, current_kv = kv_memories[:, :-xl_sequence_length], kv_memories[:, -xl_sequence_length:]\n",
        "        else:\n",
        "            # if we're at the first segment\n",
        "            current_kv = kv_memories\n",
        "\n",
        "        self.knn.add(current_kv)\n",
        "\n",
        "        return out, current_kv\n",
        "\n",
        "\n",
        "class Block(nn.Module):\n",
        "    def __init__(self, embedding_dimension, attention_type, dropout=0.):\n",
        "        super().__init__()\n",
        "        self.attention = attention_type\n",
        "        self.dim = embedding_dimension\n",
        "        self.norm = nn.LayerNorm(self.dim)\n",
        "\n",
        "        self.ff_block = nn.Sequential(\n",
        "            nn.LayerNorm(self.dim),\n",
        "            nn.Linear(self.dim, self.dim * 4),\n",
        "            nn.GELU(),\n",
        "            nn.Dropout(dropout),\n",
        "            nn.Linear(self.dim * 4, self.dim))\n",
        "\n",
        "    def forward(self, x, xl_memories, rel_pos):\n",
        "        residual = x\n",
        "        #norm = nn.LayerNorm(self.dim) #########\n",
        "        attn_out = self.norm(x)\n",
        "        attn_out, new_xl_memories = self.attention(attn_out, relative_positions=rel_pos, xl_memory=xl_memories)\n",
        "        attn_out += residual\n",
        "\n",
        "        residual = attn_out\n",
        "        ff_out = self.ff_block(attn_out)\n",
        "        ff_out += residual\n",
        "        return ff_out, new_xl_memories\n",
        "\n",
        "\n",
        "class MemorizingTransformer(nn.Module):\n",
        "    def __init__(\n",
        "        self,\n",
        "        embedding_dimension,\n",
        "        vocab_size,\n",
        "        max_knn_memories = 81920,\n",
        "        heads = 8,\n",
        "        depth = 10,\n",
        "        dropout = 0,\n",
        "        head_dimension = 64,\n",
        "        topk = 5,\n",
        "\n",
        "    ):\n",
        "        super().__init__()\n",
        "        self.heads = heads\n",
        "        self.embedding_dimension = embedding_dimension\n",
        "        self.dropout = dropout\n",
        "        self.depth = depth\n",
        "        self.head_dimension = head_dimension\n",
        "        self.max_knn_memories = max_knn_memories\n",
        "        self.topk = topk\n",
        "\n",
        "        ###########\n",
        "        self.rel_pos = RelativePosition(rp_scale = head_dimension** 0.5,\n",
        "                                        heads = self.heads)\n",
        "        self.rel_pos_knn = RelativePosition(rp_scale = head_dimension** 0.5,\n",
        "                                        heads = self.heads)\n",
        "        self.embedding_matrix = nn.Embedding(vocab_size, self.embedding_dimension)\n",
        "\n",
        "        self.knn = KNN(head_dimension * heads, self.max_knn_memories)\n",
        "\n",
        "\n",
        "\n",
        "        self.layers = nn.ModuleList([])\n",
        "        for i in range(self.depth):\n",
        "\n",
        "            if i == self.depth-2:\n",
        "                attention_type = KNNAttention(self.embedding_dimension,\n",
        "                            self.knn,\n",
        "                            heads = self.heads,\n",
        "                            head_dimension = self.head_dimension,\n",
        "                            dropout = self.dropout)\n",
        "            else:\n",
        "                attention_type = XLAttention(self.embedding_dimension,\n",
        "                            heads = self.heads,\n",
        "                            head_dimension = self.head_dimension,\n",
        "                            dropout = self.dropout)\n",
        "\n",
        "            self.layers.append(Block(self.embedding_dimension, attention_type))\n",
        "\n",
        "        self.to_logits = nn.Sequential(\n",
        "            nn.LayerNorm(self.embedding_dimension),\n",
        "            nn.Linear(self.embedding_dimension, vocab_size)\n",
        "        )\n",
        "\n",
        "\n",
        "    def forward(\n",
        "        self,\n",
        "        x,\n",
        "        relative_positions = None,\n",
        "        xl_memories = None,\n",
        "        labels = None,\n",
        "    ):\n",
        "\n",
        "        device = x.device ########\n",
        "        batch_size, sequence_length = x.shape[0], x.shape[1]\n",
        "\n",
        "        # Position values\n",
        "        rel_pos = self.rel_pos(sequence_length, device=device) ########\n",
        "        rel_pos_knn = self.rel_pos_knn(sequence_length, device=device) ########\n",
        "\n",
        "        # If no XL memories (start of a sequence) then None type for each layer.\n",
        "        # There is one set of XL memories for each layer\n",
        "        # xl_memories = default(xl_memories, (None,) * self.num_xl_memory_layers)\n",
        "        if xl_memories is not None:\n",
        "            xl_memories = xl_memories\n",
        "        else:\n",
        "            xl_memories = (None,) * self.depth\n",
        "\n",
        "        # Iterator\n",
        "        xl_memories_iter = iter(xl_memories)\n",
        "\n",
        "        # Embeddings\n",
        "        x = self.embedding_matrix(x)\n",
        "\n",
        "        # Store the XL memories for each pass\n",
        "        new_xl_memories = []\n",
        "\n",
        "        for ind, block in enumerate(self.layers):\n",
        "\n",
        "            if i == self.depth-2:\n",
        "                layer_rel_pos = rel_pos_knn\n",
        "            else:\n",
        "                layer_rel_pos = rel_pos\n",
        "\n",
        "            x, xl_mem = block(x, next(xl_memories_iter), layer_rel_pos)\n",
        "\n",
        "            if xl_mem is not None:\n",
        "                ############\n",
        "                new_xl_memories.append(xl_mem.detach())\n",
        "\n",
        "\n",
        "\n",
        "        logits = self.to_logits(x)\n",
        "\n",
        "        # Training\n",
        "        loss = F.cross_entropy(rearrange(logits, 'b n c -> b c n'), labels)\n",
        "        if len(new_xl_memories) > 0:\n",
        "            return loss, new_xl_memories\n",
        "        return loss"
      ]
    },
    {
      "cell_type": "markdown",
      "metadata": {
        "id": "dfPtavK2WgeD"
      },
      "source": [
        "The code you've shared preprocesses the **Arxiv Summarization Dataset** for use in a deep learning model. Here's a breakdown of the key steps involved in the preprocessing:\n",
        "\n",
        "1. **Dataset Loading**:\n",
        "   - The dataset `ccdv/arxiv-summarization` is loaded using `datasets.load_dataset()`, specifically the 'train' split, which is streamed to avoid loading the entire dataset into memory at once.\n",
        "   - The `take(3500)` function fetches the first 3500 articles from the dataset.\n",
        "\n",
        "2. **Filtering Articles**:\n",
        "   - The articles are filtered to ensure that they are large enough to be split into chunks. This is done by checking if their length exceeds the `CHUNK_SIZE`.\n",
        "   - The articles are then converted to a `numpy` array of `uint8` values.\n",
        "\n",
        "3. **Chunking**:\n",
        "   - The function `clip_article()` ensures that each article’s length is a multiple of `CHUNK_SIZE`, trimming the last part if needed.\n",
        "   - After clipping, the articles are reshaped into chunks, each of size `CHUNK_SIZE` (which is determined by multiplying the number of segments by the sequence length).\n",
        "   - This results in a 2D array of shape `(num_articles, num_chunks)`.\n",
        "\n",
        "4. **Data Preparation**:\n",
        "   - The articles are concatenated into a single tensor, `processed_data`, which is then split into training, validation, and test sets.\n",
        "   - The dataset is split in an 80-10-10 ratio (train, validation, test), with each split fed into separate `DataLoader` instances for batching.\n",
        "\n",
        "5. **Hyperparameters**:\n",
        "   - `BATCH_SIZE` is set to 8, meaning 8 chunks of data will be processed at a time.\n",
        "   - `SEQUENCE_LENGTH` and `SEGMENTS` define the size of each chunk, with the total `CHUNK_SIZE` calculated as `(SEGMENTS * SEQUENCE_LENGTH) + 1`.\n",
        "   - The code also specifies other hyperparameters like `LEARNING_RATE`, `MAX_GRAD_CLIP_NORM`, and the maximum number of KNN memories (`MAX_KNN_MEMORIES`).\n",
        "\n",
        "This data preparation process is essential for training the transformer model efficiently, particularly when dealing with large datasets such as the Arxiv Summarization Dataset. By chunking articles and splitting the dataset into manageable batches, the model can be trained on sequences of meaningful length without overwhelming memory limitations."
      ]
    },
    {
      "cell_type": "code",
      "execution_count": null,
      "metadata": {
        "colab": {
          "base_uri": "https://localhost:8080/",
          "height": 170,
          "referenced_widgets": [
            "058d21fbd8bd41bf858b92572663c1e2",
            "8c2575893830464783a2cff26f9588d7",
            "3dafb5bd4a634d7c8a824eb0d5716e41",
            "5bdb18036c6a4fc69fdd77fcba027b14",
            "91ba2c2f712c4727a81d82c38250de01",
            "e21e7f52163d4940aae5ebfb8160ab04",
            "e9cb9bfabd004c3fb3cfc42552f1b69d",
            "ed92d6fe9ab54347abdb716fa1b305b8",
            "618c4bc4bebd4bc48e3367aff87f65cb",
            "c793275b336a4b4a9b71dbe421315969",
            "aa831eeaf47e4d1e9c07f0f9201e0a2f",
            "bba4aafc65a84f0c9cf15cc958aaab8f",
            "2367766d7ab44c73a1f33dbf1277327b",
            "79790651bb42412ab22ad793d1ce5be8",
            "3b6b127d6aea4c3aa191628391ea2627",
            "7e665276aa04432ba4b67c50f38442d8",
            "2456a82805c04324b86477847b50a564",
            "79d12465fcda48b58b1168a1902168e2",
            "4edcfee1670d49909140337bdc6c26a3",
            "1bf72287d723452489e8994c758f001a",
            "4ccd8ebe43ab4376a7844744be3254a2",
            "c4c51d00619d47b9932fb6d81c790ff4"
          ]
        },
        "id": "rhflqiZXePZu",
        "outputId": "89229908-a8c2-4528-94e0-8a8e21ee5843"
      },
      "outputs": [
        {
          "data": {
            "application/vnd.jupyter.widget-view+json": {
              "model_id": "058d21fbd8bd41bf858b92572663c1e2",
              "version_major": 2,
              "version_minor": 0
            },
            "text/plain": [
              "Downloading builder script:   0%|          | 0.00/5.14k [00:00<?, ?B/s]"
            ]
          },
          "metadata": {},
          "output_type": "display_data"
        },
        {
          "data": {
            "application/vnd.jupyter.widget-view+json": {
              "model_id": "bba4aafc65a84f0c9cf15cc958aaab8f",
              "version_major": 2,
              "version_minor": 0
            },
            "text/plain": [
              "Downloading readme:   0%|          | 0.00/2.83k [00:00<?, ?B/s]"
            ]
          },
          "metadata": {},
          "output_type": "display_data"
        },
        {
          "name": "stderr",
          "output_type": "stream",
          "text": [
            "<ipython-input-5-e456fa9b9fe6>:16: DeprecationWarning: The binary mode of fromstring is deprecated, as it behaves surprisingly on unicode inputs. Use frombuffer instead\n",
            "  converted = [np.fromstring(doc, dtype=np.uint8) for doc in raw_articles]\n",
            "<ipython-input-5-e456fa9b9fe6>:25: VisibleDeprecationWarning: Creating an ndarray from ragged nested sequences (which is a list-or-tuple of lists-or-tuples-or ndarrays with different lengths or shapes) is deprecated. If you meant to do this, you must specify 'dtype=object' when creating the ndarray.\n",
            "  chunked = np.array([doc.reshape(-1, CHUNK_SIZE) for doc in clipped])\n"
          ]
        }
      ],
      "source": [
        "SEGMENTS = 10\n",
        "SEQUENCE_LENGTH = 512\n",
        "CHUNK_SIZE = (SEGMENTS * SEQUENCE_LENGTH) + 1\n",
        "BATCH_SIZE = 8\n",
        "LEARNING_RATE = 2e-4\n",
        "MAX_GRAD_CLIP_NORM = 0.5\n",
        "VALIDATE_EVERY = 100\n",
        "MAX_KNN_MEMORIES = BATCH_SIZE * 1 * SEQUENCE_LENGTH * SEGMENTS\n",
        "\n",
        "\n",
        "dataset = datasets.load_dataset(\"ccdv/arxiv-summarization\", split='train', streaming=True)\n",
        "raw_dataset = list(dataset.take(3500))\n",
        "\n",
        "raw_articles = [x['article'] for x in raw_dataset]\n",
        "raw_articles = [x for x in raw_articles if len(x) > CHUNK_SIZE]\n",
        "converted = [np.fromstring(doc, dtype=np.uint8) for doc in raw_articles]\n",
        "\n",
        "def clip_article(doc, chunk_size):\n",
        "    remainder = len(doc) % chunk_size\n",
        "    return doc[:-remainder]\n",
        "\n",
        "clipped = [clip_article(doc, CHUNK_SIZE) for doc in converted]\n",
        "\n",
        "\n",
        "chunked = np.array([doc.reshape(-1, CHUNK_SIZE) for doc in clipped])\n",
        "\n",
        "processed_data = torch.tensor(np.concatenate(chunked), dtype=torch.long)\n",
        "processed_data.shape\n",
        "eighty_split = int(processed_data.shape[0] * .8)\n",
        "ninety_split = int(processed_data.shape[0] * .9)\n",
        "train_loader = iter(DataLoader(processed_data[:eighty_split], batch_size = BATCH_SIZE, shuffle = True))\n",
        "val_loader = iter(DataLoader(processed_data[eighty_split:ninety_split], batch_size = BATCH_SIZE, shuffle = True))\n",
        "test_loader = iter(DataLoader(processed_data[ninety_split:], batch_size = BATCH_SIZE, shuffle = True))"
      ]
    },
    {
      "cell_type": "markdown",
      "metadata": {
        "id": "tJ9a46fSWgeE"
      },
      "source": [
        "In the provided code, the **training loop** for the **Memorizing Transformer** model is implemented using the `torch` library. Here's a breakdown of what's happening in each part:\n",
        "\n",
        "### Key Steps in the Training Loop:\n",
        "\n",
        "1. **Model Initialization**:\n",
        "   - The model is instantiated with `MemorizingTransformer`, using an `embedding_dimension` of 128 and `vocab_size` of 128. This means the transformer operates in an embedding space of 128-dimensional vectors, and its vocabulary size (number of unique tokens) is also 128.\n",
        "   - `MAX_KNN_MEMORIES` is passed as a hyperparameter for managing the KNN memory size in the model.\n",
        "\n",
        "2. **Optimizer Setup**:\n",
        "   - The Adam optimizer is used to optimize the model’s parameters with a learning rate of `LEARNING_RATE` (set to `2e-4`).\n",
        "   - The optimizer step is executed after each training iteration.\n",
        "\n",
        "3. **Training Loop**:\n",
        "   - The outer loop runs for 200 iterations (`range(200)`). During each iteration:\n",
        "     - **Training Mode**: The model is set to training mode with `model.train()`.\n",
        "     - The training loss is initialized and stored in `train_loss`. The KNN memory is also cleared at the start of each iteration (`model.knn.clear()`).\n",
        "   \n",
        "4. **Processing a Batch**:\n",
        "   - A batch of data is fetched from the training data loader and moved to the appropriate device (e.g., GPU) using `data.to(device)`.\n",
        "   - The batch is split into `seq` (input sequences) and `labels` (target sequences) where `seq` is everything except the last token, and `labels` is everything except the first token (for next-token prediction).\n",
        "\n",
        "5. **Chunking and Model Forward Pass**:\n",
        "   - The sequences (`seq`) and labels (`labels`) are split into smaller chunks using `.chunk(SEGMENTS, dim=-1)`. Each chunk represents one segment of the input sequence, where `SEGMENTS` defines how many chunks will be processed per document.\n",
        "   - In each chunk, the model computes the loss, and `backward()` is called to accumulate gradients.\n",
        "   - Gradients are clipped with `torch.nn.utils.clip_grad_norm_()` to avoid gradient explosion, a common issue with deep learning models like transformers.\n",
        "\n",
        "6. **Validation**:\n",
        "   - Every `VALIDATE_EVERY` iterations, the model enters evaluation mode (`model.eval()`), and validation data is used to compute the validation loss.\n",
        "   - Validation loss is computed similarly to the training loss, but with `torch.no_grad()` to avoid computing gradients (since no parameter updates are needed during validation).\n",
        "   - After processing the validation batch, the validation loss is printed out.\n",
        "\n",
        "### Things to Note:\n",
        "- **KNN Memory Management**:\n",
        "   - The model makes use of KNN memory, where `model.knn.clear()` clears the memory between training iterations. This likely helps the model in retrieving past memories to influence future predictions, an important feature of memory-augmented neural networks.\n",
        "   \n",
        "- **Handling Segments**:\n",
        "   - The chunking mechanism (`seq.chunk(SEGMENTS, dim=-1)`) splits sequences into smaller segments. This allows the model to handle long sequences efficiently without exceeding memory limits.\n",
        "\n",
        "- **Loss Backpropagation**:\n",
        "   - The loss is calculated for each segment (`loss / SEGMENTS`) and then backpropagated using `loss.backward()`. This ensures that the gradients are computed for each segment and accumulated before applying the optimizer step.\n",
        "\n",
        "### Potential Improvements:\n",
        "- **Gradient Accumulation**: If memory issues arise, gradient accumulation can be employed, where gradients are accumulated over several mini-batches before performing an optimization step.\n",
        "- **Learning Rate Scheduler**: A learning rate scheduler could be added to decrease the learning rate as training progresses, often improving convergence.\n",
        "\n",
        "This loop demonstrates an efficient and structured way of training a model with memory capabilities like KNN, using segmented sequences to ensure the model can handle large inputs. The validation step ensures that the model is evaluated periodically to prevent overfitting and monitor progress."
      ]
    },
    {
      "cell_type": "code",
      "execution_count": null,
      "metadata": {
        "colab": {
          "base_uri": "https://localhost:8080/"
        },
        "id": "YXVDktiYePZu",
        "outputId": "823d6e43-067a-462e-dc98-899e7e3be89b"
      },
      "outputs": [
        {
          "name": "stderr",
          "output_type": "stream",
          "text": [
            "\rtraining:   0%|          | 0/200 [00:00<?, ?it/s]"
          ]
        },
        {
          "name": "stdout",
          "output_type": "stream",
          "text": [
            "Begin document\n",
            "Begin KNN operations\n",
            "End KNN operations, time taken: 0.4727809429168701\n",
            "Begin KNN operations\n",
            "End KNN operations, time taken: 0.7829794883728027\n",
            "Begin KNN operations\n",
            "End KNN operations, time taken: 0.9652132987976074\n",
            "Begin KNN operations\n",
            "End KNN operations, time taken: 1.1984717845916748\n",
            "Begin KNN operations\n",
            "End KNN operations, time taken: 1.5844461917877197\n",
            "Begin KNN operations\n",
            "End KNN operations, time taken: 1.8131227493286133\n",
            "Begin KNN operations\n",
            "End KNN operations, time taken: 1.985107183456421\n",
            "Begin KNN operations\n",
            "End KNN operations, time taken: 2.0774049758911133\n",
            "Begin KNN operations\n",
            "End KNN operations, time taken: 2.413853883743286\n",
            "training loss: 5.044507646560668\n",
            "End document, total time: 16.55513596534729\n",
            "Begin KNN operations\n",
            "End KNN operations, time taken: 0.4018399715423584\n",
            "Begin KNN operations\n",
            "End KNN operations, time taken: 0.6185629367828369\n",
            "Begin KNN operations\n",
            "End KNN operations, time taken: 0.8297295570373535\n",
            "Begin KNN operations\n",
            "End KNN operations, time taken: 1.1138408184051514\n",
            "Begin KNN operations\n",
            "End KNN operations, time taken: 1.2828457355499268\n",
            "Begin KNN operations\n",
            "End KNN operations, time taken: 1.529599666595459\n",
            "Begin KNN operations\n",
            "End KNN operations, time taken: 1.7854537963867188\n",
            "Begin KNN operations\n",
            "End KNN operations, time taken: 2.0417275428771973\n",
            "Begin KNN operations\n"
          ]
        },
        {
          "name": "stderr",
          "output_type": "stream",
          "text": [
            "\rtraining:   0%|          | 1/200 [00:30<1:40:42, 30.36s/it]"
          ]
        },
        {
          "name": "stdout",
          "output_type": "stream",
          "text": [
            "End KNN operations, time taken: 2.240504741668701\n",
            "valid loss: 4.508983087539673\n",
            "Begin document\n",
            "Begin KNN operations\n",
            "End KNN operations, time taken: 0.5132331848144531\n",
            "Begin KNN operations\n",
            "End KNN operations, time taken: 0.7702808380126953\n",
            "Begin KNN operations\n",
            "End KNN operations, time taken: 0.9941208362579346\n",
            "Begin KNN operations\n",
            "End KNN operations, time taken: 1.1803114414215088\n",
            "Begin KNN operations\n",
            "End KNN operations, time taken: 1.409938097000122\n",
            "Begin KNN operations\n",
            "End KNN operations, time taken: 1.6306748390197754\n",
            "Begin KNN operations\n",
            "End KNN operations, time taken: 1.9200448989868164\n",
            "Begin KNN operations\n",
            "End KNN operations, time taken: 2.0634706020355225\n",
            "Begin KNN operations\n"
          ]
        },
        {
          "name": "stderr",
          "output_type": "stream",
          "text": [
            "\rtraining:   1%|          | 2/200 [00:45<1:09:48, 21.16s/it]"
          ]
        },
        {
          "name": "stdout",
          "output_type": "stream",
          "text": [
            "End KNN operations, time taken: 2.4543967247009277\n",
            "training loss: 4.4936493873596195\n",
            "End document, total time: 14.63275933265686\n",
            "Begin document\n",
            "Begin KNN operations\n",
            "End KNN operations, time taken: 0.47864532470703125\n",
            "Begin KNN operations\n",
            "End KNN operations, time taken: 0.7505688667297363\n",
            "Begin KNN operations\n",
            "End KNN operations, time taken: 0.9767007827758789\n",
            "Begin KNN operations\n",
            "End KNN operations, time taken: 1.1900599002838135\n",
            "Begin KNN operations\n",
            "End KNN operations, time taken: 1.459259271621704\n",
            "Begin KNN operations\n",
            "End KNN operations, time taken: 1.6699275970458984\n",
            "Begin KNN operations\n",
            "End KNN operations, time taken: 1.862091302871704\n",
            "Begin KNN operations\n",
            "End KNN operations, time taken: 2.0714664459228516\n",
            "Begin KNN operations\n"
          ]
        },
        {
          "name": "stderr",
          "output_type": "stream",
          "text": [
            "\rtraining:   2%|▏         | 3/200 [00:59<59:41, 18.18s/it]  "
          ]
        },
        {
          "name": "stdout",
          "output_type": "stream",
          "text": [
            "End KNN operations, time taken: 2.3291754722595215\n",
            "training loss: 4.209649324417114\n",
            "End document, total time: 14.470992088317871\n",
            "Begin document\n",
            "Begin KNN operations\n",
            "End KNN operations, time taken: 0.46877169609069824\n",
            "Begin KNN operations\n",
            "End KNN operations, time taken: 0.8324177265167236\n",
            "Begin KNN operations\n",
            "End KNN operations, time taken: 1.1357784271240234\n",
            "Begin KNN operations\n",
            "End KNN operations, time taken: 1.4139971733093262\n",
            "Begin KNN operations\n",
            "End KNN operations, time taken: 1.3958423137664795\n",
            "Begin KNN operations\n",
            "End KNN operations, time taken: 1.6528310775756836\n",
            "Begin KNN operations\n",
            "End KNN operations, time taken: 1.8521735668182373\n",
            "Begin KNN operations\n",
            "End KNN operations, time taken: 2.067760944366455\n",
            "Begin KNN operations\n"
          ]
        },
        {
          "name": "stderr",
          "output_type": "stream",
          "text": [
            "\rtraining:   2%|▏         | 4/200 [01:14<55:23, 16.96s/it]"
          ]
        },
        {
          "name": "stdout",
          "output_type": "stream",
          "text": [
            "End KNN operations, time taken: 2.3974204063415527\n",
            "training loss: 3.9477367401123047\n",
            "End document, total time: 14.90838074684143\n",
            "Begin document\n",
            "Begin KNN operations\n",
            "End KNN operations, time taken: 0.4724555015563965\n",
            "Begin KNN operations\n",
            "End KNN operations, time taken: 0.7393865585327148\n",
            "Begin KNN operations\n",
            "End KNN operations, time taken: 0.9631404876708984\n",
            "Begin KNN operations\n",
            "End KNN operations, time taken: 1.2113425731658936\n",
            "Begin KNN operations\n",
            "End KNN operations, time taken: 1.4207866191864014\n",
            "Begin KNN operations\n",
            "End KNN operations, time taken: 1.6314060688018799\n",
            "Begin KNN operations\n",
            "End KNN operations, time taken: 1.8876287937164307\n",
            "Begin KNN operations\n",
            "End KNN operations, time taken: 2.2193658351898193\n",
            "Begin KNN operations\n"
          ]
        },
        {
          "name": "stderr",
          "output_type": "stream",
          "text": [
            "\rtraining:   2%|▎         | 5/200 [01:29<52:33, 16.17s/it]"
          ]
        },
        {
          "name": "stdout",
          "output_type": "stream",
          "text": [
            "End KNN operations, time taken: 2.345904588699341\n",
            "training loss: 3.8189241886138916\n",
            "End document, total time: 14.60579514503479\n",
            "Begin document\n",
            "Begin KNN operations\n",
            "End KNN operations, time taken: 0.46891236305236816\n",
            "Begin KNN operations\n",
            "End KNN operations, time taken: 0.7345902919769287\n",
            "Begin KNN operations\n",
            "End KNN operations, time taken: 0.9585428237915039\n",
            "Begin KNN operations\n",
            "End KNN operations, time taken: 1.198284387588501\n",
            "Begin KNN operations\n",
            "End KNN operations, time taken: 1.4171674251556396\n",
            "Begin KNN operations\n",
            "End KNN operations, time taken: 1.6903340816497803\n",
            "Begin KNN operations\n",
            "End KNN operations, time taken: 1.9220991134643555\n",
            "Begin KNN operations\n",
            "End KNN operations, time taken: 2.0827016830444336\n",
            "Begin KNN operations\n"
          ]
        },
        {
          "name": "stderr",
          "output_type": "stream",
          "text": [
            "\rtraining:   3%|▎         | 6/200 [01:44<50:42, 15.68s/it]"
          ]
        },
        {
          "name": "stdout",
          "output_type": "stream",
          "text": [
            "End KNN operations, time taken: 2.3680665493011475\n",
            "training loss: 3.7139760255813594\n",
            "End document, total time: 14.544044494628906\n",
            "Begin document\n",
            "Begin KNN operations\n",
            "End KNN operations, time taken: 0.47707223892211914\n",
            "Begin KNN operations\n",
            "End KNN operations, time taken: 0.7348482608795166\n",
            "Begin KNN operations\n",
            "End KNN operations, time taken: 0.9631738662719727\n",
            "Begin KNN operations\n",
            "End KNN operations, time taken: 1.2477152347564697\n",
            "Begin KNN operations\n",
            "End KNN operations, time taken: 1.4663197994232178\n",
            "Begin KNN operations\n",
            "End KNN operations, time taken: 1.6496047973632812\n",
            "Begin KNN operations\n",
            "End KNN operations, time taken: 1.9732475280761719\n",
            "Begin KNN operations\n",
            "End KNN operations, time taken: 2.1018075942993164\n",
            "Begin KNN operations\n"
          ]
        },
        {
          "name": "stderr",
          "output_type": "stream",
          "text": [
            "\rtraining:   4%|▎         | 7/200 [01:59<49:40, 15.44s/it]"
          ]
        },
        {
          "name": "stdout",
          "output_type": "stream",
          "text": [
            "End KNN operations, time taken: 2.466362953186035\n",
            "training loss: 3.601336359977722\n",
            "End document, total time: 14.766701698303223\n",
            "Begin document\n",
            "Begin KNN operations\n",
            "End KNN operations, time taken: 0.49947428703308105\n",
            "Begin KNN operations\n",
            "End KNN operations, time taken: 0.8538920879364014\n",
            "Begin KNN operations\n",
            "End KNN operations, time taken: 1.0156290531158447\n",
            "Begin KNN operations\n",
            "End KNN operations, time taken: 1.2388160228729248\n",
            "Begin KNN operations\n",
            "End KNN operations, time taken: 1.427992343902588\n",
            "Begin KNN operations\n",
            "End KNN operations, time taken: 1.6942250728607178\n",
            "Begin KNN operations\n",
            "End KNN operations, time taken: 1.9053585529327393\n",
            "Begin KNN operations\n",
            "End KNN operations, time taken: 2.113377571105957\n",
            "Begin KNN operations\n"
          ]
        },
        {
          "name": "stderr",
          "output_type": "stream",
          "text": [
            "\rtraining:   4%|▍         | 8/200 [02:14<49:06, 15.35s/it]"
          ]
        },
        {
          "name": "stdout",
          "output_type": "stream",
          "text": [
            "End KNN operations, time taken: 2.479506015777588\n",
            "training loss: 3.59384458065033\n",
            "End document, total time: 14.974068641662598\n",
            "Begin document\n",
            "Begin KNN operations\n",
            "End KNN operations, time taken: 0.47244787216186523\n",
            "Begin KNN operations\n",
            "End KNN operations, time taken: 0.7435071468353271\n",
            "Begin KNN operations\n",
            "End KNN operations, time taken: 0.9578852653503418\n",
            "Begin KNN operations\n",
            "End KNN operations, time taken: 1.2166187763214111\n",
            "Begin KNN operations\n",
            "End KNN operations, time taken: 1.4513208866119385\n",
            "Begin KNN operations\n",
            "End KNN operations, time taken: 1.6346697807312012\n",
            "Begin KNN operations\n",
            "End KNN operations, time taken: 1.9282689094543457\n",
            "Begin KNN operations\n",
            "End KNN operations, time taken: 2.1835741996765137\n",
            "Begin KNN operations\n"
          ]
        },
        {
          "name": "stderr",
          "output_type": "stream",
          "text": [
            "\rtraining:   4%|▍         | 9/200 [02:29<48:23, 15.20s/it]"
          ]
        },
        {
          "name": "stdout",
          "output_type": "stream",
          "text": [
            "End KNN operations, time taken: 2.3962347507476807\n",
            "training loss: 3.49993793964386\n",
            "End document, total time: 14.691726207733154\n",
            "Begin document\n",
            "Begin KNN operations\n",
            "End KNN operations, time taken: 0.4682152271270752\n",
            "Begin KNN operations\n",
            "End KNN operations, time taken: 0.7831428050994873\n",
            "Begin KNN operations\n",
            "End KNN operations, time taken: 1.0058505535125732\n",
            "Begin KNN operations\n",
            "End KNN operations, time taken: 1.2197179794311523\n",
            "Begin KNN operations\n",
            "End KNN operations, time taken: 1.4976515769958496\n",
            "Begin KNN operations\n",
            "End KNN operations, time taken: 1.7119696140289307\n",
            "Begin KNN operations\n",
            "End KNN operations, time taken: 1.916504144668579\n",
            "Begin KNN operations\n",
            "End KNN operations, time taken: 2.1696271896362305\n",
            "Begin KNN operations\n"
          ]
        },
        {
          "name": "stderr",
          "output_type": "stream",
          "text": [
            "\rtraining:   5%|▌         | 10/200 [02:44<47:59, 15.16s/it]"
          ]
        },
        {
          "name": "stdout",
          "output_type": "stream",
          "text": [
            "End KNN operations, time taken: 2.389899969100952\n",
            "training loss: 3.5132748603820803\n",
            "End document, total time: 14.860655307769775\n",
            "Begin document\n",
            "Begin KNN operations\n",
            "End KNN operations, time taken: 0.4852752685546875\n",
            "Begin KNN operations\n",
            "End KNN operations, time taken: 0.7510387897491455\n",
            "Begin KNN operations\n",
            "End KNN operations, time taken: 1.0050795078277588\n",
            "Begin KNN operations\n",
            "End KNN operations, time taken: 1.268385887145996\n",
            "Begin KNN operations\n",
            "End KNN operations, time taken: 1.4492740631103516\n",
            "Begin KNN operations\n",
            "End KNN operations, time taken: 1.6691501140594482\n",
            "Begin KNN operations\n",
            "End KNN operations, time taken: 1.8804457187652588\n",
            "Begin KNN operations\n",
            "End KNN operations, time taken: 2.1173648834228516\n",
            "Begin KNN operations\n"
          ]
        },
        {
          "name": "stderr",
          "output_type": "stream",
          "text": [
            "\rtraining:   6%|▌         | 11/200 [02:59<47:31, 15.09s/it]"
          ]
        },
        {
          "name": "stdout",
          "output_type": "stream",
          "text": [
            "End KNN operations, time taken: 2.3890981674194336\n",
            "training loss: 3.4747895240783695\n",
            "End document, total time: 14.73562502861023\n",
            "Begin document\n",
            "Begin KNN operations\n",
            "End KNN operations, time taken: 0.49285340309143066\n",
            "Begin KNN operations\n",
            "End KNN operations, time taken: 0.7544581890106201\n",
            "Begin KNN operations\n",
            "End KNN operations, time taken: 0.9725499153137207\n",
            "Begin KNN operations\n",
            "End KNN operations, time taken: 1.2382423877716064\n",
            "Begin KNN operations\n",
            "End KNN operations, time taken: 1.4407711029052734\n",
            "Begin KNN operations\n",
            "End KNN operations, time taken: 1.7210760116577148\n",
            "Begin KNN operations\n",
            "End KNN operations, time taken: 1.905010461807251\n",
            "Begin KNN operations\n",
            "End KNN operations, time taken: 2.190648078918457\n",
            "Begin KNN operations\n"
          ]
        },
        {
          "name": "stderr",
          "output_type": "stream",
          "text": [
            "\rtraining:   6%|▌         | 12/200 [03:14<47:13, 15.07s/it]"
          ]
        },
        {
          "name": "stdout",
          "output_type": "stream",
          "text": [
            "End KNN operations, time taken: 2.4482409954071045\n",
            "training loss: 3.386559796333313\n",
            "End document, total time: 14.851515293121338\n",
            "Begin document\n",
            "Begin KNN operations\n",
            "End KNN operations, time taken: 0.4909632205963135\n",
            "Begin KNN operations\n",
            "End KNN operations, time taken: 0.7589480876922607\n",
            "Begin KNN operations\n",
            "End KNN operations, time taken: 0.9773187637329102\n",
            "Begin KNN operations\n",
            "End KNN operations, time taken: 1.2471277713775635\n",
            "Begin KNN operations\n",
            "End KNN operations, time taken: 1.444913387298584\n",
            "Begin KNN operations\n",
            "End KNN operations, time taken: 1.6832737922668457\n",
            "Begin KNN operations\n",
            "End KNN operations, time taken: 1.9738366603851318\n",
            "Begin KNN operations\n",
            "End KNN operations, time taken: 2.1448676586151123\n",
            "Begin KNN operations\n"
          ]
        },
        {
          "name": "stderr",
          "output_type": "stream",
          "text": [
            "\rtraining:   6%|▋         | 13/200 [03:29<46:56, 15.06s/it]"
          ]
        },
        {
          "name": "stdout",
          "output_type": "stream",
          "text": [
            "End KNN operations, time taken: 2.422680616378784\n",
            "training loss: 3.328277254104614\n",
            "End document, total time: 14.856416463851929\n",
            "Begin document\n",
            "Begin KNN operations\n",
            "End KNN operations, time taken: 0.4757106304168701\n",
            "Begin KNN operations\n",
            "End KNN operations, time taken: 0.7565667629241943\n",
            "Begin KNN operations\n",
            "End KNN operations, time taken: 0.9876401424407959\n",
            "Begin KNN operations\n",
            "End KNN operations, time taken: 1.252009391784668\n",
            "Begin KNN operations\n",
            "End KNN operations, time taken: 1.5215215682983398\n",
            "Begin KNN operations\n",
            "End KNN operations, time taken: 1.685412883758545\n",
            "Begin KNN operations\n",
            "End KNN operations, time taken: 1.9056010246276855\n",
            "Begin KNN operations\n",
            "End KNN operations, time taken: 2.133671283721924\n",
            "Begin KNN operations\n"
          ]
        },
        {
          "name": "stderr",
          "output_type": "stream",
          "text": [
            "\rtraining:   7%|▋         | 14/200 [03:44<46:39, 15.05s/it]"
          ]
        },
        {
          "name": "stdout",
          "output_type": "stream",
          "text": [
            "End KNN operations, time taken: 2.432290554046631\n",
            "training loss: 3.343562436103821\n",
            "End document, total time: 14.857432126998901\n",
            "Begin document\n",
            "Begin KNN operations\n",
            "End KNN operations, time taken: 0.49019408226013184\n",
            "Begin KNN operations\n",
            "End KNN operations, time taken: 0.7760670185089111\n",
            "Begin KNN operations\n",
            "End KNN operations, time taken: 0.9874296188354492\n",
            "Begin KNN operations\n",
            "End KNN operations, time taken: 1.2164781093597412\n",
            "Begin KNN operations\n",
            "End KNN operations, time taken: 1.4383196830749512\n",
            "Begin KNN operations\n",
            "End KNN operations, time taken: 1.6609790325164795\n",
            "Begin KNN operations\n",
            "End KNN operations, time taken: 1.8868112564086914\n",
            "Begin KNN operations\n",
            "End KNN operations, time taken: 2.124955892562866\n",
            "Begin KNN operations\n"
          ]
        },
        {
          "name": "stderr",
          "output_type": "stream",
          "text": [
            "\rtraining:   8%|▊         | 15/200 [03:59<46:15, 15.00s/it]"
          ]
        },
        {
          "name": "stdout",
          "output_type": "stream",
          "text": [
            "End KNN operations, time taken: 2.4269495010375977\n",
            "training loss: 3.2937793970108027\n",
            "End document, total time: 14.707275867462158\n",
            "Begin document\n",
            "Begin KNN operations\n",
            "End KNN operations, time taken: 0.46740150451660156\n",
            "Begin KNN operations\n",
            "End KNN operations, time taken: 0.7640590667724609\n",
            "Begin KNN operations\n",
            "End KNN operations, time taken: 0.9636237621307373\n",
            "Begin KNN operations\n",
            "End KNN operations, time taken: 1.208648443222046\n",
            "Begin KNN operations\n",
            "End KNN operations, time taken: 1.4129302501678467\n",
            "Begin KNN operations\n",
            "End KNN operations, time taken: 1.6658267974853516\n",
            "Begin KNN operations\n",
            "End KNN operations, time taken: 1.932525873184204\n",
            "Begin KNN operations\n",
            "End KNN operations, time taken: 2.1615779399871826\n",
            "Begin KNN operations\n"
          ]
        },
        {
          "name": "stderr",
          "output_type": "stream",
          "text": [
            "\rtraining:   8%|▊         | 16/200 [04:14<45:49, 14.94s/it]"
          ]
        },
        {
          "name": "stdout",
          "output_type": "stream",
          "text": [
            "End KNN operations, time taken: 2.3360683917999268\n",
            "training loss: 3.221469950675964\n",
            "End document, total time: 14.61255693435669\n",
            "Begin document\n",
            "Begin KNN operations\n",
            "End KNN operations, time taken: 0.48010945320129395\n",
            "Begin KNN operations\n",
            "End KNN operations, time taken: 0.7415997982025146\n",
            "Begin KNN operations\n",
            "End KNN operations, time taken: 0.9570870399475098\n",
            "Begin KNN operations\n",
            "End KNN operations, time taken: 1.190089225769043\n",
            "Begin KNN operations\n",
            "End KNN operations, time taken: 1.4016540050506592\n",
            "Begin KNN operations\n",
            "End KNN operations, time taken: 1.6867079734802246\n",
            "Begin KNN operations\n",
            "End KNN operations, time taken: 1.9373207092285156\n",
            "Begin KNN operations\n",
            "End KNN operations, time taken: 2.0857913494110107\n",
            "Begin KNN operations\n"
          ]
        },
        {
          "name": "stderr",
          "output_type": "stream",
          "text": [
            "\rtraining:   8%|▊         | 17/200 [04:28<45:19, 14.86s/it]"
          ]
        },
        {
          "name": "stdout",
          "output_type": "stream",
          "text": [
            "End KNN operations, time taken: 2.316899061203003\n",
            "training loss: 3.213758087158203\n",
            "End document, total time: 14.491326332092285\n",
            "Begin document\n",
            "Begin KNN operations\n",
            "End KNN operations, time taken: 0.472273588180542\n",
            "Begin KNN operations\n",
            "End KNN operations, time taken: 0.7450556755065918\n",
            "Begin KNN operations\n",
            "End KNN operations, time taken: 0.9654116630554199\n",
            "Begin KNN operations\n",
            "End KNN operations, time taken: 1.2047827243804932\n",
            "Begin KNN operations\n",
            "End KNN operations, time taken: 1.5426788330078125\n",
            "Begin KNN operations\n",
            "End KNN operations, time taken: 1.6558418273925781\n",
            "Begin KNN operations\n",
            "End KNN operations, time taken: 1.9560770988464355\n",
            "Begin KNN operations\n",
            "End KNN operations, time taken: 2.151282787322998\n",
            "Begin KNN operations\n"
          ]
        },
        {
          "name": "stderr",
          "output_type": "stream",
          "text": [
            "\rtraining:   9%|▉         | 18/200 [04:43<45:10, 14.89s/it]"
          ]
        },
        {
          "name": "stdout",
          "output_type": "stream",
          "text": [
            "End KNN operations, time taken: 2.373253107070923\n",
            "training loss: 3.1794835090637212\n",
            "End document, total time: 14.776739120483398\n",
            "Begin document\n",
            "Begin KNN operations\n",
            "End KNN operations, time taken: 0.49563026428222656\n",
            "Begin KNN operations\n",
            "End KNN operations, time taken: 0.7708992958068848\n",
            "Begin KNN operations\n",
            "End KNN operations, time taken: 0.9785656929016113\n",
            "Begin KNN operations\n",
            "End KNN operations, time taken: 1.2354960441589355\n",
            "Begin KNN operations\n",
            "End KNN operations, time taken: 1.427525520324707\n",
            "Begin KNN operations\n",
            "End KNN operations, time taken: 1.6597142219543457\n",
            "Begin KNN operations\n",
            "End KNN operations, time taken: 1.8884117603302002\n",
            "Begin KNN operations\n",
            "End KNN operations, time taken: 2.190594434738159\n",
            "Begin KNN operations\n"
          ]
        },
        {
          "name": "stderr",
          "output_type": "stream",
          "text": [
            "\rtraining:  10%|▉         | 19/200 [04:58<44:59, 14.92s/it]"
          ]
        },
        {
          "name": "stdout",
          "output_type": "stream",
          "text": [
            "End KNN operations, time taken: 2.430086851119995\n",
            "training loss: 3.130792760848999\n",
            "End document, total time: 14.777361392974854\n",
            "Begin document\n",
            "Begin KNN operations\n",
            "End KNN operations, time taken: 0.47788143157958984\n",
            "Begin KNN operations\n",
            "End KNN operations, time taken: 0.752366304397583\n",
            "Begin KNN operations\n",
            "End KNN operations, time taken: 0.9830517768859863\n",
            "Begin KNN operations\n",
            "End KNN operations, time taken: 1.20573091506958\n",
            "Begin KNN operations\n",
            "End KNN operations, time taken: 1.439152479171753\n",
            "Begin KNN operations\n",
            "End KNN operations, time taken: 1.697037935256958\n",
            "Begin KNN operations\n",
            "End KNN operations, time taken: 2.0117909908294678\n",
            "Begin KNN operations\n",
            "End KNN operations, time taken: 2.13496994972229\n",
            "Begin KNN operations\n"
          ]
        },
        {
          "name": "stderr",
          "output_type": "stream",
          "text": [
            "\rtraining:  10%|█         | 20/200 [05:13<44:45, 14.92s/it]"
          ]
        },
        {
          "name": "stdout",
          "output_type": "stream",
          "text": [
            "End KNN operations, time taken: 2.336294174194336\n",
            "training loss: 3.226847219467163\n",
            "End document, total time: 14.751800537109375\n",
            "Begin document\n",
            "Begin KNN operations\n",
            "End KNN operations, time taken: 0.4813246726989746\n",
            "Begin KNN operations\n",
            "End KNN operations, time taken: 0.7528209686279297\n",
            "Begin KNN operations\n",
            "End KNN operations, time taken: 0.9790835380554199\n",
            "Begin KNN operations\n",
            "End KNN operations, time taken: 1.2063846588134766\n",
            "Begin KNN operations\n",
            "End KNN operations, time taken: 1.5338404178619385\n",
            "Begin KNN operations\n",
            "End KNN operations, time taken: 1.7010774612426758\n",
            "Begin KNN operations\n",
            "End KNN operations, time taken: 1.9007501602172852\n",
            "Begin KNN operations\n",
            "End KNN operations, time taken: 2.1467225551605225\n",
            "Begin KNN operations\n"
          ]
        },
        {
          "name": "stderr",
          "output_type": "stream",
          "text": [
            "\rtraining:  10%|█         | 21/200 [05:28<44:39, 14.97s/it]"
          ]
        },
        {
          "name": "stdout",
          "output_type": "stream",
          "text": [
            "End KNN operations, time taken: 2.5020229816436768\n",
            "training loss: 3.0892097949981694\n",
            "End document, total time: 14.906522035598755\n",
            "Begin document\n",
            "Begin KNN operations\n",
            "End KNN operations, time taken: 0.47337794303894043\n",
            "Begin KNN operations\n",
            "End KNN operations, time taken: 0.773470401763916\n",
            "Begin KNN operations\n",
            "End KNN operations, time taken: 1.0073421001434326\n",
            "Begin KNN operations\n",
            "End KNN operations, time taken: 1.1949923038482666\n",
            "Begin KNN operations\n",
            "End KNN operations, time taken: 1.4644927978515625\n",
            "Begin KNN operations\n",
            "End KNN operations, time taken: 1.6687071323394775\n",
            "Begin KNN operations\n",
            "End KNN operations, time taken: 1.9097273349761963\n",
            "Begin KNN operations\n",
            "End KNN operations, time taken: 2.1129660606384277\n",
            "Begin KNN operations\n"
          ]
        },
        {
          "name": "stderr",
          "output_type": "stream",
          "text": [
            "\rtraining:  11%|█         | 22/200 [05:43<44:21, 14.95s/it]"
          ]
        },
        {
          "name": "stdout",
          "output_type": "stream",
          "text": [
            "End KNN operations, time taken: 2.427049398422241\n",
            "training loss: 3.089197564125061\n",
            "End document, total time: 14.724693775177002\n",
            "Begin document\n",
            "Begin KNN operations\n",
            "End KNN operations, time taken: 0.47465085983276367\n",
            "Begin KNN operations\n",
            "End KNN operations, time taken: 0.7682478427886963\n",
            "Begin KNN operations\n",
            "End KNN operations, time taken: 0.9956700801849365\n",
            "Begin KNN operations\n",
            "End KNN operations, time taken: 1.196533441543579\n",
            "Begin KNN operations\n",
            "End KNN operations, time taken: 1.4422450065612793\n",
            "Begin KNN operations\n",
            "End KNN operations, time taken: 1.6435515880584717\n",
            "Begin KNN operations\n",
            "End KNN operations, time taken: 1.8868541717529297\n",
            "Begin KNN operations\n",
            "End KNN operations, time taken: 2.2037408351898193\n",
            "Begin KNN operations\n"
          ]
        },
        {
          "name": "stderr",
          "output_type": "stream",
          "text": [
            "\rtraining:  12%|█▏        | 23/200 [05:58<44:00, 14.92s/it]"
          ]
        },
        {
          "name": "stdout",
          "output_type": "stream",
          "text": [
            "End KNN operations, time taken: 2.3340039253234863\n",
            "training loss: 3.06550407409668\n",
            "End document, total time: 14.643192768096924\n",
            "Begin document\n",
            "Begin KNN operations\n",
            "End KNN operations, time taken: 0.47101879119873047\n",
            "Begin KNN operations\n",
            "End KNN operations, time taken: 0.7480041980743408\n",
            "Begin KNN operations\n",
            "End KNN operations, time taken: 0.9704079627990723\n",
            "Begin KNN operations\n",
            "End KNN operations, time taken: 1.2045562267303467\n",
            "Begin KNN operations\n",
            "End KNN operations, time taken: 1.4370367527008057\n",
            "Begin KNN operations\n",
            "End KNN operations, time taken: 1.7046914100646973\n",
            "Begin KNN operations\n",
            "End KNN operations, time taken: 1.9006049633026123\n",
            "Begin KNN operations\n",
            "End KNN operations, time taken: 2.138112783432007\n",
            "Begin KNN operations\n"
          ]
        },
        {
          "name": "stderr",
          "output_type": "stream",
          "text": [
            "\rtraining:  12%|█▏        | 24/200 [06:13<43:41, 14.89s/it]"
          ]
        },
        {
          "name": "stdout",
          "output_type": "stream",
          "text": [
            "End KNN operations, time taken: 2.3646271228790283\n",
            "training loss: 2.9498643636703488\n",
            "End document, total time: 14.65877389907837\n",
            "Begin document\n",
            "Begin KNN operations\n",
            "End KNN operations, time taken: 0.4741785526275635\n",
            "Begin KNN operations\n",
            "End KNN operations, time taken: 0.7709894180297852\n",
            "Begin KNN operations\n",
            "End KNN operations, time taken: 1.0089998245239258\n",
            "Begin KNN operations\n",
            "End KNN operations, time taken: 1.2497055530548096\n",
            "Begin KNN operations\n",
            "End KNN operations, time taken: 1.470510482788086\n",
            "Begin KNN operations\n",
            "End KNN operations, time taken: 1.6337504386901855\n",
            "Begin KNN operations\n",
            "End KNN operations, time taken: 1.8509299755096436\n",
            "Begin KNN operations\n",
            "End KNN operations, time taken: 2.08579683303833\n",
            "Begin KNN operations\n"
          ]
        },
        {
          "name": "stderr",
          "output_type": "stream",
          "text": [
            "\rtraining:  12%|█▎        | 25/200 [06:27<43:15, 14.83s/it]"
          ]
        },
        {
          "name": "stdout",
          "output_type": "stream",
          "text": [
            "End KNN operations, time taken: 2.3334097862243652\n",
            "training loss: 2.9686380147933957\n",
            "End document, total time: 14.508661985397339\n",
            "Begin document\n",
            "Begin KNN operations\n",
            "End KNN operations, time taken: 0.48314857482910156\n",
            "Begin KNN operations\n",
            "End KNN operations, time taken: 0.7755308151245117\n",
            "Begin KNN operations\n",
            "End KNN operations, time taken: 0.9779248237609863\n",
            "Begin KNN operations\n",
            "End KNN operations, time taken: 1.1929638385772705\n",
            "Begin KNN operations\n",
            "End KNN operations, time taken: 1.4462125301361084\n",
            "Begin KNN operations\n",
            "End KNN operations, time taken: 1.6658692359924316\n",
            "Begin KNN operations\n",
            "End KNN operations, time taken: 1.8584511280059814\n",
            "Begin KNN operations\n",
            "End KNN operations, time taken: 2.168804883956909\n",
            "Begin KNN operations\n"
          ]
        },
        {
          "name": "stderr",
          "output_type": "stream",
          "text": [
            "\rtraining:  13%|█▎        | 26/200 [06:42<43:00, 14.83s/it]"
          ]
        },
        {
          "name": "stdout",
          "output_type": "stream",
          "text": [
            "End KNN operations, time taken: 2.3843650817871094\n",
            "training loss: 2.944056987762451\n",
            "End document, total time: 14.652920961380005\n",
            "Begin document\n",
            "Begin KNN operations\n",
            "End KNN operations, time taken: 0.4770162105560303\n",
            "Begin KNN operations\n",
            "End KNN operations, time taken: 0.7433979511260986\n",
            "Begin KNN operations\n",
            "End KNN operations, time taken: 0.9721581935882568\n",
            "Begin KNN operations\n",
            "End KNN operations, time taken: 1.1928770542144775\n",
            "Begin KNN operations\n",
            "End KNN operations, time taken: 1.418426275253296\n",
            "Begin KNN operations\n",
            "End KNN operations, time taken: 1.6342692375183105\n",
            "Begin KNN operations\n",
            "End KNN operations, time taken: 1.8772122859954834\n",
            "Begin KNN operations\n",
            "End KNN operations, time taken: 2.127389907836914\n",
            "Begin KNN operations\n"
          ]
        },
        {
          "name": "stderr",
          "output_type": "stream",
          "text": [
            "\rtraining:  14%|█▎        | 27/200 [06:57<42:37, 14.78s/it]"
          ]
        },
        {
          "name": "stdout",
          "output_type": "stream",
          "text": [
            "End KNN operations, time taken: 2.344355344772339\n",
            "training loss: 2.8968286991119387\n",
            "End document, total time: 14.482965230941772\n",
            "Begin document\n",
            "Begin KNN operations\n",
            "End KNN operations, time taken: 0.47774410247802734\n",
            "Begin KNN operations\n",
            "End KNN operations, time taken: 0.7452883720397949\n",
            "Begin KNN operations\n",
            "End KNN operations, time taken: 0.9726924896240234\n",
            "Begin KNN operations\n",
            "End KNN operations, time taken: 1.1885566711425781\n",
            "Begin KNN operations\n",
            "End KNN operations, time taken: 1.4347498416900635\n",
            "Begin KNN operations\n",
            "End KNN operations, time taken: 1.7191710472106934\n",
            "Begin KNN operations\n",
            "End KNN operations, time taken: 1.8747823238372803\n",
            "Begin KNN operations\n",
            "End KNN operations, time taken: 2.1721982955932617\n",
            "Begin KNN operations\n"
          ]
        },
        {
          "name": "stderr",
          "output_type": "stream",
          "text": [
            "\rtraining:  14%|█▍        | 28/200 [07:12<42:24, 14.79s/it]"
          ]
        },
        {
          "name": "stdout",
          "output_type": "stream",
          "text": [
            "End KNN operations, time taken: 2.3360049724578857\n",
            "training loss: 2.9301986932754516\n",
            "End document, total time: 14.630445003509521\n",
            "Begin document\n",
            "Begin KNN operations\n",
            "End KNN operations, time taken: 0.481644868850708\n",
            "Begin KNN operations\n",
            "End KNN operations, time taken: 0.7387776374816895\n",
            "Begin KNN operations\n",
            "End KNN operations, time taken: 1.0193018913269043\n",
            "Begin KNN operations\n",
            "End KNN operations, time taken: 1.3591184616088867\n",
            "Begin KNN operations\n",
            "End KNN operations, time taken: 1.4519975185394287\n",
            "Begin KNN operations\n",
            "End KNN operations, time taken: 1.7114591598510742\n",
            "Begin KNN operations\n",
            "End KNN operations, time taken: 1.8902223110198975\n",
            "Begin KNN operations\n",
            "End KNN operations, time taken: 2.1285479068756104\n",
            "Begin KNN operations\n"
          ]
        },
        {
          "name": "stderr",
          "output_type": "stream",
          "text": [
            "\rtraining:  14%|█▍        | 29/200 [07:27<42:22, 14.87s/it]"
          ]
        },
        {
          "name": "stdout",
          "output_type": "stream",
          "text": [
            "End KNN operations, time taken: 2.376988410949707\n",
            "training loss: 2.851096415519714\n",
            "End document, total time: 14.864301919937134\n",
            "Begin document\n",
            "Begin KNN operations\n",
            "End KNN operations, time taken: 0.5014276504516602\n",
            "Begin KNN operations\n",
            "End KNN operations, time taken: 0.7511723041534424\n",
            "Begin KNN operations\n",
            "End KNN operations, time taken: 0.9982819557189941\n",
            "Begin KNN operations\n",
            "End KNN operations, time taken: 1.2075042724609375\n",
            "Begin KNN operations\n",
            "End KNN operations, time taken: 1.4458949565887451\n",
            "Begin KNN operations\n",
            "End KNN operations, time taken: 1.714268445968628\n",
            "Begin KNN operations\n",
            "End KNN operations, time taken: 1.92277193069458\n",
            "Begin KNN operations\n",
            "End KNN operations, time taken: 2.21049427986145\n",
            "Begin KNN operations\n"
          ]
        },
        {
          "name": "stderr",
          "output_type": "stream",
          "text": [
            "\rtraining:  15%|█▌        | 30/200 [07:42<42:22, 14.96s/it]"
          ]
        },
        {
          "name": "stdout",
          "output_type": "stream",
          "text": [
            "End KNN operations, time taken: 2.501437187194824\n",
            "training loss: 2.8863308429718018\n",
            "End document, total time: 14.97035264968872\n",
            "Begin document\n",
            "Begin KNN operations\n",
            "End KNN operations, time taken: 0.48146891593933105\n",
            "Begin KNN operations\n",
            "End KNN operations, time taken: 0.7465074062347412\n",
            "Begin KNN operations\n",
            "End KNN operations, time taken: 1.0283007621765137\n",
            "Begin KNN operations\n",
            "End KNN operations, time taken: 1.218005895614624\n",
            "Begin KNN operations\n",
            "End KNN operations, time taken: 1.4626636505126953\n",
            "Begin KNN operations\n",
            "End KNN operations, time taken: 1.6636149883270264\n",
            "Begin KNN operations\n",
            "End KNN operations, time taken: 1.9387452602386475\n",
            "Begin KNN operations\n",
            "End KNN operations, time taken: 2.1270751953125\n",
            "Begin KNN operations\n"
          ]
        },
        {
          "name": "stderr",
          "output_type": "stream",
          "text": [
            "\rtraining:  16%|█▌        | 31/200 [07:57<42:07, 14.95s/it]"
          ]
        },
        {
          "name": "stdout",
          "output_type": "stream",
          "text": [
            "End KNN operations, time taken: 2.4086737632751465\n",
            "training loss: 2.8669010162353517\n",
            "End document, total time: 14.76512336730957\n",
            "Begin document\n",
            "Begin KNN operations\n",
            "End KNN operations, time taken: 0.4795355796813965\n",
            "Begin KNN operations\n",
            "End KNN operations, time taken: 0.7531108856201172\n",
            "Begin KNN operations\n",
            "End KNN operations, time taken: 0.9606637954711914\n",
            "Begin KNN operations\n",
            "End KNN operations, time taken: 1.2067415714263916\n",
            "Begin KNN operations\n",
            "End KNN operations, time taken: 1.4830780029296875\n",
            "Begin KNN operations\n",
            "End KNN operations, time taken: 1.6190588474273682\n",
            "Begin KNN operations\n",
            "End KNN operations, time taken: 1.8842883110046387\n",
            "Begin KNN operations\n",
            "End KNN operations, time taken: 2.119518756866455\n",
            "Begin KNN operations\n"
          ]
        },
        {
          "name": "stderr",
          "output_type": "stream",
          "text": [
            "\rtraining:  16%|█▌        | 32/200 [08:12<41:44, 14.91s/it]"
          ]
        },
        {
          "name": "stdout",
          "output_type": "stream",
          "text": [
            "End KNN operations, time taken: 2.413867473602295\n",
            "training loss: 2.8205511569976807\n",
            "End document, total time: 14.627187252044678\n",
            "Begin document\n",
            "Begin KNN operations\n",
            "End KNN operations, time taken: 0.48348021507263184\n",
            "Begin KNN operations\n",
            "End KNN operations, time taken: 0.7575562000274658\n",
            "Begin KNN operations\n",
            "End KNN operations, time taken: 0.9890642166137695\n",
            "Begin KNN operations\n",
            "End KNN operations, time taken: 1.1879761219024658\n",
            "Begin KNN operations\n",
            "End KNN operations, time taken: 1.4156365394592285\n",
            "Begin KNN operations\n",
            "End KNN operations, time taken: 1.6397037506103516\n",
            "Begin KNN operations\n",
            "End KNN operations, time taken: 1.8881428241729736\n",
            "Begin KNN operations\n",
            "End KNN operations, time taken: 2.1196882724761963\n",
            "Begin KNN operations\n"
          ]
        },
        {
          "name": "stderr",
          "output_type": "stream",
          "text": [
            "\rtraining:  16%|█▋        | 33/200 [08:27<41:23, 14.87s/it]"
          ]
        },
        {
          "name": "stdout",
          "output_type": "stream",
          "text": [
            "End KNN operations, time taken: 2.427802562713623\n",
            "training loss: 2.8472460508346558\n",
            "End document, total time: 14.601011276245117\n",
            "Begin document\n",
            "Begin KNN operations\n",
            "End KNN operations, time taken: 0.4754905700683594\n",
            "Begin KNN operations\n",
            "End KNN operations, time taken: 0.7452170848846436\n",
            "Begin KNN operations\n",
            "End KNN operations, time taken: 0.9751391410827637\n",
            "Begin KNN operations\n",
            "End KNN operations, time taken: 1.2030563354492188\n",
            "Begin KNN operations\n",
            "End KNN operations, time taken: 1.4143941402435303\n",
            "Begin KNN operations\n",
            "End KNN operations, time taken: 1.646275520324707\n",
            "Begin KNN operations\n",
            "End KNN operations, time taken: 1.8994617462158203\n",
            "Begin KNN operations\n",
            "End KNN operations, time taken: 2.188796043395996\n",
            "Begin KNN operations\n"
          ]
        },
        {
          "name": "stderr",
          "output_type": "stream",
          "text": [
            "\rtraining:  17%|█▋        | 34/200 [08:41<41:08, 14.87s/it]"
          ]
        },
        {
          "name": "stdout",
          "output_type": "stream",
          "text": [
            "End KNN operations, time taken: 2.4158904552459717\n",
            "training loss: 2.959435081481934\n",
            "End document, total time: 14.68399691581726\n",
            "Begin document\n",
            "Begin KNN operations\n",
            "End KNN operations, time taken: 0.4740316867828369\n",
            "Begin KNN operations\n",
            "End KNN operations, time taken: 0.7462482452392578\n",
            "Begin KNN operations\n",
            "End KNN operations, time taken: 0.9661769866943359\n",
            "Begin KNN operations\n",
            "End KNN operations, time taken: 1.2222347259521484\n",
            "Begin KNN operations\n",
            "End KNN operations, time taken: 1.4424116611480713\n",
            "Begin KNN operations\n",
            "End KNN operations, time taken: 1.7324423789978027\n",
            "Begin KNN operations\n",
            "End KNN operations, time taken: 1.8857624530792236\n",
            "Begin KNN operations\n",
            "End KNN operations, time taken: 2.1318373680114746\n",
            "Begin KNN operations\n"
          ]
        },
        {
          "name": "stderr",
          "output_type": "stream",
          "text": [
            "\rtraining:  18%|█▊        | 35/200 [08:56<40:52, 14.86s/it]"
          ]
        },
        {
          "name": "stdout",
          "output_type": "stream",
          "text": [
            "End KNN operations, time taken: 2.3730199337005615\n",
            "training loss: 2.7400868415832518\n",
            "End document, total time: 14.679750919342041\n",
            "Begin document\n",
            "Begin KNN operations\n",
            "End KNN operations, time taken: 0.4837615489959717\n",
            "Begin KNN operations\n",
            "End KNN operations, time taken: 0.7577097415924072\n",
            "Begin KNN operations\n",
            "End KNN operations, time taken: 0.9823005199432373\n",
            "Begin KNN operations\n",
            "End KNN operations, time taken: 1.250227689743042\n",
            "Begin KNN operations\n",
            "End KNN operations, time taken: 1.4231040477752686\n",
            "Begin KNN operations\n",
            "End KNN operations, time taken: 1.6632652282714844\n",
            "Begin KNN operations\n",
            "End KNN operations, time taken: 1.8743431568145752\n",
            "Begin KNN operations\n",
            "End KNN operations, time taken: 2.100351333618164\n",
            "Begin KNN operations\n"
          ]
        },
        {
          "name": "stderr",
          "output_type": "stream",
          "text": [
            "\rtraining:  18%|█▊        | 36/200 [09:11<40:35, 14.85s/it]"
          ]
        },
        {
          "name": "stdout",
          "output_type": "stream",
          "text": [
            "End KNN operations, time taken: 2.400280237197876\n",
            "training loss: 2.806778407096863\n",
            "End document, total time: 14.642825603485107\n",
            "Begin document\n",
            "Begin KNN operations\n",
            "End KNN operations, time taken: 0.48655152320861816\n",
            "Begin KNN operations\n",
            "End KNN operations, time taken: 0.7907907962799072\n",
            "Begin KNN operations\n",
            "End KNN operations, time taken: 0.9788825511932373\n",
            "Begin KNN operations\n",
            "End KNN operations, time taken: 1.2261714935302734\n",
            "Begin KNN operations\n",
            "End KNN operations, time taken: 1.427187204360962\n",
            "Begin KNN operations\n",
            "End KNN operations, time taken: 1.7028543949127197\n",
            "Begin KNN operations\n",
            "End KNN operations, time taken: 1.8910143375396729\n",
            "Begin KNN operations\n",
            "End KNN operations, time taken: 2.113215923309326\n",
            "Begin KNN operations\n"
          ]
        },
        {
          "name": "stderr",
          "output_type": "stream",
          "text": [
            "\rtraining:  18%|█▊        | 37/200 [09:26<40:25, 14.88s/it]"
          ]
        },
        {
          "name": "stdout",
          "output_type": "stream",
          "text": [
            "End KNN operations, time taken: 2.455847978591919\n",
            "training loss: 2.7729701519012453\n",
            "End document, total time: 14.760037422180176\n",
            "Begin document\n",
            "Begin KNN operations\n",
            "End KNN operations, time taken: 0.4813520908355713\n",
            "Begin KNN operations\n",
            "End KNN operations, time taken: 0.7643742561340332\n",
            "Begin KNN operations\n",
            "End KNN operations, time taken: 0.9680168628692627\n",
            "Begin KNN operations\n",
            "End KNN operations, time taken: 1.2202026844024658\n",
            "Begin KNN operations\n",
            "End KNN operations, time taken: 1.4482755661010742\n",
            "Begin KNN operations\n",
            "End KNN operations, time taken: 1.6623249053955078\n",
            "Begin KNN operations\n",
            "End KNN operations, time taken: 2.0018551349639893\n",
            "Begin KNN operations\n",
            "End KNN operations, time taken: 2.1277453899383545\n",
            "Begin KNN operations\n"
          ]
        },
        {
          "name": "stderr",
          "output_type": "stream",
          "text": [
            "\rtraining:  19%|█▉        | 38/200 [09:41<40:15, 14.91s/it]"
          ]
        },
        {
          "name": "stdout",
          "output_type": "stream",
          "text": [
            "End KNN operations, time taken: 2.424384117126465\n",
            "training loss: 2.844007110595703\n",
            "End document, total time: 14.80804705619812\n",
            "Begin document\n",
            "Begin KNN operations\n",
            "End KNN operations, time taken: 0.47114133834838867\n",
            "Begin KNN operations\n",
            "End KNN operations, time taken: 0.7529392242431641\n",
            "Begin KNN operations\n",
            "End KNN operations, time taken: 0.967336893081665\n",
            "Begin KNN operations\n",
            "End KNN operations, time taken: 1.2306413650512695\n",
            "Begin KNN operations\n",
            "End KNN operations, time taken: 1.4748492240905762\n",
            "Begin KNN operations\n",
            "End KNN operations, time taken: 1.7129149436950684\n",
            "Begin KNN operations\n",
            "End KNN operations, time taken: 1.8675670623779297\n",
            "Begin KNN operations\n",
            "End KNN operations, time taken: 2.147794246673584\n",
            "Begin KNN operations\n"
          ]
        },
        {
          "name": "stderr",
          "output_type": "stream",
          "text": [
            "\rtraining:  20%|█▉        | 39/200 [09:56<39:58, 14.90s/it]"
          ]
        },
        {
          "name": "stdout",
          "output_type": "stream",
          "text": [
            "End KNN operations, time taken: 2.342142343521118\n",
            "training loss: 2.8186784505844114\n",
            "End document, total time: 14.67184853553772\n",
            "Begin document\n",
            "Begin KNN operations\n",
            "End KNN operations, time taken: 0.47324204444885254\n",
            "Begin KNN operations\n",
            "End KNN operations, time taken: 0.7986817359924316\n",
            "Begin KNN operations\n",
            "End KNN operations, time taken: 0.9927470684051514\n",
            "Begin KNN operations\n",
            "End KNN operations, time taken: 1.229191780090332\n",
            "Begin KNN operations\n",
            "End KNN operations, time taken: 1.4203336238861084\n",
            "Begin KNN operations\n",
            "End KNN operations, time taken: 1.6777386665344238\n",
            "Begin KNN operations\n",
            "End KNN operations, time taken: 1.8801183700561523\n",
            "Begin KNN operations\n",
            "End KNN operations, time taken: 2.1415486335754395\n",
            "Begin KNN operations\n"
          ]
        },
        {
          "name": "stderr",
          "output_type": "stream",
          "text": [
            "\rtraining:  20%|██        | 40/200 [10:11<39:48, 14.93s/it]"
          ]
        },
        {
          "name": "stdout",
          "output_type": "stream",
          "text": [
            "End KNN operations, time taken: 2.45054292678833\n",
            "training loss: 2.715817737579346\n",
            "End document, total time: 14.80181622505188\n",
            "Begin document\n",
            "Begin KNN operations\n",
            "End KNN operations, time taken: 0.47714710235595703\n",
            "Begin KNN operations\n",
            "End KNN operations, time taken: 0.7589898109436035\n",
            "Begin KNN operations\n",
            "End KNN operations, time taken: 0.9853904247283936\n",
            "Begin KNN operations\n",
            "End KNN operations, time taken: 1.2385976314544678\n",
            "Begin KNN operations\n",
            "End KNN operations, time taken: 1.4634366035461426\n",
            "Begin KNN operations\n",
            "End KNN operations, time taken: 1.6917216777801514\n",
            "Begin KNN operations\n",
            "End KNN operations, time taken: 1.9327266216278076\n",
            "Begin KNN operations\n",
            "End KNN operations, time taken: 2.2502424716949463\n",
            "Begin KNN operations\n"
          ]
        },
        {
          "name": "stderr",
          "output_type": "stream",
          "text": [
            "\rtraining:  20%|██        | 41/200 [10:26<39:40, 14.97s/it]"
          ]
        },
        {
          "name": "stdout",
          "output_type": "stream",
          "text": [
            "End KNN operations, time taken: 2.3895626068115234\n",
            "training loss: 2.6923449277877807\n",
            "End document, total time: 14.89809250831604\n",
            "Begin document\n",
            "Begin KNN operations\n",
            "End KNN operations, time taken: 0.4876270294189453\n",
            "Begin KNN operations\n",
            "End KNN operations, time taken: 0.7764434814453125\n",
            "Begin KNN operations\n",
            "End KNN operations, time taken: 0.9698896408081055\n",
            "Begin KNN operations\n",
            "End KNN operations, time taken: 1.2145845890045166\n",
            "Begin KNN operations\n",
            "End KNN operations, time taken: 1.4390404224395752\n",
            "Begin KNN operations\n",
            "End KNN operations, time taken: 1.704408884048462\n",
            "Begin KNN operations\n",
            "End KNN operations, time taken: 1.9530525207519531\n",
            "Begin KNN operations\n",
            "End KNN operations, time taken: 2.138350486755371\n",
            "Begin KNN operations\n"
          ]
        },
        {
          "name": "stderr",
          "output_type": "stream",
          "text": [
            "\rtraining:  21%|██        | 42/200 [10:41<39:24, 14.96s/it]"
          ]
        },
        {
          "name": "stdout",
          "output_type": "stream",
          "text": [
            "End KNN operations, time taken: 2.3712191581726074\n",
            "training loss: 2.690593600273132\n",
            "End document, total time: 14.759241819381714\n",
            "Begin document\n",
            "Begin KNN operations\n",
            "End KNN operations, time taken: 0.47267889976501465\n",
            "Begin KNN operations\n",
            "End KNN operations, time taken: 0.748471736907959\n",
            "Begin KNN operations\n",
            "End KNN operations, time taken: 0.9642109870910645\n",
            "Begin KNN operations\n",
            "End KNN operations, time taken: 1.2429907321929932\n",
            "Begin KNN operations\n",
            "End KNN operations, time taken: 1.479578971862793\n",
            "Begin KNN operations\n",
            "End KNN operations, time taken: 1.665168285369873\n",
            "Begin KNN operations\n",
            "End KNN operations, time taken: 1.896916151046753\n",
            "Begin KNN operations\n",
            "End KNN operations, time taken: 2.097381114959717\n",
            "Begin KNN operations\n"
          ]
        },
        {
          "name": "stderr",
          "output_type": "stream",
          "text": [
            "\rtraining:  22%|██▏       | 43/200 [10:56<39:02, 14.92s/it]"
          ]
        },
        {
          "name": "stdout",
          "output_type": "stream",
          "text": [
            "End KNN operations, time taken: 2.3548190593719482\n",
            "training loss: 2.8634023189544675\n",
            "End document, total time: 14.636755228042603\n",
            "Begin document\n",
            "Begin KNN operations\n",
            "End KNN operations, time taken: 0.49655771255493164\n",
            "Begin KNN operations\n",
            "End KNN operations, time taken: 0.7838079929351807\n",
            "Begin KNN operations\n",
            "End KNN operations, time taken: 1.0153534412384033\n",
            "Begin KNN operations\n",
            "End KNN operations, time taken: 1.2066550254821777\n",
            "Begin KNN operations\n",
            "End KNN operations, time taken: 1.4137358665466309\n",
            "Begin KNN operations\n",
            "End KNN operations, time taken: 1.6485509872436523\n",
            "Begin KNN operations\n",
            "End KNN operations, time taken: 1.8766167163848877\n",
            "Begin KNN operations\n",
            "End KNN operations, time taken: 2.1220099925994873\n",
            "Begin KNN operations\n"
          ]
        },
        {
          "name": "stderr",
          "output_type": "stream",
          "text": [
            "\rtraining:  22%|██▏       | 44/200 [11:11<38:44, 14.90s/it]"
          ]
        },
        {
          "name": "stdout",
          "output_type": "stream",
          "text": [
            "End KNN operations, time taken: 2.4202733039855957\n",
            "training loss: 2.6240177392959594\n",
            "End document, total time: 14.679930686950684\n",
            "Begin document\n",
            "Begin KNN operations\n",
            "End KNN operations, time taken: 0.4675469398498535\n",
            "Begin KNN operations\n",
            "End KNN operations, time taken: 0.7508378028869629\n",
            "Begin KNN operations\n",
            "End KNN operations, time taken: 0.9782910346984863\n",
            "Begin KNN operations\n",
            "End KNN operations, time taken: 1.2278494834899902\n",
            "Begin KNN operations\n",
            "End KNN operations, time taken: 1.4260716438293457\n",
            "Begin KNN operations\n",
            "End KNN operations, time taken: 1.6808650493621826\n",
            "Begin KNN operations\n",
            "End KNN operations, time taken: 1.9488465785980225\n",
            "Begin KNN operations\n",
            "End KNN operations, time taken: 2.139589548110962\n",
            "Begin KNN operations\n"
          ]
        },
        {
          "name": "stderr",
          "output_type": "stream",
          "text": [
            "\rtraining:  22%|██▎       | 45/200 [11:25<38:27, 14.89s/it]"
          ]
        },
        {
          "name": "stdout",
          "output_type": "stream",
          "text": [
            "End KNN operations, time taken: 2.3489320278167725\n",
            "training loss: 2.7804325342178347\n",
            "End document, total time: 14.664414882659912\n",
            "Begin document\n",
            "Begin KNN operations\n",
            "End KNN operations, time taken: 0.4862401485443115\n",
            "Begin KNN operations\n",
            "End KNN operations, time taken: 0.7490832805633545\n",
            "Begin KNN operations\n",
            "End KNN operations, time taken: 0.9786937236785889\n",
            "Begin KNN operations\n",
            "End KNN operations, time taken: 1.222395420074463\n",
            "Begin KNN operations\n",
            "End KNN operations, time taken: 1.4288158416748047\n",
            "Begin KNN operations\n",
            "End KNN operations, time taken: 1.7154099941253662\n",
            "Begin KNN operations\n",
            "End KNN operations, time taken: 1.9413020610809326\n",
            "Begin KNN operations\n",
            "End KNN operations, time taken: 2.1051032543182373\n",
            "Begin KNN operations\n"
          ]
        },
        {
          "name": "stderr",
          "output_type": "stream",
          "text": [
            "\rtraining:  23%|██▎       | 46/200 [11:40<38:12, 14.88s/it]"
          ]
        },
        {
          "name": "stdout",
          "output_type": "stream",
          "text": [
            "End KNN operations, time taken: 2.3642489910125732\n",
            "training loss: 2.741799092292786\n",
            "End document, total time: 14.696877479553223\n",
            "Begin document\n",
            "Begin KNN operations\n",
            "End KNN operations, time taken: 0.4747326374053955\n",
            "Begin KNN operations\n",
            "End KNN operations, time taken: 0.755265474319458\n",
            "Begin KNN operations\n",
            "End KNN operations, time taken: 1.0200474262237549\n",
            "Begin KNN operations\n",
            "End KNN operations, time taken: 1.264587640762329\n",
            "Begin KNN operations\n",
            "End KNN operations, time taken: 1.4393599033355713\n",
            "Begin KNN operations\n",
            "End KNN operations, time taken: 1.6587743759155273\n",
            "Begin KNN operations\n",
            "End KNN operations, time taken: 1.8928468227386475\n",
            "Begin KNN operations\n",
            "End KNN operations, time taken: 2.100233793258667\n",
            "Begin KNN operations\n"
          ]
        },
        {
          "name": "stderr",
          "output_type": "stream",
          "text": [
            "\rtraining:  24%|██▎       | 47/200 [11:55<37:56, 14.88s/it]"
          ]
        },
        {
          "name": "stdout",
          "output_type": "stream",
          "text": [
            "End KNN operations, time taken: 2.3609704971313477\n",
            "training loss: 2.6494030237197874\n",
            "End document, total time: 14.67220425605774\n",
            "Begin document\n",
            "Begin KNN operations\n",
            "End KNN operations, time taken: 0.4892141819000244\n",
            "Begin KNN operations\n",
            "End KNN operations, time taken: 0.7402758598327637\n",
            "Begin KNN operations\n",
            "End KNN operations, time taken: 0.9885721206665039\n",
            "Begin KNN operations\n",
            "End KNN operations, time taken: 1.2023820877075195\n",
            "Begin KNN operations\n",
            "End KNN operations, time taken: 1.4274814128875732\n",
            "Begin KNN operations\n",
            "End KNN operations, time taken: 1.6591954231262207\n",
            "Begin KNN operations\n",
            "End KNN operations, time taken: 1.8671772480010986\n",
            "Begin KNN operations\n",
            "End KNN operations, time taken: 2.163363218307495\n",
            "Begin KNN operations\n"
          ]
        },
        {
          "name": "stderr",
          "output_type": "stream",
          "text": [
            "\rtraining:  24%|██▍       | 48/200 [12:10<37:39, 14.86s/it]"
          ]
        },
        {
          "name": "stdout",
          "output_type": "stream",
          "text": [
            "End KNN operations, time taken: 2.39823842048645\n",
            "training loss: 2.749323344230652\n",
            "End document, total time: 14.64768671989441\n",
            "Begin document\n",
            "Begin KNN operations\n",
            "End KNN operations, time taken: 0.46961212158203125\n",
            "Begin KNN operations\n",
            "End KNN operations, time taken: 0.7542741298675537\n",
            "Begin KNN operations\n",
            "End KNN operations, time taken: 0.9913489818572998\n",
            "Begin KNN operations\n",
            "End KNN operations, time taken: 1.2325193881988525\n",
            "Begin KNN operations\n",
            "End KNN operations, time taken: 1.4375066757202148\n",
            "Begin KNN operations\n",
            "End KNN operations, time taken: 1.6672134399414062\n",
            "Begin KNN operations\n",
            "End KNN operations, time taken: 1.9428534507751465\n",
            "Begin KNN operations\n",
            "End KNN operations, time taken: 2.1326897144317627\n",
            "Begin KNN operations\n"
          ]
        },
        {
          "name": "stderr",
          "output_type": "stream",
          "text": [
            "\rtraining:  24%|██▍       | 49/200 [12:25<37:25, 14.87s/it]"
          ]
        },
        {
          "name": "stdout",
          "output_type": "stream",
          "text": [
            "End KNN operations, time taken: 2.3618173599243164\n",
            "training loss: 2.607356953620911\n",
            "End document, total time: 14.711924314498901\n",
            "Begin document\n",
            "Begin KNN operations\n",
            "End KNN operations, time taken: 0.48039674758911133\n",
            "Begin KNN operations\n",
            "End KNN operations, time taken: 0.7480154037475586\n",
            "Begin KNN operations\n",
            "End KNN operations, time taken: 0.9833352565765381\n",
            "Begin KNN operations\n",
            "End KNN operations, time taken: 1.2031750679016113\n",
            "Begin KNN operations\n",
            "End KNN operations, time taken: 1.4800760746002197\n",
            "Begin KNN operations\n",
            "End KNN operations, time taken: 1.6396331787109375\n",
            "Begin KNN operations\n",
            "End KNN operations, time taken: 1.898409128189087\n",
            "Begin KNN operations\n",
            "End KNN operations, time taken: 2.1105380058288574\n",
            "Begin KNN operations\n"
          ]
        },
        {
          "name": "stderr",
          "output_type": "stream",
          "text": [
            "\rtraining:  25%|██▌       | 50/200 [12:40<37:10, 14.87s/it]"
          ]
        },
        {
          "name": "stdout",
          "output_type": "stream",
          "text": [
            "End KNN operations, time taken: 2.432177782058716\n",
            "training loss: 2.6865880012512204\n",
            "End document, total time: 14.675077676773071\n",
            "Begin document\n",
            "Begin KNN operations\n",
            "End KNN operations, time taken: 0.4717404842376709\n",
            "Begin KNN operations\n",
            "End KNN operations, time taken: 0.7807877063751221\n",
            "Begin KNN operations\n",
            "End KNN operations, time taken: 1.0474658012390137\n",
            "Begin KNN operations\n",
            "End KNN operations, time taken: 1.2240893840789795\n",
            "Begin KNN operations\n",
            "End KNN operations, time taken: 1.479430913925171\n",
            "Begin KNN operations\n",
            "End KNN operations, time taken: 1.6746032238006592\n",
            "Begin KNN operations\n",
            "End KNN operations, time taken: 1.8954284191131592\n",
            "Begin KNN operations\n",
            "End KNN operations, time taken: 2.1839168071746826\n",
            "Begin KNN operations\n"
          ]
        },
        {
          "name": "stderr",
          "output_type": "stream",
          "text": [
            "\rtraining:  26%|██▌       | 51/200 [12:55<37:07, 14.95s/it]"
          ]
        },
        {
          "name": "stdout",
          "output_type": "stream",
          "text": [
            "End KNN operations, time taken: 2.442199468612671\n",
            "training loss: 2.696741771697998\n",
            "End document, total time: 14.939074277877808\n",
            "Begin document\n",
            "Begin KNN operations\n",
            "End KNN operations, time taken: 0.48301267623901367\n",
            "Begin KNN operations\n",
            "End KNN operations, time taken: 0.7587316036224365\n",
            "Begin KNN operations\n",
            "End KNN operations, time taken: 0.9844322204589844\n",
            "Begin KNN operations\n",
            "End KNN operations, time taken: 1.2042758464813232\n",
            "Begin KNN operations\n",
            "End KNN operations, time taken: 1.479644775390625\n",
            "Begin KNN operations\n",
            "End KNN operations, time taken: 1.6373004913330078\n",
            "Begin KNN operations\n",
            "End KNN operations, time taken: 1.8552041053771973\n",
            "Begin KNN operations\n",
            "End KNN operations, time taken: 2.201768398284912\n",
            "Begin KNN operations\n"
          ]
        },
        {
          "name": "stderr",
          "output_type": "stream",
          "text": [
            "\rtraining:  26%|██▌       | 52/200 [13:10<36:48, 14.92s/it]"
          ]
        },
        {
          "name": "stdout",
          "output_type": "stream",
          "text": [
            "End KNN operations, time taken: 2.3680057525634766\n",
            "training loss: 2.628322458267212\n",
            "End document, total time: 14.67643141746521\n",
            "Begin document\n",
            "Begin KNN operations\n",
            "End KNN operations, time taken: 0.4760417938232422\n",
            "Begin KNN operations\n",
            "End KNN operations, time taken: 0.7396316528320312\n",
            "Begin KNN operations\n",
            "End KNN operations, time taken: 0.9658162593841553\n",
            "Begin KNN operations\n",
            "End KNN operations, time taken: 1.1840918064117432\n",
            "Begin KNN operations\n",
            "End KNN operations, time taken: 1.4718334674835205\n",
            "Begin KNN operations\n",
            "End KNN operations, time taken: 1.6791386604309082\n",
            "Begin KNN operations\n",
            "End KNN operations, time taken: 1.8778131008148193\n",
            "Begin KNN operations\n",
            "End KNN operations, time taken: 2.104203462600708\n",
            "Begin KNN operations\n"
          ]
        },
        {
          "name": "stderr",
          "output_type": "stream",
          "text": [
            "\rtraining:  26%|██▋       | 53/200 [13:24<36:25, 14.87s/it]"
          ]
        },
        {
          "name": "stdout",
          "output_type": "stream",
          "text": [
            "End KNN operations, time taken: 2.3664238452911377\n",
            "training loss: 2.6204872846603395\n",
            "End document, total time: 14.561211347579956\n",
            "Begin document\n",
            "Begin KNN operations\n",
            "End KNN operations, time taken: 0.48076462745666504\n",
            "Begin KNN operations\n",
            "End KNN operations, time taken: 0.7408137321472168\n",
            "Begin KNN operations\n",
            "End KNN operations, time taken: 0.9785575866699219\n",
            "Begin KNN operations\n",
            "End KNN operations, time taken: 1.2583739757537842\n",
            "Begin KNN operations\n",
            "End KNN operations, time taken: 1.4369118213653564\n",
            "Begin KNN operations\n",
            "End KNN operations, time taken: 1.625713586807251\n",
            "Begin KNN operations\n",
            "End KNN operations, time taken: 1.889455795288086\n",
            "Begin KNN operations\n",
            "End KNN operations, time taken: 2.1129531860351562\n",
            "Begin KNN operations\n"
          ]
        },
        {
          "name": "stderr",
          "output_type": "stream",
          "text": [
            "\rtraining:  27%|██▋       | 54/200 [13:39<36:08, 14.85s/it]"
          ]
        },
        {
          "name": "stdout",
          "output_type": "stream",
          "text": [
            "End KNN operations, time taken: 2.407468557357788\n",
            "training loss: 2.60718343257904\n",
            "End document, total time: 14.631522178649902\n",
            "Begin document\n",
            "Begin KNN operations\n",
            "End KNN operations, time taken: 0.49815988540649414\n",
            "Begin KNN operations\n",
            "End KNN operations, time taken: 0.7786014080047607\n",
            "Begin KNN operations\n",
            "End KNN operations, time taken: 0.9667832851409912\n",
            "Begin KNN operations\n",
            "End KNN operations, time taken: 1.2133917808532715\n",
            "Begin KNN operations\n",
            "End KNN operations, time taken: 1.460608959197998\n",
            "Begin KNN operations\n",
            "End KNN operations, time taken: 1.6640639305114746\n",
            "Begin KNN operations\n",
            "End KNN operations, time taken: 1.8982925415039062\n",
            "Begin KNN operations\n",
            "End KNN operations, time taken: 2.1381781101226807\n",
            "Begin KNN operations\n"
          ]
        },
        {
          "name": "stderr",
          "output_type": "stream",
          "text": [
            "\rtraining:  28%|██▊       | 55/200 [13:54<35:56, 14.88s/it]"
          ]
        },
        {
          "name": "stdout",
          "output_type": "stream",
          "text": [
            "End KNN operations, time taken: 2.41849422454834\n",
            "training loss: 2.604366230964661\n",
            "End document, total time: 14.734868049621582\n",
            "Begin document\n",
            "Begin KNN operations\n",
            "End KNN operations, time taken: 0.47937822341918945\n",
            "Begin KNN operations\n",
            "End KNN operations, time taken: 0.7470798492431641\n",
            "Begin KNN operations\n",
            "End KNN operations, time taken: 0.9914131164550781\n",
            "Begin KNN operations\n",
            "End KNN operations, time taken: 1.2243766784667969\n",
            "Begin KNN operations\n",
            "End KNN operations, time taken: 1.470991611480713\n",
            "Begin KNN operations\n",
            "End KNN operations, time taken: 1.6466319561004639\n",
            "Begin KNN operations\n",
            "End KNN operations, time taken: 1.9708294868469238\n",
            "Begin KNN operations\n",
            "End KNN operations, time taken: 2.108631134033203\n",
            "Begin KNN operations\n"
          ]
        },
        {
          "name": "stderr",
          "output_type": "stream",
          "text": [
            "\rtraining:  28%|██▊       | 56/200 [14:09<35:45, 14.90s/it]"
          ]
        },
        {
          "name": "stdout",
          "output_type": "stream",
          "text": [
            "End KNN operations, time taken: 2.3930649757385254\n",
            "training loss: 2.5575271368026735\n",
            "End document, total time: 14.75770092010498\n",
            "Begin document\n",
            "Begin KNN operations\n",
            "End KNN operations, time taken: 0.4764716625213623\n",
            "Begin KNN operations\n",
            "End KNN operations, time taken: 0.7501785755157471\n",
            "Begin KNN operations\n",
            "End KNN operations, time taken: 0.9805431365966797\n",
            "Begin KNN operations\n",
            "End KNN operations, time taken: 1.226604700088501\n",
            "Begin KNN operations\n",
            "End KNN operations, time taken: 1.4646484851837158\n",
            "Begin KNN operations\n",
            "End KNN operations, time taken: 1.7059504985809326\n",
            "Begin KNN operations\n",
            "End KNN operations, time taken: 1.9187233448028564\n",
            "Begin KNN operations\n",
            "End KNN operations, time taken: 2.192823648452759\n",
            "Begin KNN operations\n"
          ]
        },
        {
          "name": "stderr",
          "output_type": "stream",
          "text": [
            "\rtraining:  28%|██▊       | 57/200 [14:24<35:33, 14.92s/it]"
          ]
        },
        {
          "name": "stdout",
          "output_type": "stream",
          "text": [
            "End KNN operations, time taken: 2.3747470378875732\n",
            "training loss: 2.578276920318604\n",
            "End document, total time: 14.79167127609253\n",
            "Begin document\n",
            "Begin KNN operations\n",
            "End KNN operations, time taken: 0.48154520988464355\n",
            "Begin KNN operations\n",
            "End KNN operations, time taken: 0.7564833164215088\n",
            "Begin KNN operations\n",
            "End KNN operations, time taken: 0.9923138618469238\n",
            "Begin KNN operations\n",
            "End KNN operations, time taken: 1.2453651428222656\n",
            "Begin KNN operations\n",
            "End KNN operations, time taken: 1.4346625804901123\n",
            "Begin KNN operations\n",
            "End KNN operations, time taken: 1.6373074054718018\n",
            "Begin KNN operations\n",
            "End KNN operations, time taken: 1.8817858695983887\n",
            "Begin KNN operations\n",
            "End KNN operations, time taken: 2.1308867931365967\n",
            "Begin KNN operations\n"
          ]
        },
        {
          "name": "stderr",
          "output_type": "stream",
          "text": [
            "\rtraining:  29%|██▉       | 58/200 [14:39<35:17, 14.91s/it]"
          ]
        },
        {
          "name": "stdout",
          "output_type": "stream",
          "text": [
            "End KNN operations, time taken: 2.453918933868408\n",
            "training loss: 2.771521043777466\n",
            "End document, total time: 14.702804327011108\n",
            "Begin document\n",
            "Begin KNN operations\n",
            "End KNN operations, time taken: 0.4741995334625244\n",
            "Begin KNN operations\n",
            "End KNN operations, time taken: 0.7700541019439697\n",
            "Begin KNN operations\n",
            "End KNN operations, time taken: 1.0021657943725586\n",
            "Begin KNN operations\n",
            "End KNN operations, time taken: 1.19630765914917\n",
            "Begin KNN operations\n",
            "End KNN operations, time taken: 1.4264171123504639\n",
            "Begin KNN operations\n",
            "End KNN operations, time taken: 1.7068665027618408\n",
            "Begin KNN operations\n",
            "End KNN operations, time taken: 1.8969395160675049\n",
            "Begin KNN operations\n",
            "End KNN operations, time taken: 2.187418222427368\n",
            "Begin KNN operations\n"
          ]
        },
        {
          "name": "stderr",
          "output_type": "stream",
          "text": [
            "\rtraining:  30%|██▉       | 59/200 [14:54<35:02, 14.91s/it]"
          ]
        },
        {
          "name": "stdout",
          "output_type": "stream",
          "text": [
            "End KNN operations, time taken: 2.349080801010132\n",
            "training loss: 2.606078386306763\n",
            "End document, total time: 14.726085662841797\n",
            "Begin document\n",
            "Begin KNN operations\n",
            "End KNN operations, time taken: 0.48328471183776855\n",
            "Begin KNN operations\n",
            "End KNN operations, time taken: 0.740339994430542\n",
            "Begin KNN operations\n",
            "End KNN operations, time taken: 0.9675750732421875\n",
            "Begin KNN operations\n",
            "End KNN operations, time taken: 1.2378408908843994\n",
            "Begin KNN operations\n",
            "End KNN operations, time taken: 1.4150660037994385\n",
            "Begin KNN operations\n",
            "End KNN operations, time taken: 1.7043242454528809\n",
            "Begin KNN operations\n",
            "End KNN operations, time taken: 1.9261276721954346\n",
            "Begin KNN operations\n",
            "End KNN operations, time taken: 2.1081275939941406\n",
            "Begin KNN operations\n"
          ]
        },
        {
          "name": "stderr",
          "output_type": "stream",
          "text": [
            "\rtraining:  30%|███       | 60/200 [15:09<34:44, 14.89s/it]"
          ]
        },
        {
          "name": "stdout",
          "output_type": "stream",
          "text": [
            "End KNN operations, time taken: 2.365102767944336\n",
            "training loss: 2.615067791938782\n",
            "End document, total time: 14.643923282623291\n",
            "Begin document\n",
            "Begin KNN operations\n",
            "End KNN operations, time taken: 0.4769477844238281\n",
            "Begin KNN operations\n",
            "End KNN operations, time taken: 0.7515971660614014\n",
            "Begin KNN operations\n",
            "End KNN operations, time taken: 0.9730794429779053\n",
            "Begin KNN operations\n",
            "End KNN operations, time taken: 1.2316861152648926\n",
            "Begin KNN operations\n",
            "End KNN operations, time taken: 1.5167782306671143\n",
            "Begin KNN operations\n",
            "End KNN operations, time taken: 1.7244126796722412\n",
            "Begin KNN operations\n",
            "End KNN operations, time taken: 1.9355065822601318\n",
            "Begin KNN operations\n",
            "End KNN operations, time taken: 2.1623685359954834\n",
            "Begin KNN operations\n"
          ]
        },
        {
          "name": "stderr",
          "output_type": "stream",
          "text": [
            "\rtraining:  30%|███       | 61/200 [15:24<34:35, 14.94s/it]"
          ]
        },
        {
          "name": "stdout",
          "output_type": "stream",
          "text": [
            "End KNN operations, time taken: 2.372631311416626\n",
            "training loss: 2.568788909912109\n",
            "End document, total time: 14.8570077419281\n",
            "Begin document\n",
            "Begin KNN operations\n",
            "End KNN operations, time taken: 0.47847509384155273\n",
            "Begin KNN operations\n",
            "End KNN operations, time taken: 0.7711021900177002\n",
            "Begin KNN operations\n",
            "End KNN operations, time taken: 0.9669861793518066\n",
            "Begin KNN operations\n",
            "End KNN operations, time taken: 1.2191946506500244\n",
            "Begin KNN operations\n",
            "End KNN operations, time taken: 1.4286115169525146\n",
            "Begin KNN operations\n",
            "End KNN operations, time taken: 1.6668822765350342\n",
            "Begin KNN operations\n",
            "End KNN operations, time taken: 1.8881070613861084\n",
            "Begin KNN operations\n",
            "End KNN operations, time taken: 2.149484157562256\n",
            "Begin KNN operations\n"
          ]
        },
        {
          "name": "stderr",
          "output_type": "stream",
          "text": [
            "\rtraining:  31%|███       | 62/200 [15:39<34:20, 14.93s/it]"
          ]
        },
        {
          "name": "stdout",
          "output_type": "stream",
          "text": [
            "End KNN operations, time taken: 2.4538211822509766\n",
            "training loss: 2.6289670944213865\n",
            "End document, total time: 14.745342493057251\n",
            "Begin document\n",
            "Begin KNN operations\n",
            "End KNN operations, time taken: 0.46546196937561035\n",
            "Begin KNN operations\n",
            "End KNN operations, time taken: 0.7507402896881104\n",
            "Begin KNN operations\n",
            "End KNN operations, time taken: 0.9967920780181885\n",
            "Begin KNN operations\n",
            "End KNN operations, time taken: 1.213670015335083\n",
            "Begin KNN operations\n",
            "End KNN operations, time taken: 1.4419465065002441\n",
            "Begin KNN operations\n",
            "End KNN operations, time taken: 1.701819658279419\n",
            "Begin KNN operations\n",
            "End KNN operations, time taken: 1.9599266052246094\n",
            "Begin KNN operations\n",
            "End KNN operations, time taken: 2.160651683807373\n",
            "Begin KNN operations\n"
          ]
        },
        {
          "name": "stderr",
          "output_type": "stream",
          "text": [
            "\rtraining:  32%|███▏      | 63/200 [15:54<34:06, 14.94s/it]"
          ]
        },
        {
          "name": "stdout",
          "output_type": "stream",
          "text": [
            "End KNN operations, time taken: 2.352407217025757\n",
            "training loss: 2.5338738441467283\n",
            "End document, total time: 14.776860237121582\n",
            "Begin document\n",
            "Begin KNN operations\n",
            "End KNN operations, time taken: 0.4750690460205078\n",
            "Begin KNN operations\n",
            "End KNN operations, time taken: 0.7574999332427979\n",
            "Begin KNN operations\n",
            "End KNN operations, time taken: 0.9821300506591797\n",
            "Begin KNN operations\n",
            "End KNN operations, time taken: 1.2286546230316162\n",
            "Begin KNN operations\n",
            "End KNN operations, time taken: 1.4602837562561035\n",
            "Begin KNN operations\n",
            "End KNN operations, time taken: 1.7348923683166504\n",
            "Begin KNN operations\n",
            "End KNN operations, time taken: 1.9910333156585693\n",
            "Begin KNN operations\n",
            "End KNN operations, time taken: 2.1486945152282715\n",
            "Begin KNN operations\n"
          ]
        },
        {
          "name": "stderr",
          "output_type": "stream",
          "text": [
            "\rtraining:  32%|███▏      | 64/200 [16:09<33:56, 14.98s/it]"
          ]
        },
        {
          "name": "stdout",
          "output_type": "stream",
          "text": [
            "End KNN operations, time taken: 2.3888533115386963\n",
            "training loss: 2.5856857776641844\n",
            "End document, total time: 14.870795249938965\n",
            "Begin document\n",
            "Begin KNN operations\n",
            "End KNN operations, time taken: 0.4678151607513428\n",
            "Begin KNN operations\n",
            "End KNN operations, time taken: 0.7542836666107178\n",
            "Begin KNN operations\n",
            "End KNN operations, time taken: 1.024719476699829\n",
            "Begin KNN operations\n",
            "End KNN operations, time taken: 1.2315280437469482\n",
            "Begin KNN operations\n",
            "End KNN operations, time taken: 1.435359239578247\n",
            "Begin KNN operations\n",
            "End KNN operations, time taken: 1.674009084701538\n",
            "Begin KNN operations\n",
            "End KNN operations, time taken: 1.8799784183502197\n",
            "Begin KNN operations\n",
            "End KNN operations, time taken: 2.114600896835327\n",
            "Begin KNN operations\n"
          ]
        },
        {
          "name": "stderr",
          "output_type": "stream",
          "text": [
            "\rtraining:  32%|███▎      | 65/200 [16:24<33:37, 14.95s/it]"
          ]
        },
        {
          "name": "stdout",
          "output_type": "stream",
          "text": [
            "End KNN operations, time taken: 2.390817880630493\n",
            "training loss: 2.528374147415161\n",
            "End document, total time: 14.690115928649902\n",
            "Begin document\n",
            "Begin KNN operations\n",
            "End KNN operations, time taken: 0.47277259826660156\n",
            "Begin KNN operations\n",
            "End KNN operations, time taken: 0.7578020095825195\n",
            "Begin KNN operations\n",
            "End KNN operations, time taken: 0.9775185585021973\n",
            "Begin KNN operations\n",
            "End KNN operations, time taken: 1.2513353824615479\n",
            "Begin KNN operations\n",
            "End KNN operations, time taken: 1.4551608562469482\n",
            "Begin KNN operations\n",
            "End KNN operations, time taken: 1.6749250888824463\n",
            "Begin KNN operations\n",
            "End KNN operations, time taken: 1.898463487625122\n",
            "Begin KNN operations\n",
            "End KNN operations, time taken: 2.1926989555358887\n",
            "Begin KNN operations\n"
          ]
        },
        {
          "name": "stderr",
          "output_type": "stream",
          "text": [
            "\rtraining:  33%|███▎      | 66/200 [16:39<33:22, 14.94s/it]"
          ]
        },
        {
          "name": "stdout",
          "output_type": "stream",
          "text": [
            "End KNN operations, time taken: 2.3676295280456543\n",
            "training loss: 2.564573431015015\n",
            "End document, total time: 14.745608568191528\n",
            "Begin document\n",
            "Begin KNN operations\n",
            "End KNN operations, time taken: 0.4646310806274414\n",
            "Begin KNN operations\n",
            "End KNN operations, time taken: 0.7568714618682861\n",
            "Begin KNN operations\n",
            "End KNN operations, time taken: 1.0036964416503906\n",
            "Begin KNN operations\n",
            "End KNN operations, time taken: 1.237626075744629\n",
            "Begin KNN operations\n",
            "End KNN operations, time taken: 1.4314064979553223\n",
            "Begin KNN operations\n",
            "End KNN operations, time taken: 1.6697790622711182\n",
            "Begin KNN operations\n",
            "End KNN operations, time taken: 1.9991204738616943\n",
            "Begin KNN operations\n",
            "End KNN operations, time taken: 2.1304714679718018\n",
            "Begin KNN operations\n"
          ]
        },
        {
          "name": "stderr",
          "output_type": "stream",
          "text": [
            "\rtraining:  34%|███▎      | 67/200 [16:54<33:07, 14.95s/it]"
          ]
        },
        {
          "name": "stdout",
          "output_type": "stream",
          "text": [
            "End KNN operations, time taken: 2.364893674850464\n",
            "training loss: 2.7500630378723145\n",
            "End document, total time: 14.765351295471191\n",
            "Begin document\n",
            "Begin KNN operations\n",
            "End KNN operations, time taken: 0.469022274017334\n",
            "Begin KNN operations\n",
            "End KNN operations, time taken: 0.7596838474273682\n",
            "Begin KNN operations\n",
            "End KNN operations, time taken: 0.9812347888946533\n",
            "Begin KNN operations\n",
            "End KNN operations, time taken: 1.2271111011505127\n",
            "Begin KNN operations\n",
            "End KNN operations, time taken: 1.4897730350494385\n",
            "Begin KNN operations\n",
            "End KNN operations, time taken: 1.6925036907196045\n",
            "Begin KNN operations\n",
            "End KNN operations, time taken: 1.9196393489837646\n",
            "Begin KNN operations\n",
            "End KNN operations, time taken: 2.1179535388946533\n",
            "Begin KNN operations\n"
          ]
        },
        {
          "name": "stderr",
          "output_type": "stream",
          "text": [
            "\rtraining:  34%|███▍      | 68/200 [17:08<32:51, 14.94s/it]"
          ]
        },
        {
          "name": "stdout",
          "output_type": "stream",
          "text": [
            "End KNN operations, time taken: 2.378558397293091\n",
            "training loss: 2.635791277885437\n",
            "End document, total time: 14.743864297866821\n",
            "Begin document\n",
            "Begin KNN operations\n",
            "End KNN operations, time taken: 0.48126697540283203\n",
            "Begin KNN operations\n",
            "End KNN operations, time taken: 0.7874021530151367\n",
            "Begin KNN operations\n",
            "End KNN operations, time taken: 0.988133430480957\n",
            "Begin KNN operations\n",
            "End KNN operations, time taken: 1.2147183418273926\n",
            "Begin KNN operations\n",
            "End KNN operations, time taken: 1.42689847946167\n",
            "Begin KNN operations\n",
            "End KNN operations, time taken: 1.6750996112823486\n",
            "Begin KNN operations\n",
            "End KNN operations, time taken: 1.935544729232788\n",
            "Begin KNN operations\n",
            "End KNN operations, time taken: 2.1185412406921387\n",
            "Begin KNN operations\n"
          ]
        },
        {
          "name": "stderr",
          "output_type": "stream",
          "text": [
            "\rtraining:  34%|███▍      | 69/200 [17:23<32:38, 14.95s/it]"
          ]
        },
        {
          "name": "stdout",
          "output_type": "stream",
          "text": [
            "End KNN operations, time taken: 2.4426350593566895\n",
            "training loss: 2.552727389335632\n",
            "End document, total time: 14.79772424697876\n",
            "Begin document\n",
            "Begin KNN operations\n",
            "End KNN operations, time taken: 0.46926069259643555\n",
            "Begin KNN operations\n",
            "End KNN operations, time taken: 0.7424726486206055\n",
            "Begin KNN operations\n",
            "End KNN operations, time taken: 0.9777898788452148\n",
            "Begin KNN operations\n",
            "End KNN operations, time taken: 1.1964218616485596\n",
            "Begin KNN operations\n",
            "End KNN operations, time taken: 1.4132826328277588\n",
            "Begin KNN operations\n",
            "End KNN operations, time taken: 1.6563756465911865\n",
            "Begin KNN operations\n",
            "End KNN operations, time taken: 1.8932862281799316\n",
            "Begin KNN operations\n",
            "End KNN operations, time taken: 2.1615655422210693\n",
            "Begin KNN operations\n"
          ]
        },
        {
          "name": "stderr",
          "output_type": "stream",
          "text": [
            "\rtraining:  35%|███▌      | 70/200 [17:38<32:15, 14.89s/it]"
          ]
        },
        {
          "name": "stdout",
          "output_type": "stream",
          "text": [
            "End KNN operations, time taken: 2.346811294555664\n",
            "training loss: 2.5738286972045903\n",
            "End document, total time: 14.560983180999756\n",
            "Begin document\n",
            "Begin KNN operations\n",
            "End KNN operations, time taken: 0.4760708808898926\n",
            "Begin KNN operations\n",
            "End KNN operations, time taken: 0.7408454418182373\n",
            "Begin KNN operations\n",
            "End KNN operations, time taken: 0.9715361595153809\n",
            "Begin KNN operations\n",
            "End KNN operations, time taken: 1.1882503032684326\n",
            "Begin KNN operations\n",
            "End KNN operations, time taken: 1.414712905883789\n",
            "Begin KNN operations\n",
            "End KNN operations, time taken: 1.7124686241149902\n",
            "Begin KNN operations\n",
            "End KNN operations, time taken: 1.899348258972168\n",
            "Begin KNN operations\n",
            "End KNN operations, time taken: 2.0792453289031982\n",
            "Begin KNN operations\n"
          ]
        },
        {
          "name": "stderr",
          "output_type": "stream",
          "text": [
            "\rtraining:  36%|███▌      | 71/200 [17:53<31:52, 14.83s/it]"
          ]
        },
        {
          "name": "stdout",
          "output_type": "stream",
          "text": [
            "End KNN operations, time taken: 2.341251850128174\n",
            "training loss: 2.528142619132996\n",
            "End document, total time: 14.518078327178955\n",
            "Begin document\n",
            "Begin KNN operations\n",
            "End KNN operations, time taken: 0.4665868282318115\n",
            "Begin KNN operations\n",
            "End KNN operations, time taken: 0.7376775741577148\n",
            "Begin KNN operations\n",
            "End KNN operations, time taken: 0.9850814342498779\n",
            "Begin KNN operations\n",
            "End KNN operations, time taken: 1.2506160736083984\n",
            "Begin KNN operations\n",
            "End KNN operations, time taken: 1.4383397102355957\n",
            "Begin KNN operations\n",
            "End KNN operations, time taken: 1.6646349430084229\n",
            "Begin KNN operations\n",
            "End KNN operations, time taken: 1.946664810180664\n",
            "Begin KNN operations\n",
            "End KNN operations, time taken: 2.132096767425537\n",
            "Begin KNN operations\n"
          ]
        },
        {
          "name": "stderr",
          "output_type": "stream",
          "text": [
            "\rtraining:  36%|███▌      | 72/200 [18:08<31:41, 14.85s/it]"
          ]
        },
        {
          "name": "stdout",
          "output_type": "stream",
          "text": [
            "End KNN operations, time taken: 2.3863372802734375\n",
            "training loss: 2.5227254390716554\n",
            "End document, total time: 14.730503797531128\n",
            "Begin document\n",
            "Begin KNN operations\n",
            "End KNN operations, time taken: 0.4815032482147217\n",
            "Begin KNN operations\n",
            "End KNN operations, time taken: 0.7561345100402832\n",
            "Begin KNN operations\n",
            "End KNN operations, time taken: 0.9847314357757568\n",
            "Begin KNN operations\n",
            "End KNN operations, time taken: 1.1909160614013672\n",
            "Begin KNN operations\n",
            "End KNN operations, time taken: 1.4472923278808594\n",
            "Begin KNN operations\n",
            "End KNN operations, time taken: 1.6491897106170654\n",
            "Begin KNN operations\n",
            "End KNN operations, time taken: 1.877561330795288\n",
            "Begin KNN operations\n",
            "End KNN operations, time taken: 2.151244640350342\n",
            "Begin KNN operations\n"
          ]
        },
        {
          "name": "stderr",
          "output_type": "stream",
          "text": [
            "\rtraining:  36%|███▋      | 73/200 [18:23<31:25, 14.85s/it]"
          ]
        },
        {
          "name": "stdout",
          "output_type": "stream",
          "text": [
            "End KNN operations, time taken: 2.4174702167510986\n",
            "training loss: 2.5149769067764276\n",
            "End document, total time: 14.669179916381836\n",
            "Begin document\n",
            "Begin KNN operations\n",
            "End KNN operations, time taken: 0.4834325313568115\n",
            "Begin KNN operations\n",
            "End KNN operations, time taken: 0.7436859607696533\n",
            "Begin KNN operations\n",
            "End KNN operations, time taken: 0.9710967540740967\n",
            "Begin KNN operations\n",
            "End KNN operations, time taken: 1.1888623237609863\n",
            "Begin KNN operations\n",
            "End KNN operations, time taken: 1.462282657623291\n",
            "Begin KNN operations\n",
            "End KNN operations, time taken: 1.6457622051239014\n",
            "Begin KNN operations\n",
            "End KNN operations, time taken: 1.9531774520874023\n",
            "Begin KNN operations\n",
            "End KNN operations, time taken: 2.1105844974517822\n",
            "Begin KNN operations\n"
          ]
        },
        {
          "name": "stderr",
          "output_type": "stream",
          "text": [
            "\rtraining:  37%|███▋      | 74/200 [18:37<31:08, 14.83s/it]"
          ]
        },
        {
          "name": "stdout",
          "output_type": "stream",
          "text": [
            "End KNN operations, time taken: 2.348281145095825\n",
            "training loss: 2.5396602630615233\n",
            "End document, total time: 14.610424041748047\n",
            "Begin document\n",
            "Begin KNN operations\n",
            "End KNN operations, time taken: 0.46762776374816895\n",
            "Begin KNN operations\n",
            "End KNN operations, time taken: 0.7516872882843018\n",
            "Begin KNN operations\n",
            "End KNN operations, time taken: 0.9710323810577393\n",
            "Begin KNN operations\n",
            "End KNN operations, time taken: 1.1944026947021484\n",
            "Begin KNN operations\n",
            "End KNN operations, time taken: 1.489962100982666\n",
            "Begin KNN operations\n",
            "End KNN operations, time taken: 1.700695514678955\n",
            "Begin KNN operations\n",
            "End KNN operations, time taken: 1.8575019836425781\n",
            "Begin KNN operations\n",
            "End KNN operations, time taken: 2.154622793197632\n",
            "Begin KNN operations\n"
          ]
        },
        {
          "name": "stderr",
          "output_type": "stream",
          "text": [
            "\rtraining:  38%|███▊      | 75/200 [18:52<30:53, 14.83s/it]"
          ]
        },
        {
          "name": "stdout",
          "output_type": "stream",
          "text": [
            "End KNN operations, time taken: 2.3542850017547607\n",
            "training loss: 2.506850600242615\n",
            "End document, total time: 14.6300208568573\n",
            "Begin document\n",
            "Begin KNN operations\n",
            "End KNN operations, time taken: 0.470719575881958\n",
            "Begin KNN operations\n",
            "End KNN operations, time taken: 0.7637248039245605\n",
            "Begin KNN operations\n",
            "End KNN operations, time taken: 1.026726484298706\n",
            "Begin KNN operations\n",
            "End KNN operations, time taken: 1.1995429992675781\n",
            "Begin KNN operations\n",
            "End KNN operations, time taken: 1.4237730503082275\n",
            "Begin KNN operations\n",
            "End KNN operations, time taken: 1.6449148654937744\n",
            "Begin KNN operations\n",
            "End KNN operations, time taken: 1.8742167949676514\n",
            "Begin KNN operations\n",
            "End KNN operations, time taken: 2.1255245208740234\n",
            "Begin KNN operations\n"
          ]
        },
        {
          "name": "stderr",
          "output_type": "stream",
          "text": [
            "\rtraining:  38%|███▊      | 76/200 [19:07<30:37, 14.82s/it]"
          ]
        },
        {
          "name": "stdout",
          "output_type": "stream",
          "text": [
            "End KNN operations, time taken: 2.3899855613708496\n",
            "training loss: 2.5461823463439943\n",
            "End document, total time: 14.636356830596924\n",
            "Begin document\n",
            "Begin KNN operations\n",
            "End KNN operations, time taken: 0.47539734840393066\n",
            "Begin KNN operations\n",
            "End KNN operations, time taken: 0.7399113178253174\n",
            "Begin KNN operations\n",
            "End KNN operations, time taken: 0.9739258289337158\n",
            "Begin KNN operations\n",
            "End KNN operations, time taken: 1.2055492401123047\n",
            "Begin KNN operations\n",
            "End KNN operations, time taken: 1.4212892055511475\n",
            "Begin KNN operations\n",
            "End KNN operations, time taken: 1.651106357574463\n",
            "Begin KNN operations\n",
            "End KNN operations, time taken: 1.874826431274414\n",
            "Begin KNN operations\n",
            "End KNN operations, time taken: 2.276411294937134\n",
            "Begin KNN operations\n"
          ]
        },
        {
          "name": "stderr",
          "output_type": "stream",
          "text": [
            "\rtraining:  38%|███▊      | 77/200 [19:22<30:25, 14.84s/it]"
          ]
        },
        {
          "name": "stdout",
          "output_type": "stream",
          "text": [
            "End KNN operations, time taken: 2.370936870574951\n",
            "training loss: 2.457496762275696\n",
            "End document, total time: 14.705230474472046\n",
            "Begin document\n",
            "Begin KNN operations\n",
            "End KNN operations, time taken: 0.491715669631958\n",
            "Begin KNN operations\n",
            "End KNN operations, time taken: 0.7708802223205566\n",
            "Begin KNN operations\n",
            "End KNN operations, time taken: 0.973243236541748\n",
            "Begin KNN operations\n",
            "End KNN operations, time taken: 1.1970114707946777\n",
            "Begin KNN operations\n",
            "End KNN operations, time taken: 1.431044578552246\n",
            "Begin KNN operations\n",
            "End KNN operations, time taken: 1.6657383441925049\n",
            "Begin KNN operations\n",
            "End KNN operations, time taken: 1.918776512145996\n",
            "Begin KNN operations\n",
            "End KNN operations, time taken: 2.1162781715393066\n",
            "Begin KNN operations\n"
          ]
        },
        {
          "name": "stderr",
          "output_type": "stream",
          "text": [
            "\rtraining:  39%|███▉      | 78/200 [19:37<30:10, 14.84s/it]"
          ]
        },
        {
          "name": "stdout",
          "output_type": "stream",
          "text": [
            "End KNN operations, time taken: 2.3701255321502686\n",
            "training loss: 2.51853449344635\n",
            "End document, total time: 14.66662883758545\n",
            "Begin document\n",
            "Begin KNN operations\n",
            "End KNN operations, time taken: 0.4862833023071289\n",
            "Begin KNN operations\n",
            "End KNN operations, time taken: 0.7438139915466309\n",
            "Begin KNN operations\n",
            "End KNN operations, time taken: 0.9721667766571045\n",
            "Begin KNN operations\n",
            "End KNN operations, time taken: 1.2476918697357178\n",
            "Begin KNN operations\n",
            "End KNN operations, time taken: 1.4946296215057373\n",
            "Begin KNN operations\n",
            "End KNN operations, time taken: 1.6826093196868896\n",
            "Begin KNN operations\n",
            "End KNN operations, time taken: 1.8435540199279785\n",
            "Begin KNN operations\n",
            "End KNN operations, time taken: 2.1032235622406006\n",
            "Begin KNN operations\n"
          ]
        },
        {
          "name": "stderr",
          "output_type": "stream",
          "text": [
            "\rtraining:  40%|███▉      | 79/200 [19:52<29:54, 14.83s/it]"
          ]
        },
        {
          "name": "stdout",
          "output_type": "stream",
          "text": [
            "End KNN operations, time taken: 2.3476321697235107\n",
            "training loss: 2.5386951684951784\n",
            "End document, total time: 14.630144357681274\n",
            "Begin document\n",
            "Begin KNN operations\n",
            "End KNN operations, time taken: 0.47504162788391113\n",
            "Begin KNN operations\n",
            "End KNN operations, time taken: 0.7716445922851562\n",
            "Begin KNN operations\n",
            "End KNN operations, time taken: 0.9698569774627686\n",
            "Begin KNN operations\n",
            "End KNN operations, time taken: 1.188272476196289\n",
            "Begin KNN operations\n",
            "End KNN operations, time taken: 1.398186206817627\n",
            "Begin KNN operations\n",
            "End KNN operations, time taken: 1.6721210479736328\n",
            "Begin KNN operations\n",
            "End KNN operations, time taken: 1.8783609867095947\n",
            "Begin KNN operations\n",
            "End KNN operations, time taken: 2.095641851425171\n",
            "Begin KNN operations\n"
          ]
        },
        {
          "name": "stderr",
          "output_type": "stream",
          "text": [
            "\rtraining:  40%|████      | 80/200 [20:06<29:38, 14.82s/it]"
          ]
        },
        {
          "name": "stdout",
          "output_type": "stream",
          "text": [
            "End KNN operations, time taken: 2.4635801315307617\n",
            "training loss: 2.5113148927688593\n",
            "End document, total time: 14.609966516494751\n",
            "Begin document\n",
            "Begin KNN operations\n",
            "End KNN operations, time taken: 0.4712240695953369\n",
            "Begin KNN operations\n",
            "End KNN operations, time taken: 0.7517721652984619\n",
            "Begin KNN operations\n",
            "End KNN operations, time taken: 0.9648957252502441\n",
            "Begin KNN operations\n",
            "End KNN operations, time taken: 1.2094357013702393\n",
            "Begin KNN operations\n",
            "End KNN operations, time taken: 1.416046142578125\n",
            "Begin KNN operations\n",
            "End KNN operations, time taken: 1.6483829021453857\n",
            "Begin KNN operations\n",
            "End KNN operations, time taken: 1.9387497901916504\n",
            "Begin KNN operations\n",
            "End KNN operations, time taken: 2.1624202728271484\n",
            "Begin KNN operations\n"
          ]
        },
        {
          "name": "stderr",
          "output_type": "stream",
          "text": [
            "\rtraining:  40%|████      | 81/200 [20:21<29:23, 14.82s/it]"
          ]
        },
        {
          "name": "stdout",
          "output_type": "stream",
          "text": [
            "End KNN operations, time taken: 2.3971712589263916\n",
            "training loss: 2.462646770477295\n",
            "End document, total time: 14.643921136856079\n",
            "Begin document\n",
            "Begin KNN operations\n",
            "End KNN operations, time taken: 0.47158265113830566\n",
            "Begin KNN operations\n",
            "End KNN operations, time taken: 0.762514591217041\n",
            "Begin KNN operations\n",
            "End KNN operations, time taken: 0.9741842746734619\n",
            "Begin KNN operations\n",
            "End KNN operations, time taken: 1.2114818096160889\n",
            "Begin KNN operations\n",
            "End KNN operations, time taken: 1.4251296520233154\n",
            "Begin KNN operations\n",
            "End KNN operations, time taken: 1.7360844612121582\n",
            "Begin KNN operations\n",
            "End KNN operations, time taken: 1.914323329925537\n",
            "Begin KNN operations\n",
            "End KNN operations, time taken: 2.1131818294525146\n",
            "Begin KNN operations\n"
          ]
        },
        {
          "name": "stderr",
          "output_type": "stream",
          "text": [
            "\rtraining:  41%|████      | 82/200 [20:36<29:11, 14.84s/it]"
          ]
        },
        {
          "name": "stdout",
          "output_type": "stream",
          "text": [
            "End KNN operations, time taken: 2.387451410293579\n",
            "training loss: 2.5013988733291628\n",
            "End document, total time: 14.699655532836914\n",
            "Begin document\n",
            "Begin KNN operations\n",
            "End KNN operations, time taken: 0.4786558151245117\n",
            "Begin KNN operations\n",
            "End KNN operations, time taken: 0.7526321411132812\n",
            "Begin KNN operations\n",
            "End KNN operations, time taken: 0.9840781688690186\n",
            "Begin KNN operations\n",
            "End KNN operations, time taken: 1.261307716369629\n",
            "Begin KNN operations\n",
            "End KNN operations, time taken: 1.426377534866333\n",
            "Begin KNN operations\n",
            "End KNN operations, time taken: 1.661661148071289\n",
            "Begin KNN operations\n",
            "End KNN operations, time taken: 1.9070806503295898\n",
            "Begin KNN operations\n",
            "End KNN operations, time taken: 2.1039021015167236\n",
            "Begin KNN operations\n"
          ]
        },
        {
          "name": "stderr",
          "output_type": "stream",
          "text": [
            "\rtraining:  42%|████▏     | 83/200 [20:51<28:58, 14.86s/it]"
          ]
        },
        {
          "name": "stdout",
          "output_type": "stream",
          "text": [
            "End KNN operations, time taken: 2.4030041694641113\n",
            "training loss: 2.57192587852478\n",
            "End document, total time: 14.710221767425537\n",
            "Begin document\n",
            "Begin KNN operations\n",
            "End KNN operations, time taken: 0.4899141788482666\n",
            "Begin KNN operations\n",
            "End KNN operations, time taken: 0.7529196739196777\n",
            "Begin KNN operations\n",
            "End KNN operations, time taken: 0.9722995758056641\n",
            "Begin KNN operations\n",
            "End KNN operations, time taken: 1.2114949226379395\n",
            "Begin KNN operations\n",
            "End KNN operations, time taken: 1.4296512603759766\n",
            "Begin KNN operations\n",
            "End KNN operations, time taken: 1.6683447360992432\n",
            "Begin KNN operations\n",
            "End KNN operations, time taken: 1.8850393295288086\n",
            "Begin KNN operations\n",
            "End KNN operations, time taken: 2.137258768081665\n",
            "Begin KNN operations\n"
          ]
        },
        {
          "name": "stderr",
          "output_type": "stream",
          "text": [
            "\rtraining:  42%|████▏     | 84/200 [21:06<28:41, 14.84s/it]"
          ]
        },
        {
          "name": "stdout",
          "output_type": "stream",
          "text": [
            "End KNN operations, time taken: 2.3798396587371826\n",
            "training loss: 2.5576464176177978\n",
            "End document, total time: 14.620124340057373\n",
            "Begin document\n",
            "Begin KNN operations\n",
            "End KNN operations, time taken: 0.47376322746276855\n",
            "Begin KNN operations\n",
            "End KNN operations, time taken: 0.7520012855529785\n",
            "Begin KNN operations\n",
            "End KNN operations, time taken: 0.9605176448822021\n",
            "Begin KNN operations\n",
            "End KNN operations, time taken: 1.1778604984283447\n",
            "Begin KNN operations\n",
            "End KNN operations, time taken: 1.4349710941314697\n",
            "Begin KNN operations\n",
            "End KNN operations, time taken: 1.6619701385498047\n",
            "Begin KNN operations\n",
            "End KNN operations, time taken: 1.9927165508270264\n",
            "Begin KNN operations\n",
            "End KNN operations, time taken: 2.0944058895111084\n",
            "Begin KNN operations\n"
          ]
        },
        {
          "name": "stderr",
          "output_type": "stream",
          "text": [
            "\rtraining:  42%|████▎     | 85/200 [21:21<28:27, 14.85s/it]"
          ]
        },
        {
          "name": "stdout",
          "output_type": "stream",
          "text": [
            "End KNN operations, time taken: 2.4217112064361572\n",
            "training loss: 2.5311460971832274\n",
            "End document, total time: 14.664672136306763\n",
            "Begin document\n",
            "Begin KNN operations\n",
            "End KNN operations, time taken: 0.4725840091705322\n",
            "Begin KNN operations\n",
            "End KNN operations, time taken: 0.7494316101074219\n",
            "Begin KNN operations\n",
            "End KNN operations, time taken: 0.9717395305633545\n",
            "Begin KNN operations\n",
            "End KNN operations, time taken: 1.2137718200683594\n",
            "Begin KNN operations\n",
            "End KNN operations, time taken: 1.4504377841949463\n",
            "Begin KNN operations\n",
            "End KNN operations, time taken: 1.6692874431610107\n",
            "Begin KNN operations\n",
            "End KNN operations, time taken: 1.8786425590515137\n",
            "Begin KNN operations\n",
            "End KNN operations, time taken: 2.114656925201416\n",
            "Begin KNN operations\n"
          ]
        },
        {
          "name": "stderr",
          "output_type": "stream",
          "text": [
            "\rtraining:  43%|████▎     | 86/200 [21:35<28:08, 14.81s/it]"
          ]
        },
        {
          "name": "stdout",
          "output_type": "stream",
          "text": [
            "End KNN operations, time taken: 2.3308627605438232\n",
            "training loss: 2.5905379295349125\n",
            "End document, total time: 14.558025121688843\n",
            "Begin document\n",
            "Begin KNN operations\n",
            "End KNN operations, time taken: 0.47187089920043945\n",
            "Begin KNN operations\n",
            "End KNN operations, time taken: 0.7589824199676514\n",
            "Begin KNN operations\n",
            "End KNN operations, time taken: 1.0112996101379395\n",
            "Begin KNN operations\n",
            "End KNN operations, time taken: 1.1933789253234863\n",
            "Begin KNN operations\n",
            "End KNN operations, time taken: 1.4311680793762207\n",
            "Begin KNN operations\n",
            "End KNN operations, time taken: 1.6523926258087158\n",
            "Begin KNN operations\n",
            "End KNN operations, time taken: 1.8987207412719727\n",
            "Begin KNN operations\n",
            "End KNN operations, time taken: 2.15474271774292\n",
            "Begin KNN operations\n"
          ]
        },
        {
          "name": "stderr",
          "output_type": "stream",
          "text": [
            "\rtraining:  44%|████▎     | 87/200 [21:50<27:55, 14.82s/it]"
          ]
        },
        {
          "name": "stdout",
          "output_type": "stream",
          "text": [
            "End KNN operations, time taken: 2.388509750366211\n",
            "training loss: 2.6397346258163448\n",
            "End document, total time: 14.660804271697998\n",
            "Begin document\n",
            "Begin KNN operations\n",
            "End KNN operations, time taken: 0.47022080421447754\n",
            "Begin KNN operations\n",
            "End KNN operations, time taken: 0.7437329292297363\n",
            "Begin KNN operations\n",
            "End KNN operations, time taken: 0.9965255260467529\n",
            "Begin KNN operations\n",
            "End KNN operations, time taken: 1.1986289024353027\n",
            "Begin KNN operations\n",
            "End KNN operations, time taken: 1.414896011352539\n",
            "Begin KNN operations\n",
            "End KNN operations, time taken: 1.6782941818237305\n",
            "Begin KNN operations\n",
            "End KNN operations, time taken: 1.8725097179412842\n",
            "Begin KNN operations\n",
            "End KNN operations, time taken: 2.183170795440674\n",
            "Begin KNN operations\n"
          ]
        },
        {
          "name": "stderr",
          "output_type": "stream",
          "text": [
            "\rtraining:  44%|████▍     | 88/200 [22:05<27:42, 14.84s/it]"
          ]
        },
        {
          "name": "stdout",
          "output_type": "stream",
          "text": [
            "End KNN operations, time taken: 2.416184425354004\n",
            "training loss: 2.633846259117127\n",
            "End document, total time: 14.686503410339355\n",
            "Begin document\n",
            "Begin KNN operations\n",
            "End KNN operations, time taken: 0.47601318359375\n",
            "Begin KNN operations\n",
            "End KNN operations, time taken: 0.7535943984985352\n",
            "Begin KNN operations\n",
            "End KNN operations, time taken: 0.9923362731933594\n",
            "Begin KNN operations\n",
            "End KNN operations, time taken: 1.2010531425476074\n",
            "Begin KNN operations\n",
            "End KNN operations, time taken: 1.4337401390075684\n",
            "Begin KNN operations\n",
            "End KNN operations, time taken: 1.6801555156707764\n",
            "Begin KNN operations\n",
            "End KNN operations, time taken: 1.9335744380950928\n",
            "Begin KNN operations\n",
            "End KNN operations, time taken: 2.097400665283203\n",
            "Begin KNN operations\n"
          ]
        },
        {
          "name": "stderr",
          "output_type": "stream",
          "text": [
            "\rtraining:  44%|████▍     | 89/200 [22:20<27:25, 14.83s/it]"
          ]
        },
        {
          "name": "stdout",
          "output_type": "stream",
          "text": [
            "End KNN operations, time taken: 2.341240882873535\n",
            "training loss: 2.4436646461486817\n",
            "End document, total time: 14.610204696655273\n",
            "Begin document\n",
            "Begin KNN operations\n",
            "End KNN operations, time taken: 0.48482465744018555\n",
            "Begin KNN operations\n",
            "End KNN operations, time taken: 0.7456140518188477\n",
            "Begin KNN operations\n",
            "End KNN operations, time taken: 1.0056543350219727\n",
            "Begin KNN operations\n",
            "End KNN operations, time taken: 1.222994327545166\n",
            "Begin KNN operations\n",
            "End KNN operations, time taken: 1.5477147102355957\n",
            "Begin KNN operations\n",
            "End KNN operations, time taken: 1.6448097229003906\n",
            "Begin KNN operations\n",
            "End KNN operations, time taken: 1.8929080963134766\n",
            "Begin KNN operations\n",
            "End KNN operations, time taken: 2.119114398956299\n",
            "Begin KNN operations\n"
          ]
        },
        {
          "name": "stderr",
          "output_type": "stream",
          "text": [
            "\rtraining:  45%|████▌     | 90/200 [22:35<27:13, 14.85s/it]"
          ]
        },
        {
          "name": "stdout",
          "output_type": "stream",
          "text": [
            "End KNN operations, time taken: 2.3589320182800293\n",
            "training loss: 2.495332145690918\n",
            "End document, total time: 14.717903852462769\n",
            "Begin document\n",
            "Begin KNN operations\n",
            "End KNN operations, time taken: 0.48929476737976074\n",
            "Begin KNN operations\n",
            "End KNN operations, time taken: 0.7605185508728027\n",
            "Begin KNN operations\n",
            "End KNN operations, time taken: 0.9952042102813721\n",
            "Begin KNN operations\n",
            "End KNN operations, time taken: 1.196218490600586\n",
            "Begin KNN operations\n",
            "End KNN operations, time taken: 1.436943769454956\n",
            "Begin KNN operations\n",
            "End KNN operations, time taken: 1.6530430316925049\n",
            "Begin KNN operations\n",
            "End KNN operations, time taken: 1.937880516052246\n",
            "Begin KNN operations\n",
            "End KNN operations, time taken: 2.1413357257843018\n",
            "Begin KNN operations\n"
          ]
        },
        {
          "name": "stderr",
          "output_type": "stream",
          "text": [
            "\rtraining:  46%|████▌     | 91/200 [22:50<26:59, 14.86s/it]"
          ]
        },
        {
          "name": "stdout",
          "output_type": "stream",
          "text": [
            "End KNN operations, time taken: 2.4425621032714844\n",
            "training loss: 2.481265521049499\n",
            "End document, total time: 14.714669704437256\n",
            "Begin document\n",
            "Begin KNN operations\n",
            "End KNN operations, time taken: 0.4872119426727295\n",
            "Begin KNN operations\n",
            "End KNN operations, time taken: 0.7483394145965576\n",
            "Begin KNN operations\n",
            "End KNN operations, time taken: 0.9760856628417969\n",
            "Begin KNN operations\n",
            "End KNN operations, time taken: 1.2449560165405273\n",
            "Begin KNN operations\n",
            "End KNN operations, time taken: 1.4479453563690186\n",
            "Begin KNN operations\n",
            "End KNN operations, time taken: 1.642622470855713\n",
            "Begin KNN operations\n",
            "End KNN operations, time taken: 1.9104030132293701\n",
            "Begin KNN operations\n",
            "End KNN operations, time taken: 2.1726934909820557\n",
            "Begin KNN operations\n"
          ]
        },
        {
          "name": "stderr",
          "output_type": "stream",
          "text": [
            "\rtraining:  46%|████▌     | 92/200 [23:05<26:45, 14.86s/it]"
          ]
        },
        {
          "name": "stdout",
          "output_type": "stream",
          "text": [
            "End KNN operations, time taken: 2.37551212310791\n",
            "training loss: 2.57516725063324\n",
            "End document, total time: 14.687765121459961\n",
            "Begin document\n",
            "Begin KNN operations\n",
            "End KNN operations, time taken: 0.47295260429382324\n",
            "Begin KNN operations\n",
            "End KNN operations, time taken: 0.754814863204956\n",
            "Begin KNN operations\n",
            "End KNN operations, time taken: 0.9831476211547852\n",
            "Begin KNN operations\n",
            "End KNN operations, time taken: 1.2232756614685059\n",
            "Begin KNN operations\n",
            "End KNN operations, time taken: 1.4277048110961914\n",
            "Begin KNN operations\n",
            "End KNN operations, time taken: 1.7636561393737793\n",
            "Begin KNN operations\n",
            "End KNN operations, time taken: 1.8975331783294678\n",
            "Begin KNN operations\n",
            "End KNN operations, time taken: 2.164088249206543\n",
            "Begin KNN operations\n"
          ]
        },
        {
          "name": "stderr",
          "output_type": "stream",
          "text": [
            "\rtraining:  46%|████▋     | 93/200 [23:19<26:32, 14.89s/it]"
          ]
        },
        {
          "name": "stdout",
          "output_type": "stream",
          "text": [
            "End KNN operations, time taken: 2.3626585006713867\n",
            "training loss: 2.5782726526260373\n",
            "End document, total time: 14.765538454055786\n",
            "Begin document\n",
            "Begin KNN operations\n",
            "End KNN operations, time taken: 0.47562336921691895\n",
            "Begin KNN operations\n",
            "End KNN operations, time taken: 0.7566874027252197\n",
            "Begin KNN operations\n",
            "End KNN operations, time taken: 1.0039701461791992\n",
            "Begin KNN operations\n",
            "End KNN operations, time taken: 1.323681116104126\n",
            "Begin KNN operations\n",
            "End KNN operations, time taken: 1.5119898319244385\n",
            "Begin KNN operations\n",
            "End KNN operations, time taken: 1.6573379039764404\n",
            "Begin KNN operations\n",
            "End KNN operations, time taken: 1.8879098892211914\n",
            "Begin KNN operations\n",
            "End KNN operations, time taken: 2.150114059448242\n",
            "Begin KNN operations\n"
          ]
        },
        {
          "name": "stderr",
          "output_type": "stream",
          "text": [
            "\rtraining:  47%|████▋     | 94/200 [23:35<26:23, 14.94s/it]"
          ]
        },
        {
          "name": "stdout",
          "output_type": "stream",
          "text": [
            "End KNN operations, time taken: 2.4253273010253906\n",
            "training loss: 2.414963531494141\n",
            "End document, total time: 14.887116193771362\n",
            "Begin document\n",
            "Begin KNN operations\n",
            "End KNN operations, time taken: 0.5265626907348633\n",
            "Begin KNN operations\n",
            "End KNN operations, time taken: 0.7613039016723633\n",
            "Begin KNN operations\n",
            "End KNN operations, time taken: 0.9776895046234131\n",
            "Begin KNN operations\n",
            "End KNN operations, time taken: 1.2054200172424316\n",
            "Begin KNN operations\n",
            "End KNN operations, time taken: 1.4496784210205078\n",
            "Begin KNN operations\n",
            "End KNN operations, time taken: 1.6814284324645996\n",
            "Begin KNN operations\n",
            "End KNN operations, time taken: 1.9140174388885498\n",
            "Begin KNN operations\n",
            "End KNN operations, time taken: 2.2267978191375732\n",
            "Begin KNN operations\n"
          ]
        },
        {
          "name": "stderr",
          "output_type": "stream",
          "text": [
            "\rtraining:  48%|████▊     | 95/200 [23:50<26:11, 14.97s/it]"
          ]
        },
        {
          "name": "stdout",
          "output_type": "stream",
          "text": [
            "End KNN operations, time taken: 2.3952369689941406\n",
            "training loss: 2.5232537269592283\n",
            "End document, total time: 14.858660459518433\n",
            "Begin document\n",
            "Begin KNN operations\n",
            "End KNN operations, time taken: 0.4815988540649414\n",
            "Begin KNN operations\n",
            "End KNN operations, time taken: 0.7546072006225586\n",
            "Begin KNN operations\n",
            "End KNN operations, time taken: 0.9761495590209961\n",
            "Begin KNN operations\n",
            "End KNN operations, time taken: 1.235231876373291\n",
            "Begin KNN operations\n",
            "End KNN operations, time taken: 1.4430947303771973\n",
            "Begin KNN operations\n",
            "End KNN operations, time taken: 1.658827304840088\n",
            "Begin KNN operations\n",
            "End KNN operations, time taken: 1.9690873622894287\n",
            "Begin KNN operations\n",
            "End KNN operations, time taken: 2.136800527572632\n",
            "Begin KNN operations\n"
          ]
        },
        {
          "name": "stderr",
          "output_type": "stream",
          "text": [
            "\rtraining:  48%|████▊     | 96/200 [24:04<25:55, 14.96s/it]"
          ]
        },
        {
          "name": "stdout",
          "output_type": "stream",
          "text": [
            "End KNN operations, time taken: 2.4064722061157227\n",
            "training loss: 2.4811808586120607\n",
            "End document, total time: 14.7568519115448\n",
            "Begin document\n",
            "Begin KNN operations\n",
            "End KNN operations, time taken: 0.47007012367248535\n",
            "Begin KNN operations\n",
            "End KNN operations, time taken: 0.7514452934265137\n",
            "Begin KNN operations\n",
            "End KNN operations, time taken: 0.9764204025268555\n",
            "Begin KNN operations\n",
            "End KNN operations, time taken: 1.236595869064331\n",
            "Begin KNN operations\n",
            "End KNN operations, time taken: 1.5080397129058838\n",
            "Begin KNN operations\n",
            "End KNN operations, time taken: 1.658846139907837\n",
            "Begin KNN operations\n",
            "End KNN operations, time taken: 1.9031400680541992\n",
            "Begin KNN operations\n",
            "End KNN operations, time taken: 2.1173548698425293\n",
            "Begin KNN operations\n"
          ]
        },
        {
          "name": "stderr",
          "output_type": "stream",
          "text": [
            "\rtraining:  48%|████▊     | 97/200 [24:19<25:39, 14.94s/it]"
          ]
        },
        {
          "name": "stdout",
          "output_type": "stream",
          "text": [
            "End KNN operations, time taken: 2.4001526832580566\n",
            "training loss: 2.4674472570419312\n",
            "End document, total time: 14.735835075378418\n",
            "Begin document\n",
            "Begin KNN operations\n",
            "End KNN operations, time taken: 0.4972233772277832\n",
            "Begin KNN operations\n",
            "End KNN operations, time taken: 0.7862269878387451\n",
            "Begin KNN operations\n",
            "End KNN operations, time taken: 1.0086803436279297\n",
            "Begin KNN operations\n",
            "End KNN operations, time taken: 1.2004237174987793\n",
            "Begin KNN operations\n",
            "End KNN operations, time taken: 1.4785442352294922\n",
            "Begin KNN operations\n",
            "End KNN operations, time taken: 1.6373159885406494\n",
            "Begin KNN operations\n",
            "End KNN operations, time taken: 1.9012744426727295\n",
            "Begin KNN operations\n",
            "End KNN operations, time taken: 2.0988709926605225\n",
            "Begin KNN operations\n"
          ]
        },
        {
          "name": "stderr",
          "output_type": "stream",
          "text": [
            "\rtraining:  49%|████▉     | 98/200 [24:34<25:23, 14.94s/it]"
          ]
        },
        {
          "name": "stdout",
          "output_type": "stream",
          "text": [
            "End KNN operations, time taken: 2.444739580154419\n",
            "training loss: 2.526894474029541\n",
            "End document, total time: 14.758423089981079\n",
            "Begin document\n",
            "Begin KNN operations\n",
            "End KNN operations, time taken: 0.476900577545166\n",
            "Begin KNN operations\n",
            "End KNN operations, time taken: 0.7623569965362549\n",
            "Begin KNN operations\n",
            "End KNN operations, time taken: 0.9832375049591064\n",
            "Begin KNN operations\n",
            "End KNN operations, time taken: 1.2219336032867432\n",
            "Begin KNN operations\n",
            "End KNN operations, time taken: 1.4281811714172363\n",
            "Begin KNN operations\n",
            "End KNN operations, time taken: 1.7111566066741943\n",
            "Begin KNN operations\n",
            "End KNN operations, time taken: 1.9218769073486328\n",
            "Begin KNN operations\n",
            "End KNN operations, time taken: 2.214728593826294\n",
            "Begin KNN operations\n"
          ]
        },
        {
          "name": "stderr",
          "output_type": "stream",
          "text": [
            "\rtraining:  50%|████▉     | 99/200 [24:49<25:11, 14.97s/it]"
          ]
        },
        {
          "name": "stdout",
          "output_type": "stream",
          "text": [
            "End KNN operations, time taken: 2.417328119277954\n",
            "training loss: 2.442824172973633\n",
            "End document, total time: 14.830383777618408\n",
            "Begin document\n",
            "Begin KNN operations\n",
            "End KNN operations, time taken: 0.48880624771118164\n",
            "Begin KNN operations\n",
            "End KNN operations, time taken: 0.7509138584136963\n",
            "Begin KNN operations\n",
            "End KNN operations, time taken: 0.9931952953338623\n",
            "Begin KNN operations\n",
            "End KNN operations, time taken: 1.245408058166504\n",
            "Begin KNN operations\n",
            "End KNN operations, time taken: 1.4740209579467773\n",
            "Begin KNN operations\n",
            "End KNN operations, time taken: 1.7178058624267578\n",
            "Begin KNN operations\n",
            "End KNN operations, time taken: 1.914421558380127\n",
            "Begin KNN operations\n",
            "End KNN operations, time taken: 2.140699863433838\n",
            "Begin KNN operations\n"
          ]
        },
        {
          "name": "stderr",
          "output_type": "stream",
          "text": [
            "\rtraining:  50%|█████     | 100/200 [25:04<24:57, 14.97s/it]"
          ]
        },
        {
          "name": "stdout",
          "output_type": "stream",
          "text": [
            "End KNN operations, time taken: 2.396540641784668\n",
            "training loss: 2.535315823554993\n",
            "End document, total time: 14.815797328948975\n",
            "Begin document\n",
            "Begin KNN operations\n",
            "End KNN operations, time taken: 0.4852259159088135\n",
            "Begin KNN operations\n",
            "End KNN operations, time taken: 0.7567269802093506\n",
            "Begin KNN operations\n",
            "End KNN operations, time taken: 1.0283093452453613\n",
            "Begin KNN operations\n",
            "End KNN operations, time taken: 1.2616333961486816\n",
            "Begin KNN operations\n",
            "End KNN operations, time taken: 1.446686029434204\n",
            "Begin KNN operations\n",
            "End KNN operations, time taken: 1.6736257076263428\n",
            "Begin KNN operations\n",
            "End KNN operations, time taken: 1.950615644454956\n",
            "Begin KNN operations\n",
            "End KNN operations, time taken: 2.1581199169158936\n",
            "Begin KNN operations\n",
            "End KNN operations, time taken: 2.401674509048462\n",
            "training loss: 2.440053391456604\n",
            "End document, total time: 14.885385990142822\n",
            "Begin KNN operations\n",
            "End KNN operations, time taken: 0.4277188777923584\n",
            "Begin KNN operations\n",
            "End KNN operations, time taken: 0.6317911148071289\n",
            "Begin KNN operations\n",
            "End KNN operations, time taken: 0.8517909049987793\n",
            "Begin KNN operations\n",
            "End KNN operations, time taken: 1.0756330490112305\n",
            "Begin KNN operations\n",
            "End KNN operations, time taken: 1.342801809310913\n",
            "Begin KNN operations\n",
            "End KNN operations, time taken: 1.527170181274414\n",
            "Begin KNN operations\n",
            "End KNN operations, time taken: 1.746718168258667\n",
            "Begin KNN operations\n",
            "End KNN operations, time taken: 1.9686954021453857\n",
            "Begin KNN operations\n"
          ]
        },
        {
          "name": "stderr",
          "output_type": "stream",
          "text": [
            "\rtraining:  50%|█████     | 101/200 [25:33<31:25, 19.04s/it]"
          ]
        },
        {
          "name": "stdout",
          "output_type": "stream",
          "text": [
            "End KNN operations, time taken: 2.3555569648742676\n",
            "valid loss: 2.4369598388671876\n",
            "Begin document\n",
            "Begin KNN operations\n",
            "End KNN operations, time taken: 0.5045680999755859\n",
            "Begin KNN operations\n",
            "End KNN operations, time taken: 0.7499287128448486\n",
            "Begin KNN operations\n",
            "End KNN operations, time taken: 1.00726318359375\n",
            "Begin KNN operations\n",
            "End KNN operations, time taken: 1.2051723003387451\n",
            "Begin KNN operations\n",
            "End KNN operations, time taken: 1.4644033908843994\n",
            "Begin KNN operations\n",
            "End KNN operations, time taken: 1.669435739517212\n",
            "Begin KNN operations\n",
            "End KNN operations, time taken: 1.9418632984161377\n",
            "Begin KNN operations\n",
            "End KNN operations, time taken: 2.189811944961548\n",
            "Begin KNN operations\n"
          ]
        },
        {
          "name": "stderr",
          "output_type": "stream",
          "text": [
            "\rtraining:  51%|█████     | 102/200 [25:48<29:05, 17.81s/it]"
          ]
        },
        {
          "name": "stdout",
          "output_type": "stream",
          "text": [
            "End KNN operations, time taken: 2.380985975265503\n",
            "training loss: 2.409187126159668\n",
            "End document, total time: 14.849442720413208\n",
            "Begin document\n",
            "Begin KNN operations\n",
            "End KNN operations, time taken: 0.47577762603759766\n",
            "Begin KNN operations\n",
            "End KNN operations, time taken: 0.755051851272583\n",
            "Begin KNN operations\n",
            "End KNN operations, time taken: 0.9919335842132568\n",
            "Begin KNN operations\n",
            "End KNN operations, time taken: 1.223465919494629\n",
            "Begin KNN operations\n",
            "End KNN operations, time taken: 1.4681470394134521\n",
            "Begin KNN operations\n",
            "End KNN operations, time taken: 1.7448980808258057\n",
            "Begin KNN operations\n",
            "End KNN operations, time taken: 1.898604393005371\n",
            "Begin KNN operations\n",
            "End KNN operations, time taken: 2.1327173709869385\n",
            "Begin KNN operations\n"
          ]
        },
        {
          "name": "stderr",
          "output_type": "stream",
          "text": [
            "\rtraining:  52%|█████▏    | 103/200 [26:03<27:24, 16.96s/it]"
          ]
        },
        {
          "name": "stdout",
          "output_type": "stream",
          "text": [
            "End KNN operations, time taken: 2.3725717067718506\n",
            "training loss: 2.4347650051116942\n",
            "End document, total time: 14.785827398300171\n",
            "Begin document\n",
            "Begin KNN operations\n",
            "End KNN operations, time taken: 0.4811384677886963\n",
            "Begin KNN operations\n",
            "End KNN operations, time taken: 0.74283766746521\n",
            "Begin KNN operations\n",
            "End KNN operations, time taken: 1.014498233795166\n",
            "Begin KNN operations\n",
            "End KNN operations, time taken: 1.250821828842163\n",
            "Begin KNN operations\n",
            "End KNN operations, time taken: 1.4640302658081055\n",
            "Begin KNN operations\n",
            "End KNN operations, time taken: 1.676604986190796\n",
            "Begin KNN operations\n",
            "End KNN operations, time taken: 1.9074301719665527\n",
            "Begin KNN operations\n",
            "End KNN operations, time taken: 2.1358511447906494\n",
            "Begin KNN operations\n"
          ]
        },
        {
          "name": "stderr",
          "output_type": "stream",
          "text": [
            "\rtraining:  52%|█████▏    | 104/200 [26:18<26:12, 16.38s/it]"
          ]
        },
        {
          "name": "stdout",
          "output_type": "stream",
          "text": [
            "End KNN operations, time taken: 2.422354221343994\n",
            "training loss: 2.6652334213256834\n",
            "End document, total time: 14.850351810455322\n",
            "Begin document\n",
            "Begin KNN operations\n",
            "End KNN operations, time taken: 0.5011942386627197\n",
            "Begin KNN operations\n",
            "End KNN operations, time taken: 0.7543399333953857\n",
            "Begin KNN operations\n",
            "End KNN operations, time taken: 0.9939873218536377\n",
            "Begin KNN operations\n",
            "End KNN operations, time taken: 1.202859878540039\n",
            "Begin KNN operations\n",
            "End KNN operations, time taken: 1.4295103549957275\n",
            "Begin KNN operations\n",
            "End KNN operations, time taken: 1.6801753044128418\n",
            "Begin KNN operations\n",
            "End KNN operations, time taken: 1.887634038925171\n",
            "Begin KNN operations\n",
            "End KNN operations, time taken: 2.1668787002563477\n",
            "Begin KNN operations\n"
          ]
        },
        {
          "name": "stderr",
          "output_type": "stream",
          "text": [
            "\rtraining:  52%|█████▎    | 105/200 [26:33<25:14, 15.94s/it]"
          ]
        },
        {
          "name": "stdout",
          "output_type": "stream",
          "text": [
            "End KNN operations, time taken: 2.43272066116333\n",
            "training loss: 2.4429415225982667\n",
            "End document, total time: 14.755014657974243\n",
            "Begin document\n",
            "Begin KNN operations\n",
            "End KNN operations, time taken: 0.47464680671691895\n",
            "Begin KNN operations\n",
            "End KNN operations, time taken: 0.7414791584014893\n",
            "Begin KNN operations\n",
            "End KNN operations, time taken: 0.9993994235992432\n",
            "Begin KNN operations\n",
            "End KNN operations, time taken: 1.1921823024749756\n",
            "Begin KNN operations\n",
            "End KNN operations, time taken: 1.4422738552093506\n",
            "Begin KNN operations\n",
            "End KNN operations, time taken: 1.662853479385376\n",
            "Begin KNN operations\n",
            "End KNN operations, time taken: 1.924957036972046\n",
            "Begin KNN operations\n",
            "End KNN operations, time taken: 2.1051015853881836\n",
            "Begin KNN operations\n"
          ]
        },
        {
          "name": "stderr",
          "output_type": "stream",
          "text": [
            "\rtraining:  53%|█████▎    | 106/200 [26:48<24:27, 15.61s/it]"
          ]
        },
        {
          "name": "stdout",
          "output_type": "stream",
          "text": [
            "End KNN operations, time taken: 2.380603075027466\n",
            "training loss: 2.5049993276596068\n",
            "End document, total time: 14.637948751449585\n",
            "Begin document\n",
            "Begin KNN operations\n",
            "End KNN operations, time taken: 0.4793386459350586\n",
            "Begin KNN operations\n",
            "End KNN operations, time taken: 0.755385160446167\n",
            "Begin KNN operations\n",
            "End KNN operations, time taken: 0.9884142875671387\n",
            "Begin KNN operations\n",
            "End KNN operations, time taken: 1.216371774673462\n",
            "Begin KNN operations\n",
            "End KNN operations, time taken: 1.531996488571167\n",
            "Begin KNN operations\n",
            "End KNN operations, time taken: 1.6762409210205078\n",
            "Begin KNN operations\n",
            "End KNN operations, time taken: 1.9027941226959229\n",
            "Begin KNN operations\n",
            "End KNN operations, time taken: 2.144386053085327\n",
            "Begin KNN operations\n"
          ]
        },
        {
          "name": "stderr",
          "output_type": "stream",
          "text": [
            "\rtraining:  54%|█████▎    | 107/200 [27:03<23:53, 15.42s/it]"
          ]
        },
        {
          "name": "stdout",
          "output_type": "stream",
          "text": [
            "End KNN operations, time taken: 2.3786513805389404\n",
            "training loss: 2.4930582761764524\n",
            "End document, total time: 14.794999122619629\n",
            "Begin document\n",
            "Begin KNN operations\n",
            "End KNN operations, time taken: 0.4739091396331787\n",
            "Begin KNN operations\n",
            "End KNN operations, time taken: 0.7603678703308105\n",
            "Begin KNN operations\n",
            "End KNN operations, time taken: 1.009087085723877\n",
            "Begin KNN operations\n",
            "End KNN operations, time taken: 1.2086763381958008\n",
            "Begin KNN operations\n",
            "End KNN operations, time taken: 1.4567975997924805\n",
            "Begin KNN operations\n",
            "End KNN operations, time taken: 1.6719176769256592\n",
            "Begin KNN operations\n",
            "End KNN operations, time taken: 1.9007749557495117\n",
            "Begin KNN operations\n",
            "End KNN operations, time taken: 2.147172689437866\n",
            "Begin KNN operations\n"
          ]
        },
        {
          "name": "stderr",
          "output_type": "stream",
          "text": [
            "\rtraining:  54%|█████▍    | 108/200 [27:18<23:28, 15.31s/it]"
          ]
        },
        {
          "name": "stdout",
          "output_type": "stream",
          "text": [
            "End KNN operations, time taken: 2.484539747238159\n",
            "training loss: 2.432080245018005\n",
            "End document, total time: 14.856906175613403\n",
            "Begin document\n",
            "Begin KNN operations\n",
            "End KNN operations, time taken: 0.4803750514984131\n",
            "Begin KNN operations\n",
            "End KNN operations, time taken: 0.7476484775543213\n",
            "Begin KNN operations\n",
            "End KNN operations, time taken: 0.97739577293396\n",
            "Begin KNN operations\n",
            "End KNN operations, time taken: 1.2045025825500488\n",
            "Begin KNN operations\n",
            "End KNN operations, time taken: 1.447324514389038\n",
            "Begin KNN operations\n",
            "End KNN operations, time taken: 1.6749267578125\n",
            "Begin KNN operations\n",
            "End KNN operations, time taken: 1.9567766189575195\n",
            "Begin KNN operations\n",
            "End KNN operations, time taken: 2.3000969886779785\n",
            "Begin KNN operations\n"
          ]
        },
        {
          "name": "stderr",
          "output_type": "stream",
          "text": [
            "\rtraining:  55%|█████▍    | 109/200 [27:33<23:07, 15.25s/it]"
          ]
        },
        {
          "name": "stdout",
          "output_type": "stream",
          "text": [
            "End KNN operations, time taken: 2.4276368618011475\n",
            "training loss: 2.4561029195785524\n",
            "End document, total time: 14.939300060272217\n",
            "Begin document\n",
            "Begin KNN operations\n",
            "End KNN operations, time taken: 0.4849867820739746\n",
            "Begin KNN operations\n",
            "End KNN operations, time taken: 0.7517640590667725\n",
            "Begin KNN operations\n",
            "End KNN operations, time taken: 0.9850435256958008\n",
            "Begin KNN operations\n",
            "End KNN operations, time taken: 1.2132747173309326\n",
            "Begin KNN operations\n",
            "End KNN operations, time taken: 1.4508326053619385\n",
            "Begin KNN operations\n",
            "End KNN operations, time taken: 1.7219278812408447\n",
            "Begin KNN operations\n",
            "End KNN operations, time taken: 1.9050688743591309\n",
            "Begin KNN operations\n",
            "End KNN operations, time taken: 2.112518787384033\n",
            "Begin KNN operations\n"
          ]
        },
        {
          "name": "stderr",
          "output_type": "stream",
          "text": [
            "\rtraining:  55%|█████▌    | 110/200 [27:48<22:42, 15.14s/it]"
          ]
        },
        {
          "name": "stdout",
          "output_type": "stream",
          "text": [
            "End KNN operations, time taken: 2.363731622695923\n",
            "training loss: 2.3830352783203126\n",
            "End document, total time: 14.705094337463379\n",
            "Begin document\n",
            "Begin KNN operations\n",
            "End KNN operations, time taken: 0.5001044273376465\n",
            "Begin KNN operations\n",
            "End KNN operations, time taken: 0.7497515678405762\n",
            "Begin KNN operations\n",
            "End KNN operations, time taken: 1.0214636325836182\n",
            "Begin KNN operations\n",
            "End KNN operations, time taken: 1.2611310482025146\n",
            "Begin KNN operations\n",
            "End KNN operations, time taken: 1.4573018550872803\n",
            "Begin KNN operations\n",
            "End KNN operations, time taken: 1.6791431903839111\n",
            "Begin KNN operations\n",
            "End KNN operations, time taken: 1.918607473373413\n",
            "Begin KNN operations\n",
            "End KNN operations, time taken: 2.089823007583618\n",
            "Begin KNN operations\n"
          ]
        },
        {
          "name": "stderr",
          "output_type": "stream",
          "text": [
            "\rtraining:  56%|█████▌    | 111/200 [28:03<22:23, 15.09s/it]"
          ]
        },
        {
          "name": "stdout",
          "output_type": "stream",
          "text": [
            "End KNN operations, time taken: 2.3733484745025635\n",
            "training loss: 2.4027997493743896\n",
            "End document, total time: 14.774574041366577\n",
            "Begin document\n",
            "Begin KNN operations\n",
            "End KNN operations, time taken: 0.49249982833862305\n",
            "Begin KNN operations\n",
            "End KNN operations, time taken: 0.7422544956207275\n",
            "Begin KNN operations\n",
            "End KNN operations, time taken: 0.9722058773040771\n",
            "Begin KNN operations\n",
            "End KNN operations, time taken: 1.2223641872406006\n",
            "Begin KNN operations\n",
            "End KNN operations, time taken: 1.4491682052612305\n",
            "Begin KNN operations\n",
            "End KNN operations, time taken: 1.673612117767334\n",
            "Begin KNN operations\n",
            "End KNN operations, time taken: 1.9216701984405518\n",
            "Begin KNN operations\n",
            "End KNN operations, time taken: 2.1869969367980957\n",
            "Begin KNN operations\n"
          ]
        },
        {
          "name": "stderr",
          "output_type": "stream",
          "text": [
            "\rtraining:  56%|█████▌    | 112/200 [28:18<22:04, 15.05s/it]"
          ]
        },
        {
          "name": "stdout",
          "output_type": "stream",
          "text": [
            "End KNN operations, time taken: 2.3989145755767822\n",
            "training loss: 2.5604620695114133\n",
            "End document, total time: 14.782248258590698\n",
            "Begin document\n",
            "Begin KNN operations\n",
            "End KNN operations, time taken: 0.46946024894714355\n",
            "Begin KNN operations\n",
            "End KNN operations, time taken: 0.7520546913146973\n",
            "Begin KNN operations\n",
            "End KNN operations, time taken: 0.9883167743682861\n",
            "Begin KNN operations\n",
            "End KNN operations, time taken: 1.2731554508209229\n",
            "Begin KNN operations\n",
            "End KNN operations, time taken: 1.474588394165039\n",
            "Begin KNN operations\n",
            "End KNN operations, time taken: 1.70145583152771\n",
            "Begin KNN operations\n",
            "End KNN operations, time taken: 2.0193119049072266\n",
            "Begin KNN operations\n",
            "End KNN operations, time taken: 2.1326487064361572\n",
            "Begin KNN operations\n"
          ]
        },
        {
          "name": "stderr",
          "output_type": "stream",
          "text": [
            "\rtraining:  56%|█████▋    | 113/200 [28:33<21:51, 15.08s/it]"
          ]
        },
        {
          "name": "stdout",
          "output_type": "stream",
          "text": [
            "End KNN operations, time taken: 2.370041608810425\n",
            "training loss: 2.4550796508789063\n",
            "End document, total time: 14.9417142868042\n",
            "Begin document\n",
            "Begin KNN operations\n",
            "End KNN operations, time taken: 0.4854886531829834\n",
            "Begin KNN operations\n",
            "End KNN operations, time taken: 0.771334171295166\n",
            "Begin KNN operations\n",
            "End KNN operations, time taken: 0.9929828643798828\n",
            "Begin KNN operations\n",
            "End KNN operations, time taken: 1.2226674556732178\n",
            "Begin KNN operations\n",
            "End KNN operations, time taken: 1.5170783996582031\n",
            "Begin KNN operations\n",
            "End KNN operations, time taken: 1.652480125427246\n",
            "Begin KNN operations\n",
            "End KNN operations, time taken: 1.8879072666168213\n",
            "Begin KNN operations\n",
            "End KNN operations, time taken: 2.0944197177886963\n",
            "Begin KNN operations\n"
          ]
        },
        {
          "name": "stderr",
          "output_type": "stream",
          "text": [
            "\rtraining:  57%|█████▋    | 114/200 [28:48<21:31, 15.01s/it]"
          ]
        },
        {
          "name": "stdout",
          "output_type": "stream",
          "text": [
            "End KNN operations, time taken: 2.368873357772827\n",
            "training loss: 2.43939893245697\n",
            "End document, total time: 14.682762384414673\n",
            "Begin document\n",
            "Begin KNN operations\n",
            "End KNN operations, time taken: 0.4943501949310303\n",
            "Begin KNN operations\n",
            "End KNN operations, time taken: 0.8218052387237549\n",
            "Begin KNN operations\n",
            "End KNN operations, time taken: 0.9984045028686523\n",
            "Begin KNN operations\n",
            "End KNN operations, time taken: 1.1986217498779297\n",
            "Begin KNN operations\n",
            "End KNN operations, time taken: 1.4489963054656982\n",
            "Begin KNN operations\n",
            "End KNN operations, time taken: 1.6597914695739746\n",
            "Begin KNN operations\n",
            "End KNN operations, time taken: 1.9086899757385254\n",
            "Begin KNN operations\n",
            "End KNN operations, time taken: 2.1637940406799316\n",
            "Begin KNN operations\n"
          ]
        },
        {
          "name": "stderr",
          "output_type": "stream",
          "text": [
            "\rtraining:  57%|█████▊    | 115/200 [29:03<21:17, 15.03s/it]"
          ]
        },
        {
          "name": "stdout",
          "output_type": "stream",
          "text": [
            "End KNN operations, time taken: 2.430562973022461\n",
            "training loss: 2.485150074958801\n",
            "End document, total time: 14.868916273117065\n",
            "Begin document\n",
            "Begin KNN operations\n",
            "End KNN operations, time taken: 0.4921576976776123\n",
            "Begin KNN operations\n",
            "End KNN operations, time taken: 0.7565023899078369\n",
            "Begin KNN operations\n",
            "End KNN operations, time taken: 0.9829456806182861\n",
            "Begin KNN operations\n",
            "End KNN operations, time taken: 1.2165143489837646\n",
            "Begin KNN operations\n",
            "End KNN operations, time taken: 1.4600846767425537\n",
            "Begin KNN operations\n",
            "End KNN operations, time taken: 1.674659013748169\n",
            "Begin KNN operations\n",
            "End KNN operations, time taken: 1.92830491065979\n",
            "Begin KNN operations\n",
            "End KNN operations, time taken: 2.2081196308135986\n",
            "Begin KNN operations\n"
          ]
        },
        {
          "name": "stderr",
          "output_type": "stream",
          "text": [
            "\rtraining:  58%|█████▊    | 116/200 [29:18<21:01, 15.02s/it]"
          ]
        },
        {
          "name": "stdout",
          "output_type": "stream",
          "text": [
            "End KNN operations, time taken: 2.3958632946014404\n",
            "training loss: 2.4325634479522704\n",
            "End document, total time: 14.822831869125366\n",
            "Begin document\n",
            "Begin KNN operations\n",
            "End KNN operations, time taken: 0.4819469451904297\n",
            "Begin KNN operations\n",
            "End KNN operations, time taken: 0.740398645401001\n",
            "Begin KNN operations\n",
            "End KNN operations, time taken: 0.9861576557159424\n",
            "Begin KNN operations\n",
            "End KNN operations, time taken: 1.2049798965454102\n",
            "Begin KNN operations\n",
            "End KNN operations, time taken: 1.4556002616882324\n",
            "Begin KNN operations\n",
            "End KNN operations, time taken: 1.7202672958374023\n",
            "Begin KNN operations\n",
            "End KNN operations, time taken: 1.9337084293365479\n",
            "Begin KNN operations\n",
            "End KNN operations, time taken: 2.1453020572662354\n",
            "Begin KNN operations\n"
          ]
        },
        {
          "name": "stderr",
          "output_type": "stream",
          "text": [
            "\rtraining:  58%|█████▊    | 117/200 [29:33<20:44, 15.00s/it]"
          ]
        },
        {
          "name": "stdout",
          "output_type": "stream",
          "text": [
            "End KNN operations, time taken: 2.371356964111328\n",
            "training loss: 2.4632086753845215\n",
            "End document, total time: 14.765772581100464\n",
            "Begin document\n",
            "Begin KNN operations\n",
            "End KNN operations, time taken: 0.485318660736084\n",
            "Begin KNN operations\n",
            "End KNN operations, time taken: 0.7563354969024658\n",
            "Begin KNN operations\n",
            "End KNN operations, time taken: 0.9937379360198975\n",
            "Begin KNN operations\n",
            "End KNN operations, time taken: 1.2779533863067627\n",
            "Begin KNN operations\n",
            "End KNN operations, time taken: 1.4444949626922607\n",
            "Begin KNN operations\n",
            "End KNN operations, time taken: 1.6785593032836914\n",
            "Begin KNN operations\n",
            "End KNN operations, time taken: 1.9655354022979736\n",
            "Begin KNN operations\n",
            "End KNN operations, time taken: 2.153592109680176\n",
            "Begin KNN operations\n"
          ]
        },
        {
          "name": "stderr",
          "output_type": "stream",
          "text": [
            "\rtraining:  59%|█████▉    | 118/200 [29:48<20:31, 15.02s/it]"
          ]
        },
        {
          "name": "stdout",
          "output_type": "stream",
          "text": [
            "End KNN operations, time taken: 2.379467248916626\n",
            "training loss: 2.440673279762268\n",
            "End document, total time: 14.886446714401245\n",
            "Begin document\n",
            "Begin KNN operations\n",
            "End KNN operations, time taken: 0.4815535545349121\n",
            "Begin KNN operations\n",
            "End KNN operations, time taken: 0.7388386726379395\n",
            "Begin KNN operations\n",
            "End KNN operations, time taken: 0.9863848686218262\n",
            "Begin KNN operations\n",
            "End KNN operations, time taken: 1.22678542137146\n",
            "Begin KNN operations\n",
            "End KNN operations, time taken: 1.4787170886993408\n",
            "Begin KNN operations\n",
            "End KNN operations, time taken: 1.6845011711120605\n",
            "Begin KNN operations\n",
            "End KNN operations, time taken: 1.9066143035888672\n",
            "Begin KNN operations\n",
            "End KNN operations, time taken: 2.188184976577759\n",
            "Begin KNN operations\n"
          ]
        },
        {
          "name": "stderr",
          "output_type": "stream",
          "text": [
            "\rtraining:  60%|█████▉    | 119/200 [30:03<20:15, 15.01s/it]"
          ]
        },
        {
          "name": "stdout",
          "output_type": "stream",
          "text": [
            "End KNN operations, time taken: 2.363415002822876\n",
            "training loss: 2.4627794265747074\n",
            "End document, total time: 14.784887552261353\n",
            "Begin document\n",
            "Begin KNN operations\n",
            "End KNN operations, time taken: 0.4772021770477295\n",
            "Begin KNN operations\n",
            "End KNN operations, time taken: 0.7458128929138184\n",
            "Begin KNN operations\n",
            "End KNN operations, time taken: 0.9655041694641113\n",
            "Begin KNN operations\n",
            "End KNN operations, time taken: 1.1983635425567627\n",
            "Begin KNN operations\n",
            "End KNN operations, time taken: 1.4462273120880127\n",
            "Begin KNN operations\n",
            "End KNN operations, time taken: 1.764589786529541\n",
            "Begin KNN operations\n",
            "End KNN operations, time taken: 1.9209399223327637\n",
            "Begin KNN operations\n",
            "End KNN operations, time taken: 2.1710522174835205\n",
            "Begin KNN operations\n"
          ]
        },
        {
          "name": "stderr",
          "output_type": "stream",
          "text": [
            "\rtraining:  60%|██████    | 120/200 [30:18<19:59, 14.99s/it]"
          ]
        },
        {
          "name": "stdout",
          "output_type": "stream",
          "text": [
            "End KNN operations, time taken: 2.3625001907348633\n",
            "training loss: 2.428338527679444\n",
            "End document, total time: 14.769282817840576\n",
            "Begin document\n",
            "Begin KNN operations\n",
            "End KNN operations, time taken: 0.4726741313934326\n",
            "Begin KNN operations\n",
            "End KNN operations, time taken: 0.7386107444763184\n",
            "Begin KNN operations\n",
            "End KNN operations, time taken: 1.010319709777832\n",
            "Begin KNN operations\n",
            "End KNN operations, time taken: 1.2102036476135254\n",
            "Begin KNN operations\n",
            "End KNN operations, time taken: 1.4898145198822021\n",
            "Begin KNN operations\n",
            "End KNN operations, time taken: 1.662956953048706\n",
            "Begin KNN operations\n",
            "End KNN operations, time taken: 1.8797385692596436\n",
            "Begin KNN operations\n",
            "End KNN operations, time taken: 2.1535332202911377\n",
            "Begin KNN operations\n"
          ]
        },
        {
          "name": "stderr",
          "output_type": "stream",
          "text": [
            "\rtraining:  60%|██████    | 121/200 [30:32<19:41, 14.96s/it]"
          ]
        },
        {
          "name": "stdout",
          "output_type": "stream",
          "text": [
            "End KNN operations, time taken: 2.390233278274536\n",
            "training loss: 2.4195380210876465\n",
            "End document, total time: 14.713079452514648\n",
            "Begin document\n",
            "Begin KNN operations\n",
            "End KNN operations, time taken: 0.47112226486206055\n",
            "Begin KNN operations\n",
            "End KNN operations, time taken: 0.7678544521331787\n",
            "Begin KNN operations\n",
            "End KNN operations, time taken: 1.0013504028320312\n",
            "Begin KNN operations\n",
            "End KNN operations, time taken: 1.2629311084747314\n",
            "Begin KNN operations\n",
            "End KNN operations, time taken: 1.4748213291168213\n",
            "Begin KNN operations\n",
            "End KNN operations, time taken: 1.692138671875\n",
            "Begin KNN operations\n",
            "End KNN operations, time taken: 1.959545373916626\n",
            "Begin KNN operations\n",
            "End KNN operations, time taken: 2.119903802871704\n",
            "Begin KNN operations\n"
          ]
        },
        {
          "name": "stderr",
          "output_type": "stream",
          "text": [
            "\rtraining:  61%|██████    | 122/200 [30:48<19:29, 15.00s/it]"
          ]
        },
        {
          "name": "stdout",
          "output_type": "stream",
          "text": [
            "End KNN operations, time taken: 2.44974684715271\n",
            "training loss: 2.4866338491439817\n",
            "End document, total time: 14.913536548614502\n",
            "Begin document\n",
            "Begin KNN operations\n",
            "End KNN operations, time taken: 0.4852101802825928\n",
            "Begin KNN operations\n",
            "End KNN operations, time taken: 0.7522933483123779\n",
            "Begin KNN operations\n",
            "End KNN operations, time taken: 0.9719839096069336\n",
            "Begin KNN operations\n",
            "End KNN operations, time taken: 1.1932237148284912\n",
            "Begin KNN operations\n",
            "End KNN operations, time taken: 1.4491524696350098\n",
            "Begin KNN operations\n",
            "End KNN operations, time taken: 1.686173915863037\n",
            "Begin KNN operations\n",
            "End KNN operations, time taken: 1.895684003829956\n",
            "Begin KNN operations\n",
            "End KNN operations, time taken: 2.176408052444458\n",
            "Begin KNN operations\n"
          ]
        },
        {
          "name": "stderr",
          "output_type": "stream",
          "text": [
            "\rtraining:  62%|██████▏   | 123/200 [31:02<19:11, 14.96s/it]"
          ]
        },
        {
          "name": "stdout",
          "output_type": "stream",
          "text": [
            "End KNN operations, time taken: 2.344111204147339\n",
            "training loss: 2.427736496925354\n",
            "End document, total time: 14.682348489761353\n",
            "Begin document\n",
            "Begin KNN operations\n",
            "End KNN operations, time taken: 0.4816105365753174\n",
            "Begin KNN operations\n",
            "End KNN operations, time taken: 0.7448389530181885\n",
            "Begin KNN operations\n",
            "End KNN operations, time taken: 0.9671216011047363\n",
            "Begin KNN operations\n",
            "End KNN operations, time taken: 1.2096729278564453\n",
            "Begin KNN operations\n",
            "End KNN operations, time taken: 1.4313762187957764\n",
            "Begin KNN operations\n",
            "End KNN operations, time taken: 1.6942028999328613\n",
            "Begin KNN operations\n",
            "End KNN operations, time taken: 1.899322509765625\n",
            "Begin KNN operations\n",
            "End KNN operations, time taken: 2.143131971359253\n",
            "Begin KNN operations\n"
          ]
        },
        {
          "name": "stderr",
          "output_type": "stream",
          "text": [
            "\rtraining:  62%|██████▏   | 124/200 [31:17<18:54, 14.93s/it]"
          ]
        },
        {
          "name": "stdout",
          "output_type": "stream",
          "text": [
            "End KNN operations, time taken: 2.3819453716278076\n",
            "training loss: 2.5011828660964963\n",
            "End document, total time: 14.67779541015625\n",
            "Begin document\n",
            "Begin KNN operations\n",
            "End KNN operations, time taken: 0.4793071746826172\n",
            "Begin KNN operations\n",
            "End KNN operations, time taken: 0.744431734085083\n",
            "Begin KNN operations\n",
            "End KNN operations, time taken: 0.9893295764923096\n",
            "Begin KNN operations\n",
            "End KNN operations, time taken: 1.2746200561523438\n",
            "Begin KNN operations\n",
            "End KNN operations, time taken: 1.448009967803955\n",
            "Begin KNN operations\n",
            "End KNN operations, time taken: 1.6711757183074951\n",
            "Begin KNN operations\n",
            "End KNN operations, time taken: 1.8895604610443115\n",
            "Begin KNN operations\n",
            "End KNN operations, time taken: 2.163437843322754\n",
            "Begin KNN operations\n"
          ]
        },
        {
          "name": "stderr",
          "output_type": "stream",
          "text": [
            "\rtraining:  62%|██████▎   | 125/200 [31:32<18:42, 14.96s/it]"
          ]
        },
        {
          "name": "stdout",
          "output_type": "stream",
          "text": [
            "End KNN operations, time taken: 2.4841561317443848\n",
            "training loss: 2.4568708419799807\n",
            "End document, total time: 14.872765064239502\n",
            "Begin document\n",
            "Begin KNN operations\n",
            "End KNN operations, time taken: 0.49338269233703613\n",
            "Begin KNN operations\n",
            "End KNN operations, time taken: 0.7495369911193848\n",
            "Begin KNN operations\n",
            "End KNN operations, time taken: 0.9838554859161377\n",
            "Begin KNN operations\n",
            "End KNN operations, time taken: 1.2411067485809326\n",
            "Begin KNN operations\n",
            "End KNN operations, time taken: 1.4266462326049805\n",
            "Begin KNN operations\n",
            "End KNN operations, time taken: 1.633098840713501\n",
            "Begin KNN operations\n",
            "End KNN operations, time taken: 1.8902275562286377\n",
            "Begin KNN operations\n",
            "End KNN operations, time taken: 2.1657862663269043\n",
            "Begin KNN operations\n"
          ]
        },
        {
          "name": "stderr",
          "output_type": "stream",
          "text": [
            "\rtraining:  63%|██████▎   | 126/200 [31:47<18:25, 14.94s/it]"
          ]
        },
        {
          "name": "stdout",
          "output_type": "stream",
          "text": [
            "End KNN operations, time taken: 2.4127540588378906\n",
            "training loss: 2.432656121253967\n",
            "End document, total time: 14.702885150909424\n",
            "Begin document\n",
            "Begin KNN operations\n",
            "End KNN operations, time taken: 0.4834456443786621\n",
            "Begin KNN operations\n",
            "End KNN operations, time taken: 0.750023603439331\n",
            "Begin KNN operations\n",
            "End KNN operations, time taken: 0.9856810569763184\n",
            "Begin KNN operations\n",
            "End KNN operations, time taken: 1.2430782318115234\n",
            "Begin KNN operations\n",
            "End KNN operations, time taken: 1.4511780738830566\n",
            "Begin KNN operations\n",
            "End KNN operations, time taken: 1.6509590148925781\n",
            "Begin KNN operations\n",
            "End KNN operations, time taken: 1.993642807006836\n",
            "Begin KNN operations\n",
            "End KNN operations, time taken: 2.118161201477051\n",
            "Begin KNN operations\n"
          ]
        },
        {
          "name": "stderr",
          "output_type": "stream",
          "text": [
            "\rtraining:  64%|██████▎   | 127/200 [32:02<18:12, 14.96s/it]"
          ]
        },
        {
          "name": "stdout",
          "output_type": "stream",
          "text": [
            "End KNN operations, time taken: 2.402989387512207\n",
            "training loss: 2.3937404870986936\n",
            "End document, total time: 14.83591341972351\n",
            "Begin document\n",
            "Begin KNN operations\n",
            "End KNN operations, time taken: 0.4897613525390625\n",
            "Begin KNN operations\n",
            "End KNN operations, time taken: 0.7381970882415771\n",
            "Begin KNN operations\n",
            "End KNN operations, time taken: 0.98679518699646\n",
            "Begin KNN operations\n",
            "End KNN operations, time taken: 1.202974796295166\n",
            "Begin KNN operations\n",
            "End KNN operations, time taken: 1.490168571472168\n",
            "Begin KNN operations\n",
            "End KNN operations, time taken: 1.6524951457977295\n",
            "Begin KNN operations\n",
            "End KNN operations, time taken: 1.8719422817230225\n",
            "Begin KNN operations\n",
            "End KNN operations, time taken: 2.1294639110565186\n",
            "Begin KNN operations\n"
          ]
        },
        {
          "name": "stderr",
          "output_type": "stream",
          "text": [
            "\rtraining:  64%|██████▍   | 128/200 [32:17<17:54, 14.92s/it]"
          ]
        },
        {
          "name": "stdout",
          "output_type": "stream",
          "text": [
            "End KNN operations, time taken: 2.357837200164795\n",
            "training loss: 2.428193521499634\n",
            "End document, total time: 14.646480560302734\n",
            "Begin document\n",
            "Begin KNN operations\n",
            "End KNN operations, time taken: 0.48375940322875977\n",
            "Begin KNN operations\n",
            "End KNN operations, time taken: 0.786684513092041\n",
            "Begin KNN operations\n",
            "End KNN operations, time taken: 1.0003869533538818\n",
            "Begin KNN operations\n",
            "End KNN operations, time taken: 1.1958568096160889\n",
            "Begin KNN operations\n",
            "End KNN operations, time taken: 1.4419965744018555\n",
            "Begin KNN operations\n",
            "End KNN operations, time taken: 1.6643691062927246\n",
            "Begin KNN operations\n",
            "End KNN operations, time taken: 1.8767008781433105\n",
            "Begin KNN operations\n",
            "End KNN operations, time taken: 2.1269490718841553\n",
            "Begin KNN operations\n"
          ]
        },
        {
          "name": "stderr",
          "output_type": "stream",
          "text": [
            "\rtraining:  64%|██████▍   | 129/200 [32:32<17:40, 14.93s/it]"
          ]
        },
        {
          "name": "stdout",
          "output_type": "stream",
          "text": [
            "End KNN operations, time taken: 2.4889776706695557\n",
            "training loss: 2.518852877616882\n",
            "End document, total time: 14.777384042739868\n",
            "Begin document\n",
            "Begin KNN operations\n",
            "End KNN operations, time taken: 0.46874260902404785\n",
            "Begin KNN operations\n",
            "End KNN operations, time taken: 0.748436450958252\n",
            "Begin KNN operations\n",
            "End KNN operations, time taken: 0.9734935760498047\n",
            "Begin KNN operations\n",
            "End KNN operations, time taken: 1.2266368865966797\n",
            "Begin KNN operations\n",
            "End KNN operations, time taken: 1.4372575283050537\n",
            "Begin KNN operations\n",
            "End KNN operations, time taken: 1.6465342044830322\n",
            "Begin KNN operations\n",
            "End KNN operations, time taken: 1.8518400192260742\n",
            "Begin KNN operations\n",
            "End KNN operations, time taken: 2.1803996562957764\n",
            "Begin KNN operations\n"
          ]
        },
        {
          "name": "stderr",
          "output_type": "stream",
          "text": [
            "\rtraining:  65%|██████▌   | 130/200 [32:47<17:22, 14.89s/it]"
          ]
        },
        {
          "name": "stdout",
          "output_type": "stream",
          "text": [
            "End KNN operations, time taken: 2.3580267429351807\n",
            "training loss: 2.396738481521606\n",
            "End document, total time: 14.61776328086853\n",
            "Begin document\n",
            "Begin KNN operations\n",
            "End KNN operations, time taken: 0.4806809425354004\n",
            "Begin KNN operations\n",
            "End KNN operations, time taken: 0.7418522834777832\n",
            "Begin KNN operations\n",
            "End KNN operations, time taken: 0.9700930118560791\n",
            "Begin KNN operations\n",
            "End KNN operations, time taken: 1.2053813934326172\n",
            "Begin KNN operations\n",
            "End KNN operations, time taken: 1.4615166187286377\n",
            "Begin KNN operations\n",
            "End KNN operations, time taken: 1.7043311595916748\n",
            "Begin KNN operations\n",
            "End KNN operations, time taken: 1.8980622291564941\n",
            "Begin KNN operations\n",
            "End KNN operations, time taken: 2.101118803024292\n",
            "Begin KNN operations\n"
          ]
        },
        {
          "name": "stderr",
          "output_type": "stream",
          "text": [
            "\rtraining:  66%|██████▌   | 131/200 [33:02<17:06, 14.87s/it]"
          ]
        },
        {
          "name": "stdout",
          "output_type": "stream",
          "text": [
            "End KNN operations, time taken: 2.377603054046631\n",
            "training loss: 2.47064778804779\n",
            "End document, total time: 14.64644479751587\n",
            "Begin document\n",
            "Begin KNN operations\n",
            "End KNN operations, time taken: 0.4827299118041992\n",
            "Begin KNN operations\n",
            "End KNN operations, time taken: 0.7404534816741943\n",
            "Begin KNN operations\n",
            "End KNN operations, time taken: 0.9753270149230957\n",
            "Begin KNN operations\n",
            "End KNN operations, time taken: 1.258988618850708\n",
            "Begin KNN operations\n",
            "End KNN operations, time taken: 1.4484574794769287\n",
            "Begin KNN operations\n",
            "End KNN operations, time taken: 1.6473596096038818\n",
            "Begin KNN operations\n",
            "End KNN operations, time taken: 1.8675205707550049\n",
            "Begin KNN operations\n",
            "End KNN operations, time taken: 2.131556510925293\n",
            "Begin KNN operations\n"
          ]
        },
        {
          "name": "stderr",
          "output_type": "stream",
          "text": [
            "\rtraining:  66%|██████▌   | 132/200 [33:16<16:49, 14.84s/it]"
          ]
        },
        {
          "name": "stdout",
          "output_type": "stream",
          "text": [
            "End KNN operations, time taken: 2.32680606842041\n",
            "training loss: 2.412659931182861\n",
            "End document, total time: 14.607059955596924\n",
            "Begin document\n",
            "Begin KNN operations\n",
            "End KNN operations, time taken: 0.473691463470459\n",
            "Begin KNN operations\n",
            "End KNN operations, time taken: 0.7873721122741699\n",
            "Begin KNN operations\n",
            "End KNN operations, time taken: 0.9895682334899902\n",
            "Begin KNN operations\n",
            "End KNN operations, time taken: 1.2024986743927002\n",
            "Begin KNN operations\n",
            "End KNN operations, time taken: 1.4352524280548096\n",
            "Begin KNN operations\n",
            "End KNN operations, time taken: 1.6475274562835693\n",
            "Begin KNN operations\n",
            "End KNN operations, time taken: 1.9000217914581299\n",
            "Begin KNN operations\n",
            "End KNN operations, time taken: 2.125429630279541\n",
            "Begin KNN operations\n"
          ]
        },
        {
          "name": "stderr",
          "output_type": "stream",
          "text": [
            "\rtraining:  66%|██████▋   | 133/200 [33:31<16:35, 14.86s/it]"
          ]
        },
        {
          "name": "stdout",
          "output_type": "stream",
          "text": [
            "End KNN operations, time taken: 2.436379909515381\n",
            "training loss: 2.4916328430175785\n",
            "End document, total time: 14.705511808395386\n",
            "Begin document\n",
            "Begin KNN operations\n",
            "End KNN operations, time taken: 0.48430347442626953\n",
            "Begin KNN operations\n",
            "End KNN operations, time taken: 0.7373864650726318\n",
            "Begin KNN operations\n",
            "End KNN operations, time taken: 0.9669344425201416\n",
            "Begin KNN operations\n",
            "End KNN operations, time taken: 1.2083323001861572\n",
            "Begin KNN operations\n",
            "End KNN operations, time taken: 1.436211347579956\n",
            "Begin KNN operations\n",
            "End KNN operations, time taken: 1.6704888343811035\n",
            "Begin KNN operations\n",
            "End KNN operations, time taken: 1.9263992309570312\n",
            "Begin KNN operations\n",
            "End KNN operations, time taken: 2.132408618927002\n",
            "Begin KNN operations\n"
          ]
        },
        {
          "name": "stderr",
          "output_type": "stream",
          "text": [
            "\rtraining:  67%|██████▋   | 134/200 [33:46<16:19, 14.85s/it]"
          ]
        },
        {
          "name": "stdout",
          "output_type": "stream",
          "text": [
            "End KNN operations, time taken: 2.363961696624756\n",
            "training loss: 2.463526105880737\n",
            "End document, total time: 14.619823217391968\n",
            "Begin document\n",
            "Begin KNN operations\n",
            "End KNN operations, time taken: 0.4868957996368408\n",
            "Begin KNN operations\n",
            "End KNN operations, time taken: 0.7601380348205566\n",
            "Begin KNN operations\n",
            "End KNN operations, time taken: 0.9724602699279785\n",
            "Begin KNN operations\n",
            "End KNN operations, time taken: 1.1866655349731445\n",
            "Begin KNN operations\n",
            "End KNN operations, time taken: 1.4486920833587646\n",
            "Begin KNN operations\n",
            "End KNN operations, time taken: 1.7218375205993652\n",
            "Begin KNN operations\n",
            "End KNN operations, time taken: 1.895387887954712\n",
            "Begin KNN operations\n",
            "End KNN operations, time taken: 2.1453301906585693\n",
            "Begin KNN operations\n"
          ]
        },
        {
          "name": "stderr",
          "output_type": "stream",
          "text": [
            "\rtraining:  68%|██████▊   | 135/200 [34:01<16:04, 14.84s/it]"
          ]
        },
        {
          "name": "stdout",
          "output_type": "stream",
          "text": [
            "End KNN operations, time taken: 2.3361661434173584\n",
            "training loss: 2.447981524467468\n",
            "End document, total time: 14.65674376487732\n",
            "Begin document\n",
            "Begin KNN operations\n",
            "End KNN operations, time taken: 0.4751927852630615\n",
            "Begin KNN operations\n",
            "End KNN operations, time taken: 0.7799596786499023\n",
            "Begin KNN operations\n",
            "End KNN operations, time taken: 1.022296667098999\n",
            "Begin KNN operations\n",
            "End KNN operations, time taken: 1.2383403778076172\n",
            "Begin KNN operations\n",
            "End KNN operations, time taken: 1.4316904544830322\n",
            "Begin KNN operations\n",
            "End KNN operations, time taken: 1.656416893005371\n",
            "Begin KNN operations\n",
            "End KNN operations, time taken: 1.8656790256500244\n",
            "Begin KNN operations\n",
            "End KNN operations, time taken: 2.1948273181915283\n",
            "Begin KNN operations\n"
          ]
        },
        {
          "name": "stderr",
          "output_type": "stream",
          "text": [
            "\rtraining:  68%|██████▊   | 136/200 [34:16<15:52, 14.88s/it]"
          ]
        },
        {
          "name": "stdout",
          "output_type": "stream",
          "text": [
            "End KNN operations, time taken: 2.397704601287842\n",
            "training loss: 2.565702819824219\n",
            "End document, total time: 14.79352617263794\n",
            "Begin document\n",
            "Begin KNN operations\n",
            "End KNN operations, time taken: 0.4748106002807617\n",
            "Begin KNN operations\n",
            "End KNN operations, time taken: 0.7453892230987549\n",
            "Begin KNN operations\n",
            "End KNN operations, time taken: 0.9824364185333252\n",
            "Begin KNN operations\n",
            "End KNN operations, time taken: 1.2183306217193604\n",
            "Begin KNN operations\n",
            "End KNN operations, time taken: 1.4108893871307373\n",
            "Begin KNN operations\n",
            "End KNN operations, time taken: 1.6666455268859863\n",
            "Begin KNN operations\n",
            "End KNN operations, time taken: 1.895658254623413\n",
            "Begin KNN operations\n",
            "End KNN operations, time taken: 2.1726343631744385\n",
            "Begin KNN operations\n"
          ]
        },
        {
          "name": "stderr",
          "output_type": "stream",
          "text": [
            "\rtraining:  68%|██████▊   | 137/200 [34:31<15:37, 14.88s/it]"
          ]
        },
        {
          "name": "stdout",
          "output_type": "stream",
          "text": [
            "End KNN operations, time taken: 2.3820767402648926\n",
            "training loss: 2.3712112665176392\n",
            "End document, total time: 14.686437368392944\n",
            "Begin document\n",
            "Begin KNN operations\n",
            "End KNN operations, time taken: 0.47903943061828613\n",
            "Begin KNN operations\n",
            "End KNN operations, time taken: 0.7695419788360596\n",
            "Begin KNN operations\n",
            "End KNN operations, time taken: 0.9562814235687256\n",
            "Begin KNN operations\n",
            "End KNN operations, time taken: 1.208012580871582\n",
            "Begin KNN operations\n",
            "End KNN operations, time taken: 1.4744369983673096\n",
            "Begin KNN operations\n",
            "End KNN operations, time taken: 1.7098453044891357\n",
            "Begin KNN operations\n",
            "End KNN operations, time taken: 1.9700648784637451\n",
            "Begin KNN operations\n",
            "End KNN operations, time taken: 2.139573574066162\n",
            "Begin KNN operations\n"
          ]
        },
        {
          "name": "stderr",
          "output_type": "stream",
          "text": [
            "\rtraining:  69%|██████▉   | 138/200 [34:46<15:24, 14.92s/it]"
          ]
        },
        {
          "name": "stdout",
          "output_type": "stream",
          "text": [
            "End KNN operations, time taken: 2.3745784759521484\n",
            "training loss: 2.4076129198074336\n",
            "End document, total time: 14.818456649780273\n",
            "Begin document\n",
            "Begin KNN operations\n",
            "End KNN operations, time taken: 0.4754610061645508\n",
            "Begin KNN operations\n",
            "End KNN operations, time taken: 0.748281717300415\n",
            "Begin KNN operations\n",
            "End KNN operations, time taken: 0.9834816455841064\n",
            "Begin KNN operations\n",
            "End KNN operations, time taken: 1.2125914096832275\n",
            "Begin KNN operations\n",
            "End KNN operations, time taken: 1.4882595539093018\n",
            "Begin KNN operations\n",
            "End KNN operations, time taken: 1.6493291854858398\n",
            "Begin KNN operations\n",
            "End KNN operations, time taken: 1.885077953338623\n",
            "Begin KNN operations\n",
            "End KNN operations, time taken: 2.1126461029052734\n",
            "Begin KNN operations\n"
          ]
        },
        {
          "name": "stderr",
          "output_type": "stream",
          "text": [
            "\rtraining:  70%|██████▉   | 139/200 [35:01<15:07, 14.87s/it]"
          ]
        },
        {
          "name": "stdout",
          "output_type": "stream",
          "text": [
            "End KNN operations, time taken: 2.3334953784942627\n",
            "training loss: 2.4063446998596194\n",
            "End document, total time: 14.58866024017334\n",
            "Begin document\n",
            "Begin KNN operations\n",
            "End KNN operations, time taken: 0.4793670177459717\n",
            "Begin KNN operations\n",
            "End KNN operations, time taken: 0.7551579475402832\n",
            "Begin KNN operations\n",
            "End KNN operations, time taken: 1.0252904891967773\n",
            "Begin KNN operations\n",
            "End KNN operations, time taken: 1.20115327835083\n",
            "Begin KNN operations\n",
            "End KNN operations, time taken: 1.4345388412475586\n",
            "Begin KNN operations\n",
            "End KNN operations, time taken: 1.647745132446289\n",
            "Begin KNN operations\n",
            "End KNN operations, time taken: 1.8676633834838867\n",
            "Begin KNN operations\n",
            "End KNN operations, time taken: 2.090959072113037\n",
            "Begin KNN operations\n"
          ]
        },
        {
          "name": "stderr",
          "output_type": "stream",
          "text": [
            "\rtraining:  70%|███████   | 140/200 [35:15<14:52, 14.87s/it]"
          ]
        },
        {
          "name": "stdout",
          "output_type": "stream",
          "text": [
            "End KNN operations, time taken: 2.4694786071777344\n",
            "training loss: 2.4452295541763305\n",
            "End document, total time: 14.678569078445435\n",
            "Begin document\n",
            "Begin KNN operations\n",
            "End KNN operations, time taken: 0.47990965843200684\n",
            "Begin KNN operations\n",
            "End KNN operations, time taken: 0.7370789051055908\n",
            "Begin KNN operations\n",
            "End KNN operations, time taken: 0.9721946716308594\n",
            "Begin KNN operations\n",
            "End KNN operations, time taken: 1.1836848258972168\n",
            "Begin KNN operations\n",
            "End KNN operations, time taken: 1.44722318649292\n",
            "Begin KNN operations\n",
            "End KNN operations, time taken: 1.6498980522155762\n",
            "Begin KNN operations\n",
            "End KNN operations, time taken: 1.892388105392456\n",
            "Begin KNN operations\n",
            "End KNN operations, time taken: 2.147860050201416\n",
            "Begin KNN operations\n"
          ]
        },
        {
          "name": "stderr",
          "output_type": "stream",
          "text": [
            "\rtraining:  70%|███████   | 141/200 [35:30<14:35, 14.84s/it]"
          ]
        },
        {
          "name": "stdout",
          "output_type": "stream",
          "text": [
            "End KNN operations, time taken: 2.32706618309021\n",
            "training loss: 2.407580614089966\n",
            "End document, total time: 14.564261674880981\n",
            "Begin document\n",
            "Begin KNN operations\n",
            "End KNN operations, time taken: 0.47922515869140625\n",
            "Begin KNN operations\n",
            "End KNN operations, time taken: 0.7386200428009033\n",
            "Begin KNN operations\n",
            "End KNN operations, time taken: 1.038360834121704\n",
            "Begin KNN operations\n",
            "End KNN operations, time taken: 1.1830387115478516\n",
            "Begin KNN operations\n",
            "End KNN operations, time taken: 1.3991622924804688\n",
            "Begin KNN operations\n",
            "End KNN operations, time taken: 1.6899404525756836\n",
            "Begin KNN operations\n",
            "End KNN operations, time taken: 1.862443447113037\n",
            "Begin KNN operations\n",
            "End KNN operations, time taken: 2.092245101928711\n",
            "Begin KNN operations\n"
          ]
        },
        {
          "name": "stderr",
          "output_type": "stream",
          "text": [
            "\rtraining:  71%|███████   | 142/200 [35:45<14:19, 14.82s/it]"
          ]
        },
        {
          "name": "stdout",
          "output_type": "stream",
          "text": [
            "End KNN operations, time taken: 2.377941846847534\n",
            "training loss: 2.483642506599426\n",
            "End document, total time: 14.603607892990112\n",
            "Begin document\n",
            "Begin KNN operations\n",
            "End KNN operations, time taken: 0.47589588165283203\n",
            "Begin KNN operations\n",
            "End KNN operations, time taken: 0.7650480270385742\n",
            "Begin KNN operations\n",
            "End KNN operations, time taken: 0.9880118370056152\n",
            "Begin KNN operations\n",
            "End KNN operations, time taken: 1.2412405014038086\n",
            "Begin KNN operations\n",
            "End KNN operations, time taken: 1.4302799701690674\n",
            "Begin KNN operations\n",
            "End KNN operations, time taken: 1.6537203788757324\n",
            "Begin KNN operations\n",
            "End KNN operations, time taken: 1.969944953918457\n",
            "Begin KNN operations\n",
            "End KNN operations, time taken: 2.137004852294922\n",
            "Begin KNN operations\n"
          ]
        },
        {
          "name": "stderr",
          "output_type": "stream",
          "text": [
            "\rtraining:  72%|███████▏  | 143/200 [36:00<14:06, 14.86s/it]"
          ]
        },
        {
          "name": "stdout",
          "output_type": "stream",
          "text": [
            "End KNN operations, time taken: 2.3660900592803955\n",
            "training loss: 2.4174384117126464\n",
            "End document, total time: 14.757503747940063\n",
            "Begin document\n",
            "Begin KNN operations\n",
            "End KNN operations, time taken: 0.486147403717041\n",
            "Begin KNN operations\n",
            "End KNN operations, time taken: 0.7462027072906494\n",
            "Begin KNN operations\n",
            "End KNN operations, time taken: 0.9841244220733643\n",
            "Begin KNN operations\n",
            "End KNN operations, time taken: 1.2415401935577393\n",
            "Begin KNN operations\n",
            "End KNN operations, time taken: 1.4374139308929443\n",
            "Begin KNN operations\n",
            "End KNN operations, time taken: 1.6670928001403809\n",
            "Begin KNN operations\n",
            "End KNN operations, time taken: 1.898876428604126\n",
            "Begin KNN operations\n",
            "End KNN operations, time taken: 2.134093999862671\n",
            "Begin KNN operations\n"
          ]
        },
        {
          "name": "stderr",
          "output_type": "stream",
          "text": [
            "\rtraining:  72%|███████▏  | 144/200 [36:15<13:52, 14.86s/it]"
          ]
        },
        {
          "name": "stdout",
          "output_type": "stream",
          "text": [
            "End KNN operations, time taken: 2.4082062244415283\n",
            "training loss: 2.3873800754547116\n",
            "End document, total time: 14.688004732131958\n",
            "Begin document\n",
            "Begin KNN operations\n",
            "End KNN operations, time taken: 0.46868109703063965\n",
            "Begin KNN operations\n",
            "End KNN operations, time taken: 0.7481489181518555\n",
            "Begin KNN operations\n",
            "End KNN operations, time taken: 0.9908411502838135\n",
            "Begin KNN operations\n",
            "End KNN operations, time taken: 1.1871955394744873\n",
            "Begin KNN operations\n",
            "End KNN operations, time taken: 1.4233031272888184\n",
            "Begin KNN operations\n",
            "End KNN operations, time taken: 1.656891107559204\n",
            "Begin KNN operations\n",
            "End KNN operations, time taken: 1.941403865814209\n",
            "Begin KNN operations\n",
            "End KNN operations, time taken: 2.124816417694092\n",
            "Begin KNN operations\n"
          ]
        },
        {
          "name": "stderr",
          "output_type": "stream",
          "text": [
            "\rtraining:  72%|███████▎  | 145/200 [36:30<13:37, 14.86s/it]"
          ]
        },
        {
          "name": "stdout",
          "output_type": "stream",
          "text": [
            "End KNN operations, time taken: 2.3603782653808594\n",
            "training loss: 2.3848864078521728\n",
            "End document, total time: 14.659026861190796\n",
            "Begin document\n",
            "Begin KNN operations\n",
            "End KNN operations, time taken: 0.4795231819152832\n",
            "Begin KNN operations\n",
            "End KNN operations, time taken: 0.7443497180938721\n",
            "Begin KNN operations\n",
            "End KNN operations, time taken: 0.9744627475738525\n",
            "Begin KNN operations\n",
            "End KNN operations, time taken: 1.2320587635040283\n",
            "Begin KNN operations\n",
            "End KNN operations, time taken: 1.4948527812957764\n",
            "Begin KNN operations\n",
            "End KNN operations, time taken: 1.74021577835083\n",
            "Begin KNN operations\n",
            "End KNN operations, time taken: 1.8601999282836914\n",
            "Begin KNN operations\n",
            "End KNN operations, time taken: 2.093977451324463\n",
            "Begin KNN operations\n"
          ]
        },
        {
          "name": "stderr",
          "output_type": "stream",
          "text": [
            "\rtraining:  73%|███████▎  | 146/200 [36:44<13:22, 14.86s/it]"
          ]
        },
        {
          "name": "stdout",
          "output_type": "stream",
          "text": [
            "End KNN operations, time taken: 2.342506170272827\n",
            "training loss: 2.388828635215759\n",
            "End document, total time: 14.675872802734375\n",
            "Begin document\n",
            "Begin KNN operations\n",
            "End KNN operations, time taken: 0.47386956214904785\n",
            "Begin KNN operations\n",
            "End KNN operations, time taken: 0.7643105983734131\n",
            "Begin KNN operations\n",
            "End KNN operations, time taken: 0.9910299777984619\n",
            "Begin KNN operations\n",
            "End KNN operations, time taken: 1.2074615955352783\n",
            "Begin KNN operations\n",
            "End KNN operations, time taken: 1.419813871383667\n",
            "Begin KNN operations\n",
            "End KNN operations, time taken: 1.6541180610656738\n",
            "Begin KNN operations\n",
            "End KNN operations, time taken: 1.9228711128234863\n",
            "Begin KNN operations\n",
            "End KNN operations, time taken: 2.1411807537078857\n",
            "Begin KNN operations\n"
          ]
        },
        {
          "name": "stderr",
          "output_type": "stream",
          "text": [
            "\rtraining:  74%|███████▎  | 147/200 [36:59<13:07, 14.86s/it]"
          ]
        },
        {
          "name": "stdout",
          "output_type": "stream",
          "text": [
            "End KNN operations, time taken: 2.3802199363708496\n",
            "training loss: 2.3985049486160275\n",
            "End document, total time: 14.666146039962769\n",
            "Begin document\n",
            "Begin KNN operations\n",
            "End KNN operations, time taken: 0.47608017921447754\n",
            "Begin KNN operations\n",
            "End KNN operations, time taken: 0.7452242374420166\n",
            "Begin KNN operations\n",
            "End KNN operations, time taken: 0.9688980579376221\n",
            "Begin KNN operations\n",
            "End KNN operations, time taken: 1.188694953918457\n",
            "Begin KNN operations\n",
            "End KNN operations, time taken: 1.4677300453186035\n",
            "Begin KNN operations\n",
            "End KNN operations, time taken: 1.6584558486938477\n",
            "Begin KNN operations\n",
            "End KNN operations, time taken: 1.9000732898712158\n",
            "Begin KNN operations\n",
            "End KNN operations, time taken: 2.1774539947509766\n",
            "Begin KNN operations\n"
          ]
        },
        {
          "name": "stderr",
          "output_type": "stream",
          "text": [
            "\rtraining:  74%|███████▍  | 148/200 [37:14<12:52, 14.86s/it]"
          ]
        },
        {
          "name": "stdout",
          "output_type": "stream",
          "text": [
            "End KNN operations, time taken: 2.3699018955230713\n",
            "training loss: 2.3899832010269164\n",
            "End document, total time: 14.66923189163208\n",
            "Begin document\n",
            "Begin KNN operations\n",
            "End KNN operations, time taken: 0.4837307929992676\n",
            "Begin KNN operations\n",
            "End KNN operations, time taken: 0.747593879699707\n",
            "Begin KNN operations\n",
            "End KNN operations, time taken: 0.9889736175537109\n",
            "Begin KNN operations\n",
            "End KNN operations, time taken: 1.19976806640625\n",
            "Begin KNN operations\n",
            "End KNN operations, time taken: 1.4089276790618896\n",
            "Begin KNN operations\n",
            "End KNN operations, time taken: 1.7145426273345947\n",
            "Begin KNN operations\n",
            "End KNN operations, time taken: 1.9281589984893799\n",
            "Begin KNN operations\n",
            "End KNN operations, time taken: 2.1483752727508545\n",
            "Begin KNN operations\n"
          ]
        },
        {
          "name": "stderr",
          "output_type": "stream",
          "text": [
            "\rtraining:  74%|███████▍  | 149/200 [37:29<12:37, 14.86s/it]"
          ]
        },
        {
          "name": "stdout",
          "output_type": "stream",
          "text": [
            "End KNN operations, time taken: 2.3486478328704834\n",
            "training loss: 2.4139554977416995\n",
            "End document, total time: 14.693651676177979\n",
            "Begin document\n",
            "Begin KNN operations\n",
            "End KNN operations, time taken: 0.4675755500793457\n",
            "Begin KNN operations\n",
            "End KNN operations, time taken: 0.7395918369293213\n",
            "Begin KNN operations\n",
            "End KNN operations, time taken: 0.9707059860229492\n",
            "Begin KNN operations\n",
            "End KNN operations, time taken: 1.2446537017822266\n",
            "Begin KNN operations\n",
            "End KNN operations, time taken: 1.504953145980835\n",
            "Begin KNN operations\n",
            "End KNN operations, time taken: 1.667140007019043\n",
            "Begin KNN operations\n",
            "End KNN operations, time taken: 1.8701303005218506\n",
            "Begin KNN operations\n",
            "End KNN operations, time taken: 2.0989630222320557\n",
            "Begin KNN operations\n"
          ]
        },
        {
          "name": "stderr",
          "output_type": "stream",
          "text": [
            "\rtraining:  75%|███████▌  | 150/200 [37:44<12:22, 14.84s/it]"
          ]
        },
        {
          "name": "stdout",
          "output_type": "stream",
          "text": [
            "End KNN operations, time taken: 2.3128325939178467\n",
            "training loss: 2.5014663219451907\n",
            "End document, total time: 14.6157705783844\n",
            "Begin document\n",
            "Begin KNN operations\n",
            "End KNN operations, time taken: 0.4926302433013916\n",
            "Begin KNN operations\n",
            "End KNN operations, time taken: 0.7816822528839111\n",
            "Begin KNN operations\n",
            "End KNN operations, time taken: 0.9819612503051758\n",
            "Begin KNN operations\n",
            "End KNN operations, time taken: 1.199267864227295\n",
            "Begin KNN operations\n",
            "End KNN operations, time taken: 1.3932342529296875\n",
            "Begin KNN operations\n",
            "End KNN operations, time taken: 1.6272222995758057\n",
            "Begin KNN operations\n",
            "End KNN operations, time taken: 1.8573317527770996\n",
            "Begin KNN operations\n",
            "End KNN operations, time taken: 2.0859522819519043\n",
            "Begin KNN operations\n"
          ]
        },
        {
          "name": "stderr",
          "output_type": "stream",
          "text": [
            "\rtraining:  76%|███████▌  | 151/200 [37:59<12:05, 14.81s/it]"
          ]
        },
        {
          "name": "stdout",
          "output_type": "stream",
          "text": [
            "End KNN operations, time taken: 2.425490617752075\n",
            "training loss: 2.4604860305786134\n",
            "End document, total time: 14.560389041900635\n",
            "Begin document\n",
            "Begin KNN operations\n",
            "End KNN operations, time taken: 0.4825103282928467\n",
            "Begin KNN operations\n",
            "End KNN operations, time taken: 0.7521376609802246\n",
            "Begin KNN operations\n",
            "End KNN operations, time taken: 0.966801643371582\n",
            "Begin KNN operations\n",
            "End KNN operations, time taken: 1.214573621749878\n",
            "Begin KNN operations\n",
            "End KNN operations, time taken: 1.4263055324554443\n",
            "Begin KNN operations\n",
            "End KNN operations, time taken: 1.676576852798462\n",
            "Begin KNN operations\n",
            "End KNN operations, time taken: 1.9150938987731934\n",
            "Begin KNN operations\n",
            "End KNN operations, time taken: 2.1541943550109863\n",
            "Begin KNN operations\n"
          ]
        },
        {
          "name": "stderr",
          "output_type": "stream",
          "text": [
            "\rtraining:  76%|███████▌  | 152/200 [38:13<11:51, 14.82s/it]"
          ]
        },
        {
          "name": "stdout",
          "output_type": "stream",
          "text": [
            "End KNN operations, time taken: 2.3276634216308594\n",
            "training loss: 2.375802326202393\n",
            "End document, total time: 14.63212513923645\n",
            "Begin document\n",
            "Begin KNN operations\n",
            "End KNN operations, time taken: 0.5100173950195312\n",
            "Begin KNN operations\n",
            "End KNN operations, time taken: 0.7895247936248779\n",
            "Begin KNN operations\n",
            "End KNN operations, time taken: 0.9876017570495605\n",
            "Begin KNN operations\n",
            "End KNN operations, time taken: 1.2125182151794434\n",
            "Begin KNN operations\n",
            "End KNN operations, time taken: 1.434650182723999\n",
            "Begin KNN operations\n",
            "End KNN operations, time taken: 1.6989421844482422\n",
            "Begin KNN operations\n",
            "End KNN operations, time taken: 1.9047675132751465\n",
            "Begin KNN operations\n",
            "End KNN operations, time taken: 2.0913469791412354\n",
            "Begin KNN operations\n"
          ]
        },
        {
          "name": "stderr",
          "output_type": "stream",
          "text": [
            "\rtraining:  76%|███████▋  | 153/200 [38:28<11:38, 14.85s/it]"
          ]
        },
        {
          "name": "stdout",
          "output_type": "stream",
          "text": [
            "End KNN operations, time taken: 2.3805129528045654\n",
            "training loss: 2.4342401981353765\n",
            "End document, total time: 14.74928593635559\n",
            "Begin document\n",
            "Begin KNN operations\n",
            "End KNN operations, time taken: 0.47413158416748047\n",
            "Begin KNN operations\n",
            "End KNN operations, time taken: 0.7516460418701172\n",
            "Begin KNN operations\n",
            "End KNN operations, time taken: 1.0137066841125488\n",
            "Begin KNN operations\n",
            "End KNN operations, time taken: 1.2747840881347656\n",
            "Begin KNN operations\n",
            "End KNN operations, time taken: 1.4380438327789307\n",
            "Begin KNN operations\n",
            "End KNN operations, time taken: 1.7088468074798584\n",
            "Begin KNN operations\n",
            "End KNN operations, time taken: 1.9672622680664062\n",
            "Begin KNN operations\n",
            "End KNN operations, time taken: 2.0798094272613525\n",
            "Begin KNN operations\n"
          ]
        },
        {
          "name": "stderr",
          "output_type": "stream",
          "text": [
            "\rtraining:  77%|███████▋  | 154/200 [38:43<11:26, 14.92s/it]"
          ]
        },
        {
          "name": "stdout",
          "output_type": "stream",
          "text": [
            "End KNN operations, time taken: 2.4063632488250732\n",
            "training loss: 2.4688193798065186\n",
            "End document, total time: 14.881106615066528\n",
            "Begin document\n",
            "Begin KNN operations\n",
            "End KNN operations, time taken: 0.48352956771850586\n",
            "Begin KNN operations\n",
            "End KNN operations, time taken: 0.7417008876800537\n",
            "Begin KNN operations\n",
            "End KNN operations, time taken: 0.9733119010925293\n",
            "Begin KNN operations\n",
            "End KNN operations, time taken: 1.273914098739624\n",
            "Begin KNN operations\n",
            "End KNN operations, time taken: 1.4816341400146484\n",
            "Begin KNN operations\n",
            "End KNN operations, time taken: 1.6673035621643066\n",
            "Begin KNN operations\n",
            "End KNN operations, time taken: 1.8933954238891602\n",
            "Begin KNN operations\n",
            "End KNN operations, time taken: 2.182614803314209\n",
            "Begin KNN operations\n"
          ]
        },
        {
          "name": "stderr",
          "output_type": "stream",
          "text": [
            "\rtraining:  78%|███████▊  | 155/200 [38:58<11:12, 14.94s/it]"
          ]
        },
        {
          "name": "stdout",
          "output_type": "stream",
          "text": [
            "End KNN operations, time taken: 2.372025966644287\n",
            "training loss: 2.4255188465118405\n",
            "End document, total time: 14.783387422561646\n",
            "Begin document\n",
            "Begin KNN operations\n",
            "End KNN operations, time taken: 0.4710555076599121\n",
            "Begin KNN operations\n",
            "End KNN operations, time taken: 0.7488691806793213\n",
            "Begin KNN operations\n",
            "End KNN operations, time taken: 0.9597430229187012\n",
            "Begin KNN operations\n",
            "End KNN operations, time taken: 1.201068639755249\n",
            "Begin KNN operations\n",
            "End KNN operations, time taken: 1.4129581451416016\n",
            "Begin KNN operations\n",
            "End KNN operations, time taken: 1.7111053466796875\n",
            "Begin KNN operations\n",
            "End KNN operations, time taken: 1.921602725982666\n",
            "Begin KNN operations\n",
            "End KNN operations, time taken: 2.093860626220703\n",
            "Begin KNN operations\n"
          ]
        },
        {
          "name": "stderr",
          "output_type": "stream",
          "text": [
            "\rtraining:  78%|███████▊  | 156/200 [39:13<10:54, 14.88s/it]"
          ]
        },
        {
          "name": "stdout",
          "output_type": "stream",
          "text": [
            "End KNN operations, time taken: 2.3517801761627197\n",
            "training loss: 2.496750569343567\n",
            "End document, total time: 14.563497304916382\n",
            "Begin document\n",
            "Begin KNN operations\n",
            "End KNN operations, time taken: 0.4679524898529053\n",
            "Begin KNN operations\n",
            "End KNN operations, time taken: 0.7517707347869873\n",
            "Begin KNN operations\n",
            "End KNN operations, time taken: 0.962329626083374\n",
            "Begin KNN operations\n",
            "End KNN operations, time taken: 1.1885266304016113\n",
            "Begin KNN operations\n",
            "End KNN operations, time taken: 1.4644253253936768\n",
            "Begin KNN operations\n",
            "End KNN operations, time taken: 1.65277099609375\n",
            "Begin KNN operations\n",
            "End KNN operations, time taken: 1.8645014762878418\n",
            "Begin KNN operations\n",
            "End KNN operations, time taken: 2.0968942642211914\n",
            "Begin KNN operations\n"
          ]
        },
        {
          "name": "stderr",
          "output_type": "stream",
          "text": [
            "\rtraining:  78%|███████▊  | 157/200 [39:28<10:36, 14.81s/it]"
          ]
        },
        {
          "name": "stdout",
          "output_type": "stream",
          "text": [
            "End KNN operations, time taken: 2.322021007537842\n",
            "training loss: 2.3820565223693846\n",
            "End document, total time: 14.471640348434448\n",
            "Begin document\n",
            "Begin KNN operations\n",
            "End KNN operations, time taken: 0.4707345962524414\n",
            "Begin KNN operations\n",
            "End KNN operations, time taken: 0.7548933029174805\n",
            "Begin KNN operations\n",
            "End KNN operations, time taken: 0.9894640445709229\n",
            "Begin KNN operations\n",
            "End KNN operations, time taken: 1.1865763664245605\n",
            "Begin KNN operations\n",
            "End KNN operations, time taken: 1.4365954399108887\n",
            "Begin KNN operations\n",
            "End KNN operations, time taken: 1.7034542560577393\n",
            "Begin KNN operations\n",
            "End KNN operations, time taken: 1.961618423461914\n",
            "Begin KNN operations\n",
            "End KNN operations, time taken: 2.1416497230529785\n",
            "Begin KNN operations\n"
          ]
        },
        {
          "name": "stderr",
          "output_type": "stream",
          "text": [
            "\rtraining:  79%|███████▉  | 158/200 [39:43<10:26, 14.92s/it]"
          ]
        },
        {
          "name": "stdout",
          "output_type": "stream",
          "text": [
            "End KNN operations, time taken: 2.612401247024536\n",
            "training loss: 2.3851552724838254\n",
            "End document, total time: 15.009032964706421\n",
            "Begin document\n",
            "Begin KNN operations\n",
            "End KNN operations, time taken: 0.5099802017211914\n",
            "Begin KNN operations\n",
            "End KNN operations, time taken: 0.8536992073059082\n",
            "Begin KNN operations\n",
            "End KNN operations, time taken: 1.0763652324676514\n",
            "Begin KNN operations\n",
            "End KNN operations, time taken: 1.3537828922271729\n",
            "Begin KNN operations\n",
            "End KNN operations, time taken: 1.6580300331115723\n",
            "Begin KNN operations\n",
            "End KNN operations, time taken: 1.9321954250335693\n",
            "Begin KNN operations\n",
            "End KNN operations, time taken: 2.226323127746582\n",
            "Begin KNN operations\n",
            "End KNN operations, time taken: 2.4008119106292725\n",
            "Begin KNN operations\n"
          ]
        },
        {
          "name": "stderr",
          "output_type": "stream",
          "text": [
            "\rtraining:  80%|███████▉  | 159/200 [40:00<10:32, 15.43s/it]"
          ]
        },
        {
          "name": "stdout",
          "output_type": "stream",
          "text": [
            "End KNN operations, time taken: 2.6571083068847656\n",
            "training loss: 2.6031097412109374\n",
            "End document, total time: 16.438806772232056\n",
            "Begin document\n",
            "Begin KNN operations\n",
            "End KNN operations, time taken: 0.4915616512298584\n",
            "Begin KNN operations\n",
            "End KNN operations, time taken: 0.769399881362915\n",
            "Begin KNN operations\n",
            "End KNN operations, time taken: 1.0433287620544434\n",
            "Begin KNN operations\n",
            "End KNN operations, time taken: 1.2799928188323975\n",
            "Begin KNN operations\n",
            "End KNN operations, time taken: 1.6145882606506348\n",
            "Begin KNN operations\n",
            "End KNN operations, time taken: 1.7554502487182617\n",
            "Begin KNN operations\n",
            "End KNN operations, time taken: 1.9589340686798096\n",
            "Begin KNN operations\n",
            "End KNN operations, time taken: 2.2445902824401855\n",
            "Begin KNN operations\n"
          ]
        },
        {
          "name": "stderr",
          "output_type": "stream",
          "text": [
            "\rtraining:  80%|████████  | 160/200 [40:15<10:17, 15.44s/it]"
          ]
        },
        {
          "name": "stdout",
          "output_type": "stream",
          "text": [
            "End KNN operations, time taken: 2.3994808197021484\n",
            "training loss: 2.493677854537964\n",
            "End document, total time: 15.281883478164673\n",
            "Begin document\n",
            "Begin KNN operations\n",
            "End KNN operations, time taken: 0.48687267303466797\n",
            "Begin KNN operations\n",
            "End KNN operations, time taken: 0.7829005718231201\n",
            "Begin KNN operations\n",
            "End KNN operations, time taken: 1.0380394458770752\n",
            "Begin KNN operations\n",
            "End KNN operations, time taken: 1.202610969543457\n",
            "Begin KNN operations\n",
            "End KNN operations, time taken: 1.438857078552246\n",
            "Begin KNN operations\n",
            "End KNN operations, time taken: 1.6651253700256348\n",
            "Begin KNN operations\n",
            "End KNN operations, time taken: 1.8751769065856934\n",
            "Begin KNN operations\n",
            "End KNN operations, time taken: 2.1201741695404053\n",
            "Begin KNN operations\n"
          ]
        },
        {
          "name": "stderr",
          "output_type": "stream",
          "text": [
            "\rtraining:  80%|████████  | 161/200 [40:30<09:57, 15.31s/it]"
          ]
        },
        {
          "name": "stdout",
          "output_type": "stream",
          "text": [
            "End KNN operations, time taken: 2.5096957683563232\n",
            "training loss: 2.3673330307006837\n",
            "End document, total time: 14.827304124832153\n",
            "Begin document\n",
            "Begin KNN operations\n",
            "End KNN operations, time taken: 0.4815051555633545\n",
            "Begin KNN operations\n",
            "End KNN operations, time taken: 0.7452266216278076\n",
            "Begin KNN operations\n",
            "End KNN operations, time taken: 1.0168609619140625\n",
            "Begin KNN operations\n",
            "End KNN operations, time taken: 1.1988856792449951\n",
            "Begin KNN operations\n",
            "End KNN operations, time taken: 1.4426047801971436\n",
            "Begin KNN operations\n",
            "End KNN operations, time taken: 1.7479376792907715\n",
            "Begin KNN operations\n",
            "End KNN operations, time taken: 1.9149236679077148\n",
            "Begin KNN operations\n",
            "End KNN operations, time taken: 2.1472091674804688\n",
            "Begin KNN operations\n"
          ]
        },
        {
          "name": "stderr",
          "output_type": "stream",
          "text": [
            "\rtraining:  81%|████████  | 162/200 [40:45<09:37, 15.21s/it]"
          ]
        },
        {
          "name": "stdout",
          "output_type": "stream",
          "text": [
            "End KNN operations, time taken: 2.3780500888824463\n",
            "training loss: 2.4083000898361204\n",
            "End document, total time: 14.783788681030273\n",
            "Begin document\n",
            "Begin KNN operations\n",
            "End KNN operations, time taken: 0.48186254501342773\n",
            "Begin KNN operations\n",
            "End KNN operations, time taken: 0.7424678802490234\n",
            "Begin KNN operations\n",
            "End KNN operations, time taken: 0.9691317081451416\n",
            "Begin KNN operations\n",
            "End KNN operations, time taken: 1.2066781520843506\n",
            "Begin KNN operations\n",
            "End KNN operations, time taken: 1.4301505088806152\n",
            "Begin KNN operations\n",
            "End KNN operations, time taken: 1.7471916675567627\n",
            "Begin KNN operations\n",
            "End KNN operations, time taken: 1.888408899307251\n",
            "Begin KNN operations\n",
            "End KNN operations, time taken: 2.1825554370880127\n",
            "Begin KNN operations\n"
          ]
        },
        {
          "name": "stderr",
          "output_type": "stream",
          "text": [
            "\rtraining:  82%|████████▏ | 163/200 [41:00<09:18, 15.11s/it]"
          ]
        },
        {
          "name": "stdout",
          "output_type": "stream",
          "text": [
            "End KNN operations, time taken: 2.334460973739624\n",
            "training loss: 2.4302654027938844\n",
            "End document, total time: 14.694174528121948\n",
            "Begin document\n",
            "Begin KNN operations\n",
            "End KNN operations, time taken: 0.49190664291381836\n",
            "Begin KNN operations\n",
            "End KNN operations, time taken: 0.7319080829620361\n",
            "Begin KNN operations\n",
            "End KNN operations, time taken: 0.9800536632537842\n",
            "Begin KNN operations\n",
            "End KNN operations, time taken: 1.2342071533203125\n",
            "Begin KNN operations\n",
            "End KNN operations, time taken: 1.4386541843414307\n",
            "Begin KNN operations\n",
            "End KNN operations, time taken: 1.6660380363464355\n",
            "Begin KNN operations\n",
            "End KNN operations, time taken: 1.8624792098999023\n",
            "Begin KNN operations\n",
            "End KNN operations, time taken: 2.0895626544952393\n",
            "Begin KNN operations\n"
          ]
        },
        {
          "name": "stderr",
          "output_type": "stream",
          "text": [
            "\rtraining:  82%|████████▏ | 164/200 [41:15<08:59, 15.00s/it]"
          ]
        },
        {
          "name": "stdout",
          "output_type": "stream",
          "text": [
            "End KNN operations, time taken: 2.342637777328491\n",
            "training loss: 2.417797803878784\n",
            "End document, total time: 14.569597482681274\n",
            "Begin document\n",
            "Begin KNN operations\n",
            "End KNN operations, time taken: 0.4977073669433594\n",
            "Begin KNN operations\n",
            "End KNN operations, time taken: 0.7708849906921387\n",
            "Begin KNN operations\n",
            "End KNN operations, time taken: 0.9885990619659424\n",
            "Begin KNN operations\n",
            "End KNN operations, time taken: 1.1912376880645752\n",
            "Begin KNN operations\n",
            "End KNN operations, time taken: 1.4174821376800537\n",
            "Begin KNN operations\n",
            "End KNN operations, time taken: 1.6485881805419922\n",
            "Begin KNN operations\n",
            "End KNN operations, time taken: 1.8705687522888184\n",
            "Begin KNN operations\n",
            "End KNN operations, time taken: 2.1245765686035156\n",
            "Begin KNN operations\n"
          ]
        },
        {
          "name": "stderr",
          "output_type": "stream",
          "text": [
            "\rtraining:  82%|████████▎ | 165/200 [41:29<08:43, 14.94s/it]"
          ]
        },
        {
          "name": "stdout",
          "output_type": "stream",
          "text": [
            "End KNN operations, time taken: 2.416954755783081\n",
            "training loss: 2.3553969144821165\n",
            "End document, total time: 14.62838625907898\n",
            "Begin document\n",
            "Begin KNN operations\n",
            "End KNN operations, time taken: 0.48126792907714844\n",
            "Begin KNN operations\n",
            "End KNN operations, time taken: 0.7423617839813232\n",
            "Begin KNN operations\n",
            "End KNN operations, time taken: 0.9842920303344727\n",
            "Begin KNN operations\n",
            "End KNN operations, time taken: 1.1982309818267822\n",
            "Begin KNN operations\n",
            "End KNN operations, time taken: 1.4487171173095703\n",
            "Begin KNN operations\n",
            "End KNN operations, time taken: 1.6539857387542725\n",
            "Begin KNN operations\n",
            "End KNN operations, time taken: 1.9585278034210205\n",
            "Begin KNN operations\n",
            "End KNN operations, time taken: 2.103053331375122\n",
            "Begin KNN operations\n"
          ]
        },
        {
          "name": "stderr",
          "output_type": "stream",
          "text": [
            "\rtraining:  83%|████████▎ | 166/200 [41:44<08:26, 14.91s/it]"
          ]
        },
        {
          "name": "stdout",
          "output_type": "stream",
          "text": [
            "End KNN operations, time taken: 2.349135398864746\n",
            "training loss: 2.4682327985763552\n",
            "End document, total time: 14.648686408996582\n",
            "Begin document\n",
            "Begin KNN operations\n",
            "End KNN operations, time taken: 0.48046255111694336\n",
            "Begin KNN operations\n",
            "End KNN operations, time taken: 0.7459230422973633\n",
            "Begin KNN operations\n",
            "End KNN operations, time taken: 0.9610879421234131\n",
            "Begin KNN operations\n",
            "End KNN operations, time taken: 1.200223684310913\n",
            "Begin KNN operations\n",
            "End KNN operations, time taken: 1.4815783500671387\n",
            "Begin KNN operations\n",
            "End KNN operations, time taken: 1.6982922554016113\n",
            "Begin KNN operations\n",
            "End KNN operations, time taken: 1.874723196029663\n",
            "Begin KNN operations\n",
            "End KNN operations, time taken: 2.0974273681640625\n",
            "Begin KNN operations\n"
          ]
        },
        {
          "name": "stderr",
          "output_type": "stream",
          "text": [
            "\rtraining:  84%|████████▎ | 167/200 [41:59<08:10, 14.86s/it]"
          ]
        },
        {
          "name": "stdout",
          "output_type": "stream",
          "text": [
            "End KNN operations, time taken: 2.3374931812286377\n",
            "training loss: 2.3959198951721192\n",
            "End document, total time: 14.567464590072632\n",
            "Begin document\n",
            "Begin KNN operations\n",
            "End KNN operations, time taken: 0.47565603256225586\n",
            "Begin KNN operations\n",
            "End KNN operations, time taken: 0.7504312992095947\n",
            "Begin KNN operations\n",
            "End KNN operations, time taken: 0.9815487861633301\n",
            "Begin KNN operations\n",
            "End KNN operations, time taken: 1.2190008163452148\n",
            "Begin KNN operations\n",
            "End KNN operations, time taken: 1.416940689086914\n",
            "Begin KNN operations\n",
            "End KNN operations, time taken: 1.64913010597229\n",
            "Begin KNN operations\n",
            "End KNN operations, time taken: 1.8619449138641357\n",
            "Begin KNN operations\n",
            "End KNN operations, time taken: 2.1407127380371094\n",
            "Begin KNN operations\n"
          ]
        },
        {
          "name": "stderr",
          "output_type": "stream",
          "text": [
            "\rtraining:  84%|████████▍ | 168/200 [42:14<07:54, 14.84s/it]"
          ]
        },
        {
          "name": "stdout",
          "output_type": "stream",
          "text": [
            "End KNN operations, time taken: 2.3665642738342285\n",
            "training loss: 2.3805790185928344\n",
            "End document, total time: 14.618211030960083\n",
            "Begin document\n",
            "Begin KNN operations\n",
            "End KNN operations, time taken: 0.48456239700317383\n",
            "Begin KNN operations\n",
            "End KNN operations, time taken: 0.7541618347167969\n",
            "Begin KNN operations\n",
            "End KNN operations, time taken: 0.9993681907653809\n",
            "Begin KNN operations\n",
            "End KNN operations, time taken: 1.2654507160186768\n",
            "Begin KNN operations\n",
            "End KNN operations, time taken: 1.4295704364776611\n",
            "Begin KNN operations\n",
            "End KNN operations, time taken: 1.659271478652954\n",
            "Begin KNN operations\n",
            "End KNN operations, time taken: 1.890763759613037\n",
            "Begin KNN operations\n",
            "End KNN operations, time taken: 2.235283851623535\n",
            "Begin KNN operations\n"
          ]
        },
        {
          "name": "stderr",
          "output_type": "stream",
          "text": [
            "\rtraining:  84%|████████▍ | 169/200 [42:29<07:41, 14.89s/it]"
          ]
        },
        {
          "name": "stdout",
          "output_type": "stream",
          "text": [
            "End KNN operations, time taken: 2.394209861755371\n",
            "training loss: 2.356136417388916\n",
            "End document, total time: 14.823554039001465\n",
            "Begin document\n",
            "Begin KNN operations\n",
            "End KNN operations, time taken: 0.4730074405670166\n",
            "Begin KNN operations\n",
            "End KNN operations, time taken: 0.7438881397247314\n",
            "Begin KNN operations\n",
            "End KNN operations, time taken: 0.9835340976715088\n",
            "Begin KNN operations\n",
            "End KNN operations, time taken: 1.2112605571746826\n",
            "Begin KNN operations\n",
            "End KNN operations, time taken: 1.416794776916504\n",
            "Begin KNN operations\n",
            "End KNN operations, time taken: 1.6807279586791992\n",
            "Begin KNN operations\n",
            "End KNN operations, time taken: 2.043508291244507\n",
            "Begin KNN operations\n",
            "End KNN operations, time taken: 2.1451454162597656\n",
            "Begin KNN operations\n"
          ]
        },
        {
          "name": "stderr",
          "output_type": "stream",
          "text": [
            "\rtraining:  85%|████████▌ | 170/200 [42:44<07:27, 14.93s/it]"
          ]
        },
        {
          "name": "stdout",
          "output_type": "stream",
          "text": [
            "End KNN operations, time taken: 2.393927574157715\n",
            "training loss: 2.3565099239349365\n",
            "End document, total time: 14.818392753601074\n",
            "Begin document\n",
            "Begin KNN operations\n",
            "End KNN operations, time taken: 0.48593568801879883\n",
            "Begin KNN operations\n",
            "End KNN operations, time taken: 0.7574894428253174\n",
            "Begin KNN operations\n",
            "End KNN operations, time taken: 0.9863393306732178\n",
            "Begin KNN operations\n",
            "End KNN operations, time taken: 1.2699790000915527\n",
            "Begin KNN operations\n",
            "End KNN operations, time taken: 1.4787907600402832\n",
            "Begin KNN operations\n",
            "End KNN operations, time taken: 1.6699600219726562\n",
            "Begin KNN operations\n",
            "End KNN operations, time taken: 1.8861896991729736\n",
            "Begin KNN operations\n",
            "End KNN operations, time taken: 2.1335928440093994\n",
            "Begin KNN operations\n"
          ]
        },
        {
          "name": "stderr",
          "output_type": "stream",
          "text": [
            "\rtraining:  86%|████████▌ | 171/200 [42:59<07:12, 14.92s/it]"
          ]
        },
        {
          "name": "stdout",
          "output_type": "stream",
          "text": [
            "End KNN operations, time taken: 2.373709201812744\n",
            "training loss: 2.443582034111023\n",
            "End document, total time: 14.71847152709961\n",
            "Begin document\n",
            "Begin KNN operations\n",
            "End KNN operations, time taken: 0.4926173686981201\n",
            "Begin KNN operations\n",
            "End KNN operations, time taken: 0.7794528007507324\n",
            "Begin KNN operations\n",
            "End KNN operations, time taken: 0.9961233139038086\n",
            "Begin KNN operations\n",
            "End KNN operations, time taken: 1.2217752933502197\n",
            "Begin KNN operations\n",
            "End KNN operations, time taken: 1.4296290874481201\n",
            "Begin KNN operations\n",
            "End KNN operations, time taken: 1.674199104309082\n",
            "Begin KNN operations\n",
            "End KNN operations, time taken: 1.9039568901062012\n",
            "Begin KNN operations\n",
            "End KNN operations, time taken: 2.1846392154693604\n",
            "Begin KNN operations\n"
          ]
        },
        {
          "name": "stderr",
          "output_type": "stream",
          "text": [
            "\rtraining:  86%|████████▌ | 172/200 [43:14<06:58, 14.94s/it]"
          ]
        },
        {
          "name": "stdout",
          "output_type": "stream",
          "text": [
            "End KNN operations, time taken: 2.4180846214294434\n",
            "training loss: 2.3732224702835087\n",
            "End document, total time: 14.807067394256592\n",
            "Begin document\n",
            "Begin KNN operations\n",
            "End KNN operations, time taken: 0.4770936965942383\n",
            "Begin KNN operations\n",
            "End KNN operations, time taken: 0.7408545017242432\n",
            "Begin KNN operations\n",
            "End KNN operations, time taken: 0.9873425960540771\n",
            "Begin KNN operations\n",
            "End KNN operations, time taken: 1.2290441989898682\n",
            "Begin KNN operations\n",
            "End KNN operations, time taken: 1.4613332748413086\n",
            "Begin KNN operations\n",
            "End KNN operations, time taken: 1.6680870056152344\n",
            "Begin KNN operations\n",
            "End KNN operations, time taken: 1.9493200778961182\n",
            "Begin KNN operations\n",
            "End KNN operations, time taken: 2.148102045059204\n",
            "Begin KNN operations\n"
          ]
        },
        {
          "name": "stderr",
          "output_type": "stream",
          "text": [
            "\rtraining:  86%|████████▋ | 173/200 [43:29<06:43, 14.94s/it]"
          ]
        },
        {
          "name": "stdout",
          "output_type": "stream",
          "text": [
            "End KNN operations, time taken: 2.3858802318573\n",
            "training loss: 2.4538488388061523\n",
            "End document, total time: 14.762593030929565\n",
            "Begin document\n",
            "Begin KNN operations\n",
            "End KNN operations, time taken: 0.49339866638183594\n",
            "Begin KNN operations\n",
            "End KNN operations, time taken: 0.754967451095581\n",
            "Begin KNN operations\n",
            "End KNN operations, time taken: 0.999413251876831\n",
            "Begin KNN operations\n",
            "End KNN operations, time taken: 1.2152376174926758\n",
            "Begin KNN operations\n",
            "End KNN operations, time taken: 1.4439594745635986\n",
            "Begin KNN operations\n",
            "End KNN operations, time taken: 1.7337100505828857\n",
            "Begin KNN operations\n",
            "End KNN operations, time taken: 2.011958122253418\n",
            "Begin KNN operations\n",
            "End KNN operations, time taken: 2.134168863296509\n",
            "Begin KNN operations\n"
          ]
        },
        {
          "name": "stderr",
          "output_type": "stream",
          "text": [
            "\rtraining:  87%|████████▋ | 174/200 [43:44<06:29, 14.98s/it]"
          ]
        },
        {
          "name": "stdout",
          "output_type": "stream",
          "text": [
            "End KNN operations, time taken: 2.4013216495513916\n",
            "training loss: 2.412290954589844\n",
            "End document, total time: 14.913878440856934\n",
            "Begin document\n",
            "Begin KNN operations\n",
            "End KNN operations, time taken: 0.4991791248321533\n",
            "Begin KNN operations\n",
            "End KNN operations, time taken: 0.7507734298706055\n",
            "Begin KNN operations\n",
            "End KNN operations, time taken: 0.9967303276062012\n",
            "Begin KNN operations\n",
            "End KNN operations, time taken: 1.2593066692352295\n",
            "Begin KNN operations\n",
            "End KNN operations, time taken: 1.434366226196289\n",
            "Begin KNN operations\n",
            "End KNN operations, time taken: 1.708223581314087\n",
            "Begin KNN operations\n",
            "End KNN operations, time taken: 1.9363758563995361\n",
            "Begin KNN operations\n",
            "End KNN operations, time taken: 2.1516928672790527\n",
            "Begin KNN operations\n"
          ]
        },
        {
          "name": "stderr",
          "output_type": "stream",
          "text": [
            "\rtraining:  88%|████████▊ | 175/200 [43:59<06:15, 15.03s/it]"
          ]
        },
        {
          "name": "stdout",
          "output_type": "stream",
          "text": [
            "End KNN operations, time taken: 2.520169496536255\n",
            "training loss: 2.4417675733566284\n",
            "End document, total time: 14.970349550247192\n",
            "Begin document\n",
            "Begin KNN operations\n",
            "End KNN operations, time taken: 0.4871039390563965\n",
            "Begin KNN operations\n",
            "End KNN operations, time taken: 0.7626852989196777\n",
            "Begin KNN operations\n",
            "End KNN operations, time taken: 0.9692604541778564\n",
            "Begin KNN operations\n",
            "End KNN operations, time taken: 1.2246124744415283\n",
            "Begin KNN operations\n",
            "End KNN operations, time taken: 1.4412622451782227\n",
            "Begin KNN operations\n",
            "End KNN operations, time taken: 1.66184663772583\n",
            "Begin KNN operations\n",
            "End KNN operations, time taken: 1.8886699676513672\n",
            "Begin KNN operations\n",
            "End KNN operations, time taken: 2.236783266067505\n",
            "Begin KNN operations\n"
          ]
        },
        {
          "name": "stderr",
          "output_type": "stream",
          "text": [
            "\rtraining:  88%|████████▊ | 176/200 [44:14<06:00, 15.00s/it]"
          ]
        },
        {
          "name": "stdout",
          "output_type": "stream",
          "text": [
            "End KNN operations, time taken: 2.3586368560791016\n",
            "training loss: 2.418433427810669\n",
            "End document, total time: 14.751944303512573\n",
            "Begin document\n",
            "Begin KNN operations\n",
            "End KNN operations, time taken: 0.4991283416748047\n",
            "Begin KNN operations\n",
            "End KNN operations, time taken: 0.7358343601226807\n",
            "Begin KNN operations\n",
            "End KNN operations, time taken: 0.9795465469360352\n",
            "Begin KNN operations\n",
            "End KNN operations, time taken: 1.206777811050415\n",
            "Begin KNN operations\n",
            "End KNN operations, time taken: 1.411858081817627\n",
            "Begin KNN operations\n",
            "End KNN operations, time taken: 1.7165617942810059\n",
            "Begin KNN operations\n",
            "End KNN operations, time taken: 1.9322419166564941\n",
            "Begin KNN operations\n",
            "End KNN operations, time taken: 2.1168806552886963\n",
            "Begin KNN operations\n"
          ]
        },
        {
          "name": "stderr",
          "output_type": "stream",
          "text": [
            "\rtraining:  88%|████████▊ | 177/200 [44:29<05:44, 14.96s/it]"
          ]
        },
        {
          "name": "stdout",
          "output_type": "stream",
          "text": [
            "End KNN operations, time taken: 2.356098175048828\n",
            "training loss: 2.40255982875824\n",
            "End document, total time: 14.681588411331177\n",
            "Begin document\n",
            "Begin KNN operations\n",
            "End KNN operations, time taken: 0.49348998069763184\n",
            "Begin KNN operations\n",
            "End KNN operations, time taken: 0.7425234317779541\n",
            "Begin KNN operations\n",
            "End KNN operations, time taken: 0.9780991077423096\n",
            "Begin KNN operations\n",
            "End KNN operations, time taken: 1.2606730461120605\n",
            "Begin KNN operations\n",
            "End KNN operations, time taken: 1.4883520603179932\n",
            "Begin KNN operations\n",
            "End KNN operations, time taken: 1.6645777225494385\n",
            "Begin KNN operations\n",
            "End KNN operations, time taken: 1.966902494430542\n",
            "Begin KNN operations\n",
            "End KNN operations, time taken: 2.168020248413086\n",
            "Begin KNN operations\n"
          ]
        },
        {
          "name": "stderr",
          "output_type": "stream",
          "text": [
            "\rtraining:  89%|████████▉ | 178/200 [44:44<05:30, 15.00s/it]"
          ]
        },
        {
          "name": "stdout",
          "output_type": "stream",
          "text": [
            "End KNN operations, time taken: 2.4056639671325684\n",
            "training loss: 2.3868262767791752\n",
            "End document, total time: 14.911438465118408\n",
            "Begin document\n",
            "Begin KNN operations\n",
            "End KNN operations, time taken: 0.4948756694793701\n",
            "Begin KNN operations\n",
            "End KNN operations, time taken: 0.7649695873260498\n",
            "Begin KNN operations\n",
            "End KNN operations, time taken: 0.9693529605865479\n",
            "Begin KNN operations\n",
            "End KNN operations, time taken: 1.2088525295257568\n",
            "Begin KNN operations\n",
            "End KNN operations, time taken: 1.4489843845367432\n",
            "Begin KNN operations\n",
            "End KNN operations, time taken: 1.7063243389129639\n",
            "Begin KNN operations\n",
            "End KNN operations, time taken: 1.8937599658966064\n",
            "Begin KNN operations\n",
            "End KNN operations, time taken: 2.120159149169922\n",
            "Begin KNN operations\n"
          ]
        },
        {
          "name": "stderr",
          "output_type": "stream",
          "text": [
            "\rtraining:  90%|████████▉ | 179/200 [44:59<05:14, 15.00s/it]"
          ]
        },
        {
          "name": "stdout",
          "output_type": "stream",
          "text": [
            "End KNN operations, time taken: 2.448420524597168\n",
            "training loss: 2.410606265068054\n",
            "End document, total time: 14.78546929359436\n",
            "Begin document\n",
            "Begin KNN operations\n",
            "End KNN operations, time taken: 0.4768824577331543\n",
            "Begin KNN operations\n",
            "End KNN operations, time taken: 0.7529046535491943\n",
            "Begin KNN operations\n",
            "End KNN operations, time taken: 0.9788327217102051\n",
            "Begin KNN operations\n",
            "End KNN operations, time taken: 1.219067096710205\n",
            "Begin KNN operations\n",
            "End KNN operations, time taken: 1.4308533668518066\n",
            "Begin KNN operations\n",
            "End KNN operations, time taken: 1.682737112045288\n",
            "Begin KNN operations\n",
            "End KNN operations, time taken: 1.9552996158599854\n",
            "Begin KNN operations\n",
            "End KNN operations, time taken: 2.1508145332336426\n",
            "Begin KNN operations\n"
          ]
        },
        {
          "name": "stderr",
          "output_type": "stream",
          "text": [
            "\rtraining:  90%|█████████ | 180/200 [45:14<04:59, 14.98s/it]"
          ]
        },
        {
          "name": "stdout",
          "output_type": "stream",
          "text": [
            "End KNN operations, time taken: 2.4067533016204834\n",
            "training loss: 2.4287614107131956\n",
            "End document, total time: 14.777807712554932\n",
            "Begin document\n",
            "Begin KNN operations\n",
            "End KNN operations, time taken: 0.506218671798706\n",
            "Begin KNN operations\n",
            "End KNN operations, time taken: 0.7413341999053955\n",
            "Begin KNN operations\n",
            "End KNN operations, time taken: 0.9806361198425293\n",
            "Begin KNN operations\n",
            "End KNN operations, time taken: 1.2234728336334229\n",
            "Begin KNN operations\n",
            "End KNN operations, time taken: 1.5351502895355225\n",
            "Begin KNN operations\n",
            "End KNN operations, time taken: 1.7446131706237793\n",
            "Begin KNN operations\n",
            "End KNN operations, time taken: 1.911421775817871\n",
            "Begin KNN operations\n",
            "End KNN operations, time taken: 2.1320111751556396\n",
            "Begin KNN operations\n"
          ]
        },
        {
          "name": "stderr",
          "output_type": "stream",
          "text": [
            "\rtraining:  90%|█████████ | 181/200 [45:29<04:45, 15.01s/it]"
          ]
        },
        {
          "name": "stdout",
          "output_type": "stream",
          "text": [
            "End KNN operations, time taken: 2.3698747158050537\n",
            "training loss: 2.4814214944839477\n",
            "End document, total time: 14.888548851013184\n",
            "Begin document\n",
            "Begin KNN operations\n",
            "End KNN operations, time taken: 0.4800136089324951\n",
            "Begin KNN operations\n",
            "End KNN operations, time taken: 0.7590842247009277\n",
            "Begin KNN operations\n",
            "End KNN operations, time taken: 1.0248165130615234\n",
            "Begin KNN operations\n",
            "End KNN operations, time taken: 1.2444391250610352\n",
            "Begin KNN operations\n",
            "End KNN operations, time taken: 1.430100679397583\n",
            "Begin KNN operations\n",
            "End KNN operations, time taken: 1.6556332111358643\n",
            "Begin KNN operations\n",
            "End KNN operations, time taken: 1.937166690826416\n",
            "Begin KNN operations\n",
            "End KNN operations, time taken: 2.1095995903015137\n",
            "Begin KNN operations\n"
          ]
        },
        {
          "name": "stderr",
          "output_type": "stream",
          "text": [
            "\rtraining:  91%|█████████ | 182/200 [45:44<04:30, 15.01s/it]"
          ]
        },
        {
          "name": "stdout",
          "output_type": "stream",
          "text": [
            "End KNN operations, time taken: 2.437260389328003\n",
            "training loss: 2.4695059061050415\n",
            "End document, total time: 14.811882495880127\n",
            "Begin document\n",
            "Begin KNN operations\n",
            "End KNN operations, time taken: 0.505286455154419\n",
            "Begin KNN operations\n",
            "End KNN operations, time taken: 0.7533068656921387\n",
            "Begin KNN operations\n",
            "End KNN operations, time taken: 0.9720304012298584\n",
            "Begin KNN operations\n",
            "End KNN operations, time taken: 1.2163944244384766\n",
            "Begin KNN operations\n",
            "End KNN operations, time taken: 1.4241833686828613\n",
            "Begin KNN operations\n",
            "End KNN operations, time taken: 1.679398536682129\n",
            "Begin KNN operations\n",
            "End KNN operations, time taken: 1.8725502490997314\n",
            "Begin KNN operations\n",
            "End KNN operations, time taken: 2.1671218872070312\n",
            "Begin KNN operations\n"
          ]
        },
        {
          "name": "stderr",
          "output_type": "stream",
          "text": [
            "\rtraining:  92%|█████████▏| 183/200 [45:59<04:14, 14.97s/it]"
          ]
        },
        {
          "name": "stdout",
          "output_type": "stream",
          "text": [
            "End KNN operations, time taken: 2.3745827674865723\n",
            "training loss: 2.429330611228943\n",
            "End document, total time: 14.719929218292236\n",
            "Begin document\n",
            "Begin KNN operations\n",
            "End KNN operations, time taken: 0.4783191680908203\n",
            "Begin KNN operations\n",
            "End KNN operations, time taken: 0.7473235130310059\n",
            "Begin KNN operations\n",
            "End KNN operations, time taken: 0.9797215461730957\n",
            "Begin KNN operations\n",
            "End KNN operations, time taken: 1.2123236656188965\n",
            "Begin KNN operations\n",
            "End KNN operations, time taken: 1.4250519275665283\n",
            "Begin KNN operations\n",
            "End KNN operations, time taken: 1.7194304466247559\n",
            "Begin KNN operations\n",
            "End KNN operations, time taken: 1.9485337734222412\n",
            "Begin KNN operations\n",
            "End KNN operations, time taken: 2.121549367904663\n",
            "Begin KNN operations\n"
          ]
        },
        {
          "name": "stderr",
          "output_type": "stream",
          "text": [
            "\rtraining:  92%|█████████▏| 184/200 [46:14<03:59, 14.96s/it]"
          ]
        },
        {
          "name": "stdout",
          "output_type": "stream",
          "text": [
            "End KNN operations, time taken: 2.3905134201049805\n",
            "training loss: 2.4299749374389648\n",
            "End document, total time: 14.77001142501831\n",
            "Begin document\n",
            "Begin KNN operations\n",
            "End KNN operations, time taken: 0.479952335357666\n",
            "Begin KNN operations\n",
            "End KNN operations, time taken: 0.7424354553222656\n",
            "Begin KNN operations\n",
            "End KNN operations, time taken: 0.9817807674407959\n",
            "Begin KNN operations\n",
            "End KNN operations, time taken: 1.2338428497314453\n",
            "Begin KNN operations\n",
            "End KNN operations, time taken: 1.505204677581787\n",
            "Begin KNN operations\n",
            "End KNN operations, time taken: 1.6696350574493408\n",
            "Begin KNN operations\n",
            "End KNN operations, time taken: 1.8827574253082275\n",
            "Begin KNN operations\n",
            "End KNN operations, time taken: 2.0949268341064453\n",
            "Begin KNN operations\n"
          ]
        },
        {
          "name": "stderr",
          "output_type": "stream",
          "text": [
            "\rtraining:  92%|█████████▎| 185/200 [46:29<03:44, 14.94s/it]"
          ]
        },
        {
          "name": "stdout",
          "output_type": "stream",
          "text": [
            "End KNN operations, time taken: 2.3667898178100586\n",
            "training loss: 2.4081895828247073\n",
            "End document, total time: 14.684232473373413\n",
            "Begin document\n",
            "Begin KNN operations\n",
            "End KNN operations, time taken: 0.4885241985321045\n",
            "Begin KNN operations\n",
            "End KNN operations, time taken: 0.7827787399291992\n",
            "Begin KNN operations\n",
            "End KNN operations, time taken: 0.9887032508850098\n",
            "Begin KNN operations\n",
            "End KNN operations, time taken: 1.2065036296844482\n",
            "Begin KNN operations\n",
            "End KNN operations, time taken: 1.4282379150390625\n",
            "Begin KNN operations\n",
            "End KNN operations, time taken: 1.6561460494995117\n",
            "Begin KNN operations\n",
            "End KNN operations, time taken: 1.9183769226074219\n",
            "Begin KNN operations\n",
            "End KNN operations, time taken: 2.153038740158081\n",
            "Begin KNN operations\n"
          ]
        },
        {
          "name": "stderr",
          "output_type": "stream",
          "text": [
            "\rtraining:  93%|█████████▎| 186/200 [46:44<03:29, 14.99s/it]"
          ]
        },
        {
          "name": "stdout",
          "output_type": "stream",
          "text": [
            "End KNN operations, time taken: 2.558911085128784\n",
            "training loss: 2.455559277534485\n",
            "End document, total time: 14.913006067276001\n",
            "Begin document\n",
            "Begin KNN operations\n",
            "End KNN operations, time taken: 0.49091339111328125\n",
            "Begin KNN operations\n",
            "End KNN operations, time taken: 0.7540910243988037\n",
            "Begin KNN operations\n",
            "End KNN operations, time taken: 0.9769001007080078\n",
            "Begin KNN operations\n",
            "End KNN operations, time taken: 1.238715648651123\n",
            "Begin KNN operations\n",
            "End KNN operations, time taken: 1.437567949295044\n",
            "Begin KNN operations\n",
            "End KNN operations, time taken: 1.6708641052246094\n",
            "Begin KNN operations\n",
            "End KNN operations, time taken: 1.9239609241485596\n",
            "Begin KNN operations\n",
            "End KNN operations, time taken: 2.1676981449127197\n",
            "Begin KNN operations\n"
          ]
        },
        {
          "name": "stderr",
          "output_type": "stream",
          "text": [
            "\rtraining:  94%|█████████▎| 187/200 [46:59<03:14, 14.98s/it]"
          ]
        },
        {
          "name": "stdout",
          "output_type": "stream",
          "text": [
            "End KNN operations, time taken: 2.395047187805176\n",
            "training loss: 2.446070599555969\n",
            "End document, total time: 14.783535957336426\n",
            "Begin document\n",
            "Begin KNN operations\n",
            "End KNN operations, time taken: 0.4786233901977539\n",
            "Begin KNN operations\n",
            "End KNN operations, time taken: 0.7472701072692871\n",
            "Begin KNN operations\n",
            "End KNN operations, time taken: 0.9911580085754395\n",
            "Begin KNN operations\n",
            "End KNN operations, time taken: 1.2235124111175537\n",
            "Begin KNN operations\n",
            "End KNN operations, time taken: 1.4226317405700684\n",
            "Begin KNN operations\n",
            "End KNN operations, time taken: 1.7702739238739014\n",
            "Begin KNN operations\n",
            "End KNN operations, time taken: 1.9478838443756104\n",
            "Begin KNN operations\n",
            "End KNN operations, time taken: 2.1349563598632812\n",
            "Begin KNN operations\n"
          ]
        },
        {
          "name": "stderr",
          "output_type": "stream",
          "text": [
            "\rtraining:  94%|█████████▍| 188/200 [47:14<02:59, 14.99s/it]"
          ]
        },
        {
          "name": "stdout",
          "output_type": "stream",
          "text": [
            "End KNN operations, time taken: 2.4218485355377197\n",
            "training loss: 2.3666858196258547\n",
            "End document, total time: 14.828848600387573\n",
            "Begin document\n",
            "Begin KNN operations\n",
            "End KNN operations, time taken: 0.4818277359008789\n",
            "Begin KNN operations\n",
            "End KNN operations, time taken: 0.7442662715911865\n",
            "Begin KNN operations\n",
            "End KNN operations, time taken: 1.0054192543029785\n",
            "Begin KNN operations\n",
            "End KNN operations, time taken: 1.296264886856079\n",
            "Begin KNN operations\n",
            "End KNN operations, time taken: 1.4338972568511963\n",
            "Begin KNN operations\n",
            "End KNN operations, time taken: 1.6872432231903076\n",
            "Begin KNN operations\n",
            "End KNN operations, time taken: 1.9039804935455322\n",
            "Begin KNN operations\n",
            "End KNN operations, time taken: 2.1462671756744385\n",
            "Begin KNN operations\n"
          ]
        },
        {
          "name": "stderr",
          "output_type": "stream",
          "text": [
            "\rtraining:  94%|█████████▍| 189/200 [47:29<02:45, 15.01s/it]"
          ]
        },
        {
          "name": "stdout",
          "output_type": "stream",
          "text": [
            "End KNN operations, time taken: 2.4132308959960938\n",
            "training loss: 2.5280448436737064\n",
            "End document, total time: 14.852529525756836\n",
            "Begin document\n",
            "Begin KNN operations\n",
            "End KNN operations, time taken: 0.4887707233428955\n",
            "Begin KNN operations\n",
            "End KNN operations, time taken: 0.7523133754730225\n",
            "Begin KNN operations\n",
            "End KNN operations, time taken: 0.9949605464935303\n",
            "Begin KNN operations\n",
            "End KNN operations, time taken: 1.2267885208129883\n",
            "Begin KNN operations\n",
            "End KNN operations, time taken: 1.41664719581604\n",
            "Begin KNN operations\n",
            "End KNN operations, time taken: 1.6593611240386963\n",
            "Begin KNN operations\n",
            "End KNN operations, time taken: 1.9258999824523926\n",
            "Begin KNN operations\n",
            "End KNN operations, time taken: 2.234637498855591\n",
            "Begin KNN operations\n"
          ]
        },
        {
          "name": "stderr",
          "output_type": "stream",
          "text": [
            "\rtraining:  95%|█████████▌| 190/200 [47:44<02:30, 15.03s/it]"
          ]
        },
        {
          "name": "stdout",
          "output_type": "stream",
          "text": [
            "End KNN operations, time taken: 2.439959764480591\n",
            "training loss: 2.364933633804321\n",
            "End document, total time: 14.892935991287231\n",
            "Begin document\n",
            "Begin KNN operations\n",
            "End KNN operations, time taken: 0.49733757972717285\n",
            "Begin KNN operations\n",
            "End KNN operations, time taken: 0.7526311874389648\n",
            "Begin KNN operations\n",
            "End KNN operations, time taken: 0.9941813945770264\n",
            "Begin KNN operations\n",
            "End KNN operations, time taken: 1.2159323692321777\n",
            "Begin KNN operations\n",
            "End KNN operations, time taken: 1.436155080795288\n",
            "Begin KNN operations\n",
            "End KNN operations, time taken: 1.6817348003387451\n",
            "Begin KNN operations\n",
            "End KNN operations, time taken: 1.972733736038208\n",
            "Begin KNN operations\n",
            "End KNN operations, time taken: 2.1388726234436035\n",
            "Begin KNN operations\n"
          ]
        },
        {
          "name": "stderr",
          "output_type": "stream",
          "text": [
            "\rtraining:  96%|█████████▌| 191/200 [47:59<02:15, 15.01s/it]"
          ]
        },
        {
          "name": "stdout",
          "output_type": "stream",
          "text": [
            "End KNN operations, time taken: 2.392364978790283\n",
            "training loss: 2.4179248332977292\n",
            "End document, total time: 14.788467645645142\n",
            "Begin document\n",
            "Begin KNN operations\n",
            "End KNN operations, time taken: 0.49327588081359863\n",
            "Begin KNN operations\n",
            "End KNN operations, time taken: 0.7558395862579346\n",
            "Begin KNN operations\n",
            "End KNN operations, time taken: 0.9780697822570801\n",
            "Begin KNN operations\n",
            "End KNN operations, time taken: 1.2210755348205566\n",
            "Begin KNN operations\n",
            "End KNN operations, time taken: 1.4855782985687256\n",
            "Begin KNN operations\n",
            "End KNN operations, time taken: 1.6647076606750488\n",
            "Begin KNN operations\n",
            "End KNN operations, time taken: 1.8999497890472412\n",
            "Begin KNN operations\n",
            "End KNN operations, time taken: 2.1057357788085938\n",
            "Begin KNN operations\n"
          ]
        },
        {
          "name": "stderr",
          "output_type": "stream",
          "text": [
            "\rtraining:  96%|█████████▌| 192/200 [48:14<01:59, 14.98s/it]"
          ]
        },
        {
          "name": "stdout",
          "output_type": "stream",
          "text": [
            "End KNN operations, time taken: 2.3831241130828857\n",
            "training loss: 2.4041568756103517\n",
            "End document, total time: 14.71794581413269\n",
            "Begin document\n",
            "Begin KNN operations\n",
            "End KNN operations, time taken: 0.4798102378845215\n",
            "Begin KNN operations\n",
            "End KNN operations, time taken: 0.7629203796386719\n",
            "Begin KNN operations\n",
            "End KNN operations, time taken: 1.0227642059326172\n",
            "Begin KNN operations\n",
            "End KNN operations, time taken: 1.2225341796875\n",
            "Begin KNN operations\n",
            "End KNN operations, time taken: 1.446256160736084\n",
            "Begin KNN operations\n",
            "End KNN operations, time taken: 1.6886744499206543\n",
            "Begin KNN operations\n",
            "End KNN operations, time taken: 1.9248032569885254\n",
            "Begin KNN operations\n",
            "End KNN operations, time taken: 2.136507272720337\n",
            "Begin KNN operations\n"
          ]
        },
        {
          "name": "stderr",
          "output_type": "stream",
          "text": [
            "\rtraining:  96%|█████████▋| 193/200 [48:29<01:45, 15.00s/it]"
          ]
        },
        {
          "name": "stdout",
          "output_type": "stream",
          "text": [
            "End KNN operations, time taken: 2.4651529788970947\n",
            "training loss: 2.3889214277267454\n",
            "End document, total time: 14.88183307647705\n",
            "Begin document\n",
            "Begin KNN operations\n",
            "End KNN operations, time taken: 0.48223161697387695\n",
            "Begin KNN operations\n",
            "End KNN operations, time taken: 0.7533752918243408\n",
            "Begin KNN operations\n",
            "End KNN operations, time taken: 0.9761703014373779\n",
            "Begin KNN operations\n",
            "End KNN operations, time taken: 1.215714454650879\n",
            "Begin KNN operations\n",
            "End KNN operations, time taken: 1.4572865962982178\n",
            "Begin KNN operations\n",
            "End KNN operations, time taken: 1.6708719730377197\n",
            "Begin KNN operations\n",
            "End KNN operations, time taken: 1.9707183837890625\n",
            "Begin KNN operations\n",
            "End KNN operations, time taken: 2.1308834552764893\n",
            "Begin KNN operations\n"
          ]
        },
        {
          "name": "stderr",
          "output_type": "stream",
          "text": [
            "\rtraining:  97%|█████████▋| 194/200 [48:44<01:29, 14.98s/it]"
          ]
        },
        {
          "name": "stdout",
          "output_type": "stream",
          "text": [
            "End KNN operations, time taken: 2.404109001159668\n",
            "training loss: 2.457029509544373\n",
            "End document, total time: 14.759172916412354\n",
            "Begin document\n",
            "Begin KNN operations\n",
            "End KNN operations, time taken: 0.4824042320251465\n",
            "Begin KNN operations\n",
            "End KNN operations, time taken: 0.7406229972839355\n",
            "Begin KNN operations\n",
            "End KNN operations, time taken: 0.9779098033905029\n",
            "Begin KNN operations\n",
            "End KNN operations, time taken: 1.2147362232208252\n",
            "Begin KNN operations\n",
            "End KNN operations, time taken: 1.4429512023925781\n",
            "Begin KNN operations\n",
            "End KNN operations, time taken: 1.7391200065612793\n",
            "Begin KNN operations\n",
            "End KNN operations, time taken: 1.9141991138458252\n",
            "Begin KNN operations\n",
            "End KNN operations, time taken: 2.1633503437042236\n",
            "Begin KNN operations\n"
          ]
        },
        {
          "name": "stderr",
          "output_type": "stream",
          "text": [
            "\rtraining:  98%|█████████▊| 195/200 [48:59<01:14, 14.98s/it]"
          ]
        },
        {
          "name": "stdout",
          "output_type": "stream",
          "text": [
            "End KNN operations, time taken: 2.402719259262085\n",
            "training loss: 2.4014109849929812\n",
            "End document, total time: 14.790935277938843\n",
            "Begin document\n",
            "Begin KNN operations\n",
            "End KNN operations, time taken: 0.48105692863464355\n",
            "Begin KNN operations\n",
            "End KNN operations, time taken: 0.7500784397125244\n",
            "Begin KNN operations\n",
            "End KNN operations, time taken: 1.069657325744629\n",
            "Begin KNN operations\n",
            "End KNN operations, time taken: 1.3068561553955078\n",
            "Begin KNN operations\n",
            "End KNN operations, time taken: 1.4589998722076416\n",
            "Begin KNN operations\n",
            "End KNN operations, time taken: 1.6680009365081787\n",
            "Begin KNN operations\n",
            "End KNN operations, time taken: 1.925264835357666\n",
            "Begin KNN operations\n",
            "End KNN operations, time taken: 2.1091079711914062\n",
            "Begin KNN operations\n"
          ]
        },
        {
          "name": "stderr",
          "output_type": "stream",
          "text": [
            "\rtraining:  98%|█████████▊| 196/200 [49:14<01:00, 15.02s/it]"
          ]
        },
        {
          "name": "stdout",
          "output_type": "stream",
          "text": [
            "End KNN operations, time taken: 2.422109603881836\n",
            "training loss: 2.5023083448410035\n",
            "End document, total time: 14.914488792419434\n",
            "Begin document\n",
            "Begin KNN operations\n",
            "End KNN operations, time taken: 0.4888577461242676\n",
            "Begin KNN operations\n",
            "End KNN operations, time taken: 0.7518036365509033\n",
            "Begin KNN operations\n",
            "End KNN operations, time taken: 0.9941596984863281\n",
            "Begin KNN operations\n",
            "End KNN operations, time taken: 1.2284283638000488\n",
            "Begin KNN operations\n",
            "End KNN operations, time taken: 1.4349896907806396\n",
            "Begin KNN operations\n",
            "End KNN operations, time taken: 1.674189805984497\n",
            "Begin KNN operations\n",
            "End KNN operations, time taken: 1.9345476627349854\n",
            "Begin KNN operations\n",
            "End KNN operations, time taken: 2.189295768737793\n",
            "Begin KNN operations\n"
          ]
        },
        {
          "name": "stderr",
          "output_type": "stream",
          "text": [
            "\rtraining:  98%|█████████▊| 197/200 [49:29<00:45, 15.03s/it]"
          ]
        },
        {
          "name": "stdout",
          "output_type": "stream",
          "text": [
            "End KNN operations, time taken: 2.4340102672576904\n",
            "training loss: 2.4155546188354493\n",
            "End document, total time: 14.877753973007202\n",
            "Begin document\n",
            "Begin KNN operations\n",
            "End KNN operations, time taken: 0.47931623458862305\n",
            "Begin KNN operations\n",
            "End KNN operations, time taken: 0.755953311920166\n",
            "Begin KNN operations\n",
            "End KNN operations, time taken: 0.9894661903381348\n",
            "Begin KNN operations\n",
            "End KNN operations, time taken: 1.2214202880859375\n",
            "Begin KNN operations\n",
            "End KNN operations, time taken: 1.4421958923339844\n",
            "Begin KNN operations\n",
            "End KNN operations, time taken: 1.7027809619903564\n",
            "Begin KNN operations\n",
            "End KNN operations, time taken: 1.981520414352417\n",
            "Begin KNN operations\n",
            "End KNN operations, time taken: 2.1422431468963623\n",
            "Begin KNN operations\n"
          ]
        },
        {
          "name": "stderr",
          "output_type": "stream",
          "text": [
            "\rtraining:  99%|█████████▉| 198/200 [49:44<00:30, 15.03s/it]"
          ]
        },
        {
          "name": "stdout",
          "output_type": "stream",
          "text": [
            "End KNN operations, time taken: 2.406026840209961\n",
            "training loss: 2.4486013174057\n",
            "End document, total time: 14.846877336502075\n",
            "Begin document\n",
            "Begin KNN operations\n",
            "End KNN operations, time taken: 0.49159955978393555\n",
            "Begin KNN operations\n",
            "End KNN operations, time taken: 0.7573680877685547\n",
            "Begin KNN operations\n",
            "End KNN operations, time taken: 0.9809677600860596\n",
            "Begin KNN operations\n",
            "End KNN operations, time taken: 1.2288784980773926\n",
            "Begin KNN operations\n",
            "End KNN operations, time taken: 1.5425071716308594\n",
            "Begin KNN operations\n",
            "End KNN operations, time taken: 1.705092430114746\n",
            "Begin KNN operations\n",
            "End KNN operations, time taken: 1.929915428161621\n",
            "Begin KNN operations\n",
            "End KNN operations, time taken: 2.1608359813690186\n",
            "Begin KNN operations\n"
          ]
        },
        {
          "name": "stderr",
          "output_type": "stream",
          "text": [
            "\rtraining: 100%|█████████▉| 199/200 [49:59<00:15, 15.05s/it]"
          ]
        },
        {
          "name": "stdout",
          "output_type": "stream",
          "text": [
            "End KNN operations, time taken: 2.4031240940093994\n",
            "training loss: 2.50151789188385\n",
            "End document, total time: 14.913466453552246\n",
            "Begin document\n",
            "Begin KNN operations\n",
            "End KNN operations, time taken: 0.49132657051086426\n",
            "Begin KNN operations\n",
            "End KNN operations, time taken: 0.7613787651062012\n",
            "Begin KNN operations\n",
            "End KNN operations, time taken: 0.9866693019866943\n",
            "Begin KNN operations\n",
            "End KNN operations, time taken: 1.256568431854248\n",
            "Begin KNN operations\n",
            "End KNN operations, time taken: 1.4531452655792236\n",
            "Begin KNN operations\n",
            "End KNN operations, time taken: 1.6854360103607178\n",
            "Begin KNN operations\n",
            "End KNN operations, time taken: 1.9294054508209229\n",
            "Begin KNN operations\n",
            "End KNN operations, time taken: 2.147642135620117\n",
            "Begin KNN operations\n"
          ]
        },
        {
          "name": "stderr",
          "output_type": "stream",
          "text": [
            "training: 100%|██████████| 200/200 [50:14<00:00, 15.07s/it]"
          ]
        },
        {
          "name": "stdout",
          "output_type": "stream",
          "text": [
            "End KNN operations, time taken: 2.4479188919067383\n",
            "training loss: 2.3589978218078613\n",
            "End document, total time: 14.891256093978882\n"
          ]
        },
        {
          "name": "stderr",
          "output_type": "stream",
          "text": [
            "\n"
          ]
        }
      ],
      "source": [
        "model = MemorizingTransformer(embedding_dimension = 128,\n",
        "                              vocab_size = 128,\n",
        "                              max_knn_memories = MAX_KNN_MEMORIES)\n",
        "\n",
        "model.to(device) ###########\n",
        "\n",
        "optim = torch.optim.Adam(model.parameters(), lr = LEARNING_RATE)\n",
        "model.train()\n",
        "\n",
        "for i in tqdm.tqdm(range(200), mininterval = 10., desc = 'training'):\n",
        "\n",
        "    model.train()\n",
        "    train_loss = 0.\n",
        "    # Clear XL memories\n",
        "    xl_memories = None\n",
        "    # Clear KNN memory\n",
        "    model.knn.clear()\n",
        "\n",
        "    data = next(train_loader).to(device=device)\n",
        "    seq, labels = data[:, :-1], data[:, 1:]\n",
        "\n",
        "    t0 = time.time()\n",
        "    print (\"Begin document\")\n",
        "\n",
        "    # Each pass will be (BATCH_SIZE * SEGMENTS) iterations\n",
        "    for seq_segment, labels_segment in zip(seq.chunk(SEGMENTS, dim = -1), labels.chunk(SEGMENTS, dim = -1)):\n",
        "\n",
        "        loss, xl_memories = model(\n",
        "            seq_segment,\n",
        "            labels = labels_segment,\n",
        "            xl_memories = xl_memories\n",
        "        )\n",
        "\n",
        "        train_loss += loss.item() / SEGMENTS\n",
        "        (loss / SEGMENTS).backward()\n",
        "\n",
        "\n",
        "    print(f'training loss: {train_loss}')\n",
        "    t1 = time.time()\n",
        "    print (\"End document, total time:\", t1 - t0)\n",
        "    torch.nn.utils.clip_grad_norm_(model.parameters(), MAX_GRAD_CLIP_NORM)\n",
        "    optim.step()\n",
        "    optim.zero_grad()\n",
        "\n",
        "\n",
        "    if not (i % VALIDATE_EVERY):\n",
        "        model.eval()\n",
        "\n",
        "        valid_data = next(val_loader)\n",
        "        valid_loss = 0.\n",
        "\n",
        "        with torch.no_grad():\n",
        "            xl_memories = None\n",
        "            model.knn.clear()\n",
        "            seq, labels = data[:, :-1], data[:, 1:]\n",
        "\n",
        "            for seq_segment, labels_segment in zip(seq.chunk(SEGMENTS, dim = -1), labels.chunk(SEGMENTS, dim = -1)):\n",
        "\n",
        "                loss, xl_memories = model(\n",
        "                    seq_segment,\n",
        "                    labels = labels_segment,\n",
        "                    xl_memories = xl_memories\n",
        "                )\n",
        "\n",
        "                valid_loss += loss.item() / SEGMENTS\n",
        "\n",
        "        print(f'valid loss: {valid_loss}')\n"
      ]
    },
    {
      "cell_type": "code",
      "execution_count": null,
      "metadata": {
        "id": "QlQQ4XdVRwVD"
      },
      "outputs": [],
      "source": []
    }
  ],
  "metadata": {
    "accelerator": "GPU",
    "colab": {
      "gpuType": "T4",
      "machine_shape": "hm",
      "provenance": []
    },
    "kernelspec": {
      "display_name": "Python 3",
      "name": "python3"
    },
    "language_info": {
      "name": "python"
    },
    "widgets": {
      "application/vnd.jupyter.widget-state+json": {
        "01230604a79242ee966167d5d8f048f1": {
          "model_module": "@jupyter-widgets/controls",
          "model_module_version": "1.5.0",
          "model_name": "ProgressStyleModel",
          "state": {
            "_model_module": "@jupyter-widgets/controls",
            "_model_module_version": "1.5.0",
            "_model_name": "ProgressStyleModel",
            "_view_count": null,
            "_view_module": "@jupyter-widgets/base",
            "_view_module_version": "1.2.0",
            "_view_name": "StyleView",
            "bar_color": null,
            "description_width": ""
          }
        },
        "058d21fbd8bd41bf858b92572663c1e2": {
          "model_module": "@jupyter-widgets/controls",
          "model_module_version": "1.5.0",
          "model_name": "HBoxModel",
          "state": {
            "_dom_classes": [],
            "_model_module": "@jupyter-widgets/controls",
            "_model_module_version": "1.5.0",
            "_model_name": "HBoxModel",
            "_view_count": null,
            "_view_module": "@jupyter-widgets/controls",
            "_view_module_version": "1.5.0",
            "_view_name": "HBoxView",
            "box_style": "",
            "children": [
              "IPY_MODEL_8c2575893830464783a2cff26f9588d7",
              "IPY_MODEL_3dafb5bd4a634d7c8a824eb0d5716e41",
              "IPY_MODEL_5bdb18036c6a4fc69fdd77fcba027b14"
            ],
            "layout": "IPY_MODEL_91ba2c2f712c4727a81d82c38250de01"
          }
        },
        "1bf72287d723452489e8994c758f001a": {
          "model_module": "@jupyter-widgets/controls",
          "model_module_version": "1.5.0",
          "model_name": "ProgressStyleModel",
          "state": {
            "_model_module": "@jupyter-widgets/controls",
            "_model_module_version": "1.5.0",
            "_model_name": "ProgressStyleModel",
            "_view_count": null,
            "_view_module": "@jupyter-widgets/base",
            "_view_module_version": "1.2.0",
            "_view_name": "StyleView",
            "bar_color": null,
            "description_width": ""
          }
        },
        "2367766d7ab44c73a1f33dbf1277327b": {
          "model_module": "@jupyter-widgets/controls",
          "model_module_version": "1.5.0",
          "model_name": "HTMLModel",
          "state": {
            "_dom_classes": [],
            "_model_module": "@jupyter-widgets/controls",
            "_model_module_version": "1.5.0",
            "_model_name": "HTMLModel",
            "_view_count": null,
            "_view_module": "@jupyter-widgets/controls",
            "_view_module_version": "1.5.0",
            "_view_name": "HTMLView",
            "description": "",
            "description_tooltip": null,
            "layout": "IPY_MODEL_2456a82805c04324b86477847b50a564",
            "placeholder": "​",
            "style": "IPY_MODEL_79d12465fcda48b58b1168a1902168e2",
            "value": "Downloading readme: 100%"
          }
        },
        "2456a82805c04324b86477847b50a564": {
          "model_module": "@jupyter-widgets/base",
          "model_module_version": "1.2.0",
          "model_name": "LayoutModel",
          "state": {
            "_model_module": "@jupyter-widgets/base",
            "_model_module_version": "1.2.0",
            "_model_name": "LayoutModel",
            "_view_count": null,
            "_view_module": "@jupyter-widgets/base",
            "_view_module_version": "1.2.0",
            "_view_name": "LayoutView",
            "align_content": null,
            "align_items": null,
            "align_self": null,
            "border": null,
            "bottom": null,
            "display": null,
            "flex": null,
            "flex_flow": null,
            "grid_area": null,
            "grid_auto_columns": null,
            "grid_auto_flow": null,
            "grid_auto_rows": null,
            "grid_column": null,
            "grid_gap": null,
            "grid_row": null,
            "grid_template_areas": null,
            "grid_template_columns": null,
            "grid_template_rows": null,
            "height": null,
            "justify_content": null,
            "justify_items": null,
            "left": null,
            "margin": null,
            "max_height": null,
            "max_width": null,
            "min_height": null,
            "min_width": null,
            "object_fit": null,
            "object_position": null,
            "order": null,
            "overflow": null,
            "overflow_x": null,
            "overflow_y": null,
            "padding": null,
            "right": null,
            "top": null,
            "visibility": null,
            "width": null
          }
        },
        "2ff248e82cbd447ebe540c681ba35eff": {
          "model_module": "@jupyter-widgets/controls",
          "model_module_version": "1.5.0",
          "model_name": "HBoxModel",
          "state": {
            "_dom_classes": [],
            "_model_module": "@jupyter-widgets/controls",
            "_model_module_version": "1.5.0",
            "_model_name": "HBoxModel",
            "_view_count": null,
            "_view_module": "@jupyter-widgets/controls",
            "_view_module_version": "1.5.0",
            "_view_name": "HBoxView",
            "box_style": "",
            "children": [
              "IPY_MODEL_ba94b06e9e7143f197684eb8079e49e4",
              "IPY_MODEL_4a43f8a0052241dba68048ae4b6ca6f7",
              "IPY_MODEL_d6e374bc2d3c4fd099ef4bbd56638bf8"
            ],
            "layout": "IPY_MODEL_3a8461ed05634f9fbb1de0fa418777b9"
          }
        },
        "3a8461ed05634f9fbb1de0fa418777b9": {
          "model_module": "@jupyter-widgets/base",
          "model_module_version": "1.2.0",
          "model_name": "LayoutModel",
          "state": {
            "_model_module": "@jupyter-widgets/base",
            "_model_module_version": "1.2.0",
            "_model_name": "LayoutModel",
            "_view_count": null,
            "_view_module": "@jupyter-widgets/base",
            "_view_module_version": "1.2.0",
            "_view_name": "LayoutView",
            "align_content": null,
            "align_items": null,
            "align_self": null,
            "border": null,
            "bottom": null,
            "display": null,
            "flex": null,
            "flex_flow": null,
            "grid_area": null,
            "grid_auto_columns": null,
            "grid_auto_flow": null,
            "grid_auto_rows": null,
            "grid_column": null,
            "grid_gap": null,
            "grid_row": null,
            "grid_template_areas": null,
            "grid_template_columns": null,
            "grid_template_rows": null,
            "height": null,
            "justify_content": null,
            "justify_items": null,
            "left": null,
            "margin": null,
            "max_height": null,
            "max_width": null,
            "min_height": null,
            "min_width": null,
            "object_fit": null,
            "object_position": null,
            "order": null,
            "overflow": null,
            "overflow_x": null,
            "overflow_y": null,
            "padding": null,
            "right": null,
            "top": null,
            "visibility": null,
            "width": null
          }
        },
        "3b6b127d6aea4c3aa191628391ea2627": {
          "model_module": "@jupyter-widgets/controls",
          "model_module_version": "1.5.0",
          "model_name": "HTMLModel",
          "state": {
            "_dom_classes": [],
            "_model_module": "@jupyter-widgets/controls",
            "_model_module_version": "1.5.0",
            "_model_name": "HTMLModel",
            "_view_count": null,
            "_view_module": "@jupyter-widgets/controls",
            "_view_module_version": "1.5.0",
            "_view_name": "HTMLView",
            "description": "",
            "description_tooltip": null,
            "layout": "IPY_MODEL_4ccd8ebe43ab4376a7844744be3254a2",
            "placeholder": "​",
            "style": "IPY_MODEL_c4c51d00619d47b9932fb6d81c790ff4",
            "value": " 2.83k/2.83k [00:00&lt;00:00, 240kB/s]"
          }
        },
        "3cc5853c3bad4e80bd12860b27c4055e": {
          "model_module": "@jupyter-widgets/controls",
          "model_module_version": "1.5.0",
          "model_name": "DescriptionStyleModel",
          "state": {
            "_model_module": "@jupyter-widgets/controls",
            "_model_module_version": "1.5.0",
            "_model_name": "DescriptionStyleModel",
            "_view_count": null,
            "_view_module": "@jupyter-widgets/base",
            "_view_module_version": "1.2.0",
            "_view_name": "StyleView",
            "description_width": ""
          }
        },
        "3dafb5bd4a634d7c8a824eb0d5716e41": {
          "model_module": "@jupyter-widgets/controls",
          "model_module_version": "1.5.0",
          "model_name": "FloatProgressModel",
          "state": {
            "_dom_classes": [],
            "_model_module": "@jupyter-widgets/controls",
            "_model_module_version": "1.5.0",
            "_model_name": "FloatProgressModel",
            "_view_count": null,
            "_view_module": "@jupyter-widgets/controls",
            "_view_module_version": "1.5.0",
            "_view_name": "ProgressView",
            "bar_style": "success",
            "description": "",
            "description_tooltip": null,
            "layout": "IPY_MODEL_ed92d6fe9ab54347abdb716fa1b305b8",
            "max": 5140,
            "min": 0,
            "orientation": "horizontal",
            "style": "IPY_MODEL_618c4bc4bebd4bc48e3367aff87f65cb",
            "value": 5140
          }
        },
        "3f7344acf47d4631a04379751dcbde0a": {
          "model_module": "@jupyter-widgets/controls",
          "model_module_version": "1.5.0",
          "model_name": "HBoxModel",
          "state": {
            "_dom_classes": [],
            "_model_module": "@jupyter-widgets/controls",
            "_model_module_version": "1.5.0",
            "_model_name": "HBoxModel",
            "_view_count": null,
            "_view_module": "@jupyter-widgets/controls",
            "_view_module_version": "1.5.0",
            "_view_name": "HBoxView",
            "box_style": "",
            "children": [
              "IPY_MODEL_e2aa02f730b24933a4253343c5332aca",
              "IPY_MODEL_c05fc4f693504c9381e82148ec4891fc",
              "IPY_MODEL_a840314504434947832e949c3c6ea170"
            ],
            "layout": "IPY_MODEL_93562b5e804f4af090366fb5741d95f0"
          }
        },
        "4a43f8a0052241dba68048ae4b6ca6f7": {
          "model_module": "@jupyter-widgets/controls",
          "model_module_version": "1.5.0",
          "model_name": "FloatProgressModel",
          "state": {
            "_dom_classes": [],
            "_model_module": "@jupyter-widgets/controls",
            "_model_module_version": "1.5.0",
            "_model_name": "FloatProgressModel",
            "_view_count": null,
            "_view_module": "@jupyter-widgets/controls",
            "_view_module_version": "1.5.0",
            "_view_name": "ProgressView",
            "bar_style": "success",
            "description": "",
            "description_tooltip": null,
            "layout": "IPY_MODEL_741be844322e496087c018fa5e1c95a7",
            "max": 2829,
            "min": 0,
            "orientation": "horizontal",
            "style": "IPY_MODEL_01230604a79242ee966167d5d8f048f1",
            "value": 2829
          }
        },
        "4ccd8ebe43ab4376a7844744be3254a2": {
          "model_module": "@jupyter-widgets/base",
          "model_module_version": "1.2.0",
          "model_name": "LayoutModel",
          "state": {
            "_model_module": "@jupyter-widgets/base",
            "_model_module_version": "1.2.0",
            "_model_name": "LayoutModel",
            "_view_count": null,
            "_view_module": "@jupyter-widgets/base",
            "_view_module_version": "1.2.0",
            "_view_name": "LayoutView",
            "align_content": null,
            "align_items": null,
            "align_self": null,
            "border": null,
            "bottom": null,
            "display": null,
            "flex": null,
            "flex_flow": null,
            "grid_area": null,
            "grid_auto_columns": null,
            "grid_auto_flow": null,
            "grid_auto_rows": null,
            "grid_column": null,
            "grid_gap": null,
            "grid_row": null,
            "grid_template_areas": null,
            "grid_template_columns": null,
            "grid_template_rows": null,
            "height": null,
            "justify_content": null,
            "justify_items": null,
            "left": null,
            "margin": null,
            "max_height": null,
            "max_width": null,
            "min_height": null,
            "min_width": null,
            "object_fit": null,
            "object_position": null,
            "order": null,
            "overflow": null,
            "overflow_x": null,
            "overflow_y": null,
            "padding": null,
            "right": null,
            "top": null,
            "visibility": null,
            "width": null
          }
        },
        "4ce3dfb2a1a0485fb737b038a7ecc9c4": {
          "model_module": "@jupyter-widgets/controls",
          "model_module_version": "1.5.0",
          "model_name": "DescriptionStyleModel",
          "state": {
            "_model_module": "@jupyter-widgets/controls",
            "_model_module_version": "1.5.0",
            "_model_name": "DescriptionStyleModel",
            "_view_count": null,
            "_view_module": "@jupyter-widgets/base",
            "_view_module_version": "1.2.0",
            "_view_name": "StyleView",
            "description_width": ""
          }
        },
        "4edcfee1670d49909140337bdc6c26a3": {
          "model_module": "@jupyter-widgets/base",
          "model_module_version": "1.2.0",
          "model_name": "LayoutModel",
          "state": {
            "_model_module": "@jupyter-widgets/base",
            "_model_module_version": "1.2.0",
            "_model_name": "LayoutModel",
            "_view_count": null,
            "_view_module": "@jupyter-widgets/base",
            "_view_module_version": "1.2.0",
            "_view_name": "LayoutView",
            "align_content": null,
            "align_items": null,
            "align_self": null,
            "border": null,
            "bottom": null,
            "display": null,
            "flex": null,
            "flex_flow": null,
            "grid_area": null,
            "grid_auto_columns": null,
            "grid_auto_flow": null,
            "grid_auto_rows": null,
            "grid_column": null,
            "grid_gap": null,
            "grid_row": null,
            "grid_template_areas": null,
            "grid_template_columns": null,
            "grid_template_rows": null,
            "height": null,
            "justify_content": null,
            "justify_items": null,
            "left": null,
            "margin": null,
            "max_height": null,
            "max_width": null,
            "min_height": null,
            "min_width": null,
            "object_fit": null,
            "object_position": null,
            "order": null,
            "overflow": null,
            "overflow_x": null,
            "overflow_y": null,
            "padding": null,
            "right": null,
            "top": null,
            "visibility": null,
            "width": null
          }
        },
        "5bdb18036c6a4fc69fdd77fcba027b14": {
          "model_module": "@jupyter-widgets/controls",
          "model_module_version": "1.5.0",
          "model_name": "HTMLModel",
          "state": {
            "_dom_classes": [],
            "_model_module": "@jupyter-widgets/controls",
            "_model_module_version": "1.5.0",
            "_model_name": "HTMLModel",
            "_view_count": null,
            "_view_module": "@jupyter-widgets/controls",
            "_view_module_version": "1.5.0",
            "_view_name": "HTMLView",
            "description": "",
            "description_tooltip": null,
            "layout": "IPY_MODEL_c793275b336a4b4a9b71dbe421315969",
            "placeholder": "​",
            "style": "IPY_MODEL_aa831eeaf47e4d1e9c07f0f9201e0a2f",
            "value": " 5.14k/5.14k [00:00&lt;00:00, 438kB/s]"
          }
        },
        "618c4bc4bebd4bc48e3367aff87f65cb": {
          "model_module": "@jupyter-widgets/controls",
          "model_module_version": "1.5.0",
          "model_name": "ProgressStyleModel",
          "state": {
            "_model_module": "@jupyter-widgets/controls",
            "_model_module_version": "1.5.0",
            "_model_name": "ProgressStyleModel",
            "_view_count": null,
            "_view_module": "@jupyter-widgets/base",
            "_view_module_version": "1.2.0",
            "_view_name": "StyleView",
            "bar_color": null,
            "description_width": ""
          }
        },
        "6441ff68170a461f8fbd5ec89ba9aeed": {
          "model_module": "@jupyter-widgets/controls",
          "model_module_version": "1.5.0",
          "model_name": "DescriptionStyleModel",
          "state": {
            "_model_module": "@jupyter-widgets/controls",
            "_model_module_version": "1.5.0",
            "_model_name": "DescriptionStyleModel",
            "_view_count": null,
            "_view_module": "@jupyter-widgets/base",
            "_view_module_version": "1.2.0",
            "_view_name": "StyleView",
            "description_width": ""
          }
        },
        "676db448dd3d4085a4956e97e3721cfe": {
          "model_module": "@jupyter-widgets/controls",
          "model_module_version": "1.5.0",
          "model_name": "DescriptionStyleModel",
          "state": {
            "_model_module": "@jupyter-widgets/controls",
            "_model_module_version": "1.5.0",
            "_model_name": "DescriptionStyleModel",
            "_view_count": null,
            "_view_module": "@jupyter-widgets/base",
            "_view_module_version": "1.2.0",
            "_view_name": "StyleView",
            "description_width": ""
          }
        },
        "741be844322e496087c018fa5e1c95a7": {
          "model_module": "@jupyter-widgets/base",
          "model_module_version": "1.2.0",
          "model_name": "LayoutModel",
          "state": {
            "_model_module": "@jupyter-widgets/base",
            "_model_module_version": "1.2.0",
            "_model_name": "LayoutModel",
            "_view_count": null,
            "_view_module": "@jupyter-widgets/base",
            "_view_module_version": "1.2.0",
            "_view_name": "LayoutView",
            "align_content": null,
            "align_items": null,
            "align_self": null,
            "border": null,
            "bottom": null,
            "display": null,
            "flex": null,
            "flex_flow": null,
            "grid_area": null,
            "grid_auto_columns": null,
            "grid_auto_flow": null,
            "grid_auto_rows": null,
            "grid_column": null,
            "grid_gap": null,
            "grid_row": null,
            "grid_template_areas": null,
            "grid_template_columns": null,
            "grid_template_rows": null,
            "height": null,
            "justify_content": null,
            "justify_items": null,
            "left": null,
            "margin": null,
            "max_height": null,
            "max_width": null,
            "min_height": null,
            "min_width": null,
            "object_fit": null,
            "object_position": null,
            "order": null,
            "overflow": null,
            "overflow_x": null,
            "overflow_y": null,
            "padding": null,
            "right": null,
            "top": null,
            "visibility": null,
            "width": null
          }
        },
        "793560a27034442f9f2de60a6b71d1a5": {
          "model_module": "@jupyter-widgets/controls",
          "model_module_version": "1.5.0",
          "model_name": "ProgressStyleModel",
          "state": {
            "_model_module": "@jupyter-widgets/controls",
            "_model_module_version": "1.5.0",
            "_model_name": "ProgressStyleModel",
            "_view_count": null,
            "_view_module": "@jupyter-widgets/base",
            "_view_module_version": "1.2.0",
            "_view_name": "StyleView",
            "bar_color": null,
            "description_width": ""
          }
        },
        "79790651bb42412ab22ad793d1ce5be8": {
          "model_module": "@jupyter-widgets/controls",
          "model_module_version": "1.5.0",
          "model_name": "FloatProgressModel",
          "state": {
            "_dom_classes": [],
            "_model_module": "@jupyter-widgets/controls",
            "_model_module_version": "1.5.0",
            "_model_name": "FloatProgressModel",
            "_view_count": null,
            "_view_module": "@jupyter-widgets/controls",
            "_view_module_version": "1.5.0",
            "_view_name": "ProgressView",
            "bar_style": "success",
            "description": "",
            "description_tooltip": null,
            "layout": "IPY_MODEL_4edcfee1670d49909140337bdc6c26a3",
            "max": 2829,
            "min": 0,
            "orientation": "horizontal",
            "style": "IPY_MODEL_1bf72287d723452489e8994c758f001a",
            "value": 2829
          }
        },
        "79d12465fcda48b58b1168a1902168e2": {
          "model_module": "@jupyter-widgets/controls",
          "model_module_version": "1.5.0",
          "model_name": "DescriptionStyleModel",
          "state": {
            "_model_module": "@jupyter-widgets/controls",
            "_model_module_version": "1.5.0",
            "_model_name": "DescriptionStyleModel",
            "_view_count": null,
            "_view_module": "@jupyter-widgets/base",
            "_view_module_version": "1.2.0",
            "_view_name": "StyleView",
            "description_width": ""
          }
        },
        "7e665276aa04432ba4b67c50f38442d8": {
          "model_module": "@jupyter-widgets/base",
          "model_module_version": "1.2.0",
          "model_name": "LayoutModel",
          "state": {
            "_model_module": "@jupyter-widgets/base",
            "_model_module_version": "1.2.0",
            "_model_name": "LayoutModel",
            "_view_count": null,
            "_view_module": "@jupyter-widgets/base",
            "_view_module_version": "1.2.0",
            "_view_name": "LayoutView",
            "align_content": null,
            "align_items": null,
            "align_self": null,
            "border": null,
            "bottom": null,
            "display": null,
            "flex": null,
            "flex_flow": null,
            "grid_area": null,
            "grid_auto_columns": null,
            "grid_auto_flow": null,
            "grid_auto_rows": null,
            "grid_column": null,
            "grid_gap": null,
            "grid_row": null,
            "grid_template_areas": null,
            "grid_template_columns": null,
            "grid_template_rows": null,
            "height": null,
            "justify_content": null,
            "justify_items": null,
            "left": null,
            "margin": null,
            "max_height": null,
            "max_width": null,
            "min_height": null,
            "min_width": null,
            "object_fit": null,
            "object_position": null,
            "order": null,
            "overflow": null,
            "overflow_x": null,
            "overflow_y": null,
            "padding": null,
            "right": null,
            "top": null,
            "visibility": null,
            "width": null
          }
        },
        "8c2575893830464783a2cff26f9588d7": {
          "model_module": "@jupyter-widgets/controls",
          "model_module_version": "1.5.0",
          "model_name": "HTMLModel",
          "state": {
            "_dom_classes": [],
            "_model_module": "@jupyter-widgets/controls",
            "_model_module_version": "1.5.0",
            "_model_name": "HTMLModel",
            "_view_count": null,
            "_view_module": "@jupyter-widgets/controls",
            "_view_module_version": "1.5.0",
            "_view_name": "HTMLView",
            "description": "",
            "description_tooltip": null,
            "layout": "IPY_MODEL_e21e7f52163d4940aae5ebfb8160ab04",
            "placeholder": "​",
            "style": "IPY_MODEL_e9cb9bfabd004c3fb3cfc42552f1b69d",
            "value": "Downloading builder script: 100%"
          }
        },
        "91ba2c2f712c4727a81d82c38250de01": {
          "model_module": "@jupyter-widgets/base",
          "model_module_version": "1.2.0",
          "model_name": "LayoutModel",
          "state": {
            "_model_module": "@jupyter-widgets/base",
            "_model_module_version": "1.2.0",
            "_model_name": "LayoutModel",
            "_view_count": null,
            "_view_module": "@jupyter-widgets/base",
            "_view_module_version": "1.2.0",
            "_view_name": "LayoutView",
            "align_content": null,
            "align_items": null,
            "align_self": null,
            "border": null,
            "bottom": null,
            "display": null,
            "flex": null,
            "flex_flow": null,
            "grid_area": null,
            "grid_auto_columns": null,
            "grid_auto_flow": null,
            "grid_auto_rows": null,
            "grid_column": null,
            "grid_gap": null,
            "grid_row": null,
            "grid_template_areas": null,
            "grid_template_columns": null,
            "grid_template_rows": null,
            "height": null,
            "justify_content": null,
            "justify_items": null,
            "left": null,
            "margin": null,
            "max_height": null,
            "max_width": null,
            "min_height": null,
            "min_width": null,
            "object_fit": null,
            "object_position": null,
            "order": null,
            "overflow": null,
            "overflow_x": null,
            "overflow_y": null,
            "padding": null,
            "right": null,
            "top": null,
            "visibility": null,
            "width": null
          }
        },
        "93562b5e804f4af090366fb5741d95f0": {
          "model_module": "@jupyter-widgets/base",
          "model_module_version": "1.2.0",
          "model_name": "LayoutModel",
          "state": {
            "_model_module": "@jupyter-widgets/base",
            "_model_module_version": "1.2.0",
            "_model_name": "LayoutModel",
            "_view_count": null,
            "_view_module": "@jupyter-widgets/base",
            "_view_module_version": "1.2.0",
            "_view_name": "LayoutView",
            "align_content": null,
            "align_items": null,
            "align_self": null,
            "border": null,
            "bottom": null,
            "display": null,
            "flex": null,
            "flex_flow": null,
            "grid_area": null,
            "grid_auto_columns": null,
            "grid_auto_flow": null,
            "grid_auto_rows": null,
            "grid_column": null,
            "grid_gap": null,
            "grid_row": null,
            "grid_template_areas": null,
            "grid_template_columns": null,
            "grid_template_rows": null,
            "height": null,
            "justify_content": null,
            "justify_items": null,
            "left": null,
            "margin": null,
            "max_height": null,
            "max_width": null,
            "min_height": null,
            "min_width": null,
            "object_fit": null,
            "object_position": null,
            "order": null,
            "overflow": null,
            "overflow_x": null,
            "overflow_y": null,
            "padding": null,
            "right": null,
            "top": null,
            "visibility": null,
            "width": null
          }
        },
        "9eed0a4b4c0e4a9dba3d22909a48ade2": {
          "model_module": "@jupyter-widgets/base",
          "model_module_version": "1.2.0",
          "model_name": "LayoutModel",
          "state": {
            "_model_module": "@jupyter-widgets/base",
            "_model_module_version": "1.2.0",
            "_model_name": "LayoutModel",
            "_view_count": null,
            "_view_module": "@jupyter-widgets/base",
            "_view_module_version": "1.2.0",
            "_view_name": "LayoutView",
            "align_content": null,
            "align_items": null,
            "align_self": null,
            "border": null,
            "bottom": null,
            "display": null,
            "flex": null,
            "flex_flow": null,
            "grid_area": null,
            "grid_auto_columns": null,
            "grid_auto_flow": null,
            "grid_auto_rows": null,
            "grid_column": null,
            "grid_gap": null,
            "grid_row": null,
            "grid_template_areas": null,
            "grid_template_columns": null,
            "grid_template_rows": null,
            "height": null,
            "justify_content": null,
            "justify_items": null,
            "left": null,
            "margin": null,
            "max_height": null,
            "max_width": null,
            "min_height": null,
            "min_width": null,
            "object_fit": null,
            "object_position": null,
            "order": null,
            "overflow": null,
            "overflow_x": null,
            "overflow_y": null,
            "padding": null,
            "right": null,
            "top": null,
            "visibility": null,
            "width": null
          }
        },
        "a840314504434947832e949c3c6ea170": {
          "model_module": "@jupyter-widgets/controls",
          "model_module_version": "1.5.0",
          "model_name": "HTMLModel",
          "state": {
            "_dom_classes": [],
            "_model_module": "@jupyter-widgets/controls",
            "_model_module_version": "1.5.0",
            "_model_name": "HTMLModel",
            "_view_count": null,
            "_view_module": "@jupyter-widgets/controls",
            "_view_module_version": "1.5.0",
            "_view_name": "HTMLView",
            "description": "",
            "description_tooltip": null,
            "layout": "IPY_MODEL_d3c78df4474d4068834db940889aa1a9",
            "placeholder": "​",
            "style": "IPY_MODEL_676db448dd3d4085a4956e97e3721cfe",
            "value": " 5.14k/5.14k [00:00&lt;00:00, 264kB/s]"
          }
        },
        "aa831eeaf47e4d1e9c07f0f9201e0a2f": {
          "model_module": "@jupyter-widgets/controls",
          "model_module_version": "1.5.0",
          "model_name": "DescriptionStyleModel",
          "state": {
            "_model_module": "@jupyter-widgets/controls",
            "_model_module_version": "1.5.0",
            "_model_name": "DescriptionStyleModel",
            "_view_count": null,
            "_view_module": "@jupyter-widgets/base",
            "_view_module_version": "1.2.0",
            "_view_name": "StyleView",
            "description_width": ""
          }
        },
        "ba94b06e9e7143f197684eb8079e49e4": {
          "model_module": "@jupyter-widgets/controls",
          "model_module_version": "1.5.0",
          "model_name": "HTMLModel",
          "state": {
            "_dom_classes": [],
            "_model_module": "@jupyter-widgets/controls",
            "_model_module_version": "1.5.0",
            "_model_name": "HTMLModel",
            "_view_count": null,
            "_view_module": "@jupyter-widgets/controls",
            "_view_module_version": "1.5.0",
            "_view_name": "HTMLView",
            "description": "",
            "description_tooltip": null,
            "layout": "IPY_MODEL_e96a1def87a642b0b1907110456abc97",
            "placeholder": "​",
            "style": "IPY_MODEL_3cc5853c3bad4e80bd12860b27c4055e",
            "value": "Downloading readme: 100%"
          }
        },
        "bba4aafc65a84f0c9cf15cc958aaab8f": {
          "model_module": "@jupyter-widgets/controls",
          "model_module_version": "1.5.0",
          "model_name": "HBoxModel",
          "state": {
            "_dom_classes": [],
            "_model_module": "@jupyter-widgets/controls",
            "_model_module_version": "1.5.0",
            "_model_name": "HBoxModel",
            "_view_count": null,
            "_view_module": "@jupyter-widgets/controls",
            "_view_module_version": "1.5.0",
            "_view_name": "HBoxView",
            "box_style": "",
            "children": [
              "IPY_MODEL_2367766d7ab44c73a1f33dbf1277327b",
              "IPY_MODEL_79790651bb42412ab22ad793d1ce5be8",
              "IPY_MODEL_3b6b127d6aea4c3aa191628391ea2627"
            ],
            "layout": "IPY_MODEL_7e665276aa04432ba4b67c50f38442d8"
          }
        },
        "c05fc4f693504c9381e82148ec4891fc": {
          "model_module": "@jupyter-widgets/controls",
          "model_module_version": "1.5.0",
          "model_name": "FloatProgressModel",
          "state": {
            "_dom_classes": [],
            "_model_module": "@jupyter-widgets/controls",
            "_model_module_version": "1.5.0",
            "_model_name": "FloatProgressModel",
            "_view_count": null,
            "_view_module": "@jupyter-widgets/controls",
            "_view_module_version": "1.5.0",
            "_view_name": "ProgressView",
            "bar_style": "success",
            "description": "",
            "description_tooltip": null,
            "layout": "IPY_MODEL_d38c175d74634829be2ee84259082a2e",
            "max": 5140,
            "min": 0,
            "orientation": "horizontal",
            "style": "IPY_MODEL_793560a27034442f9f2de60a6b71d1a5",
            "value": 5140
          }
        },
        "c4c51d00619d47b9932fb6d81c790ff4": {
          "model_module": "@jupyter-widgets/controls",
          "model_module_version": "1.5.0",
          "model_name": "DescriptionStyleModel",
          "state": {
            "_model_module": "@jupyter-widgets/controls",
            "_model_module_version": "1.5.0",
            "_model_name": "DescriptionStyleModel",
            "_view_count": null,
            "_view_module": "@jupyter-widgets/base",
            "_view_module_version": "1.2.0",
            "_view_name": "StyleView",
            "description_width": ""
          }
        },
        "c793275b336a4b4a9b71dbe421315969": {
          "model_module": "@jupyter-widgets/base",
          "model_module_version": "1.2.0",
          "model_name": "LayoutModel",
          "state": {
            "_model_module": "@jupyter-widgets/base",
            "_model_module_version": "1.2.0",
            "_model_name": "LayoutModel",
            "_view_count": null,
            "_view_module": "@jupyter-widgets/base",
            "_view_module_version": "1.2.0",
            "_view_name": "LayoutView",
            "align_content": null,
            "align_items": null,
            "align_self": null,
            "border": null,
            "bottom": null,
            "display": null,
            "flex": null,
            "flex_flow": null,
            "grid_area": null,
            "grid_auto_columns": null,
            "grid_auto_flow": null,
            "grid_auto_rows": null,
            "grid_column": null,
            "grid_gap": null,
            "grid_row": null,
            "grid_template_areas": null,
            "grid_template_columns": null,
            "grid_template_rows": null,
            "height": null,
            "justify_content": null,
            "justify_items": null,
            "left": null,
            "margin": null,
            "max_height": null,
            "max_width": null,
            "min_height": null,
            "min_width": null,
            "object_fit": null,
            "object_position": null,
            "order": null,
            "overflow": null,
            "overflow_x": null,
            "overflow_y": null,
            "padding": null,
            "right": null,
            "top": null,
            "visibility": null,
            "width": null
          }
        },
        "d38c175d74634829be2ee84259082a2e": {
          "model_module": "@jupyter-widgets/base",
          "model_module_version": "1.2.0",
          "model_name": "LayoutModel",
          "state": {
            "_model_module": "@jupyter-widgets/base",
            "_model_module_version": "1.2.0",
            "_model_name": "LayoutModel",
            "_view_count": null,
            "_view_module": "@jupyter-widgets/base",
            "_view_module_version": "1.2.0",
            "_view_name": "LayoutView",
            "align_content": null,
            "align_items": null,
            "align_self": null,
            "border": null,
            "bottom": null,
            "display": null,
            "flex": null,
            "flex_flow": null,
            "grid_area": null,
            "grid_auto_columns": null,
            "grid_auto_flow": null,
            "grid_auto_rows": null,
            "grid_column": null,
            "grid_gap": null,
            "grid_row": null,
            "grid_template_areas": null,
            "grid_template_columns": null,
            "grid_template_rows": null,
            "height": null,
            "justify_content": null,
            "justify_items": null,
            "left": null,
            "margin": null,
            "max_height": null,
            "max_width": null,
            "min_height": null,
            "min_width": null,
            "object_fit": null,
            "object_position": null,
            "order": null,
            "overflow": null,
            "overflow_x": null,
            "overflow_y": null,
            "padding": null,
            "right": null,
            "top": null,
            "visibility": null,
            "width": null
          }
        },
        "d3c78df4474d4068834db940889aa1a9": {
          "model_module": "@jupyter-widgets/base",
          "model_module_version": "1.2.0",
          "model_name": "LayoutModel",
          "state": {
            "_model_module": "@jupyter-widgets/base",
            "_model_module_version": "1.2.0",
            "_model_name": "LayoutModel",
            "_view_count": null,
            "_view_module": "@jupyter-widgets/base",
            "_view_module_version": "1.2.0",
            "_view_name": "LayoutView",
            "align_content": null,
            "align_items": null,
            "align_self": null,
            "border": null,
            "bottom": null,
            "display": null,
            "flex": null,
            "flex_flow": null,
            "grid_area": null,
            "grid_auto_columns": null,
            "grid_auto_flow": null,
            "grid_auto_rows": null,
            "grid_column": null,
            "grid_gap": null,
            "grid_row": null,
            "grid_template_areas": null,
            "grid_template_columns": null,
            "grid_template_rows": null,
            "height": null,
            "justify_content": null,
            "justify_items": null,
            "left": null,
            "margin": null,
            "max_height": null,
            "max_width": null,
            "min_height": null,
            "min_width": null,
            "object_fit": null,
            "object_position": null,
            "order": null,
            "overflow": null,
            "overflow_x": null,
            "overflow_y": null,
            "padding": null,
            "right": null,
            "top": null,
            "visibility": null,
            "width": null
          }
        },
        "d6e374bc2d3c4fd099ef4bbd56638bf8": {
          "model_module": "@jupyter-widgets/controls",
          "model_module_version": "1.5.0",
          "model_name": "HTMLModel",
          "state": {
            "_dom_classes": [],
            "_model_module": "@jupyter-widgets/controls",
            "_model_module_version": "1.5.0",
            "_model_name": "HTMLModel",
            "_view_count": null,
            "_view_module": "@jupyter-widgets/controls",
            "_view_module_version": "1.5.0",
            "_view_name": "HTMLView",
            "description": "",
            "description_tooltip": null,
            "layout": "IPY_MODEL_9eed0a4b4c0e4a9dba3d22909a48ade2",
            "placeholder": "​",
            "style": "IPY_MODEL_4ce3dfb2a1a0485fb737b038a7ecc9c4",
            "value": " 2.83k/2.83k [00:00&lt;00:00, 185kB/s]"
          }
        },
        "dcb837ca9b1b431fbdabe29a678b274a": {
          "model_module": "@jupyter-widgets/base",
          "model_module_version": "1.2.0",
          "model_name": "LayoutModel",
          "state": {
            "_model_module": "@jupyter-widgets/base",
            "_model_module_version": "1.2.0",
            "_model_name": "LayoutModel",
            "_view_count": null,
            "_view_module": "@jupyter-widgets/base",
            "_view_module_version": "1.2.0",
            "_view_name": "LayoutView",
            "align_content": null,
            "align_items": null,
            "align_self": null,
            "border": null,
            "bottom": null,
            "display": null,
            "flex": null,
            "flex_flow": null,
            "grid_area": null,
            "grid_auto_columns": null,
            "grid_auto_flow": null,
            "grid_auto_rows": null,
            "grid_column": null,
            "grid_gap": null,
            "grid_row": null,
            "grid_template_areas": null,
            "grid_template_columns": null,
            "grid_template_rows": null,
            "height": null,
            "justify_content": null,
            "justify_items": null,
            "left": null,
            "margin": null,
            "max_height": null,
            "max_width": null,
            "min_height": null,
            "min_width": null,
            "object_fit": null,
            "object_position": null,
            "order": null,
            "overflow": null,
            "overflow_x": null,
            "overflow_y": null,
            "padding": null,
            "right": null,
            "top": null,
            "visibility": null,
            "width": null
          }
        },
        "e21e7f52163d4940aae5ebfb8160ab04": {
          "model_module": "@jupyter-widgets/base",
          "model_module_version": "1.2.0",
          "model_name": "LayoutModel",
          "state": {
            "_model_module": "@jupyter-widgets/base",
            "_model_module_version": "1.2.0",
            "_model_name": "LayoutModel",
            "_view_count": null,
            "_view_module": "@jupyter-widgets/base",
            "_view_module_version": "1.2.0",
            "_view_name": "LayoutView",
            "align_content": null,
            "align_items": null,
            "align_self": null,
            "border": null,
            "bottom": null,
            "display": null,
            "flex": null,
            "flex_flow": null,
            "grid_area": null,
            "grid_auto_columns": null,
            "grid_auto_flow": null,
            "grid_auto_rows": null,
            "grid_column": null,
            "grid_gap": null,
            "grid_row": null,
            "grid_template_areas": null,
            "grid_template_columns": null,
            "grid_template_rows": null,
            "height": null,
            "justify_content": null,
            "justify_items": null,
            "left": null,
            "margin": null,
            "max_height": null,
            "max_width": null,
            "min_height": null,
            "min_width": null,
            "object_fit": null,
            "object_position": null,
            "order": null,
            "overflow": null,
            "overflow_x": null,
            "overflow_y": null,
            "padding": null,
            "right": null,
            "top": null,
            "visibility": null,
            "width": null
          }
        },
        "e2aa02f730b24933a4253343c5332aca": {
          "model_module": "@jupyter-widgets/controls",
          "model_module_version": "1.5.0",
          "model_name": "HTMLModel",
          "state": {
            "_dom_classes": [],
            "_model_module": "@jupyter-widgets/controls",
            "_model_module_version": "1.5.0",
            "_model_name": "HTMLModel",
            "_view_count": null,
            "_view_module": "@jupyter-widgets/controls",
            "_view_module_version": "1.5.0",
            "_view_name": "HTMLView",
            "description": "",
            "description_tooltip": null,
            "layout": "IPY_MODEL_dcb837ca9b1b431fbdabe29a678b274a",
            "placeholder": "​",
            "style": "IPY_MODEL_6441ff68170a461f8fbd5ec89ba9aeed",
            "value": "Downloading builder script: 100%"
          }
        },
        "e96a1def87a642b0b1907110456abc97": {
          "model_module": "@jupyter-widgets/base",
          "model_module_version": "1.2.0",
          "model_name": "LayoutModel",
          "state": {
            "_model_module": "@jupyter-widgets/base",
            "_model_module_version": "1.2.0",
            "_model_name": "LayoutModel",
            "_view_count": null,
            "_view_module": "@jupyter-widgets/base",
            "_view_module_version": "1.2.0",
            "_view_name": "LayoutView",
            "align_content": null,
            "align_items": null,
            "align_self": null,
            "border": null,
            "bottom": null,
            "display": null,
            "flex": null,
            "flex_flow": null,
            "grid_area": null,
            "grid_auto_columns": null,
            "grid_auto_flow": null,
            "grid_auto_rows": null,
            "grid_column": null,
            "grid_gap": null,
            "grid_row": null,
            "grid_template_areas": null,
            "grid_template_columns": null,
            "grid_template_rows": null,
            "height": null,
            "justify_content": null,
            "justify_items": null,
            "left": null,
            "margin": null,
            "max_height": null,
            "max_width": null,
            "min_height": null,
            "min_width": null,
            "object_fit": null,
            "object_position": null,
            "order": null,
            "overflow": null,
            "overflow_x": null,
            "overflow_y": null,
            "padding": null,
            "right": null,
            "top": null,
            "visibility": null,
            "width": null
          }
        },
        "e9cb9bfabd004c3fb3cfc42552f1b69d": {
          "model_module": "@jupyter-widgets/controls",
          "model_module_version": "1.5.0",
          "model_name": "DescriptionStyleModel",
          "state": {
            "_model_module": "@jupyter-widgets/controls",
            "_model_module_version": "1.5.0",
            "_model_name": "DescriptionStyleModel",
            "_view_count": null,
            "_view_module": "@jupyter-widgets/base",
            "_view_module_version": "1.2.0",
            "_view_name": "StyleView",
            "description_width": ""
          }
        },
        "ed92d6fe9ab54347abdb716fa1b305b8": {
          "model_module": "@jupyter-widgets/base",
          "model_module_version": "1.2.0",
          "model_name": "LayoutModel",
          "state": {
            "_model_module": "@jupyter-widgets/base",
            "_model_module_version": "1.2.0",
            "_model_name": "LayoutModel",
            "_view_count": null,
            "_view_module": "@jupyter-widgets/base",
            "_view_module_version": "1.2.0",
            "_view_name": "LayoutView",
            "align_content": null,
            "align_items": null,
            "align_self": null,
            "border": null,
            "bottom": null,
            "display": null,
            "flex": null,
            "flex_flow": null,
            "grid_area": null,
            "grid_auto_columns": null,
            "grid_auto_flow": null,
            "grid_auto_rows": null,
            "grid_column": null,
            "grid_gap": null,
            "grid_row": null,
            "grid_template_areas": null,
            "grid_template_columns": null,
            "grid_template_rows": null,
            "height": null,
            "justify_content": null,
            "justify_items": null,
            "left": null,
            "margin": null,
            "max_height": null,
            "max_width": null,
            "min_height": null,
            "min_width": null,
            "object_fit": null,
            "object_position": null,
            "order": null,
            "overflow": null,
            "overflow_x": null,
            "overflow_y": null,
            "padding": null,
            "right": null,
            "top": null,
            "visibility": null,
            "width": null
          }
        }
      }
    }
  },
  "nbformat": 4,
  "nbformat_minor": 0
}